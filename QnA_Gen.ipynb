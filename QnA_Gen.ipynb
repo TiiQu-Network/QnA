{
  "nbformat": 4,
  "nbformat_minor": 0,
  "metadata": {
    "colab": {
      "provenance": [],
      "gpuType": "T4"
    },
    "kernelspec": {
      "name": "python3",
      "display_name": "Python 3"
    },
    "language_info": {
      "name": "python"
    },
    "accelerator": "GPU"
  },
  "cells": [
    {
      "cell_type": "code",
      "source": [
        "import math\n",
        "import os\n",
        "from tempfile import TemporaryDirectory\n",
        "from typing import Tuple\n",
        "\n",
        "import torch\n",
        "from torch import nn, Tensor\n",
        "# from torch.nn import TransformerEncoder, TransformerEncoderLayer\n",
        "from torch.nn import Transformer\n",
        "from torch.utils.data import dataset"
      ],
      "metadata": {
        "id": "zYPUWk9fLw_b"
      },
      "execution_count": null,
      "outputs": []
    },
    {
      "cell_type": "markdown",
      "source": [
        "# Data loading"
      ],
      "metadata": {
        "id": "AhYcSzCkMCfJ"
      }
    },
    {
      "cell_type": "code",
      "source": [
        "from torchtext.data.utils import get_tokenizer\n",
        "from torchtext.vocab import build_vocab_from_iterator\n",
        "from torch.utils.data import Dataset, random_split,DataLoader"
      ],
      "metadata": {
        "id": "qbdGcQecLzYb"
      },
      "execution_count": null,
      "outputs": []
    },
    {
      "cell_type": "code",
      "source": [
        "import pandas as pd\n",
        "from sklearn.model_selection import train_test_split\n",
        "import seaborn as sns\n",
        "import matplotlib.pyplot as plt"
      ],
      "metadata": {
        "id": "xEVm24jJMOLB"
      },
      "execution_count": null,
      "outputs": []
    },
    {
      "cell_type": "code",
      "source": [
        "class QnADataset(Dataset):\n",
        "  def yield_tokens(self, df):\n",
        "    for index, row in df.iterrows():\n",
        "      # print(row)\n",
        "      input = self.tokenizer(row['subpara'])\n",
        "      output = ['[start]']\n",
        "      output.extend(self.tokenizer(row['Question']))\n",
        "      output.append('[sep]')\n",
        "      output.extend(self.tokenizer(row['Answer']))\n",
        "      output.append('[end]')\n",
        "      yield input, output\n",
        "\n",
        "  def yield_tokens_onebyone(self, df):\n",
        "    for input, output in self.yield_tokens(df):\n",
        "      yield input\n",
        "      yield output\n",
        "\n",
        "  def toPaddedTensor(self, lst, pad_to_sz):\n",
        "      c_ids = torch.full((1,pad_to_sz),fill_value=self.vocab['[pad]'], dtype=torch.long)\n",
        "      c_ids[0, :len(lst[:pad_to_sz])] = torch.tensor(lst[:pad_to_sz])\n",
        "      return c_ids\n",
        "\n",
        "\n",
        "  def data_process(self, df):\n",
        "    input_arr = []\n",
        "    output_arr = []\n",
        "    self.input_lengths = []\n",
        "    self.output_lengths = []\n",
        "\n",
        "    for input, output in self.yield_tokens(df):\n",
        "      self.input_lengths.append(len(input))\n",
        "      self.output_lengths.append(len(output))\n",
        "\n",
        "      input_arr.append(self.toPaddedTensor(self.vocab(input),args['max_c_len']))\n",
        "      if len(output) > args['max_qna_len']:\n",
        "        raise OverflowError(f\"Received QnA with length {len(output)}, which is more than the max limit of {args['max_qna_len']}.\\nRaise args['max_qna_len'] and retry.\")\n",
        "      output_arr.append(self.toPaddedTensor(self.vocab(output),args['max_qna_len']))\n",
        "\n",
        "\n",
        "    input_T = torch.cat(input_arr)\n",
        "    output_T = torch.cat(output_arr)\n",
        "    return input_T, output_T\n",
        "\n",
        "  def __init__(self, fname, args):\n",
        "    self.args = args\n",
        "    self.data = pd.read_csv(fname, header=0,dtype={'Paragraph':'string','subpara':'string'}).reset_index()\n",
        "    self.data = self.data[['subpara','Question','Answer']].dropna()\n",
        "    self.tokenizer = get_tokenizer('basic_english')\n",
        "    self.vocab = build_vocab_from_iterator(self.yield_tokens_onebyone(self.data),special_first=True, specials=['<unk>','[pad]','[start]','[sep]', '[end]'])\n",
        "\n",
        "    self.vocab.set_default_index(self.vocab['<unk>'])\n",
        "    self.input, self.output = self.data_process(self.data)\n",
        "\n",
        "  def __len__(self):\n",
        "    # return 10\n",
        "    return len(self.data.index)\n",
        "\n",
        "  def __getitem__(self, idx):\n",
        "    return self.input[idx,:], self.output[idx,:]"
      ],
      "metadata": {
        "id": "AzKLKq4o65Gy"
      },
      "execution_count": null,
      "outputs": []
    },
    {
      "cell_type": "code",
      "source": [
        "fname = 'processed3_renewables_f1000_11_07_2023 with db description.csv'\n",
        "args = {\n",
        "    \"max_c_len\": 300,\n",
        "    \"max_qna_len\": 180\n",
        "}\n",
        "full_dataset = QnADataset(fname, args)\n",
        "full_dataset.data.head()"
      ],
      "metadata": {
        "colab": {
          "base_uri": "https://localhost:8080/",
          "height": 337
        },
        "id": "ykIVkTlb5XEM",
        "outputId": "7a5b0a39-023d-415c-fbbb-18665c85f35f"
      },
      "execution_count": null,
      "outputs": [
        {
          "output_type": "execute_result",
          "data": {
            "text/plain": [
              "                                             subpara  \\\n",
              "0  Trend in allocation of total NIH budget to NIH...   \n",
              "1  Total NIH spending on R01-equivalent grants (i...   \n",
              "2  The full post-doubling era (FY2003–2008) does ...   \n",
              "3  The full post-doubling era (FY2003–2008) does ...   \n",
              "4   Analogously, the evolving NIH philosophy appe...   \n",
              "\n",
              "                                            Question  \\\n",
              "0  What percentage of the Total NIH Budget is all...   \n",
              "1  How much of the Total NIH Budget was allocated...   \n",
              "2                What is the full post-doubling era?   \n",
              "3  How did the NIH budget increase during the pos...   \n",
              "4                    What is the new NIH philosophy?   \n",
              "\n",
              "                                              Answer  \n",
              "0  The percentage of the Total NIH Budget allocat...  \n",
              "1  The percentage of the Total NIH Budget allocat...  \n",
              "2  The full post-doubling era is the period betwe...  \n",
              "3  The NIH budget increased by $2.8 billion durin...  \n",
              "4  The new NIH philosophy appears to tilt more to...  "
            ],
            "text/html": [
              "\n",
              "\n",
              "  <div id=\"df-8f5734d2-3a4f-4305-b994-37c8d95b012d\">\n",
              "    <div class=\"colab-df-container\">\n",
              "      <div>\n",
              "<style scoped>\n",
              "    .dataframe tbody tr th:only-of-type {\n",
              "        vertical-align: middle;\n",
              "    }\n",
              "\n",
              "    .dataframe tbody tr th {\n",
              "        vertical-align: top;\n",
              "    }\n",
              "\n",
              "    .dataframe thead th {\n",
              "        text-align: right;\n",
              "    }\n",
              "</style>\n",
              "<table border=\"1\" class=\"dataframe\">\n",
              "  <thead>\n",
              "    <tr style=\"text-align: right;\">\n",
              "      <th></th>\n",
              "      <th>subpara</th>\n",
              "      <th>Question</th>\n",
              "      <th>Answer</th>\n",
              "    </tr>\n",
              "  </thead>\n",
              "  <tbody>\n",
              "    <tr>\n",
              "      <th>0</th>\n",
              "      <td>Trend in allocation of total NIH budget to NIH...</td>\n",
              "      <td>What percentage of the Total NIH Budget is all...</td>\n",
              "      <td>The percentage of the Total NIH Budget allocat...</td>\n",
              "    </tr>\n",
              "    <tr>\n",
              "      <th>1</th>\n",
              "      <td>Total NIH spending on R01-equivalent grants (i...</td>\n",
              "      <td>How much of the Total NIH Budget was allocated...</td>\n",
              "      <td>The percentage of the Total NIH Budget allocat...</td>\n",
              "    </tr>\n",
              "    <tr>\n",
              "      <th>2</th>\n",
              "      <td>The full post-doubling era (FY2003–2008) does ...</td>\n",
              "      <td>What is the full post-doubling era?</td>\n",
              "      <td>The full post-doubling era is the period betwe...</td>\n",
              "    </tr>\n",
              "    <tr>\n",
              "      <th>3</th>\n",
              "      <td>The full post-doubling era (FY2003–2008) does ...</td>\n",
              "      <td>How did the NIH budget increase during the pos...</td>\n",
              "      <td>The NIH budget increased by $2.8 billion durin...</td>\n",
              "    </tr>\n",
              "    <tr>\n",
              "      <th>4</th>\n",
              "      <td>Analogously, the evolving NIH philosophy appe...</td>\n",
              "      <td>What is the new NIH philosophy?</td>\n",
              "      <td>The new NIH philosophy appears to tilt more to...</td>\n",
              "    </tr>\n",
              "  </tbody>\n",
              "</table>\n",
              "</div>\n",
              "      <button class=\"colab-df-convert\" onclick=\"convertToInteractive('df-8f5734d2-3a4f-4305-b994-37c8d95b012d')\"\n",
              "              title=\"Convert this dataframe to an interactive table.\"\n",
              "              style=\"display:none;\">\n",
              "\n",
              "  <svg xmlns=\"http://www.w3.org/2000/svg\" height=\"24px\"viewBox=\"0 0 24 24\"\n",
              "       width=\"24px\">\n",
              "    <path d=\"M0 0h24v24H0V0z\" fill=\"none\"/>\n",
              "    <path d=\"M18.56 5.44l.94 2.06.94-2.06 2.06-.94-2.06-.94-.94-2.06-.94 2.06-2.06.94zm-11 1L8.5 8.5l.94-2.06 2.06-.94-2.06-.94L8.5 2.5l-.94 2.06-2.06.94zm10 10l.94 2.06.94-2.06 2.06-.94-2.06-.94-.94-2.06-.94 2.06-2.06.94z\"/><path d=\"M17.41 7.96l-1.37-1.37c-.4-.4-.92-.59-1.43-.59-.52 0-1.04.2-1.43.59L10.3 9.45l-7.72 7.72c-.78.78-.78 2.05 0 2.83L4 21.41c.39.39.9.59 1.41.59.51 0 1.02-.2 1.41-.59l7.78-7.78 2.81-2.81c.8-.78.8-2.07 0-2.86zM5.41 20L4 18.59l7.72-7.72 1.47 1.35L5.41 20z\"/>\n",
              "  </svg>\n",
              "      </button>\n",
              "\n",
              "\n",
              "\n",
              "    <div id=\"df-a3a3e65d-e6a4-478b-b500-0e8dbdb05c32\">\n",
              "      <button class=\"colab-df-quickchart\" onclick=\"quickchart('df-a3a3e65d-e6a4-478b-b500-0e8dbdb05c32')\"\n",
              "              title=\"Suggest charts.\"\n",
              "              style=\"display:none;\">\n",
              "\n",
              "<svg xmlns=\"http://www.w3.org/2000/svg\" height=\"24px\"viewBox=\"0 0 24 24\"\n",
              "     width=\"24px\">\n",
              "    <g>\n",
              "        <path d=\"M19 3H5c-1.1 0-2 .9-2 2v14c0 1.1.9 2 2 2h14c1.1 0 2-.9 2-2V5c0-1.1-.9-2-2-2zM9 17H7v-7h2v7zm4 0h-2V7h2v10zm4 0h-2v-4h2v4z\"/>\n",
              "    </g>\n",
              "</svg>\n",
              "      </button>\n",
              "    </div>\n",
              "\n",
              "<style>\n",
              "  .colab-df-quickchart {\n",
              "    background-color: #E8F0FE;\n",
              "    border: none;\n",
              "    border-radius: 50%;\n",
              "    cursor: pointer;\n",
              "    display: none;\n",
              "    fill: #1967D2;\n",
              "    height: 32px;\n",
              "    padding: 0 0 0 0;\n",
              "    width: 32px;\n",
              "  }\n",
              "\n",
              "  .colab-df-quickchart:hover {\n",
              "    background-color: #E2EBFA;\n",
              "    box-shadow: 0px 1px 2px rgba(60, 64, 67, 0.3), 0px 1px 3px 1px rgba(60, 64, 67, 0.15);\n",
              "    fill: #174EA6;\n",
              "  }\n",
              "\n",
              "  [theme=dark] .colab-df-quickchart {\n",
              "    background-color: #3B4455;\n",
              "    fill: #D2E3FC;\n",
              "  }\n",
              "\n",
              "  [theme=dark] .colab-df-quickchart:hover {\n",
              "    background-color: #434B5C;\n",
              "    box-shadow: 0px 1px 3px 1px rgba(0, 0, 0, 0.15);\n",
              "    filter: drop-shadow(0px 1px 2px rgba(0, 0, 0, 0.3));\n",
              "    fill: #FFFFFF;\n",
              "  }\n",
              "</style>\n",
              "\n",
              "    <script>\n",
              "      async function quickchart(key) {\n",
              "        const containerElement = document.querySelector('#' + key);\n",
              "        const charts = await google.colab.kernel.invokeFunction(\n",
              "            'suggestCharts', [key], {});\n",
              "      }\n",
              "    </script>\n",
              "\n",
              "      <script>\n",
              "\n",
              "function displayQuickchartButton(domScope) {\n",
              "  let quickchartButtonEl =\n",
              "    domScope.querySelector('#df-a3a3e65d-e6a4-478b-b500-0e8dbdb05c32 button.colab-df-quickchart');\n",
              "  quickchartButtonEl.style.display =\n",
              "    google.colab.kernel.accessAllowed ? 'block' : 'none';\n",
              "}\n",
              "\n",
              "        displayQuickchartButton(document);\n",
              "      </script>\n",
              "      <style>\n",
              "    .colab-df-container {\n",
              "      display:flex;\n",
              "      flex-wrap:wrap;\n",
              "      gap: 12px;\n",
              "    }\n",
              "\n",
              "    .colab-df-convert {\n",
              "      background-color: #E8F0FE;\n",
              "      border: none;\n",
              "      border-radius: 50%;\n",
              "      cursor: pointer;\n",
              "      display: none;\n",
              "      fill: #1967D2;\n",
              "      height: 32px;\n",
              "      padding: 0 0 0 0;\n",
              "      width: 32px;\n",
              "    }\n",
              "\n",
              "    .colab-df-convert:hover {\n",
              "      background-color: #E2EBFA;\n",
              "      box-shadow: 0px 1px 2px rgba(60, 64, 67, 0.3), 0px 1px 3px 1px rgba(60, 64, 67, 0.15);\n",
              "      fill: #174EA6;\n",
              "    }\n",
              "\n",
              "    [theme=dark] .colab-df-convert {\n",
              "      background-color: #3B4455;\n",
              "      fill: #D2E3FC;\n",
              "    }\n",
              "\n",
              "    [theme=dark] .colab-df-convert:hover {\n",
              "      background-color: #434B5C;\n",
              "      box-shadow: 0px 1px 3px 1px rgba(0, 0, 0, 0.15);\n",
              "      filter: drop-shadow(0px 1px 2px rgba(0, 0, 0, 0.3));\n",
              "      fill: #FFFFFF;\n",
              "    }\n",
              "  </style>\n",
              "\n",
              "      <script>\n",
              "        const buttonEl =\n",
              "          document.querySelector('#df-8f5734d2-3a4f-4305-b994-37c8d95b012d button.colab-df-convert');\n",
              "        buttonEl.style.display =\n",
              "          google.colab.kernel.accessAllowed ? 'block' : 'none';\n",
              "\n",
              "        async function convertToInteractive(key) {\n",
              "          const element = document.querySelector('#df-8f5734d2-3a4f-4305-b994-37c8d95b012d');\n",
              "          const dataTable =\n",
              "            await google.colab.kernel.invokeFunction('convertToInteractive',\n",
              "                                                     [key], {});\n",
              "          if (!dataTable) return;\n",
              "\n",
              "          const docLinkHtml = 'Like what you see? Visit the ' +\n",
              "            '<a target=\"_blank\" href=https://colab.research.google.com/notebooks/data_table.ipynb>data table notebook</a>'\n",
              "            + ' to learn more about interactive tables.';\n",
              "          element.innerHTML = '';\n",
              "          dataTable['output_type'] = 'display_data';\n",
              "          await google.colab.output.renderOutput(dataTable, element);\n",
              "          const docLink = document.createElement('div');\n",
              "          docLink.innerHTML = docLinkHtml;\n",
              "          element.appendChild(docLink);\n",
              "        }\n",
              "      </script>\n",
              "    </div>\n",
              "  </div>\n"
            ]
          },
          "metadata": {},
          "execution_count": 5
        }
      ]
    },
    {
      "cell_type": "code",
      "source": [
        "len(full_dataset.vocab)"
      ],
      "metadata": {
        "colab": {
          "base_uri": "https://localhost:8080/"
        },
        "id": "OOueJ_dlPP2V",
        "outputId": "f47c196f-1624-444e-d632-98b464a24e42"
      },
      "execution_count": null,
      "outputs": [
        {
          "output_type": "execute_result",
          "data": {
            "text/plain": [
              "18046"
            ]
          },
          "metadata": {},
          "execution_count": 6
        }
      ]
    },
    {
      "cell_type": "code",
      "source": [
        "f, axes = plt.subplots(1,2,figsize=(15,5))\n",
        "ax = sns.histplot(full_dataset.input_lengths, kde=True, ax=axes[0])\n",
        "ax.set(xlabel='Subpara Length (binSize: auto)')\n",
        "\n",
        "ax = sns.histplot(full_dataset.output_lengths, kde=True, ax=axes[1])\n",
        "ax.set(xlabel='QnA Length (binSize: auto)')\n",
        "f.subplots_adjust(wspace=0.5)\n",
        "plt.show()"
      ],
      "metadata": {
        "colab": {
          "base_uri": "https://localhost:8080/",
          "height": 307
        },
        "id": "O_8CydIgB-Og",
        "outputId": "975eb305-9586-4a9f-eaef-2c7799ac5f70"
      },
      "execution_count": null,
      "outputs": [
        {
          "output_type": "display_data",
          "data": {
            "text/plain": [
              "<Figure size 1500x500 with 2 Axes>"
            ],
            "image/png": "[encoded data removed]"
          },
          "metadata": {}
        }
      ]
    },
    {
      "cell_type": "code",
      "source": [
        "print(\"Input dimension: \", full_dataset.input.shape)\n",
        "print(\"Output dimension:\", full_dataset.output.shape)"
      ],
      "metadata": {
        "colab": {
          "base_uri": "https://localhost:8080/"
        },
        "id": "DYf0r7l0Kpep",
        "outputId": "1576adf5-1766-45c0-ac2d-d1e0781799df"
      },
      "execution_count": null,
      "outputs": [
        {
          "output_type": "stream",
          "name": "stdout",
          "text": [
            "Input dimension:  torch.Size([3314, 300])\n",
            "Output dimension: torch.Size([3314, 180])\n"
          ]
        }
      ]
    },
    {
      "cell_type": "code",
      "source": [
        "train_data,test_data,val_data=random_split(full_dataset, [0.8, 0.1, 0.1], generator=torch.Generator().manual_seed(42))"
      ],
      "metadata": {
        "id": "OuKcvNeoS2sc"
      },
      "execution_count": null,
      "outputs": []
    },
    {
      "cell_type": "code",
      "source": [
        "print(f\"Train:Test:Val = {len(train_data)}:{len(test_data)}:{len(val_data)}\")\n",
        "i,o = train_data[0]\n",
        "print(\"Train Input dim: \", i.shape)\n",
        "print(\"Train Output dim:\", o.shape)"
      ],
      "metadata": {
        "colab": {
          "base_uri": "https://localhost:8080/"
        },
        "id": "327VoOx4TUW4",
        "outputId": "0a08a096-2d18-49dc-b873-8eab2e962b80"
      },
      "execution_count": null,
      "outputs": [
        {
          "output_type": "stream",
          "name": "stdout",
          "text": [
            "Train:Test:Val = 2652:331:331\n",
            "Train Input dim:  torch.Size([300])\n",
            "Train Output dim: torch.Size([180])\n"
          ]
        }
      ]
    },
    {
      "cell_type": "code",
      "source": [
        "train_loader = DataLoader(train_data, batch_size=128, shuffle=False)\n",
        "test_loader = DataLoader(test_data, batch_size=128, shuffle=False)\n",
        "val_loader = DataLoader(val_data, batch_size=128, shuffle=False)"
      ],
      "metadata": {
        "id": "NwKlJfMakCWc"
      },
      "execution_count": null,
      "outputs": []
    },
    {
      "cell_type": "markdown",
      "source": [
        "# Transformer Model\n",
        "Add decoder"
      ],
      "metadata": {
        "id": "UnRJsYXvMAvD"
      }
    },
    {
      "cell_type": "code",
      "source": [
        "class PositionalEncoding(nn.Module):\n",
        "\n",
        "    def __init__(self, d_model: int, dropout: float = 0.1, max_len: int = 5000):\n",
        "        super().__init__()\n",
        "        self.dropout = nn.Dropout(p=dropout)\n",
        "\n",
        "        div_term = torch.exp(torch.arange(0, d_model, 2) * (-math.log(10000.0) / d_model))\n",
        "        position = torch.arange(max_len).unsqueeze(1)\n",
        "        pe = torch.zeros(max_len, 1, d_model)\n",
        "        pe[:, 0, 0::2] = torch.sin(position * div_term)\n",
        "        pe[:, 0, 1::2] = torch.cos(position * div_term)\n",
        "        self.register_buffer('pe', pe)\n",
        "\n",
        "    def forward(self, x: Tensor) -> Tensor:\n",
        "        \"\"\"\n",
        "        Arguments:\n",
        "            x: Tensor, shape ``[seq_len, batch_size, embedding_dim]``\n",
        "        \"\"\"\n",
        "        x = x + self.pe[:x.size(0)]\n",
        "        return self.dropout(x)"
      ],
      "metadata": {
        "id": "tZ_2-o0nIwWm"
      },
      "execution_count": null,
      "outputs": []
    },
    {
      "cell_type": "code",
      "source": [
        "# helper Module to convert tensor of input indices into corresponding tensor of token embeddings\n",
        "class TokenEmbedding(nn.Module):\n",
        "    def __init__(self, vocab_size: int, emb_size):\n",
        "        super(TokenEmbedding, self).__init__()\n",
        "        self.embedding = nn.Embedding(vocab_size, emb_size)\n",
        "        self.emb_size = emb_size\n",
        "\n",
        "    def forward(self, tokens: Tensor):\n",
        "        return self.embedding(tokens.long()) * math.sqrt(self.emb_size)"
      ],
      "metadata": {
        "id": "Lz6UE9cGDfHt"
      },
      "execution_count": null,
      "outputs": []
    },
    {
      "cell_type": "code",
      "execution_count": null,
      "metadata": {
        "id": "dj6memZvInoC"
      },
      "outputs": [],
      "source": [
        "class TransformerModel(nn.Module):\n",
        "    def __init__(self, args):#ntoken: int, d_model: int, nhead: int, d_hid: int,\n",
        "                #  nlayers: int, dropout: float = 0.5):\n",
        "        super().__init__()\n",
        "        self.model_type = 'Transformer'\n",
        "\n",
        "        self.emsize = args['emsize']\n",
        "        self.generator = nn.Linear(args['emsize'], args['ntokens'])\n",
        "        self.embedding = TokenEmbedding(vocab_size=args['ntokens'], emb_size=args['emsize'])\n",
        "        self.pos_enc = PositionalEncoding(args['emsize'], dropout=args['dropout'])\n",
        "\n",
        "        self.transformer = Transformer(d_model=args['emsize'],\n",
        "                                       nhead=args['nheads'],\n",
        "                                       num_encoder_layers=args['num_encoder_layers'],\n",
        "                                       num_decoder_layers=args['num_decoder_layers'],\n",
        "                                       dim_feedforward=args['dim_feedforward'],\n",
        "                                       dropout=args['dropout'])\n",
        "\n",
        "\n",
        "        # self.init_weights()\n",
        "\n",
        "    def init_weights(self) -> None:\n",
        "        initrange = 0.1\n",
        "        self.embedding.weight.data.uniform_(-initrange, initrange)\n",
        "        self.linear.bias.data.zero_()\n",
        "        self.linear.weight.data.uniform_(-initrange, initrange)\n",
        "\n",
        "    def forward(self,\n",
        "                src: Tensor,\n",
        "                tgt: Tensor,\n",
        "                src_mask: Tensor,\n",
        "                tgt_mask: Tensor,\n",
        "                src_padding_mask: Tensor,\n",
        "                tgt_padding_mask: Tensor,\n",
        "                memory_key_padding_mask: Tensor):\n",
        "        \"\"\"\n",
        "        Arguments:\n",
        "            src: Tensor, shape ``[seq_len, batch_size]``\n",
        "            src_mask: Tensor, shape ``[seq_len, seq_len]``\n",
        "\n",
        "        Returns:\n",
        "            output Tensor of shape ``[seq_len, batch_size, ntoken]``\n",
        "        \"\"\"\n",
        "        src_emb, tgt_emb = self.embedding(src), self.embedding(tgt)\n",
        "        src_pos_emb, tgt_pos_emb = self.pos_enc(src_emb), self.pos_enc(tgt_emb)\n",
        "        outs = self.transformer(src_pos_emb, tgt_pos_emb, src_mask, tgt_mask, None,\n",
        "                                src_padding_mask, tgt_padding_mask, memory_key_padding_mask)\n",
        "\n",
        "        output = self.generator(outs)\n",
        "        return output\n",
        "\n",
        "    def encode(self, src: Tensor, src_mask: Tensor):\n",
        "        return self.transformer.encoder(self.pos_enc(\n",
        "                            self.embedding(src)), src_mask)\n",
        "\n",
        "    def decode(self, tgt: Tensor, memory: Tensor, tgt_mask: Tensor):\n",
        "        return self.transformer.decoder(self.pos_enc(\n",
        "                          self.embedding(tgt)), memory,\n",
        "                          tgt_mask)"
      ]
    },
    {
      "cell_type": "code",
      "source": [
        "def generate_square_subsequent_mask(sz, args):\n",
        "    mask = (torch.triu(torch.ones((sz, sz), device=args['device'])) == 1).transpose(0, 1)\n",
        "    mask = mask.float().masked_fill(mask == 0, float('-inf')).masked_fill(mask == 1, float(0.0))\n",
        "    return mask\n",
        "\n",
        "\n",
        "def create_mask(src, tgt, args):\n",
        "    src_seq_len = src.shape[0]\n",
        "    tgt_seq_len = tgt.shape[0]\n",
        "\n",
        "    tgt_mask = generate_square_subsequent_mask(tgt_seq_len, args)\n",
        "    src_mask = torch.zeros((src_seq_len, src_seq_len),device=args['device']).type(torch.bool)\n",
        "\n",
        "    src_padding_mask = (src == args['pad_idx']).transpose(0, 1)\n",
        "    tgt_padding_mask = (tgt == args['pad_idx']).transpose(0, 1)\n",
        "    return src_mask, tgt_mask, src_padding_mask, tgt_padding_mask"
      ],
      "metadata": {
        "id": "yc76-KmVHhDz"
      },
      "execution_count": null,
      "outputs": []
    },
    {
      "cell_type": "markdown",
      "source": [
        "# Loading and training model"
      ],
      "metadata": {
        "id": "2-_QUMpVmef6"
      }
    },
    {
      "cell_type": "code",
      "source": [
        "args['device'] = torch.device('cuda' if torch.cuda.is_available() else 'cpu')\n",
        "args['pad_idx'] = full_dataset.vocab['[pad]']\n",
        "args['ntokens'] = len(full_dataset.vocab) # size of vocab\n",
        "args['emsize'] = 200                      # embedding dim\n",
        "args['d_hid'] = 200     # dim of Linear network in nn.TransformerEncoder\n",
        "args['num_encoder_layers'] = 3     # number of nn.TransformerEncoderLayer in nn.TransformerEncoder\n",
        "args['num_decoder_layers'] = 3     # number of nn.TransformerEncoderLayer in nn.TransformerEncoder\n",
        "args['dim_feedforward'] = 512     # number of nn.TransformerEncoderLayer in nn.TransformerEncoder\n",
        "args['nheads'] = 2       # number of heads in nn.MultiHeadAttention\n",
        "args['dropout'] = 0.2   # dropout prob\n",
        "\n",
        "model = TransformerModel(args).to(args['device'])"
      ],
      "metadata": {
        "id": "xd4vvTTPkvjL"
      },
      "execution_count": null,
      "outputs": []
    },
    {
      "cell_type": "code",
      "source": [
        "import time\n",
        "\n",
        "criterion = nn.CrossEntropyLoss(ignore_index=args['pad_idx'])\n",
        "lr = 5.0  # learning rate\n",
        "optimizer = torch.optim.Adam(model.parameters(), lr=0.0001, betas=(0.9, 0.98), eps=1e-9)\n",
        "scheduler = torch.optim.lr_scheduler.StepLR(optimizer, 1.0, gamma=0.95)\n",
        "\n",
        "def train(model: nn.Module) -> None:\n",
        "    model.train()  # turn on train mode\n",
        "    total_loss = 0.\n",
        "    log_interval = 200\n",
        "    start_time = time.time()\n",
        "\n",
        "    num_batches = len(train_loader)\n",
        "    for batch_idx, (input_batch, target_batch) in enumerate(train_loader):\n",
        "        input_batch = input_batch.to(args['device']).T\n",
        "        target_batch = target_batch.to(args['device']).T\n",
        "\n",
        "        # print(\"t1.shape:\",target_batch.shape)\n",
        "        target_batch_inp = target_batch[:-1,:]\n",
        "        # print(\"t2.shape:\",target_batch_inp.shape)\n",
        "        src_mask, tgt_mask, src_padding_mask, tgt_padding_mask = create_mask(input_batch, target_batch_inp, args)\n",
        "\n",
        "        logits = model(input_batch, target_batch_inp, src_mask, tgt_mask, src_padding_mask, tgt_padding_mask, src_padding_mask)\n",
        "\n",
        "        # print(\"logits:\", logits.shape)\n",
        "        # print(\"tgt:\", target_batch.shape)\n",
        "        optimizer.zero_grad()\n",
        "        tgt_out = target_batch[1:,:]\n",
        "        # print(\"tgt_out:\", tgt_out.shape)\n",
        "\n",
        "        # print(\"logits reshaped:\", logits.reshape(-1, logits.shape[-1]).shape)\n",
        "        # print(\"tgt_out reshaped:\", tgt_out.reshape(-1).shape)\n",
        "        # raise\n",
        "        loss = criterion(logits.reshape(-1, logits.shape[-1]), tgt_out.reshape(-1))\n",
        "        loss.backward()\n",
        "\n",
        "        torch.nn.utils.clip_grad_norm_(model.parameters(), 0.5)\n",
        "        optimizer.step()\n",
        "\n",
        "        total_loss += loss.item()\n",
        "        # if batch_idx % log_interval == 0 and batch_idx > 0:\n",
        "        #     lr = scheduler.get_last_lr()[0]\n",
        "        #     ms_per_batch = (time.time() - start_time) * 1000 / log_interval\n",
        "        #     cur_loss = total_loss / log_interval\n",
        "        #     ppl = math.exp(cur_loss)\n",
        "        #     print(f'| epoch {epoch:3d} | {batch_idx:5d}/{num_batches:5d} batches | '\n",
        "        #           f'lr {lr:02.2f} | ms/batch {ms_per_batch:5.2f} | '\n",
        "        #           f'loss {cur_loss:5.2f} | ppl {ppl:8.2f}')\n",
        "        #     total_loss = 0\n",
        "        #     start_time = time.time()\n",
        "    return total_loss / len(train_loader)\n",
        "def evaluate(model: nn.Module, d_loader) -> float:\n",
        "    model.eval()  # turn on evaluation mode\n",
        "    total_loss = 0.\n",
        "    with torch.no_grad():\n",
        "      for input_batch, target_batch in d_loader:\n",
        "            src = input_batch.to(args['device']).T\n",
        "            tgt = target_batch.to(args['device']).T\n",
        "\n",
        "            tgt_input = tgt[:-1, :]\n",
        "\n",
        "            src_mask, tgt_mask, src_padding_mask, tgt_padding_mask = create_mask(src, tgt_input, args)\n",
        "\n",
        "            logits = model(src, tgt_input, src_mask, tgt_mask,src_padding_mask, tgt_padding_mask, src_padding_mask)\n",
        "\n",
        "            tgt_out = tgt[1:, :]\n",
        "            loss = criterion(logits.reshape(-1, logits.shape[-1]), tgt_out.reshape(-1))\n",
        "            total_loss += loss.item()\n",
        "    return total_loss / len(d_loader)"
      ],
      "metadata": {
        "id": "WQVEEZ2J8qy0"
      },
      "execution_count": null,
      "outputs": []
    },
    {
      "cell_type": "code",
      "source": [
        "len(full_dataset.vocab)"
      ],
      "metadata": {
        "colab": {
          "base_uri": "https://localhost:8080/"
        },
        "id": "SS_JPg0U-_OJ",
        "outputId": "63157db1-b7be-4188-c515-9b5c84878a35"
      },
      "execution_count": null,
      "outputs": [
        {
          "output_type": "execute_result",
          "data": {
            "text/plain": [
              "18046"
            ]
          },
          "metadata": {},
          "execution_count": 18
        }
      ]
    },
    {
      "cell_type": "code",
      "source": [
        "best_val_loss = float('inf')\n",
        "epochs = 50\n",
        "\n",
        "with TemporaryDirectory() as tempdir:\n",
        "    best_model_params_path = os.path.join(tempdir, \"best_model_params.pt\")\n",
        "\n",
        "    for epoch in range(1, epochs + 1):\n",
        "        epoch_start_time = time.time()\n",
        "        train_loss = train(model)\n",
        "        val_loss = evaluate(model, train_loader)\n",
        "        # val_ppl = math.exp(val_loss)\n",
        "        elapsed = time.time() - epoch_start_time\n",
        "        print('-' * 89)\n",
        "        print(f'| end of epoch {epoch:3d} | time: {elapsed:5.2f}s | '\n",
        "            f'train loss {train_loss:5.2f} | valid loss {val_loss:8.2f}')\n",
        "        print('-' * 89)\n",
        "\n",
        "        if val_loss < best_val_loss:\n",
        "            best_val_loss = val_loss\n",
        "            torch.save(model.state_dict(), best_model_params_path)\n",
        "\n",
        "        scheduler.step()\n",
        "    model.load_state_dict(torch.load(best_model_params_path))"
      ],
      "metadata": {
        "colab": {
          "base_uri": "https://localhost:8080/"
        },
        "id": "gyRoF-ef85_S",
        "outputId": "22d7bb10-1ad5-4eac-bdf3-be0932ec847a"
      },
      "execution_count": null,
      "outputs": [
        {
          "output_type": "stream",
          "name": "stderr",
          "text": [
            "/usr/local/lib/python3.10/dist-packages/torch/nn/functional.py:4999: UserWarning: Support for mismatched key_padding_mask and attn_mask is deprecated. Use same type for both instead.\n",
            "  warnings.warn(\n"
          ]
        },
        {
          "output_type": "stream",
          "name": "stdout",
          "text": [
            "-----------------------------------------------------------------------------------------\n",
            "| end of epoch   1 | time: 15.03s | train loss  5.96 | valid loss     5.89\n",
            "-----------------------------------------------------------------------------------------\n",
            "-----------------------------------------------------------------------------------------\n",
            "| end of epoch   2 | time: 15.38s | train loss  5.96 | valid loss     5.89\n",
            "-----------------------------------------------------------------------------------------\n",
            "-----------------------------------------------------------------------------------------\n",
            "| end of epoch   3 | time: 15.19s | train loss  5.96 | valid loss     5.88\n",
            "-----------------------------------------------------------------------------------------\n",
            "-----------------------------------------------------------------------------------------\n",
            "| end of epoch   4 | time: 14.94s | train loss  5.95 | valid loss     5.88\n",
            "-----------------------------------------------------------------------------------------\n",
            "-----------------------------------------------------------------------------------------\n",
            "| end of epoch   5 | time: 14.81s | train loss  5.95 | valid loss     5.88\n",
            "-----------------------------------------------------------------------------------------\n",
            "-----------------------------------------------------------------------------------------\n",
            "| end of epoch   6 | time: 14.83s | train loss  5.95 | valid loss     5.88\n",
            "-----------------------------------------------------------------------------------------\n",
            "-----------------------------------------------------------------------------------------\n",
            "| end of epoch   7 | time: 14.96s | train loss  5.95 | valid loss     5.88\n",
            "-----------------------------------------------------------------------------------------\n",
            "-----------------------------------------------------------------------------------------\n",
            "| end of epoch   8 | time: 15.05s | train loss  5.95 | valid loss     5.88\n",
            "-----------------------------------------------------------------------------------------\n",
            "-----------------------------------------------------------------------------------------\n",
            "| end of epoch   9 | time: 15.03s | train loss  5.95 | valid loss     5.87\n",
            "-----------------------------------------------------------------------------------------\n",
            "-----------------------------------------------------------------------------------------\n",
            "| end of epoch  10 | time: 14.96s | train loss  5.94 | valid loss     5.87\n",
            "-----------------------------------------------------------------------------------------\n",
            "-----------------------------------------------------------------------------------------\n",
            "| end of epoch  11 | time: 14.94s | train loss  5.94 | valid loss     5.87\n",
            "-----------------------------------------------------------------------------------------\n",
            "-----------------------------------------------------------------------------------------\n",
            "| end of epoch  12 | time: 14.92s | train loss  5.94 | valid loss     5.87\n",
            "-----------------------------------------------------------------------------------------\n",
            "-----------------------------------------------------------------------------------------\n",
            "| end of epoch  13 | time: 14.94s | train loss  5.94 | valid loss     5.87\n",
            "-----------------------------------------------------------------------------------------\n",
            "-----------------------------------------------------------------------------------------\n",
            "| end of epoch  14 | time: 14.98s | train loss  5.94 | valid loss     5.87\n",
            "-----------------------------------------------------------------------------------------\n",
            "-----------------------------------------------------------------------------------------\n",
            "| end of epoch  15 | time: 15.01s | train loss  5.94 | valid loss     5.86\n",
            "-----------------------------------------------------------------------------------------\n",
            "-----------------------------------------------------------------------------------------\n",
            "| end of epoch  16 | time: 14.98s | train loss  5.94 | valid loss     5.86\n",
            "-----------------------------------------------------------------------------------------\n",
            "-----------------------------------------------------------------------------------------\n",
            "| end of epoch  17 | time: 14.95s | train loss  5.94 | valid loss     5.86\n",
            "-----------------------------------------------------------------------------------------\n",
            "-----------------------------------------------------------------------------------------\n",
            "| end of epoch  18 | time: 14.90s | train loss  5.94 | valid loss     5.86\n",
            "-----------------------------------------------------------------------------------------\n",
            "-----------------------------------------------------------------------------------------\n",
            "| end of epoch  19 | time: 14.94s | train loss  5.94 | valid loss     5.86\n",
            "-----------------------------------------------------------------------------------------\n",
            "-----------------------------------------------------------------------------------------\n",
            "| end of epoch  20 | time: 14.98s | train loss  5.93 | valid loss     5.86\n",
            "-----------------------------------------------------------------------------------------\n",
            "-----------------------------------------------------------------------------------------\n",
            "| end of epoch  21 | time: 15.02s | train loss  5.93 | valid loss     5.86\n",
            "-----------------------------------------------------------------------------------------\n",
            "-----------------------------------------------------------------------------------------\n",
            "| end of epoch  22 | time: 15.01s | train loss  5.93 | valid loss     5.86\n",
            "-----------------------------------------------------------------------------------------\n",
            "-----------------------------------------------------------------------------------------\n",
            "| end of epoch  23 | time: 14.96s | train loss  5.93 | valid loss     5.86\n",
            "-----------------------------------------------------------------------------------------\n",
            "-----------------------------------------------------------------------------------------\n",
            "| end of epoch  24 | time: 14.92s | train loss  5.93 | valid loss     5.86\n",
            "-----------------------------------------------------------------------------------------\n",
            "-----------------------------------------------------------------------------------------\n",
            "| end of epoch  25 | time: 14.93s | train loss  5.93 | valid loss     5.85\n",
            "-----------------------------------------------------------------------------------------\n",
            "-----------------------------------------------------------------------------------------\n",
            "| end of epoch  26 | time: 14.96s | train loss  5.93 | valid loss     5.85\n",
            "-----------------------------------------------------------------------------------------\n",
            "-----------------------------------------------------------------------------------------\n",
            "| end of epoch  27 | time: 14.96s | train loss  5.93 | valid loss     5.85\n",
            "-----------------------------------------------------------------------------------------\n",
            "-----------------------------------------------------------------------------------------\n",
            "| end of epoch  28 | time: 14.98s | train loss  5.93 | valid loss     5.85\n",
            "-----------------------------------------------------------------------------------------\n",
            "-----------------------------------------------------------------------------------------\n",
            "| end of epoch  29 | time: 14.97s | train loss  5.93 | valid loss     5.85\n",
            "-----------------------------------------------------------------------------------------\n",
            "-----------------------------------------------------------------------------------------\n",
            "| end of epoch  30 | time: 14.96s | train loss  5.93 | valid loss     5.85\n",
            "-----------------------------------------------------------------------------------------\n",
            "-----------------------------------------------------------------------------------------\n",
            "| end of epoch  31 | time: 15.00s | train loss  5.93 | valid loss     5.85\n",
            "-----------------------------------------------------------------------------------------\n",
            "-----------------------------------------------------------------------------------------\n",
            "| end of epoch  32 | time: 15.00s | train loss  5.93 | valid loss     5.85\n",
            "-----------------------------------------------------------------------------------------\n",
            "-----------------------------------------------------------------------------------------\n",
            "| end of epoch  33 | time: 14.98s | train loss  5.93 | valid loss     5.85\n",
            "-----------------------------------------------------------------------------------------\n",
            "-----------------------------------------------------------------------------------------\n",
            "| end of epoch  34 | time: 14.97s | train loss  5.92 | valid loss     5.85\n",
            "-----------------------------------------------------------------------------------------\n",
            "-----------------------------------------------------------------------------------------\n",
            "| end of epoch  35 | time: 14.92s | train loss  5.92 | valid loss     5.85\n",
            "-----------------------------------------------------------------------------------------\n",
            "-----------------------------------------------------------------------------------------\n",
            "| end of epoch  36 | time: 14.93s | train loss  5.92 | valid loss     5.85\n",
            "-----------------------------------------------------------------------------------------\n",
            "-----------------------------------------------------------------------------------------\n",
            "| end of epoch  37 | time: 14.94s | train loss  5.92 | valid loss     5.85\n",
            "-----------------------------------------------------------------------------------------\n",
            "-----------------------------------------------------------------------------------------\n",
            "| end of epoch  38 | time: 14.98s | train loss  5.92 | valid loss     5.85\n",
            "-----------------------------------------------------------------------------------------\n",
            "-----------------------------------------------------------------------------------------\n",
            "| end of epoch  39 | time: 14.99s | train loss  5.92 | valid loss     5.85\n",
            "-----------------------------------------------------------------------------------------\n",
            "-----------------------------------------------------------------------------------------\n",
            "| end of epoch  40 | time: 14.98s | train loss  5.92 | valid loss     5.85\n",
            "-----------------------------------------------------------------------------------------\n",
            "-----------------------------------------------------------------------------------------\n",
            "| end of epoch  41 | time: 14.99s | train loss  5.92 | valid loss     5.85\n",
            "-----------------------------------------------------------------------------------------\n",
            "-----------------------------------------------------------------------------------------\n",
            "| end of epoch  42 | time: 14.97s | train loss  5.92 | valid loss     5.85\n",
            "-----------------------------------------------------------------------------------------\n",
            "-----------------------------------------------------------------------------------------\n",
            "| end of epoch  43 | time: 14.96s | train loss  5.92 | valid loss     5.85\n",
            "-----------------------------------------------------------------------------------------\n",
            "-----------------------------------------------------------------------------------------\n",
            "| end of epoch  44 | time: 14.94s | train loss  5.92 | valid loss     5.85\n",
            "-----------------------------------------------------------------------------------------\n",
            "-----------------------------------------------------------------------------------------\n",
            "| end of epoch  45 | time: 14.95s | train loss  5.92 | valid loss     5.85\n",
            "-----------------------------------------------------------------------------------------\n",
            "-----------------------------------------------------------------------------------------\n",
            "| end of epoch  46 | time: 14.94s | train loss  5.92 | valid loss     5.85\n",
            "-----------------------------------------------------------------------------------------\n",
            "-----------------------------------------------------------------------------------------\n",
            "| end of epoch  47 | time: 14.94s | train loss  5.92 | valid loss     5.84\n",
            "-----------------------------------------------------------------------------------------\n",
            "-----------------------------------------------------------------------------------------\n",
            "| end of epoch  48 | time: 14.95s | train loss  5.92 | valid loss     5.84\n",
            "-----------------------------------------------------------------------------------------\n",
            "-----------------------------------------------------------------------------------------\n",
            "| end of epoch  49 | time: 14.95s | train loss  5.92 | valid loss     5.84\n",
            "-----------------------------------------------------------------------------------------\n",
            "-----------------------------------------------------------------------------------------\n",
            "| end of epoch  50 | time: 14.94s | train loss  5.92 | valid loss     5.84\n",
            "-----------------------------------------------------------------------------------------\n"
          ]
        }
      ]
    },
    {
      "cell_type": "code",
      "source": [
        "# function to generate output sequence using greedy algorithm\n",
        "def greedy_decode(model, src, src_mask, max_len, start_symbol):\n",
        "    src = src.to(args['device'])\n",
        "    src_mask = src_mask.to(args['device'])\n",
        "\n",
        "    memory = model.encode(src, src_mask)\n",
        "    ys = torch.ones(1, 1).fill_(start_symbol).type(torch.long).to(args['device'])\n",
        "    for i in range(max_len-1):\n",
        "        memory = memory.to(args['device'])\n",
        "        tgt_mask = (generate_square_subsequent_mask(ys.size(0),args)\n",
        "                    .type(torch.bool)).to(args['device'])\n",
        "        out = model.decode(ys, memory, tgt_mask)\n",
        "        out = out.transpose(0, 1)\n",
        "        prob = model.generator(out[:, -1])\n",
        "        _, next_word = torch.max(prob, dim=1)\n",
        "        next_word = next_word.item()\n",
        "\n",
        "        ys = torch.cat([ys,\n",
        "                        torch.ones(1, 1).type_as(src.data).fill_(next_word)], dim=0)\n",
        "        if next_word == full_dataset.vocab['[end]']:\n",
        "            break\n",
        "    return ys\n",
        "itos = full_dataset.vocab.get_itos()\n",
        "def convertToken2Str(token_list):\n",
        "  return \" \".join(itos[idx] for idx in token_list)\n",
        "\n",
        "# actual function to translate input sentence into target language\n",
        "def generate(model: torch.nn.Module, src):\n",
        "    model.eval()\n",
        "    src = src[0].unsqueeze(1)\n",
        "    num_tokens = src.shape[0]\n",
        "    print(num_tokens)\n",
        "    src_mask = (torch.zeros(num_tokens, num_tokens)).type(torch.bool)\n",
        "    tgt_tokens = greedy_decode(\n",
        "        model,  src, src_mask, max_len=180, start_symbol=full_dataset.vocab['[start]']).flatten()\n",
        "\n",
        "    return convertToken2Str(list(tgt_tokens.cpu().numpy()))"
      ],
      "metadata": {
        "id": "dO5qNTC2g958"
      },
      "execution_count": null,
      "outputs": []
    },
    {
      "cell_type": "code",
      "source": [
        "test_sample_input,test_sample_output = next(iter(test_loader))"
      ],
      "metadata": {
        "id": "_mT4dmsWaJx-"
      },
      "execution_count": null,
      "outputs": []
    },
    {
      "cell_type": "code",
      "source": [
        "test_sample_input.shape"
      ],
      "metadata": {
        "colab": {
          "base_uri": "https://localhost:8080/"
        },
        "id": "Cto93u3PbEu1",
        "outputId": "c9cf27e2-3b76-4ac3-c37d-b43af689e431"
      },
      "execution_count": null,
      "outputs": [
        {
          "output_type": "execute_result",
          "data": {
            "text/plain": [
              "torch.Size([128, 300])"
            ]
          },
          "metadata": {},
          "execution_count": 31
        }
      ]
    },
    {
      "cell_type": "code",
      "source": [
        "print(generate(model, test_sample_input))"
      ],
      "metadata": {
        "colab": {
          "base_uri": "https://localhost:8080/"
        },
        "id": "qEdk8_LChIan",
        "outputId": "907cc614-643a-44aa-8e11-2d2bde2422cf"
      },
      "execution_count": null,
      "outputs": [
        {
          "output_type": "stream",
          "name": "stdout",
          "text": [
            "300\n",
            "[start] what are the study of the study ? [sep] the study of the study of the study of the study of the study of the study of the study of the study of the study , and the study , and the study , and the study , and the what , and the study , and the what , and the what , and the what , and the what , and the what , and the what , and the what , and the study , and the study , and the what , and the study , and the what , and the what , and the study , and the study , and the what , and the study , and the study , and the study , and the study , and the study , and the study , and the what , and the study , and the study , and the study , and the study , and the study , and the study , and the study , and the study\n"
          ]
        }
      ]
    },
    {
      "cell_type": "code",
      "source": [
        "\" \".join([itos[idx] for idx in list(test_sample_input.cpu().numpy())[0]])"
      ],
      "metadata": {
        "id": "wVagbo4hwYX0",
        "outputId": "7d8bba84-e40f-45f7-97da-12e5e7b37e34",
        "colab": {
          "base_uri": "https://localhost:8080/",
          "height": 200
        }
      },
      "execution_count": null,
      "outputs": [
        {
          "output_type": "execute_result",
          "data": {
            "text/plain": [
              "'he said i think it has worked well because over the years during their annual review which we were invited to , their report , the ghana health service ( ghs ) indicated that there is a drastic reduction of maternal mortality and many more so i know it has worked . it has also worked because it seems the ladies now feel comfortable attending antenatal than before . [pad] [pad] [pad] [pad] [pad] [pad] [pad] [pad] [pad] [pad] [pad] [pad] [pad] [pad] [pad] [pad] [pad] [pad] [pad] [pad] [pad] [pad] [pad] [pad] [pad] [pad] [pad] [pad] [pad] [pad] [pad] [pad] [pad] [pad] [pad] [pad] [pad] [pad] [pad] [pad] [pad] [pad] [pad] [pad] [pad] [pad] [pad] [pad] [pad] [pad] [pad] [pad] [pad] [pad] [pad] [pad] [pad] [pad] [pad] [pad] [pad] [pad] [pad] [pad] [pad] [pad] [pad] [pad] [pad] [pad] [pad] [pad] [pad] [pad] [pad] [pad] [pad] [pad] [pad] [pad] [pad] [pad] [pad] [pad] [pad] [pad] [pad] [pad] [pad] [pad] [pad] [pad] [pad] [pad] [pad] [pad] [pad] [pad] [pad] [pad] [pad] [pad] [pad] [pad] [pad] [pad] [pad] [pad] [pad] [pad] [pad] [pad] [pad] [pad] [pad] [pad] [pad] [pad] [pad] [pad] [pad] [pad] [pad] [pad] [pad] [pad] [pad] [pad] [pad] [pad] [pad] [pad] [pad] [pad] [pad] [pad] [pad] [pad] [pad] [pad] [pad] [pad] [pad] [pad] [pad] [pad] [pad] [pad] [pad] [pad] [pad] [pad] [pad] [pad] [pad] [pad] [pad] [pad] [pad] [pad] [pad] [pad] [pad] [pad] [pad] [pad] [pad] [pad] [pad] [pad] [pad] [pad] [pad] [pad] [pad] [pad] [pad] [pad] [pad] [pad] [pad] [pad] [pad] [pad] [pad] [pad] [pad] [pad] [pad] [pad] [pad] [pad] [pad] [pad] [pad] [pad] [pad] [pad] [pad] [pad] [pad] [pad] [pad] [pad] [pad] [pad] [pad] [pad] [pad] [pad] [pad] [pad] [pad] [pad] [pad] [pad] [pad] [pad] [pad] [pad] [pad] [pad] [pad] [pad] [pad] [pad] [pad] [pad] [pad] [pad] [pad]'"
            ],
            "application/vnd.google.colaboratory.intrinsic+json": {
              "type": "string"
            }
          },
          "metadata": {},
          "execution_count": 29
        }
      ]
    },
    {
      "cell_type": "code",
      "source": [
        "\" \".join([itos[idx] for idx in list(test_sample_output.cpu().numpy())[0]])"
      ],
      "metadata": {
        "colab": {
          "base_uri": "https://localhost:8080/",
          "height": 200
        },
        "id": "o8yLquMwfDG2",
        "outputId": "e07bcc47-2a02-4c63-b55e-fdf1a1a4fa68"
      },
      "execution_count": null,
      "outputs": [
        {
          "output_type": "execute_result",
          "data": {
            "text/plain": [
              "\"[start] how have the annual reviews conducted by the ghana health service indicated that the fmhcp has been successful ? [sep] the ghana health service ' s annual reviews have indicated that there is a drastic reduction of maternal mortality , and that women now feel more comfortable attending antenatal care than before . [end] [pad] [pad] [pad] [pad] [pad] [pad] [pad] [pad] [pad] [pad] [pad] [pad] [pad] [pad] [pad] [pad] [pad] [pad] [pad] [pad] [pad] [pad] [pad] [pad] [pad] [pad] [pad] [pad] [pad] [pad] [pad] [pad] [pad] [pad] [pad] [pad] [pad] [pad] [pad] [pad] [pad] [pad] [pad] [pad] [pad] [pad] [pad] [pad] [pad] [pad] [pad] [pad] [pad] [pad] [pad] [pad] [pad] [pad] [pad] [pad] [pad] [pad] [pad] [pad] [pad] [pad] [pad] [pad] [pad] [pad] [pad] [pad] [pad] [pad] [pad] [pad] [pad] [pad] [pad] [pad] [pad] [pad] [pad] [pad] [pad] [pad] [pad] [pad] [pad] [pad] [pad] [pad] [pad] [pad] [pad] [pad] [pad] [pad] [pad] [pad] [pad] [pad] [pad] [pad] [pad] [pad] [pad] [pad] [pad] [pad] [pad] [pad] [pad] [pad] [pad] [pad] [pad] [pad] [pad] [pad] [pad] [pad] [pad] [pad] [pad]\""
            ],
            "application/vnd.google.colaboratory.intrinsic+json": {
              "type": "string"
            }
          },
          "metadata": {},
          "execution_count": 25
        }
      ]
    },
    {
      "cell_type": "code",
      "source": [],
      "metadata": {
        "id": "XmgTmbPommMJ"
      },
      "execution_count": null,
      "outputs": []
    }
  ]
}