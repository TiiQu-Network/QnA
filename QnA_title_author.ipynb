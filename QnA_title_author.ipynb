{
 "cells": [
  {
   "cell_type": "markdown",
   "metadata": {},
   "source": [
    "## Extracting Title and Authors from scientific articles"
   ]
  },
  {
   "cell_type": "code",
   "execution_count": 1,
   "metadata": {},
   "outputs": [
    {
     "name": "stdout",
     "output_type": "stream",
     "text": [
      "6\n"
     ]
    }
   ],
   "source": [
    "import pathlib, fitz\n",
    "import requests\n",
    "import random\n",
    "### pdftitle quickly extracts the title from the pdf metadata\n",
    "\n",
    "paper_number = random.randint(0,18)\n",
    "print(paper_number)\n",
    "\n",
    "# We extract the full text\n",
    "fname = 'examples/paper_'+str(paper_number)+'.pdf'  # get document filename\n",
    "with fitz.open(fname) as doc:  # open document\n",
    "    text = \"\".join([page.get_text() for page in doc])\n",
    "# write as a binary file to support non-ASCII characters\n",
    "pathlib.Path(fname + \".txt\").write_bytes(text.encode())\n",
    "\n",
    "\n",
    "# We split the text by page to be used as input to OpenAI\n",
    "# My idea is to get 10 questions per page\n",
    "text_by_page = []\n",
    "with fitz.open(fname) as doc:\n",
    "  for page in doc:\n",
    "    text_by_page.append(page.get_text())   \n"
   ]
  },
  {
   "cell_type": "code",
   "execution_count": 2,
   "metadata": {},
   "outputs": [],
   "source": [
    "# All scientific articles have a DOI\n",
    "# All DOIs start with 10\n",
    "def get_doi():\n",
    "  doi_index = text.find('doi')\n",
    "  if doi_index == -1:\n",
    "    doi_index = text.find('DOI')\n",
    "  if doi_index == -1:\n",
    "    doi_index == text.find('Doi')  \n",
    "\n",
    "  doi_start = text.find('10', doi_index)  \n",
    "  end_space = text.find(' ', doi_start)\n",
    "  end_line = text.find('\\n', doi_start)\n",
    "  if  end_space < end_line:\n",
    "    doi_end = end_space\n",
    "  else:\n",
    "    doi_end = end_line  \n",
    "  DOI = text[doi_start:doi_end]\n",
    "\n",
    "  # If the DOI is cut we do a second search:\n",
    "  if len(DOI)<10:\n",
    "    doi_index2 = text.find('doi', doi_index+1)\n",
    "    doi_start = text.find('10', doi_index2)  \n",
    "    end_space = text.find(' ', doi_start)\n",
    "    end_line = text.find('\\n', doi_start)\n",
    "    if  end_space < end_line:\n",
    "      doi_end = end_space\n",
    "    else:\n",
    "      doi_end = end_line  \n",
    "  DOI = text[doi_start:doi_end]   \n",
    "  return DOI "
   ]
  },
  {
   "cell_type": "code",
   "execution_count": 3,
   "metadata": {},
   "outputs": [
    {
     "name": "stdout",
     "output_type": "stream",
     "text": [
      "10.1088/1475-7516/2012/02/029\n"
     ]
    },
    {
     "data": {
      "text/plain": [
       "['title={Dark matter as the trigger of strong electroweak phase transition}',\n",
       " 'author={Chowdhury, Talal Ahmed and NemevÅ¡ek, Miha and SenjanoviÄ\\x87, Goran and Zhang, Yue}']"
      ]
     },
     "execution_count": 3,
     "metadata": {},
     "output_type": "execute_result"
    }
   ],
   "source": [
    "def get_biblio_data(DOI):\n",
    "  base_url = f\"https://doi.org/{DOI}\"\n",
    "  headers = {\"Accept\": \"text/bibliography; style=bibtex\"}\n",
    "  response = requests.get(base_url, headers=headers)\n",
    "\n",
    "  if response.status_code == 200:\n",
    "    bibtex = response.text.strip()\n",
    "  else:\n",
    "    print(response.status_code)\n",
    "    print(response.text)\n",
    "    return None\n",
    "\n",
    "  title_init = bibtex.find('title')\n",
    "  title_end = bibtex.find('}', title_init)\n",
    "  author_init = bibtex.find('author')\n",
    "  author_end = bibtex.find('}', author_init)\n",
    "  \n",
    "  title = bibtex[title_init:title_end+1]\n",
    "  authors = bibtex[author_init:author_end+1]\n",
    "  return [title, authors]\n",
    "\n",
    "DOI = get_doi()\n",
    "print(DOI)\n",
    "get_biblio_data(DOI)"
   ]
  }
 ],
 "metadata": {
  "kernelspec": {
   "display_name": "Python 3",
   "language": "python",
   "name": "python3"
  },
  "language_info": {
   "codemirror_mode": {
    "name": "ipython",
    "version": 3
   },
   "file_extension": ".py",
   "mimetype": "text/x-python",
   "name": "python",
   "nbconvert_exporter": "python",
   "pygments_lexer": "ipython3",
   "version": "3.10.12"
  },
  "orig_nbformat": 4
 },
 "nbformat": 4,
 "nbformat_minor": 2
}
