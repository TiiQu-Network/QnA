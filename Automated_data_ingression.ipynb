{
 "cells": [
  {
   "cell_type": "code",
   "execution_count": 8,
   "metadata": {
    "colab": {
     "base_uri": "https://localhost:8080/"
    },
    "id": "XbATLEMeqDob",
    "outputId": "f29977d2-bddc-44ba-fabd-55bbf75e70f3"
   },
   "outputs": [
    {
     "name": "stdout",
     "output_type": "stream",
     "text": [
      "Requirement already satisfied: boto3 in /usr/local/lib/python3.10/dist-packages (1.28.3)\n",
      "Requirement already satisfied: openai in /usr/local/lib/python3.10/dist-packages (0.27.8)\n",
      "Requirement already satisfied: botocore<1.32.0,>=1.31.3 in /usr/local/lib/python3.10/dist-packages (from boto3) (1.31.3)\n",
      "Requirement already satisfied: jmespath<2.0.0,>=0.7.1 in /usr/local/lib/python3.10/dist-packages (from boto3) (1.0.1)\n",
      "Requirement already satisfied: s3transfer<0.7.0,>=0.6.0 in /usr/local/lib/python3.10/dist-packages (from boto3) (0.6.1)\n",
      "Requirement already satisfied: requests>=2.20 in /usr/local/lib/python3.10/dist-packages (from openai) (2.27.1)\n",
      "Requirement already satisfied: tqdm in /usr/local/lib/python3.10/dist-packages (from openai) (4.65.0)\n",
      "Requirement already satisfied: aiohttp in /usr/local/lib/python3.10/dist-packages (from openai) (3.8.4)\n",
      "Requirement already satisfied: python-dateutil<3.0.0,>=2.1 in /usr/local/lib/python3.10/dist-packages (from botocore<1.32.0,>=1.31.3->boto3) (2.8.2)\n",
      "Requirement already satisfied: urllib3<1.27,>=1.25.4 in /usr/local/lib/python3.10/dist-packages (from botocore<1.32.0,>=1.31.3->boto3) (1.26.16)\n",
      "Requirement already satisfied: certifi>=2017.4.17 in /usr/local/lib/python3.10/dist-packages (from requests>=2.20->openai) (2023.5.7)\n",
      "Requirement already satisfied: charset-normalizer~=2.0.0 in /usr/local/lib/python3.10/dist-packages (from requests>=2.20->openai) (2.0.12)\n",
      "Requirement already satisfied: idna<4,>=2.5 in /usr/local/lib/python3.10/dist-packages (from requests>=2.20->openai) (3.4)\n",
      "Requirement already satisfied: attrs>=17.3.0 in /usr/local/lib/python3.10/dist-packages (from aiohttp->openai) (23.1.0)\n",
      "Requirement already satisfied: multidict<7.0,>=4.5 in /usr/local/lib/python3.10/dist-packages (from aiohttp->openai) (6.0.4)\n",
      "Requirement already satisfied: async-timeout<5.0,>=4.0.0a3 in /usr/local/lib/python3.10/dist-packages (from aiohttp->openai) (4.0.2)\n",
      "Requirement already satisfied: yarl<2.0,>=1.0 in /usr/local/lib/python3.10/dist-packages (from aiohttp->openai) (1.9.2)\n",
      "Requirement already satisfied: frozenlist>=1.1.1 in /usr/local/lib/python3.10/dist-packages (from aiohttp->openai) (1.3.3)\n",
      "Requirement already satisfied: aiosignal>=1.1.2 in /usr/local/lib/python3.10/dist-packages (from aiohttp->openai) (1.3.1)\n",
      "Requirement already satisfied: six>=1.5 in /usr/local/lib/python3.10/dist-packages (from python-dateutil<3.0.0,>=2.1->botocore<1.32.0,>=1.31.3->boto3) (1.16.0)\n"
     ]
    }
   ],
   "source": [
    "!pip install boto3 openai"
   ]
  },
  {
   "cell_type": "code",
   "execution_count": 16,
   "metadata": {
    "id": "sTa8rTO0COB2"
   },
   "outputs": [],
   "source": [
    "# Brand new version to include extract full text content and then generate QnA with saving the excel to S3, also\n",
    "# Import essential libraries\n",
    "import pandas as pd\n",
    "import requests\n",
    "import json\n",
    "import pandas as pd\n",
    "from bs4 import BeautifulSoup\n",
    "import csv\n",
    "import os\n",
    "import openai\n",
    "import boto3\n",
    "from io import BytesIO\n",
    "from io import StringIO\n",
    "import xml.etree.ElementTree as ET\n",
    "from time import sleep\n",
    "\n",
    "# OpenAI Settings\n",
    "# Organization Setting\n",
    "openai.organization = \"\"\n",
    "\n",
    "#OpenAI API Key\n",
    "openai.api_key = ''\n",
    "\n",
    "#data_df = pd.DataFrame(columns=['Title','DOI','Authors','Full_Text_URL','Full_Text_Content'])\n",
    "\n",
    "# Method to generate QnA\n",
    "def get_response(text):\n",
    "    response = openai.Completion.create(\n",
    "      model=\"text-davinci-003\",\n",
    "      prompt=\"Generate 2 analysis or why type of questions and answers on  the following paragraph: \"+text,\n",
    "      temperature=0.9,\n",
    "      max_tokens=160,\n",
    "      top_p=1,\n",
    "      frequency_penalty=1,\n",
    "      presence_penalty=1\n",
    "    )\n",
    "\n",
    "    r = response.choices[0].text\n",
    "    return r\n",
    "\n",
    "def springernature_api(keywords):\n",
    "  #API URL\n",
    "  api_url = \"http://api.springernature.com/\"\n",
    "\n",
    "  #API Key\n",
    "  api_key = \"523d9701c994f13cd90286c9078f295a\"\n",
    "\n",
    "  # Collections - (1) meta (2) metadata (3) openaccess\n",
    "  collection = \"openaccess\"\n",
    "\n",
    "  # Result Format - pam, jats, json, jsonp\n",
    "  result_format = \"json\"\n",
    "\n",
    "  # max result - 10 results if \"p\" parameter is not included\n",
    "  q= \"keyword:\" + keywords\n",
    "  p=100 # max is 100\n",
    "\n",
    "  url = api_url + collection + \"/\" + result_format + \"?api_key=\" + api_key + \"&q=\" + q +\"&p=100\"\n",
    "\n",
    "  response = requests.get(url)\n",
    "  json_response = response.json()\n",
    "\n",
    "  # Retrieve the number and pages of records\n",
    "  no_of_record = json_response[\"result\"][0][\"total\"]\n",
    "  no_of_pages = int(no_of_record)//100\n",
    "  if int(no_of_record)%100!=0:\n",
    "    no_of_pages+=1\n",
    "\n",
    "  url_list_in_pages = []\n",
    "\n",
    "  for pagenum in range(no_of_pages):\n",
    "    s_value = (pagenum*100)+1\n",
    "    url_page = url + \"&s=\" + str(s_value)\n",
    "    url_list_in_pages.append(url_page)\n",
    "\n",
    "\n",
    "  # retrieve resposne from all the pages and urls\n",
    "  for url_list_in_each_page in url_list_in_pages:\n",
    "    each_page_response = requests.get(url_list_in_each_page)\n",
    "    each_page_json_response = each_page_response.json()\n",
    "    each_page_articles = each_page_json_response[\"records\"]\n",
    "    each_page_data_df = pd.DataFrame(columns=['Title','DOI','Authors','Full_Text_URL','Full_Text_Content'])\n",
    "    for each_page_article in each_page_articles:\n",
    "        each_page_title = each_page_article.get(\"title\")\n",
    "        each_page_doi = each_page_article.get(\"doi\")\n",
    "        each_page_creators = each_page_article.get(\"creators\")\n",
    "        each_page_authors = []\n",
    "        for each_page_author in each_page_creators:\n",
    "          each_page_authors.append(each_page_author['creator'])\n",
    "\n",
    "        each_page_full_text_url = each_page_article.get(\"url\")\n",
    "        each_page_full_text_url = each_page_full_text_url[0]['value']\n",
    "\n",
    "\n",
    "        each_page_full_text_response = requests.get(each_page_full_text_url)\n",
    "        soup = BeautifulSoup(each_page_full_text_response.content, 'html.parser')\n",
    "        each_page_full_text_content = soup.find('article').get_text() if soup.find(\"article\") else 'no element available'\n",
    "\n",
    "        # Insert the data into data_df DataFrame\n",
    "        each_page_data_df.loc[len(each_page_data_df)] = [each_page_title,each_page_doi,each_page_authors,each_page_full_text_url, each_page_full_text_content]\n",
    "    sleep(0.3)\n",
    "\n",
    "  return each_page_data_df\n",
    "\n",
    "\n",
    "def solr_api(keywords, api_provider):\n",
    "\n",
    "  keywords_string = '+'.join(keywords)\n",
    "\n",
    "  if api_provider == \"wellcome\":\n",
    "        api_url = \"https://wellcomeopenresearch.org/extapi/search?q=R_FT:\" + keywords_string + \"&wt=json\"\n",
    "  elif api_provider == \"gatesopen\":\n",
    "        api_url = \"https://gatesopenresearch.org/extapi/search?q=R_FT:\" + keywords_string + \"&wt=json\"\n",
    "  elif api_provider == \"f1000\":\n",
    "        api_url = \"https://f1000research.com/extapi/search?q=R_FT:\" + keywords_string + \"&wt=json\"\n",
    "\n",
    "\n",
    "  # Obtain the response and retrieve the total number of pages\n",
    "  response = requests.get(api_url)\n",
    "  data = response.content.decode()\n",
    "  print(f\"data: {data}\")\n",
    "  root = ET.fromstring(data)\n",
    "  total_pages = root.get('totalNumberOfPages')\n",
    "  print(\"Total number of pages: \" + total_pages)\n",
    "\n",
    "\n",
    "  # Extract all DOI items in each page and put to the list - doi_list\n",
    "  doi_list = []\n",
    "  downloaded_dois = set()\n",
    "\n",
    "#This code transfers the content of the doi file and stores in the downloaded_dois set\n",
    "  if os.path.exists(\"downloaded_dois.txt\"):\n",
    "    with open(\"downloaded_dois.txt\", \"r\") as file:\n",
    "        for line in file:\n",
    "            downloaded_dois.add(line.strip())\n",
    "\n",
    "  doi_items = []\n",
    "  for page in range(int(total_pages)):\n",
    "    url = api_url + \"&page=\" + str(page+1)\n",
    "    response_page = requests.get(url)\n",
    "    page_data = response_page.content.decode()\n",
    "    page_root = ET.fromstring(page_data)\n",
    "    doi_items.extend(page_root.findall('doi'))\n",
    "\n",
    "\n",
    "#this stores the doi names in doi variable then adds only the dois not contained in our downloaded_dois set to the downloaded_dois set. hence duplicates cannot be added and then add these unique dois in the doi_list as well.\n",
    "  for doi_element in doi_items:\n",
    "        doi = doi_element.text\n",
    "        if doi not in downloaded_dois:\n",
    "            downloaded_dois.add(doi)\n",
    "            doi_list.append(doi)\n",
    "\n",
    "  # Update the persistent data store file with the newly downloaded DOIs...in othwe words, it adds the dois in the doi_list to the downloaded_dois.txt file\n",
    "  with open(\"downloaded_dois.txt\", \"a\") as file:\n",
    "      for doi in doi_list:\n",
    "          file.write(doi + \"\\n\")\n",
    "          print (\"doi downloaded\")\n",
    "\n",
    "  data_df = pd.DataFrame(columns=['Title','DOI','Authors','Full_Text_URL','Full_Text_Content'])\n",
    "\n",
    "  # Extract the full text content from each DOI link\n",
    "  for doi_list_item in doi_list:\n",
    "\n",
    "    if api_provider==\"wellcome\":\n",
    "      doi_xml_link = \"https://wellcomeopenresearch.org/extapi/article/xml?doi=\"\n",
    "    elif api_provider==\"gatesopen\":\n",
    "      doi_xml_link = \"https://gatesopenresearch.org/extapi/article/xml?doi=\"\n",
    "    elif api_provider==\"f1000\":\n",
    "      doi_xml_link = \"https://f1000research.com/extapi/article/xml?doi=\"\n",
    "\n",
    "    doi_url = doi_xml_link + doi_list_item\n",
    "\n",
    "    doi_page_response = requests.get(doi_url)\n",
    "\n",
    "    if doi_page_response.status_code == 200:\n",
    "      soup = BeautifulSoup(doi_page_response.content, 'html.parser')\n",
    "\n",
    "      full_text_content_element = soup.find('body')\n",
    "      full_text_content = full_text_content_element.get_text() if full_text_content_element else 'Full text content not found'\n",
    "\n",
    "      title_element = soup.find(\"article-title\")\n",
    "      title = title_element.text if title_element else 'Title not found'\n",
    "      print(title)\n",
    "\n",
    "      # Retrieve authors list\n",
    "      authors = []\n",
    "      contribs = soup.find('front').find_all('contrib', {'contrib-type': 'author'}) if soup.find('front') else 'no element available'\n",
    "      # looping through each author element and retrieving surname and given-names\n",
    "      for contrib in contribs:\n",
    "        surname_element = contrib.find('surname')\n",
    "        surname = surname_element.text if surname_element else 'Surname not found'\n",
    "\n",
    "        given_names_element = contrib.find('given-names')\n",
    "        given_names = given_names_element.text if given_names_element else 'Given names not found'\n",
    "\n",
    "\n",
    "        authors.append({surname, given_names})\n",
    "\n",
    "      doi = doi_list_item\n",
    "      full_text_url = doi_url\n",
    "\n",
    "      data_df.loc[len(data_df)] = [title,doi,authors,full_text_url, full_text_content]\n",
    "\n",
    "    else:\n",
    "      title=\"NA\"\n",
    "      doi = doi_list_item\n",
    "      authors=\"NA\"\n",
    "      full_text_url = doi_url\n",
    "      full_text_content=\"NA\"\n",
    "      data_df.loc[len(data_df)] = [title,doi,authors,full_text_url, full_text_content]\n",
    "\n",
    "  print(data_df)\n",
    "  return data_df\n",
    "\n",
    "\n",
    "\n",
    "# Method to ingress data via API\n",
    "# api_provider - Springer nature (springnature), Gates Open Research (gateopen), Wellcome Open Research (wellcome), F1000 Research (f1000)\n",
    "def data_ingression(keywords, api_provider, filename_output):\n",
    "  #provides = api_provider\n",
    "\n",
    "\n",
    "  if api_provider == \"springer\":\n",
    "        data_df = springernature_api(keywords)\n",
    "        print(f\"data_df after calling springernature_api: {data_df}\")\n",
    "  elif api_provider == \"gatesopen\":\n",
    "        data_df = solr_api(keywords, api_provider)\n",
    "        print(f\"data_df after calling solr_api with gatesopen: {data_df}\")\n",
    "  elif api_provider == \"wellcome\":\n",
    "        data_df = solr_api(keywords, api_provider)\n",
    "        print(f\"data_df after calling solr_api with wellcome: {data_df}\")\n",
    "  elif api_provider == \"f1000\":\n",
    "        data_df = solr_api(keywords, api_provider)\n",
    "        print(f\"data_df after calling solr_api with f1000: {data_df}\")\n",
    "  else:\n",
    "        raise ValueError(f\"Invalid api_provider: {api_provider}\")\n",
    "\n",
    "\n",
    "  # Save the DataFrame as a excel file to a temporary buffer\n",
    "  excel_buffer = BytesIO()\n",
    "  data_df.to_excel(excel_buffer, index=False)\n",
    "\n",
    "  # Save the DataFrame as a excel file to a temporary buffer\n",
    "\n",
    "  # S3 Client - Initialization and store the exported the excel file to the S3 Bucket\n",
    "\n",
    "  # TiiQu's key\n",
    "  s3_client = boto3.client('s3', aws_access_key_id='',\n",
    "                          aws_secret_access_key='')\n",
    "\n",
    "\n",
    "  s3_client.put_object(Bucket='tiiqu-openresearch', Key=\"data-ingression/\" + filename_output, Body=excel_buffer.getvalue())\n",
    "\n",
    "  #Convert excel to CSV\n",
    "  #file_obj = s3_client.get_object(Bucket='nhdata2023', \\\\extapi\\\\article\\\\xmlKey=\"data-ingression/\" + filename_output)['Body'].read()\n",
    "  #excel_data = pd.read_excel(file_obj)\n",
    "  #csv_buffer = StringIO()\n",
    " # excel_data.to_csv(csv_buffer, index=False)\n",
    " # s3_client.put_object(Body=csv_buffer.getvalue(), Bucket='nhdata2023', Key=\"data-ingression/\" + filename_output.replace(\".xlsx\",\".csv\"))\n",
    "\n"
   ]
  },
  {
   "cell_type": "code",
   "execution_count": null,
   "metadata": {
    "id": "7wEWO0B7aUxs"
   },
   "outputs": [],
   "source": []
  },
  {
   "cell_type": "code",
   "execution_count": null,
   "metadata": {
    "id": "lVneY1UOEin0"
   },
   "outputs": [],
   "source": []
  },
  {
   "cell_type": "code",
   "execution_count": 23,
   "metadata": {
    "colab": {
     "base_uri": "https://localhost:8080/"
    },
    "id": "Nk06y6WaabWb",
    "outputId": "4e478953-69a2-4c39-e281-43fb58667c9d"
   },
   "outputs": [
    {
     "name": "stdout",
     "output_type": "stream",
     "text": [
      "Current count: 1\n",
      "Filename output: Sustainable+energy_f1000_20230717.xlsx\n",
      "\n",
      "data: <?xml version=\"1.0\" encoding=\"UTF-8\" standalone=\"yes\"?><results numberOfResultsInPage=\"100\" totalNumberOfPages=\"2\"><doi>10.12688/f1000research.2-204.v1</doi><doi>10.12688/f1000research.3-47.v2</doi><doi>10.12688/f1000research.4436.2</doi><doi>10.12688/f1000research.5530.2</doi><doi>10.12688/f1000research.5934.1</doi><doi>10.12688/f1000research.4583.2</doi><doi>10.12688/f1000research.5369.2</doi><doi>10.12688/f1000research.5654.2</doi><doi>10.12688/f1000research.6392.1</doi><doi>10.12688/f1000research.6536.1</doi><doi>10.12688/f1000research.2-71.v3</doi><doi>10.12688/f1000research.5921.2</doi><doi>10.12688/f1000research.7201.1</doi><doi>10.12688/f1000research.7287.1</doi><doi>10.12688/f1000research.7931.1</doi><doi>10.12688/f1000research.7507.2</doi><doi>10.12688/f1000research.7955.2</doi><doi>10.12688/f1000research.7694.2</doi><doi>10.12688/f1000research.8987.2</doi><doi>10.12688/f1000research.9434.1</doi><doi>10.12688/f1000research.9556.1</doi><doi>10.12688/f1000research.8853.2</doi><doi>10.12688/f1000research.8460.3</doi><doi>10.12688/f1000research.9746.1</doi><doi>10.12688/f1000research.9918.1</doi><doi>10.12688/f1000research.9544.2</doi><doi>10.12688/f1000research.11517.1</doi><doi>10.12688/f1000research.12121.1</doi><doi>10.12688/f1000research.12216.1</doi><doi>10.12688/f1000research.9611.3</doi><doi>10.12688/f1000research.10960.2</doi><doi>10.12688/f1000research.12985.2</doi><doi>10.12688/f1000research.12418.2</doi><doi>10.12688/f1000research.14566.2</doi><doi>10.12688/f1000research.13925.3</doi><doi>10.12688/f1000research.13196.2</doi><doi>10.12688/f1000research.15804.2</doi><doi>10.12688/f1000research.14770.3</doi><doi>10.12688/f1000research.17447.1</doi><doi>10.12688/f1000research.14960.2</doi><doi>10.12688/f1000research.17149.2</doi><doi>10.12688/f1000research.17363.2</doi><doi>10.12688/f1000research.18671.2</doi><doi>10.12688/f1000research.18575.2</doi><doi>10.12688/f1000research.19029.2</doi><doi>10.12688/f1000research.21202.1</doi><doi>10.12688/f1000research.19006.2</doi><doi>10.12688/f1000research.11622.4</doi><doi>10.12688/f1000research.19803.2</doi><doi>10.12688/f1000research.17381.2</doi><doi>10.12688/f1000research.21642.2</doi><doi>10.12688/f1000research.19894.2</doi><doi>10.12688/f1000research.24911.1</doi><doi>10.12688/f1000research.25501.1</doi><doi>10.12688/f1000research.25593.1</doi><doi>10.12688/f1000research.21831.2</doi><doi>10.12688/f1000research.6348.2</doi><doi>10.12688/f1000research.19598.5</doi><doi>10.12688/f1000research.20916.2</doi><doi>10.12688/f1000research.16926.3</doi><doi>10.12688/f1000research.26429.2</doi><doi>10.12688/f1000research.24854.2</doi><doi>10.12688/f1000research.51143.1</doi><doi>10.12688/f1000research.51164.1</doi><doi>10.12688/f1000research.24163.2</doi><doi>10.12688/f1000research.52494.1</doi><doi>10.12688/f1000research.53962.1</doi><doi>10.12688/f1000research.28146.2</doi><doi>10.12688/f1000research.74223.1</doi><doi>10.12688/f1000research.54306.2</doi><doi>10.12688/f1000research.51270.2</doi><doi>10.12688/f1000research.27345.3</doi><doi>10.12688/f1000research.52433.3</doi><doi>10.12688/f1000research.54533.2</doi><doi>10.12688/f1000research.75360.1</doi><doi>10.12688/f1000research.73893.2</doi><doi>10.12688/f1000research.76837.1</doi><doi>10.12688/f1000research.108799.1</doi><doi>10.12688/f1000research.109488.1</doi><doi>10.12688/f1000research.109586.1</doi><doi>10.12688/f1000research.75628.2</doi><doi>10.12688/f1000research.73067.2</doi><doi>10.12688/f1000research.111252.1</doi><doi>10.12688/f1000research.117334.1</doi><doi>10.12688/f1000research.122775.1</doi><doi>10.12688/f1000research.26073.2</doi><doi>10.12688/f1000research.124234.1</doi><doi>10.12688/f1000research.124720.1</doi><doi>10.12688/f1000research.125272.1</doi><doi>10.12688/f1000research.75364.2</doi><doi>10.12688/f1000research.26762.2</doi><doi>10.12688/f1000research.125628.2</doi><doi>10.12688/f1000research.54887.5</doi><doi>10.12688/f1000research.122437.2</doi><doi>10.12688/f1000research.130522.1</doi><doi>10.12688/f1000research.125400.2</doi><doi>10.12688/f1000research.130750.1</doi><doi>10.12688/f1000research.131507.1</doi><doi>10.12688/f1000research.129929.2</doi><doi>10.12688/f1000research.132106.2</doi></results>\n",
      "Total number of pages: 2\n",
      "doi downloaded\n",
      "doi downloaded\n",
      "doi downloaded\n"
     ]
    },
    {
     "name": "stderr",
     "output_type": "stream",
     "text": [
      "/usr/local/lib/python3.10/dist-packages/bs4/builder/__init__.py:545: XMLParsedAsHTMLWarning: It looks like you're parsing an XML document using an HTML parser. If this really is an HTML document (maybe it's XHTML?), you can ignore or filter this warning. If it's XML, you should know that using an XML parser will be more reliable. To parse this document as XML, make sure you have the lxml package installed, and pass the keyword argument `features=\"xml\"` into the BeautifulSoup constructor.\n",
      "  warnings.warn(\n"
     ]
    },
    {
     "name": "stdout",
     "output_type": "stream",
     "text": [
      "Determining the \n",
      "                    l\n",
      "                        x\n",
      " and estimating the force of mortality for children under five in Bangladesh\n",
      "ALL-IN meta-analysis: breathing life into living systematic reviews\n"
     ]
    },
    {
     "name": "stderr",
     "output_type": "stream",
     "text": [
      "/usr/local/lib/python3.10/dist-packages/bs4/builder/__init__.py:545: XMLParsedAsHTMLWarning: It looks like you're parsing an XML document using an HTML parser. If this really is an HTML document (maybe it's XHTML?), you can ignore or filter this warning. If it's XML, you should know that using an XML parser will be more reliable. To parse this document as XML, make sure you have the lxml package installed, and pass the keyword argument `features=\"xml\"` into the BeautifulSoup constructor.\n",
      "  warnings.warn(\n"
     ]
    },
    {
     "name": "stdout",
     "output_type": "stream",
     "text": [
      "Epidemiological evidence relating environmental smoke to COPD in lifelong non-smokers: a systematic review\n",
      "                                               Title  \\\n",
      "0  Determining the \\n                    l\\n     ...   \n",
      "1  ALL-IN meta-analysis: breathing life into livi...   \n",
      "2  Epidemiological evidence relating environmenta...   \n",
      "\n",
      "                              DOI  \\\n",
      "0  10.12688/f1000research.21202.1   \n",
      "1  10.12688/f1000research.74223.1   \n",
      "2  10.12688/f1000research.13887.3   \n",
      "\n",
      "                                             Authors  \\\n",
      "0  [{Md. Rafiqul, Islam}, {Rana, Md. Sohel}, {Hos...   \n",
      "1          [{ter Schure, Judith}, {Grünwald, Peter}]   \n",
      "2  [{Lee, Peter N.}, {Barbara A., Forey}, {Kathar...   \n",
      "\n",
      "                                       Full_Text_URL  \\\n",
      "0  https://f1000research.com/extapi/article/xml?d...   \n",
      "1  https://f1000research.com/extapi/article/xml?d...   \n",
      "2  https://f1000research.com/extapi/article/xml?d...   \n",
      "\n",
      "                                   Full_Text_Content  \n",
      "0  \\n\\nAbbreviations\\nANOVA, Analysis of variance...  \n",
      "1  \\n\\n\\nThe scientific response to the coronavir...  \n",
      "2  \\n\\nIntroduction\\nThis systematic review aims ...  \n",
      "data_df after calling solr_api with f1000:                                                Title  \\\n",
      "0  Determining the \\n                    l\\n     ...   \n",
      "1  ALL-IN meta-analysis: breathing life into livi...   \n",
      "2  Epidemiological evidence relating environmenta...   \n",
      "\n",
      "                              DOI  \\\n",
      "0  10.12688/f1000research.21202.1   \n",
      "1  10.12688/f1000research.74223.1   \n",
      "2  10.12688/f1000research.13887.3   \n",
      "\n",
      "                                             Authors  \\\n",
      "0  [{Md. Rafiqul, Islam}, {Rana, Md. Sohel}, {Hos...   \n",
      "1          [{ter Schure, Judith}, {Grünwald, Peter}]   \n",
      "2  [{Lee, Peter N.}, {Barbara A., Forey}, {Kathar...   \n",
      "\n",
      "                                       Full_Text_URL  \\\n",
      "0  https://f1000research.com/extapi/article/xml?d...   \n",
      "1  https://f1000research.com/extapi/article/xml?d...   \n",
      "2  https://f1000research.com/extapi/article/xml?d...   \n",
      "\n",
      "                                   Full_Text_Content  \n",
      "0  \\n\\nAbbreviations\\nANOVA, Analysis of variance...  \n",
      "1  \\n\\n\\nThe scientific response to the coronavir...  \n",
      "2  \\n\\nIntroduction\\nThis systematic review aims ...  \n",
      "Filename output: Sustainable+energy_wellcome_20230717.xlsx\n",
      "\n",
      "data: <?xml version=\"1.0\" encoding=\"UTF-8\" standalone=\"yes\"?><results numberOfResultsInPage=\"77\" totalNumberOfPages=\"1\"><doi>10.12688/wellcomeopenres.12583.3</doi><doi>10.12688/wellcomeopenres.14735.2</doi><doi>10.12688/wellcomeopenres.14655.1</doi><doi>10.12688/wellcomeopenres.11715.1</doi><doi>10.12688/wellcomeopenres.14767.2</doi><doi>10.12688/wellcomeopenres.10284.2</doi><doi>10.12688/wellcomeopenres.10646.1</doi><doi>10.12688/wellcomeopenres.15381.2</doi><doi>10.12688/wellcomeopenres.17261.2</doi><doi>10.12688/wellcomeopenres.15807.2</doi><doi>10.12688/wellcomeopenres.16405.1</doi><doi>10.12688/wellcomeopenres.10036.2</doi><doi>10.12688/wellcomeopenres.18868.1</doi><doi>10.12688/wellcomeopenres.14904.2</doi><doi>10.12688/wellcomeopenres.15919.2</doi><doi>10.12688/wellcomeopenres.15232.2</doi><doi>10.12688/wellcomeopenres.17965.1</doi><doi>10.12688/wellcomeopenres.16068.1</doi><doi>10.12688/wellcomeopenres.15552.2</doi><doi>10.12688/wellcomeopenres.17172.2</doi><doi>10.12688/wellcomeopenres.15893.2</doi><doi>10.12688/wellcomeopenres.17536.1</doi><doi>10.12688/wellcomeopenres.15689.2</doi><doi>10.12688/wellcomeopenres.16734.4</doi><doi>10.12688/wellcomeopenres.17946.1</doi><doi>10.12688/wellcomeopenres.16188.2</doi><doi>10.12688/wellcomeopenres.16106.3</doi><doi>10.12688/wellcomeopenres.17078.1</doi><doi>10.12688/wellcomeopenres.17996.2</doi><doi>10.12688/wellcomeopenres.15058.1</doi><doi>10.12688/wellcomeopenres.16061.1</doi><doi>10.12688/wellcomeopenres.13113.2</doi><doi>10.12688/wellcomeopenres.16069.2</doi><doi>10.12688/wellcomeopenres.12394.1</doi><doi>10.12688/wellcomeopenres.10308.1</doi><doi>10.12688/wellcomeopenres.17736.2</doi><doi>10.12688/wellcomeopenres.18248.2</doi><doi>10.12688/wellcomeopenres.16635.2</doi><doi>10.12688/wellcomeopenres.10269.2</doi><doi>10.12688/wellcomeopenres.16063.2</doi><doi>10.12688/wellcomeopenres.15002.1</doi><doi>10.12688/wellcomeopenres.15729.2</doi><doi>10.12688/wellcomeopenres.14974.2</doi><doi>10.12688/wellcomeopenres.14552.2</doi><doi>10.12688/wellcomeopenres.16661.2</doi><doi>10.12688/wellcomeopenres.18681.1</doi><doi>10.12688/wellcomeopenres.16572.1</doi><doi>10.12688/wellcomeopenres.16299.2</doi><doi>10.12688/wellcomeopenres.16466.2</doi><doi>10.12688/wellcomeopenres.16168.2</doi><doi>10.12688/wellcomeopenres.18251.1</doi><doi>10.12688/wellcomeopenres.17398.2</doi><doi>10.12688/wellcomeopenres.15770.1</doi><doi>10.12688/wellcomeopenres.15531.2</doi><doi>10.12688/wellcomeopenres.16801.2</doi><doi>10.12688/wellcomeopenres.17893.1</doi><doi>10.12688/wellcomeopenres.18742.1</doi><doi>10.12688/wellcomeopenres.17779.1</doi><doi>10.12688/wellcomeopenres.16031.2</doi><doi>10.12688/wellcomeopenres.16283.1</doi><doi>10.12688/wellcomeopenres.16131.2</doi><doi>10.12688/wellcomeopenres.10011.1</doi><doi>10.12688/wellcomeopenres.16597.1</doi><doi>10.12688/wellcomeopenres.11589.4</doi><doi>10.12688/wellcomeopenres.17885.1</doi><doi>10.12688/wellcomeopenres.17661.1</doi><doi>10.12688/wellcomeopenres.10535.3</doi><doi>10.12688/wellcomeopenres.18767.2</doi><doi>10.12688/wellcomeopenres.15108.1</doi><doi>10.12688/wellcomeopenres.16002.2</doi><doi>10.12688/wellcomeopenres.15711.1</doi><doi>10.12688/wellcomeopenres.11926.1</doi><doi>10.12688/wellcomeopenres.12171.1</doi><doi>10.12688/wellcomeopenres.16353.1</doi><doi>10.12688/wellcomeopenres.15421.1</doi><doi>10.12688/wellcomeopenres.17723.1</doi><doi>10.12688/wellcomeopenres.11005.1</doi></results>\n",
      "Total number of pages: 1\n",
      "Empty DataFrame\n",
      "Columns: [Title, DOI, Authors, Full_Text_URL, Full_Text_Content]\n",
      "Index: []\n",
      "data_df after calling solr_api with wellcome: Empty DataFrame\n",
      "Columns: [Title, DOI, Authors, Full_Text_URL, Full_Text_Content]\n",
      "Index: []\n",
      "Filename output: Sustainable+energy_gatesopen_20230717.xlsx\n",
      "\n",
      "data: <?xml version=\"1.0\" encoding=\"UTF-8\" standalone=\"yes\"?><results numberOfResultsInPage=\"6\" totalNumberOfPages=\"1\"><doi>10.12688/gatesopenres.12758.2</doi><doi>10.12688/gatesopenres.12838.2</doi><doi>10.12688/gatesopenres.12928.1</doi><doi>10.12688/gatesopenres.13031.2</doi><doi>10.12688/gatesopenres.13561.1</doi><doi>10.12688/gatesopenres.14041.1</doi></results>\n",
      "Total number of pages: 1\n",
      "Empty DataFrame\n",
      "Columns: [Title, DOI, Authors, Full_Text_URL, Full_Text_Content]\n",
      "Index: []\n",
      "data_df after calling solr_api with gatesopen: Empty DataFrame\n",
      "Columns: [Title, DOI, Authors, Full_Text_URL, Full_Text_Content]\n",
      "Index: []\n",
      "Current count: 2\n",
      "Filename output: Clean+energy_f1000_20230717.xlsx\n",
      "\n",
      "data: <?xml version=\"1.0\" encoding=\"UTF-8\" standalone=\"yes\"?><results numberOfResultsInPage=\"100\" totalNumberOfPages=\"4\"><doi>10.12688/f1000research.1-58.v1</doi><doi>10.12688/f1000research.1-21.v2</doi><doi>10.12688/f1000research.2-204.v1</doi><doi>10.12688/f1000research.3-61.v1</doi><doi>10.12688/f1000research.3-60.v2</doi><doi>10.12688/f1000research.4867.1</doi><doi>10.12688/f1000research.3718.2</doi><doi>10.12688/f1000research.5186.1</doi><doi>10.12688/f1000research.4436.2</doi><doi>10.12688/f1000research.4563.2</doi><doi>10.12688/f1000research.4583.2</doi><doi>10.12688/f1000research.5369.2</doi><doi>10.12688/f1000research.6392.1</doi><doi>10.12688/f1000research.6735.1</doi><doi>10.12688/f1000research.7931.1</doi><doi>10.12688/f1000research.8102.2</doi><doi>10.12688/f1000research.7955.2</doi><doi>10.12688/f1000research.5145.3</doi><doi>10.12688/f1000research.9434.1</doi><doi>10.12688/f1000research.9556.1</doi><doi>10.12688/f1000research.8853.2</doi><doi>10.12688/f1000research.9501.2</doi><doi>10.12688/f1000research.7082.3</doi><doi>10.12688/f1000research.11354.1</doi><doi>10.12688/f1000research.12544.1</doi><doi>10.12688/f1000research.12757.1</doi><doi>10.12688/f1000research.12130.2</doi><doi>10.12688/f1000research.12775.2</doi><doi>10.12688/f1000research.13619.1</doi><doi>10.12688/f1000research.13622.1</doi><doi>10.12688/f1000research.13757.1</doi><doi>10.12688/f1000research.12418.2</doi><doi>10.12688/f1000research.10411.2</doi><doi>10.12688/f1000research.14566.2</doi><doi>10.12688/f1000research.15557.1</doi><doi>10.12688/f1000research.13196.2</doi><doi>10.12688/f1000research.9005.3</doi><doi>10.12688/f1000research.16853.1</doi><doi>10.12688/f1000research.14770.3</doi><doi>10.12688/f1000research.17447.1</doi><doi>10.12688/f1000research.16743.2</doi><doi>10.12688/f1000research.19255.1</doi><doi>10.12688/f1000research.19310.1</doi><doi>10.12688/f1000research.20793.1</doi><doi>10.12688/f1000research.20633.2</doi><doi>10.12688/f1000research.20660.2</doi><doi>10.12688/f1000research.15016.2</doi><doi>10.12688/f1000research.21642.2</doi><doi>10.12688/f1000research.19894.2</doi><doi>10.12688/f1000research.22139.2</doi><doi>10.12688/f1000research.25197.1</doi><doi>10.12688/f1000research.25235.1</doi><doi>10.12688/f1000research.6348.2</doi><doi>10.12688/f1000research.24230.2</doi><doi>10.12688/f1000research.26929.1</doi><doi>10.12688/f1000research.25260.2</doi><doi>10.12688/f1000research.24435.2</doi><doi>10.12688/f1000research.24854.2</doi><doi>10.12688/f1000research.51143.1</doi><doi>10.12688/f1000research.26008.3</doi><doi>10.12688/f1000research.24163.2</doi><doi>10.12688/f1000research.28318.2</doi><doi>10.12688/f1000research.52494.1</doi><doi>10.12688/f1000research.53962.1</doi><doi>10.12688/f1000research.26128.2</doi><doi>10.12688/f1000research.55385.1</doi><doi>10.12688/f1000research.54268.2</doi><doi>10.12688/f1000research.51270.2</doi><doi>10.12688/f1000research.75116.1</doi><doi>10.12688/f1000research.52433.3</doi><doi>10.12688/f1000research.54533.2</doi><doi>10.12688/f1000research.52197.3</doi><doi>10.12688/f1000research.108799.1</doi><doi>10.12688/f1000research.109488.1</doi><doi>10.12688/f1000research.117334.1</doi><doi>10.12688/f1000research.72904.2</doi><doi>10.12688/f1000research.122775.1</doi><doi>10.12688/f1000research.123275.1</doi><doi>10.12688/f1000research.26073.2</doi><doi>10.12688/f1000research.123904.1</doi><doi>10.12688/f1000research.124234.1</doi><doi>10.12688/f1000research.110647.2</doi><doi>10.12688/f1000research.124720.1</doi><doi>10.12688/f1000research.125272.1</doi><doi>10.12688/f1000research.126787.1</doi><doi>10.12688/f1000research.128002.1</doi><doi>10.12688/f1000research.128537.1</doi><doi>10.12688/f1000research.73520.2</doi><doi>10.12688/f1000research.54887.5</doi><doi>10.12688/f1000research.109551.2</doi><doi>10.12688/f1000research.122437.2</doi><doi>10.12688/f1000research.54195.2</doi><doi>10.12688/f1000research.122161.2</doi><doi>10.12688/f1000research.126078.2</doi><doi>10.12688/f1000research.126579.2</doi><doi>10.12688/f1000research.131522.1</doi><doi>10.12688/f1000research.131999.1</doi><doi>10.12688/f1000research.132767.1</doi><doi>10.12688/f1000research.129668.2</doi><doi>10.12688/f1000research.132106.2</doi></results>\n",
      "Total number of pages: 4\n",
      "Empty DataFrame\n",
      "Columns: [Title, DOI, Authors, Full_Text_URL, Full_Text_Content]\n",
      "Index: []\n",
      "data_df after calling solr_api with f1000: Empty DataFrame\n",
      "Columns: [Title, DOI, Authors, Full_Text_URL, Full_Text_Content]\n",
      "Index: []\n",
      "Filename output: Clean+energy_wellcome_20230717.xlsx\n",
      "\n",
      "data: <?xml version=\"1.0\" encoding=\"UTF-8\" standalone=\"yes\"?><results numberOfResultsInPage=\"100\" totalNumberOfPages=\"2\"><doi>10.12688/wellcomeopenres.11715.1</doi><doi>10.12688/wellcomeopenres.12246.1</doi><doi>10.12688/wellcomeopenres.17010.3</doi><doi>10.12688/wellcomeopenres.13828.2</doi><doi>10.12688/wellcomeopenres.18034.1</doi><doi>10.12688/wellcomeopenres.10284.2</doi><doi>10.12688/wellcomeopenres.16380.2</doi><doi>10.12688/wellcomeopenres.10646.1</doi><doi>10.12688/wellcomeopenres.15396.2</doi><doi>10.12688/wellcomeopenres.15974.2</doi><doi>10.12688/wellcomeopenres.17684.2</doi><doi>10.12688/wellcomeopenres.18637.1</doi><doi>10.12688/wellcomeopenres.17261.2</doi><doi>10.12688/wellcomeopenres.15807.2</doi><doi>10.12688/wellcomeopenres.16405.1</doi><doi>10.12688/wellcomeopenres.17964.2</doi><doi>10.12688/wellcomeopenres.10036.2</doi><doi>10.12688/wellcomeopenres.18868.1</doi><doi>10.12688/wellcomeopenres.15606.1</doi><doi>10.12688/wellcomeopenres.16517.2</doi><doi>10.12688/wellcomeopenres.10985.2</doi><doi>10.12688/wellcomeopenres.14193.1</doi><doi>10.12688/wellcomeopenres.15232.2</doi><doi>10.12688/wellcomeopenres.14907.2</doi><doi>10.12688/wellcomeopenres.17965.1</doi><doi>10.12688/wellcomeopenres.17258.2</doi><doi>10.12688/wellcomeopenres.16068.1</doi><doi>10.12688/wellcomeopenres.15552.2</doi><doi>10.12688/wellcomeopenres.15617.3</doi><doi>10.12688/wellcomeopenres.15893.2</doi><doi>10.12688/wellcomeopenres.14709.3</doi><doi>10.12688/wellcomeopenres.17536.1</doi><doi>10.12688/wellcomeopenres.16430.3</doi><doi>10.12688/wellcomeopenres.16734.4</doi><doi>10.12688/wellcomeopenres.16394.2</doi><doi>10.12688/wellcomeopenres.18657.1</doi><doi>10.12688/wellcomeopenres.11253.2</doi><doi>10.12688/wellcomeopenres.15058.1</doi><doi>10.12688/wellcomeopenres.16259.9</doi><doi>10.12688/wellcomeopenres.16061.1</doi><doi>10.12688/wellcomeopenres.14675.1</doi><doi>10.12688/wellcomeopenres.14721.1</doi><doi>10.12688/wellcomeopenres.13888.1</doi><doi>10.12688/wellcomeopenres.17656.1</doi><doi>10.12688/wellcomeopenres.13113.2</doi><doi>10.12688/wellcomeopenres.11854.1</doi><doi>10.12688/wellcomeopenres.17205.1</doi><doi>10.12688/wellcomeopenres.15583.1</doi><doi>10.12688/wellcomeopenres.12394.1</doi><doi>10.12688/wellcomeopenres.10308.1</doi><doi>10.12688/wellcomeopenres.19155.2</doi><doi>10.12688/wellcomeopenres.17736.2</doi><doi>10.12688/wellcomeopenres.14867.2</doi><doi>10.12688/wellcomeopenres.18248.2</doi><doi>10.12688/wellcomeopenres.15992.1</doi><doi>10.12688/wellcomeopenres.12058.1</doi><doi>10.12688/wellcomeopenres.16320.2</doi><doi>10.12688/wellcomeopenres.16635.2</doi><doi>10.12688/wellcomeopenres.10269.2</doi><doi>10.12688/wellcomeopenres.16063.2</doi><doi>10.12688/wellcomeopenres.16153.1</doi><doi>10.12688/wellcomeopenres.15002.1</doi><doi>10.12688/wellcomeopenres.19066.1</doi><doi>10.12688/wellcomeopenres.15729.2</doi><doi>10.12688/wellcomeopenres.14974.2</doi><doi>10.12688/wellcomeopenres.17379.2</doi><doi>10.12688/wellcomeopenres.14073.3</doi><doi>10.12688/wellcomeopenres.15333.2</doi><doi>10.12688/wellcomeopenres.16417.1</doi><doi>10.12688/wellcomeopenres.16661.2</doi><doi>10.12688/wellcomeopenres.18681.1</doi><doi>10.12688/wellcomeopenres.16572.1</doi><doi>10.12688/wellcomeopenres.16466.2</doi><doi>10.12688/wellcomeopenres.16168.2</doi><doi>10.12688/wellcomeopenres.9869.2</doi><doi>10.12688/wellcomeopenres.18251.1</doi><doi>10.12688/wellcomeopenres.14392.1</doi><doi>10.12688/wellcomeopenres.16801.2</doi><doi>10.12688/wellcomeopenres.17893.1</doi><doi>10.12688/wellcomeopenres.18742.1</doi><doi>10.12688/wellcomeopenres.18778.1</doi><doi>10.12688/wellcomeopenres.17779.1</doi><doi>10.12688/wellcomeopenres.16131.2</doi><doi>10.12688/wellcomeopenres.16894.2</doi><doi>10.12688/wellcomeopenres.10011.1</doi><doi>10.12688/wellcomeopenres.18586.2</doi><doi>10.12688/wellcomeopenres.15906.2</doi><doi>10.12688/wellcomeopenres.17885.1</doi><doi>10.12688/wellcomeopenres.16341.2</doi><doi>10.12688/wellcomeopenres.16107.1</doi><doi>10.12688/wellcomeopenres.15108.1</doi><doi>10.12688/wellcomeopenres.15711.1</doi><doi>10.12688/wellcomeopenres.12171.1</doi><doi>10.12688/wellcomeopenres.18826.1</doi><doi>10.12688/wellcomeopenres.15421.1</doi><doi>10.12688/wellcomeopenres.17723.1</doi><doi>10.12688/wellcomeopenres.16889.1</doi><doi>10.12688/wellcomeopenres.12176.2</doi><doi>10.12688/wellcomeopenres.14641.1</doi><doi>10.12688/wellcomeopenres.15968.2</doi></results>\n",
      "Total number of pages: 2\n",
      "doi downloaded\n"
     ]
    },
    {
     "name": "stderr",
     "output_type": "stream",
     "text": [
      "/usr/local/lib/python3.10/dist-packages/bs4/builder/__init__.py:545: XMLParsedAsHTMLWarning: It looks like you're parsing an XML document using an HTML parser. If this really is an HTML document (maybe it's XHTML?), you can ignore or filter this warning. If it's XML, you should know that using an XML parser will be more reliable. To parse this document as XML, make sure you have the lxml package installed, and pass the keyword argument `features=\"xml\"` into the BeautifulSoup constructor.\n",
      "  warnings.warn(\n"
     ]
    },
    {
     "name": "stdout",
     "output_type": "stream",
     "text": [
      "Recovery of metagenomic data from the \n",
      "                    Aedes aegypti microbiome using a reproducible snakemake pipeline: MINUUR\n",
      "                                               Title  \\\n",
      "0  Recovery of metagenomic data from the \\n      ...   \n",
      "\n",
      "                                DOI  \\\n",
      "0  10.12688/wellcomeopenres.19155.2   \n",
      "\n",
      "                                             Authors  \\\n",
      "0  [{Foo, Aidan}, {Cerdeira, Louise}, {Hughes, Gr...   \n",
      "\n",
      "                                       Full_Text_URL  \\\n",
      "0  https://wellcomeopenresearch.org/extapi/articl...   \n",
      "\n",
      "                                   Full_Text_Content  \n",
      "0  \\n\\nIntroduction\\n\\nAedes aegypti is an import...  \n",
      "data_df after calling solr_api with wellcome:                                                Title  \\\n",
      "0  Recovery of metagenomic data from the \\n      ...   \n",
      "\n",
      "                                DOI  \\\n",
      "0  10.12688/wellcomeopenres.19155.2   \n",
      "\n",
      "                                             Authors  \\\n",
      "0  [{Foo, Aidan}, {Cerdeira, Louise}, {Hughes, Gr...   \n",
      "\n",
      "                                       Full_Text_URL  \\\n",
      "0  https://wellcomeopenresearch.org/extapi/articl...   \n",
      "\n",
      "                                   Full_Text_Content  \n",
      "0  \\n\\nIntroduction\\n\\nAedes aegypti is an import...  \n",
      "Filename output: Clean+energy_gatesopen_20230717.xlsx\n",
      "\n",
      "data: <?xml version=\"1.0\" encoding=\"UTF-8\" standalone=\"yes\"?><results numberOfResultsInPage=\"14\" totalNumberOfPages=\"1\"><doi>10.12688/gatesopenres.12758.2</doi><doi>10.12688/gatesopenres.12838.2</doi><doi>10.12688/gatesopenres.13347.2</doi><doi>10.12688/gatesopenres.12928.1</doi><doi>10.12688/gatesopenres.13031.2</doi><doi>10.12688/gatesopenres.13561.1</doi><doi>10.12688/gatesopenres.12772.1</doi><doi>10.12688/gatesopenres.14041.1</doi><doi>10.12688/gatesopenres.13615.1</doi><doi>10.12688/gatesopenres.13171.1</doi><doi>10.12688/gatesopenres.13188.2</doi><doi>10.12688/gatesopenres.13083.2</doi><doi>10.12688/gatesopenres.13137.2</doi><doi>10.12688/gatesopenres.12895.4</doi></results>\n",
      "Total number of pages: 1\n",
      "Empty DataFrame\n",
      "Columns: [Title, DOI, Authors, Full_Text_URL, Full_Text_Content]\n",
      "Index: []\n",
      "data_df after calling solr_api with gatesopen: Empty DataFrame\n",
      "Columns: [Title, DOI, Authors, Full_Text_URL, Full_Text_Content]\n",
      "Index: []\n",
      "Current count: 3\n",
      "Filename output: Green+energy_f1000_20230717.xlsx\n",
      "\n",
      "data: <?xml version=\"1.0\" encoding=\"UTF-8\" standalone=\"yes\"?><results numberOfResultsInPage=\"100\" totalNumberOfPages=\"6\"><doi>10.12688/f1000research.1-58.v1</doi><doi>10.12688/f1000research.1-19.v2</doi><doi>10.12688/f1000research.2-204.v1</doi><doi>10.12688/f1000research.2-234.v1</doi><doi>10.12688/f1000research.3-54.v1</doi><doi>10.12688/f1000research.3-60.v2</doi><doi>10.12688/f1000research.4867.1</doi><doi>10.12688/f1000research.4583.2</doi><doi>10.12688/f1000research.5369.2</doi><doi>10.12688/f1000research.6201.1</doi><doi>10.12688/f1000research.6392.1</doi><doi>10.12688/f1000research.6644.1</doi><doi>10.12688/f1000research.8102.2</doi><doi>10.12688/f1000research.7118.2</doi><doi>10.12688/f1000research.7035.2</doi><doi>10.12688/f1000research.8853.2</doi><doi>10.12688/f1000research.9372.2</doi><doi>10.12688/f1000research.9501.2</doi><doi>10.12688/f1000research.7082.3</doi><doi>10.12688/f1000research.10232.1</doi><doi>10.12688/f1000research.8839.3</doi><doi>10.12688/f1000research.11354.1</doi><doi>10.12688/f1000research.11517.1</doi><doi>10.12688/f1000research.11968.1</doi><doi>10.12688/f1000research.11997.1</doi><doi>10.12688/f1000research.12122.1</doi><doi>10.12688/f1000research.12757.1</doi><doi>10.12688/f1000research.12775.2</doi><doi>10.12688/f1000research.13619.1</doi><doi>10.12688/f1000research.13757.1</doi><doi>10.12688/f1000research.14217.1</doi><doi>10.12688/f1000research.14361.1</doi><doi>10.12688/f1000research.10411.2</doi><doi>10.12688/f1000research.14298.2</doi><doi>10.12688/f1000research.14566.2</doi><doi>10.12688/f1000research.13925.3</doi><doi>10.12688/f1000research.16047.1</doi><doi>10.12688/f1000research.13196.2</doi><doi>10.12688/f1000research.14451.3</doi><doi>10.12688/f1000research.17997.1</doi><doi>10.12688/f1000research.16743.2</doi><doi>10.12688/f1000research.18966.1</doi><doi>10.12688/f1000research.19310.1</doi><doi>10.12688/f1000research.16483.2</doi><doi>10.12688/f1000research.16928.3</doi><doi>10.12688/f1000research.16216.2</doi><doi>10.12688/f1000research.20633.2</doi><doi>10.12688/f1000research.22259.1</doi><doi>10.12688/f1000research.20844.2</doi><doi>10.12688/f1000research.23865.1</doi><doi>10.12688/f1000research.19894.2</doi><doi>10.12688/f1000research.6348.2</doi><doi>10.12688/f1000research.24187.2</doi><doi>10.12688/f1000research.25260.2</doi><doi>10.12688/f1000research.24532.2</doi><doi>10.12688/f1000research.22242.2</doi><doi>10.12688/f1000research.28023.1</doi><doi>10.12688/f1000research.51143.1</doi><doi>10.12688/f1000research.24163.2</doi><doi>10.12688/f1000research.52494.1</doi><doi>10.12688/f1000research.27324.2</doi><doi>10.12688/f1000research.53962.1</doi><doi>10.12688/f1000research.54990.1</doi><doi>10.12688/f1000research.26128.2</doi><doi>10.12688/f1000research.55385.1</doi><doi>10.12688/f1000research.54268.2</doi><doi>10.12688/f1000research.72865.1</doi><doi>10.12688/f1000research.72986.1</doi><doi>10.12688/f1000research.73141.1</doi><doi>10.12688/f1000research.22039.3</doi><doi>10.12688/f1000research.74416.1</doi><doi>10.12688/f1000research.70650.3</doi><doi>10.12688/f1000research.75116.1</doi><doi>10.12688/f1000research.54533.2</doi><doi>10.12688/f1000research.28297.2</doi><doi>10.12688/f1000research.73893.2</doi><doi>10.12688/f1000research.52197.3</doi><doi>10.12688/f1000research.108799.1</doi><doi>10.12688/f1000research.72904.2</doi><doi>10.12688/f1000research.53961.3</doi><doi>10.12688/f1000research.122775.1</doi><doi>10.12688/f1000research.26167.3</doi><doi>10.12688/f1000research.123904.1</doi><doi>10.12688/f1000research.124234.1</doi><doi>10.12688/f1000research.110647.2</doi><doi>10.12688/f1000research.124720.1</doi><doi>10.12688/f1000research.124917.1</doi><doi>10.12688/f1000research.126839.1</doi><doi>10.12688/f1000research.127810.1</doi><doi>10.12688/f1000research.128002.1</doi><doi>10.12688/f1000research.122491.2</doi><doi>10.12688/f1000research.128537.1</doi><doi>10.12688/f1000research.122437.2</doi><doi>10.12688/f1000research.54195.2</doi><doi>10.12688/f1000research.108648.2</doi><doi>10.12688/f1000research.130458.1</doi><doi>10.12688/f1000research.125400.2</doi><doi>10.12688/f1000research.126579.2</doi><doi>10.12688/f1000research.131522.1</doi><doi>10.12688/f1000research.104368.3</doi></results>\n",
      "Total number of pages: 6\n",
      "doi downloaded\n",
      "doi downloaded\n",
      "doi downloaded\n",
      "doi downloaded\n",
      "doi downloaded\n",
      "doi downloaded\n",
      "doi downloaded\n",
      "doi downloaded\n",
      "doi downloaded\n",
      "doi downloaded\n",
      "doi downloaded\n",
      "doi downloaded\n",
      "doi downloaded\n",
      "doi downloaded\n",
      "doi downloaded\n",
      "doi downloaded\n",
      "doi downloaded\n",
      "doi downloaded\n",
      "doi downloaded\n",
      "doi downloaded\n",
      "doi downloaded\n",
      "doi downloaded\n",
      "doi downloaded\n",
      "doi downloaded\n",
      "doi downloaded\n",
      "doi downloaded\n",
      "doi downloaded\n",
      "doi downloaded\n",
      "doi downloaded\n",
      "doi downloaded\n",
      "doi downloaded\n",
      "doi downloaded\n",
      "doi downloaded\n",
      "doi downloaded\n",
      "doi downloaded\n",
      "doi downloaded\n",
      "doi downloaded\n",
      "doi downloaded\n",
      "doi downloaded\n",
      "doi downloaded\n",
      "doi downloaded\n",
      "doi downloaded\n",
      "doi downloaded\n",
      "doi downloaded\n",
      "doi downloaded\n",
      "doi downloaded\n",
      "doi downloaded\n",
      "doi downloaded\n",
      "doi downloaded\n",
      "doi downloaded\n",
      "doi downloaded\n",
      "doi downloaded\n",
      "doi downloaded\n",
      "doi downloaded\n",
      "doi downloaded\n",
      "doi downloaded\n",
      "doi downloaded\n",
      "doi downloaded\n",
      "doi downloaded\n",
      "doi downloaded\n",
      "doi downloaded\n",
      "doi downloaded\n",
      "doi downloaded\n",
      "doi downloaded\n",
      "doi downloaded\n",
      "doi downloaded\n",
      "doi downloaded\n",
      "doi downloaded\n",
      "doi downloaded\n",
      "doi downloaded\n",
      "doi downloaded\n",
      "doi downloaded\n",
      "doi downloaded\n",
      "doi downloaded\n",
      "doi downloaded\n",
      "doi downloaded\n",
      "doi downloaded\n",
      "doi downloaded\n",
      "doi downloaded\n",
      "doi downloaded\n",
      "doi downloaded\n",
      "doi downloaded\n",
      "doi downloaded\n"
     ]
    },
    {
     "name": "stderr",
     "output_type": "stream",
     "text": [
      "/usr/local/lib/python3.10/dist-packages/bs4/builder/__init__.py:545: XMLParsedAsHTMLWarning: It looks like you're parsing an XML document using an HTML parser. If this really is an HTML document (maybe it's XHTML?), you can ignore or filter this warning. If it's XML, you should know that using an XML parser will be more reliable. To parse this document as XML, make sure you have the lxml package installed, and pass the keyword argument `features=\"xml\"` into the BeautifulSoup constructor.\n",
      "  warnings.warn(\n"
     ]
    },
    {
     "name": "stdout",
     "output_type": "stream",
     "text": [
      "Integrating small population effects on both detection and persistence probabilities in the design and interpretation of presence/absence surveys.\n",
      "Effect of rice variety and blending proportion on the proximate compositions, minerals and phytic acid contents of bread from rice-teff blend\n"
     ]
    },
    {
     "name": "stderr",
     "output_type": "stream",
     "text": [
      "/usr/local/lib/python3.10/dist-packages/bs4/builder/__init__.py:545: XMLParsedAsHTMLWarning: It looks like you're parsing an XML document using an HTML parser. If this really is an HTML document (maybe it's XHTML?), you can ignore or filter this warning. If it's XML, you should know that using an XML parser will be more reliable. To parse this document as XML, make sure you have the lxml package installed, and pass the keyword argument `features=\"xml\"` into the BeautifulSoup constructor.\n",
      "  warnings.warn(\n"
     ]
    },
    {
     "name": "stdout",
     "output_type": "stream",
     "text": [
      "Constellation Map: Downstream visualization and interpretation of gene set enrichment results\n"
     ]
    },
    {
     "name": "stderr",
     "output_type": "stream",
     "text": [
      "/usr/local/lib/python3.10/dist-packages/bs4/builder/__init__.py:545: XMLParsedAsHTMLWarning: It looks like you're parsing an XML document using an HTML parser. If this really is an HTML document (maybe it's XHTML?), you can ignore or filter this warning. If it's XML, you should know that using an XML parser will be more reliable. To parse this document as XML, make sure you have the lxml package installed, and pass the keyword argument `features=\"xml\"` into the BeautifulSoup constructor.\n",
      "  warnings.warn(\n"
     ]
    },
    {
     "name": "stdout",
     "output_type": "stream",
     "text": [
      "DREAMTools: a Python package for scoring collaborative challenges\n"
     ]
    },
    {
     "name": "stderr",
     "output_type": "stream",
     "text": [
      "/usr/local/lib/python3.10/dist-packages/bs4/builder/__init__.py:545: XMLParsedAsHTMLWarning: It looks like you're parsing an XML document using an HTML parser. If this really is an HTML document (maybe it's XHTML?), you can ignore or filter this warning. If it's XML, you should know that using an XML parser will be more reliable. To parse this document as XML, make sure you have the lxml package installed, and pass the keyword argument `features=\"xml\"` into the BeautifulSoup constructor.\n",
      "  warnings.warn(\n"
     ]
    },
    {
     "name": "stdout",
     "output_type": "stream",
     "text": [
      "South-East Asian strains of \n",
      "                    Plasmodium falciparum display higher ratio of non-synonymous to synonymous polymorphisms compared to African strains\n"
     ]
    },
    {
     "name": "stderr",
     "output_type": "stream",
     "text": [
      "/usr/local/lib/python3.10/dist-packages/bs4/builder/__init__.py:545: XMLParsedAsHTMLWarning: It looks like you're parsing an XML document using an HTML parser. If this really is an HTML document (maybe it's XHTML?), you can ignore or filter this warning. If it's XML, you should know that using an XML parser will be more reliable. To parse this document as XML, make sure you have the lxml package installed, and pass the keyword argument `features=\"xml\"` into the BeautifulSoup constructor.\n",
      "  warnings.warn(\n"
     ]
    },
    {
     "name": "stdout",
     "output_type": "stream",
     "text": [
      "Approaches to R education in Canadian universities\n"
     ]
    },
    {
     "name": "stderr",
     "output_type": "stream",
     "text": [
      "/usr/local/lib/python3.10/dist-packages/bs4/builder/__init__.py:545: XMLParsedAsHTMLWarning: It looks like you're parsing an XML document using an HTML parser. If this really is an HTML document (maybe it's XHTML?), you can ignore or filter this warning. If it's XML, you should know that using an XML parser will be more reliable. To parse this document as XML, make sure you have the lxml package installed, and pass the keyword argument `features=\"xml\"` into the BeautifulSoup constructor.\n",
      "  warnings.warn(\n"
     ]
    },
    {
     "name": "stdout",
     "output_type": "stream",
     "text": [
      "ShinyDiversity - Understanding Alpha and Beta Diversity through Interactive Visualizations\n"
     ]
    },
    {
     "name": "stderr",
     "output_type": "stream",
     "text": [
      "/usr/local/lib/python3.10/dist-packages/bs4/builder/__init__.py:545: XMLParsedAsHTMLWarning: It looks like you're parsing an XML document using an HTML parser. If this really is an HTML document (maybe it's XHTML?), you can ignore or filter this warning. If it's XML, you should know that using an XML parser will be more reliable. To parse this document as XML, make sure you have the lxml package installed, and pass the keyword argument `features=\"xml\"` into the BeautifulSoup constructor.\n",
      "  warnings.warn(\n"
     ]
    },
    {
     "name": "stdout",
     "output_type": "stream",
     "text": [
      "\n",
      "methyvim: Targeted, robust, and model-free differential methylation analysis in R\n"
     ]
    },
    {
     "name": "stderr",
     "output_type": "stream",
     "text": [
      "/usr/local/lib/python3.10/dist-packages/bs4/builder/__init__.py:545: XMLParsedAsHTMLWarning: It looks like you're parsing an XML document using an HTML parser. If this really is an HTML document (maybe it's XHTML?), you can ignore or filter this warning. If it's XML, you should know that using an XML parser will be more reliable. To parse this document as XML, make sure you have the lxml package installed, and pass the keyword argument `features=\"xml\"` into the BeautifulSoup constructor.\n",
      "  warnings.warn(\n"
     ]
    },
    {
     "name": "stdout",
     "output_type": "stream",
     "text": [
      "Predicting lithium treatment response in bipolar patients using gender-specific gene expression biomarkers and machine learning\n"
     ]
    },
    {
     "name": "stderr",
     "output_type": "stream",
     "text": [
      "/usr/local/lib/python3.10/dist-packages/bs4/builder/__init__.py:545: XMLParsedAsHTMLWarning: It looks like you're parsing an XML document using an HTML parser. If this really is an HTML document (maybe it's XHTML?), you can ignore or filter this warning. If it's XML, you should know that using an XML parser will be more reliable. To parse this document as XML, make sure you have the lxml package installed, and pass the keyword argument `features=\"xml\"` into the BeautifulSoup constructor.\n",
      "  warnings.warn(\n"
     ]
    },
    {
     "name": "stdout",
     "output_type": "stream",
     "text": [
      "Optimized functional annotation of ChIP-seq data\n"
     ]
    },
    {
     "name": "stderr",
     "output_type": "stream",
     "text": [
      "/usr/local/lib/python3.10/dist-packages/bs4/builder/__init__.py:545: XMLParsedAsHTMLWarning: It looks like you're parsing an XML document using an HTML parser. If this really is an HTML document (maybe it's XHTML?), you can ignore or filter this warning. If it's XML, you should know that using an XML parser will be more reliable. To parse this document as XML, make sure you have the lxml package installed, and pass the keyword argument `features=\"xml\"` into the BeautifulSoup constructor.\n",
      "  warnings.warn(\n"
     ]
    },
    {
     "name": "stdout",
     "output_type": "stream",
     "text": [
      "Feature selection with the R package \n",
      "                    MXM\n",
      "\n"
     ]
    },
    {
     "name": "stderr",
     "output_type": "stream",
     "text": [
      "/usr/local/lib/python3.10/dist-packages/bs4/builder/__init__.py:545: XMLParsedAsHTMLWarning: It looks like you're parsing an XML document using an HTML parser. If this really is an HTML document (maybe it's XHTML?), you can ignore or filter this warning. If it's XML, you should know that using an XML parser will be more reliable. To parse this document as XML, make sure you have the lxml package installed, and pass the keyword argument `features=\"xml\"` into the BeautifulSoup constructor.\n",
      "  warnings.warn(\n"
     ]
    },
    {
     "name": "stdout",
     "output_type": "stream",
     "text": [
      "Impact of diagnostic accuracy on the estimation of excess mortality from incidence and prevalence: simulation study and application to diabetes in German men\n"
     ]
    },
    {
     "name": "stderr",
     "output_type": "stream",
     "text": [
      "/usr/local/lib/python3.10/dist-packages/bs4/builder/__init__.py:545: XMLParsedAsHTMLWarning: It looks like you're parsing an XML document using an HTML parser. If this really is an HTML document (maybe it's XHTML?), you can ignore or filter this warning. If it's XML, you should know that using an XML parser will be more reliable. To parse this document as XML, make sure you have the lxml package installed, and pass the keyword argument `features=\"xml\"` into the BeautifulSoup constructor.\n",
      "  warnings.warn(\n"
     ]
    },
    {
     "name": "stdout",
     "output_type": "stream",
     "text": [
      "Studying the prominence effect amid the COVID-19 crisis: implications for public health policy decision-making.\n"
     ]
    },
    {
     "name": "stderr",
     "output_type": "stream",
     "text": [
      "/usr/local/lib/python3.10/dist-packages/bs4/builder/__init__.py:545: XMLParsedAsHTMLWarning: It looks like you're parsing an XML document using an HTML parser. If this really is an HTML document (maybe it's XHTML?), you can ignore or filter this warning. If it's XML, you should know that using an XML parser will be more reliable. To parse this document as XML, make sure you have the lxml package installed, and pass the keyword argument `features=\"xml\"` into the BeautifulSoup constructor.\n",
      "  warnings.warn(\n"
     ]
    },
    {
     "name": "stdout",
     "output_type": "stream",
     "text": [
      "Exploratory graph analysis of the network data of the Ethereum blockchain\n"
     ]
    },
    {
     "name": "stderr",
     "output_type": "stream",
     "text": [
      "/usr/local/lib/python3.10/dist-packages/bs4/builder/__init__.py:545: XMLParsedAsHTMLWarning: It looks like you're parsing an XML document using an HTML parser. If this really is an HTML document (maybe it's XHTML?), you can ignore or filter this warning. If it's XML, you should know that using an XML parser will be more reliable. To parse this document as XML, make sure you have the lxml package installed, and pass the keyword argument `features=\"xml\"` into the BeautifulSoup constructor.\n",
      "  warnings.warn(\n"
     ]
    },
    {
     "name": "stdout",
     "output_type": "stream",
     "text": [
      "Intrinsic negative feedback as a limiting factor for the evolution of higher forms of intelligence\n"
     ]
    },
    {
     "name": "stderr",
     "output_type": "stream",
     "text": [
      "/usr/local/lib/python3.10/dist-packages/bs4/builder/__init__.py:545: XMLParsedAsHTMLWarning: It looks like you're parsing an XML document using an HTML parser. If this really is an HTML document (maybe it's XHTML?), you can ignore or filter this warning. If it's XML, you should know that using an XML parser will be more reliable. To parse this document as XML, make sure you have the lxml package installed, and pass the keyword argument `features=\"xml\"` into the BeautifulSoup constructor.\n",
      "  warnings.warn(\n"
     ]
    },
    {
     "name": "stdout",
     "output_type": "stream",
     "text": [
      "Investigating the effect of e-cigarette use on quitting smoking in adults aged 25 years or more using the PATH study\n"
     ]
    },
    {
     "name": "stderr",
     "output_type": "stream",
     "text": [
      "/usr/local/lib/python3.10/dist-packages/bs4/builder/__init__.py:545: XMLParsedAsHTMLWarning: It looks like you're parsing an XML document using an HTML parser. If this really is an HTML document (maybe it's XHTML?), you can ignore or filter this warning. If it's XML, you should know that using an XML parser will be more reliable. To parse this document as XML, make sure you have the lxml package installed, and pass the keyword argument `features=\"xml\"` into the BeautifulSoup constructor.\n",
      "  warnings.warn(\n"
     ]
    },
    {
     "name": "stdout",
     "output_type": "stream",
     "text": [
      "Sample size variation in single-time post-dose assessment \n",
      "                    vs multi-time post-dose assessment\n"
     ]
    },
    {
     "name": "stderr",
     "output_type": "stream",
     "text": [
      "/usr/local/lib/python3.10/dist-packages/bs4/builder/__init__.py:545: XMLParsedAsHTMLWarning: It looks like you're parsing an XML document using an HTML parser. If this really is an HTML document (maybe it's XHTML?), you can ignore or filter this warning. If it's XML, you should know that using an XML parser will be more reliable. To parse this document as XML, make sure you have the lxml package installed, and pass the keyword argument `features=\"xml\"` into the BeautifulSoup constructor.\n",
      "  warnings.warn(\n"
     ]
    },
    {
     "name": "stdout",
     "output_type": "stream",
     "text": [
      "The ‘SAR Matrix’ method and its extensions for applications in medicinal chemistry and chemogenomics\n"
     ]
    },
    {
     "name": "stderr",
     "output_type": "stream",
     "text": [
      "/usr/local/lib/python3.10/dist-packages/bs4/builder/__init__.py:545: XMLParsedAsHTMLWarning: It looks like you're parsing an XML document using an HTML parser. If this really is an HTML document (maybe it's XHTML?), you can ignore or filter this warning. If it's XML, you should know that using an XML parser will be more reliable. To parse this document as XML, make sure you have the lxml package installed, and pass the keyword argument `features=\"xml\"` into the BeautifulSoup constructor.\n",
      "  warnings.warn(\n"
     ]
    },
    {
     "name": "stdout",
     "output_type": "stream",
     "text": [
      "\n",
      "IncucyteDRC: An R package for the dose response analysis of live cell imaging data\n"
     ]
    },
    {
     "name": "stderr",
     "output_type": "stream",
     "text": [
      "/usr/local/lib/python3.10/dist-packages/bs4/builder/__init__.py:545: XMLParsedAsHTMLWarning: It looks like you're parsing an XML document using an HTML parser. If this really is an HTML document (maybe it's XHTML?), you can ignore or filter this warning. If it's XML, you should know that using an XML parser will be more reliable. To parse this document as XML, make sure you have the lxml package installed, and pass the keyword argument `features=\"xml\"` into the BeautifulSoup constructor.\n",
      "  warnings.warn(\n"
     ]
    },
    {
     "name": "stdout",
     "output_type": "stream",
     "text": [
      "An adaptable toolkit to assess commercial fishery costs and benefits related to marine protected area network design\n"
     ]
    },
    {
     "name": "stderr",
     "output_type": "stream",
     "text": [
      "/usr/local/lib/python3.10/dist-packages/bs4/builder/__init__.py:545: XMLParsedAsHTMLWarning: It looks like you're parsing an XML document using an HTML parser. If this really is an HTML document (maybe it's XHTML?), you can ignore or filter this warning. If it's XML, you should know that using an XML parser will be more reliable. To parse this document as XML, make sure you have the lxml package installed, and pass the keyword argument `features=\"xml\"` into the BeautifulSoup constructor.\n",
      "  warnings.warn(\n"
     ]
    },
    {
     "name": "stdout",
     "output_type": "stream",
     "text": [
      "Spatial intratumoural heterogeneity in the expression of GIT1 is associated with poor prognostic outcome in oestrogen receptor positive breast cancer patients with synchronous lymph node metastases\n"
     ]
    },
    {
     "name": "stderr",
     "output_type": "stream",
     "text": [
      "/usr/local/lib/python3.10/dist-packages/bs4/builder/__init__.py:545: XMLParsedAsHTMLWarning: It looks like you're parsing an XML document using an HTML parser. If this really is an HTML document (maybe it's XHTML?), you can ignore or filter this warning. If it's XML, you should know that using an XML parser will be more reliable. To parse this document as XML, make sure you have the lxml package installed, and pass the keyword argument `features=\"xml\"` into the BeautifulSoup constructor.\n",
      "  warnings.warn(\n"
     ]
    },
    {
     "name": "stdout",
     "output_type": "stream",
     "text": [
      "The unhappy postdoc: a survey based study\n"
     ]
    },
    {
     "name": "stderr",
     "output_type": "stream",
     "text": [
      "/usr/local/lib/python3.10/dist-packages/bs4/builder/__init__.py:545: XMLParsedAsHTMLWarning: It looks like you're parsing an XML document using an HTML parser. If this really is an HTML document (maybe it's XHTML?), you can ignore or filter this warning. If it's XML, you should know that using an XML parser will be more reliable. To parse this document as XML, make sure you have the lxml package installed, and pass the keyword argument `features=\"xml\"` into the BeautifulSoup constructor.\n",
      "  warnings.warn(\n"
     ]
    },
    {
     "name": "stdout",
     "output_type": "stream",
     "text": [
      "Visualizing balances of compositional data: A new alternative to balance dendrograms\n"
     ]
    },
    {
     "name": "stderr",
     "output_type": "stream",
     "text": [
      "/usr/local/lib/python3.10/dist-packages/bs4/builder/__init__.py:545: XMLParsedAsHTMLWarning: It looks like you're parsing an XML document using an HTML parser. If this really is an HTML document (maybe it's XHTML?), you can ignore or filter this warning. If it's XML, you should know that using an XML parser will be more reliable. To parse this document as XML, make sure you have the lxml package installed, and pass the keyword argument `features=\"xml\"` into the BeautifulSoup constructor.\n",
      "  warnings.warn(\n"
     ]
    },
    {
     "name": "stdout",
     "output_type": "stream",
     "text": [
      "Do funding applications where peer reviewers disagree have higher citations? A cross-sectional study.\n"
     ]
    },
    {
     "name": "stderr",
     "output_type": "stream",
     "text": [
      "/usr/local/lib/python3.10/dist-packages/bs4/builder/__init__.py:545: XMLParsedAsHTMLWarning: It looks like you're parsing an XML document using an HTML parser. If this really is an HTML document (maybe it's XHTML?), you can ignore or filter this warning. If it's XML, you should know that using an XML parser will be more reliable. To parse this document as XML, make sure you have the lxml package installed, and pass the keyword argument `features=\"xml\"` into the BeautifulSoup constructor.\n",
      "  warnings.warn(\n"
     ]
    },
    {
     "name": "stdout",
     "output_type": "stream",
     "text": [
      "A hands-on introduction to querying evolutionary relationships across multiple data sources using SPARQL\n"
     ]
    },
    {
     "name": "stderr",
     "output_type": "stream",
     "text": [
      "/usr/local/lib/python3.10/dist-packages/bs4/builder/__init__.py:545: XMLParsedAsHTMLWarning: It looks like you're parsing an XML document using an HTML parser. If this really is an HTML document (maybe it's XHTML?), you can ignore or filter this warning. If it's XML, you should know that using an XML parser will be more reliable. To parse this document as XML, make sure you have the lxml package installed, and pass the keyword argument `features=\"xml\"` into the BeautifulSoup constructor.\n",
      "  warnings.warn(\n"
     ]
    },
    {
     "name": "stdout",
     "output_type": "stream",
     "text": [
      "Treatment profiles and trajectories surrounding the diagnosis of major depressive disorder: a research protocol for a Danish register-based study.\n"
     ]
    },
    {
     "name": "stderr",
     "output_type": "stream",
     "text": [
      "/usr/local/lib/python3.10/dist-packages/bs4/builder/__init__.py:545: XMLParsedAsHTMLWarning: It looks like you're parsing an XML document using an HTML parser. If this really is an HTML document (maybe it's XHTML?), you can ignore or filter this warning. If it's XML, you should know that using an XML parser will be more reliable. To parse this document as XML, make sure you have the lxml package installed, and pass the keyword argument `features=\"xml\"` into the BeautifulSoup constructor.\n",
      "  warnings.warn(\n"
     ]
    },
    {
     "name": "stdout",
     "output_type": "stream",
     "text": [
      "Performance measurement of university-industry collaboration in the technology transfer process: A systematic literature review\n"
     ]
    },
    {
     "name": "stderr",
     "output_type": "stream",
     "text": [
      "/usr/local/lib/python3.10/dist-packages/bs4/builder/__init__.py:545: XMLParsedAsHTMLWarning: It looks like you're parsing an XML document using an HTML parser. If this really is an HTML document (maybe it's XHTML?), you can ignore or filter this warning. If it's XML, you should know that using an XML parser will be more reliable. To parse this document as XML, make sure you have the lxml package installed, and pass the keyword argument `features=\"xml\"` into the BeautifulSoup constructor.\n",
      "  warnings.warn(\n"
     ]
    },
    {
     "name": "stdout",
     "output_type": "stream",
     "text": [
      "Does the autism phenotype differ when selecting groups by neurodevelopmental versus genetic diagnosis? An observational study comparing autism and sex chromosome trisomy\n"
     ]
    },
    {
     "name": "stderr",
     "output_type": "stream",
     "text": [
      "/usr/local/lib/python3.10/dist-packages/bs4/builder/__init__.py:545: XMLParsedAsHTMLWarning: It looks like you're parsing an XML document using an HTML parser. If this really is an HTML document (maybe it's XHTML?), you can ignore or filter this warning. If it's XML, you should know that using an XML parser will be more reliable. To parse this document as XML, make sure you have the lxml package installed, and pass the keyword argument `features=\"xml\"` into the BeautifulSoup constructor.\n",
      "  warnings.warn(\n"
     ]
    },
    {
     "name": "stdout",
     "output_type": "stream",
     "text": [
      "Robustness of the aging effect of smiling against vertical facial orientation\n"
     ]
    },
    {
     "name": "stderr",
     "output_type": "stream",
     "text": [
      "/usr/local/lib/python3.10/dist-packages/bs4/builder/__init__.py:545: XMLParsedAsHTMLWarning: It looks like you're parsing an XML document using an HTML parser. If this really is an HTML document (maybe it's XHTML?), you can ignore or filter this warning. If it's XML, you should know that using an XML parser will be more reliable. To parse this document as XML, make sure you have the lxml package installed, and pass the keyword argument `features=\"xml\"` into the BeautifulSoup constructor.\n",
      "  warnings.warn(\n"
     ]
    },
    {
     "name": "stdout",
     "output_type": "stream",
     "text": [
      "Data publication consensus and controversies\n"
     ]
    },
    {
     "name": "stderr",
     "output_type": "stream",
     "text": [
      "/usr/local/lib/python3.10/dist-packages/bs4/builder/__init__.py:545: XMLParsedAsHTMLWarning: It looks like you're parsing an XML document using an HTML parser. If this really is an HTML document (maybe it's XHTML?), you can ignore or filter this warning. If it's XML, you should know that using an XML parser will be more reliable. To parse this document as XML, make sure you have the lxml package installed, and pass the keyword argument `features=\"xml\"` into the BeautifulSoup constructor.\n",
      "  warnings.warn(\n"
     ]
    },
    {
     "name": "stdout",
     "output_type": "stream",
     "text": [
      "F1000Prime: an analysis of discipline-specific reader data from Mendeley\n"
     ]
    },
    {
     "name": "stderr",
     "output_type": "stream",
     "text": [
      "/usr/local/lib/python3.10/dist-packages/bs4/builder/__init__.py:545: XMLParsedAsHTMLWarning: It looks like you're parsing an XML document using an HTML parser. If this really is an HTML document (maybe it's XHTML?), you can ignore or filter this warning. If it's XML, you should know that using an XML parser will be more reliable. To parse this document as XML, make sure you have the lxml package installed, and pass the keyword argument `features=\"xml\"` into the BeautifulSoup constructor.\n",
      "  warnings.warn(\n"
     ]
    },
    {
     "name": "stdout",
     "output_type": "stream",
     "text": [
      "The Resource Identification Initiative: A cultural shift in publishing\n"
     ]
    },
    {
     "name": "stderr",
     "output_type": "stream",
     "text": [
      "/usr/local/lib/python3.10/dist-packages/bs4/builder/__init__.py:545: XMLParsedAsHTMLWarning: It looks like you're parsing an XML document using an HTML parser. If this really is an HTML document (maybe it's XHTML?), you can ignore or filter this warning. If it's XML, you should know that using an XML parser will be more reliable. To parse this document as XML, make sure you have the lxml package installed, and pass the keyword argument `features=\"xml\"` into the BeautifulSoup constructor.\n",
      "  warnings.warn(\n"
     ]
    },
    {
     "name": "stdout",
     "output_type": "stream",
     "text": [
      "Shark fisheries in the Southeast Pacific: A 61-year analysis from Peru\n"
     ]
    },
    {
     "name": "stderr",
     "output_type": "stream",
     "text": [
      "/usr/local/lib/python3.10/dist-packages/bs4/builder/__init__.py:545: XMLParsedAsHTMLWarning: It looks like you're parsing an XML document using an HTML parser. If this really is an HTML document (maybe it's XHTML?), you can ignore or filter this warning. If it's XML, you should know that using an XML parser will be more reliable. To parse this document as XML, make sure you have the lxml package installed, and pass the keyword argument `features=\"xml\"` into the BeautifulSoup constructor.\n",
      "  warnings.warn(\n"
     ]
    },
    {
     "name": "stdout",
     "output_type": "stream",
     "text": [
      "Increased abundance of ADAM9 transcripts in the blood is associated with tissue damage\n"
     ]
    },
    {
     "name": "stderr",
     "output_type": "stream",
     "text": [
      "/usr/local/lib/python3.10/dist-packages/bs4/builder/__init__.py:545: XMLParsedAsHTMLWarning: It looks like you're parsing an XML document using an HTML parser. If this really is an HTML document (maybe it's XHTML?), you can ignore or filter this warning. If it's XML, you should know that using an XML parser will be more reliable. To parse this document as XML, make sure you have the lxml package installed, and pass the keyword argument `features=\"xml\"` into the BeautifulSoup constructor.\n",
      "  warnings.warn(\n"
     ]
    },
    {
     "name": "stdout",
     "output_type": "stream",
     "text": [
      "Phylommand - a command line software package for phylogenetics\n"
     ]
    },
    {
     "name": "stderr",
     "output_type": "stream",
     "text": [
      "/usr/local/lib/python3.10/dist-packages/bs4/builder/__init__.py:545: XMLParsedAsHTMLWarning: It looks like you're parsing an XML document using an HTML parser. If this really is an HTML document (maybe it's XHTML?), you can ignore or filter this warning. If it's XML, you should know that using an XML parser will be more reliable. To parse this document as XML, make sure you have the lxml package installed, and pass the keyword argument `features=\"xml\"` into the BeautifulSoup constructor.\n",
      "  warnings.warn(\n"
     ]
    },
    {
     "name": "stdout",
     "output_type": "stream",
     "text": [
      "Revisiting the phylogeny of phylum Ctenophora: a molecular perspective\n"
     ]
    },
    {
     "name": "stderr",
     "output_type": "stream",
     "text": [
      "/usr/local/lib/python3.10/dist-packages/bs4/builder/__init__.py:545: XMLParsedAsHTMLWarning: It looks like you're parsing an XML document using an HTML parser. If this really is an HTML document (maybe it's XHTML?), you can ignore or filter this warning. If it's XML, you should know that using an XML parser will be more reliable. To parse this document as XML, make sure you have the lxml package installed, and pass the keyword argument `features=\"xml\"` into the BeautifulSoup constructor.\n",
      "  warnings.warn(\n"
     ]
    },
    {
     "name": "stdout",
     "output_type": "stream",
     "text": [
      "Health and saliva microbiomes of a semi-urbanized indigenous tribe in Peninsular Malaysia\n"
     ]
    },
    {
     "name": "stderr",
     "output_type": "stream",
     "text": [
      "/usr/local/lib/python3.10/dist-packages/bs4/builder/__init__.py:545: XMLParsedAsHTMLWarning: It looks like you're parsing an XML document using an HTML parser. If this really is an HTML document (maybe it's XHTML?), you can ignore or filter this warning. If it's XML, you should know that using an XML parser will be more reliable. To parse this document as XML, make sure you have the lxml package installed, and pass the keyword argument `features=\"xml\"` into the BeautifulSoup constructor.\n",
      "  warnings.warn(\n"
     ]
    },
    {
     "name": "stdout",
     "output_type": "stream",
     "text": [
      "Growth performance and survival rate of \n",
      "                    Portunus pelagicus (Linnaeus, 1758) broodstock females fed varying doses of amaranth extracts\n"
     ]
    },
    {
     "name": "stderr",
     "output_type": "stream",
     "text": [
      "/usr/local/lib/python3.10/dist-packages/bs4/builder/__init__.py:545: XMLParsedAsHTMLWarning: It looks like you're parsing an XML document using an HTML parser. If this really is an HTML document (maybe it's XHTML?), you can ignore or filter this warning. If it's XML, you should know that using an XML parser will be more reliable. To parse this document as XML, make sure you have the lxml package installed, and pass the keyword argument `features=\"xml\"` into the BeautifulSoup constructor.\n",
      "  warnings.warn(\n"
     ]
    },
    {
     "name": "stdout",
     "output_type": "stream",
     "text": [
      "Lethality model for COVID-19 based on social determinants of health: an approximation in 67 countries\n"
     ]
    },
    {
     "name": "stderr",
     "output_type": "stream",
     "text": [
      "/usr/local/lib/python3.10/dist-packages/bs4/builder/__init__.py:545: XMLParsedAsHTMLWarning: It looks like you're parsing an XML document using an HTML parser. If this really is an HTML document (maybe it's XHTML?), you can ignore or filter this warning. If it's XML, you should know that using an XML parser will be more reliable. To parse this document as XML, make sure you have the lxml package installed, and pass the keyword argument `features=\"xml\"` into the BeautifulSoup constructor.\n",
      "  warnings.warn(\n"
     ]
    },
    {
     "name": "stdout",
     "output_type": "stream",
     "text": [
      "Uncovering host-microbiome interactions in global systems with collaborative programming: a novel approach integrating social and data sciences\n"
     ]
    },
    {
     "name": "stderr",
     "output_type": "stream",
     "text": [
      "/usr/local/lib/python3.10/dist-packages/bs4/builder/__init__.py:545: XMLParsedAsHTMLWarning: It looks like you're parsing an XML document using an HTML parser. If this really is an HTML document (maybe it's XHTML?), you can ignore or filter this warning. If it's XML, you should know that using an XML parser will be more reliable. To parse this document as XML, make sure you have the lxml package installed, and pass the keyword argument `features=\"xml\"` into the BeautifulSoup constructor.\n",
      "  warnings.warn(\n"
     ]
    },
    {
     "name": "stdout",
     "output_type": "stream",
     "text": [
      "The discounted value of human lives lost due to COVID-19 in France\n"
     ]
    },
    {
     "name": "stderr",
     "output_type": "stream",
     "text": [
      "/usr/local/lib/python3.10/dist-packages/bs4/builder/__init__.py:545: XMLParsedAsHTMLWarning: It looks like you're parsing an XML document using an HTML parser. If this really is an HTML document (maybe it's XHTML?), you can ignore or filter this warning. If it's XML, you should know that using an XML parser will be more reliable. To parse this document as XML, make sure you have the lxml package installed, and pass the keyword argument `features=\"xml\"` into the BeautifulSoup constructor.\n",
      "  warnings.warn(\n"
     ]
    },
    {
     "name": "stdout",
     "output_type": "stream",
     "text": [
      "Bleach correction ImageJ plugin for compensating the photobleaching of time-lapse sequences\n"
     ]
    },
    {
     "name": "stderr",
     "output_type": "stream",
     "text": [
      "/usr/local/lib/python3.10/dist-packages/bs4/builder/__init__.py:545: XMLParsedAsHTMLWarning: It looks like you're parsing an XML document using an HTML parser. If this really is an HTML document (maybe it's XHTML?), you can ignore or filter this warning. If it's XML, you should know that using an XML parser will be more reliable. To parse this document as XML, make sure you have the lxml package installed, and pass the keyword argument `features=\"xml\"` into the BeautifulSoup constructor.\n",
      "  warnings.warn(\n"
     ]
    },
    {
     "name": "stdout",
     "output_type": "stream",
     "text": [
      "Umpire 2.0: Simulating realistic, mixed-type, clinical data for machine learning\n"
     ]
    },
    {
     "name": "stderr",
     "output_type": "stream",
     "text": [
      "/usr/local/lib/python3.10/dist-packages/bs4/builder/__init__.py:545: XMLParsedAsHTMLWarning: It looks like you're parsing an XML document using an HTML parser. If this really is an HTML document (maybe it's XHTML?), you can ignore or filter this warning. If it's XML, you should know that using an XML parser will be more reliable. To parse this document as XML, make sure you have the lxml package installed, and pass the keyword argument `features=\"xml\"` into the BeautifulSoup constructor.\n",
      "  warnings.warn(\n"
     ]
    },
    {
     "name": "stdout",
     "output_type": "stream",
     "text": [
      "PEGS: An efficient tool for gene set enrichment within defined sets of genomic intervals\n"
     ]
    },
    {
     "name": "stderr",
     "output_type": "stream",
     "text": [
      "/usr/local/lib/python3.10/dist-packages/bs4/builder/__init__.py:545: XMLParsedAsHTMLWarning: It looks like you're parsing an XML document using an HTML parser. If this really is an HTML document (maybe it's XHTML?), you can ignore or filter this warning. If it's XML, you should know that using an XML parser will be more reliable. To parse this document as XML, make sure you have the lxml package installed, and pass the keyword argument `features=\"xml\"` into the BeautifulSoup constructor.\n",
      "  warnings.warn(\n"
     ]
    },
    {
     "name": "stdout",
     "output_type": "stream",
     "text": [
      "target: an R package to predict combined function of transcription factors\n"
     ]
    },
    {
     "name": "stderr",
     "output_type": "stream",
     "text": [
      "/usr/local/lib/python3.10/dist-packages/bs4/builder/__init__.py:545: XMLParsedAsHTMLWarning: It looks like you're parsing an XML document using an HTML parser. If this really is an HTML document (maybe it's XHTML?), you can ignore or filter this warning. If it's XML, you should know that using an XML parser will be more reliable. To parse this document as XML, make sure you have the lxml package installed, and pass the keyword argument `features=\"xml\"` into the BeautifulSoup constructor.\n",
      "  warnings.warn(\n"
     ]
    },
    {
     "name": "stdout",
     "output_type": "stream",
     "text": [
      "A 2x2 randomised factorial SWAT of the use of a pen and small, financial incentive to improve recruitment in a randomised controlled trial of yoga for older adults with multimorbidity\n"
     ]
    },
    {
     "name": "stderr",
     "output_type": "stream",
     "text": [
      "/usr/local/lib/python3.10/dist-packages/bs4/builder/__init__.py:545: XMLParsedAsHTMLWarning: It looks like you're parsing an XML document using an HTML parser. If this really is an HTML document (maybe it's XHTML?), you can ignore or filter this warning. If it's XML, you should know that using an XML parser will be more reliable. To parse this document as XML, make sure you have the lxml package installed, and pass the keyword argument `features=\"xml\"` into the BeautifulSoup constructor.\n",
      "  warnings.warn(\n"
     ]
    },
    {
     "name": "stdout",
     "output_type": "stream",
     "text": [
      "Formal definition of the MARS method for quantifying the unique target class discoveries of selected machine classifiers\n"
     ]
    },
    {
     "name": "stderr",
     "output_type": "stream",
     "text": [
      "/usr/local/lib/python3.10/dist-packages/bs4/builder/__init__.py:545: XMLParsedAsHTMLWarning: It looks like you're parsing an XML document using an HTML parser. If this really is an HTML document (maybe it's XHTML?), you can ignore or filter this warning. If it's XML, you should know that using an XML parser will be more reliable. To parse this document as XML, make sure you have the lxml package installed, and pass the keyword argument `features=\"xml\"` into the BeautifulSoup constructor.\n",
      "  warnings.warn(\n"
     ]
    },
    {
     "name": "stdout",
     "output_type": "stream",
     "text": [
      "Applicability of open science practices to completed research projects from different disciplines and research paradigms\n"
     ]
    },
    {
     "name": "stderr",
     "output_type": "stream",
     "text": [
      "/usr/local/lib/python3.10/dist-packages/bs4/builder/__init__.py:545: XMLParsedAsHTMLWarning: It looks like you're parsing an XML document using an HTML parser. If this really is an HTML document (maybe it's XHTML?), you can ignore or filter this warning. If it's XML, you should know that using an XML parser will be more reliable. To parse this document as XML, make sure you have the lxml package installed, and pass the keyword argument `features=\"xml\"` into the BeautifulSoup constructor.\n",
      "  warnings.warn(\n"
     ]
    },
    {
     "name": "stdout",
     "output_type": "stream",
     "text": [
      "AmpSeqR: an R package for amplicon deep sequencing data analysis\n"
     ]
    },
    {
     "name": "stderr",
     "output_type": "stream",
     "text": [
      "/usr/local/lib/python3.10/dist-packages/bs4/builder/__init__.py:545: XMLParsedAsHTMLWarning: It looks like you're parsing an XML document using an HTML parser. If this really is an HTML document (maybe it's XHTML?), you can ignore or filter this warning. If it's XML, you should know that using an XML parser will be more reliable. To parse this document as XML, make sure you have the lxml package installed, and pass the keyword argument `features=\"xml\"` into the BeautifulSoup constructor.\n",
      "  warnings.warn(\n"
     ]
    },
    {
     "name": "stdout",
     "output_type": "stream",
     "text": [
      "PHENOstruct: Prediction of human phenotype ontology terms using heterogeneous data sources\n"
     ]
    },
    {
     "name": "stderr",
     "output_type": "stream",
     "text": [
      "/usr/local/lib/python3.10/dist-packages/bs4/builder/__init__.py:545: XMLParsedAsHTMLWarning: It looks like you're parsing an XML document using an HTML parser. If this really is an HTML document (maybe it's XHTML?), you can ignore or filter this warning. If it's XML, you should know that using an XML parser will be more reliable. To parse this document as XML, make sure you have the lxml package installed, and pass the keyword argument `features=\"xml\"` into the BeautifulSoup constructor.\n",
      "  warnings.warn(\n"
     ]
    },
    {
     "name": "stdout",
     "output_type": "stream",
     "text": [
      "Predicting survival time for metastatic castration resistant prostate cancer: An iterative imputation approach\n"
     ]
    },
    {
     "name": "stderr",
     "output_type": "stream",
     "text": [
      "/usr/local/lib/python3.10/dist-packages/bs4/builder/__init__.py:545: XMLParsedAsHTMLWarning: It looks like you're parsing an XML document using an HTML parser. If this really is an HTML document (maybe it's XHTML?), you can ignore or filter this warning. If it's XML, you should know that using an XML parser will be more reliable. To parse this document as XML, make sure you have the lxml package installed, and pass the keyword argument `features=\"xml\"` into the BeautifulSoup constructor.\n",
      "  warnings.warn(\n"
     ]
    },
    {
     "name": "stdout",
     "output_type": "stream",
     "text": [
      "Mutations of the CHEK2 gene in patients with cancer and their presence in the Latin American population\n"
     ]
    },
    {
     "name": "stderr",
     "output_type": "stream",
     "text": [
      "/usr/local/lib/python3.10/dist-packages/bs4/builder/__init__.py:545: XMLParsedAsHTMLWarning: It looks like you're parsing an XML document using an HTML parser. If this really is an HTML document (maybe it's XHTML?), you can ignore or filter this warning. If it's XML, you should know that using an XML parser will be more reliable. To parse this document as XML, make sure you have the lxml package installed, and pass the keyword argument `features=\"xml\"` into the BeautifulSoup constructor.\n",
      "  warnings.warn(\n"
     ]
    },
    {
     "name": "stdout",
     "output_type": "stream",
     "text": [
      "YODEL: Peak calling software for HITS-CLIP data\n"
     ]
    },
    {
     "name": "stderr",
     "output_type": "stream",
     "text": [
      "/usr/local/lib/python3.10/dist-packages/bs4/builder/__init__.py:545: XMLParsedAsHTMLWarning: It looks like you're parsing an XML document using an HTML parser. If this really is an HTML document (maybe it's XHTML?), you can ignore or filter this warning. If it's XML, you should know that using an XML parser will be more reliable. To parse this document as XML, make sure you have the lxml package installed, and pass the keyword argument `features=\"xml\"` into the BeautifulSoup constructor.\n",
      "  warnings.warn(\n"
     ]
    },
    {
     "name": "stdout",
     "output_type": "stream",
     "text": [
      "Dose response and working memory limit in an eye movement desensitisation and reprocessing prospective case series\n"
     ]
    },
    {
     "name": "stderr",
     "output_type": "stream",
     "text": [
      "/usr/local/lib/python3.10/dist-packages/bs4/builder/__init__.py:545: XMLParsedAsHTMLWarning: It looks like you're parsing an XML document using an HTML parser. If this really is an HTML document (maybe it's XHTML?), you can ignore or filter this warning. If it's XML, you should know that using an XML parser will be more reliable. To parse this document as XML, make sure you have the lxml package installed, and pass the keyword argument `features=\"xml\"` into the BeautifulSoup constructor.\n",
      "  warnings.warn(\n"
     ]
    },
    {
     "name": "stdout",
     "output_type": "stream",
     "text": [
      "Validation of the Polar RS800CX for assessing heart rate variability during rest, moderate cycling and post-exercise recovery\n"
     ]
    },
    {
     "name": "stderr",
     "output_type": "stream",
     "text": [
      "/usr/local/lib/python3.10/dist-packages/bs4/builder/__init__.py:545: XMLParsedAsHTMLWarning: It looks like you're parsing an XML document using an HTML parser. If this really is an HTML document (maybe it's XHTML?), you can ignore or filter this warning. If it's XML, you should know that using an XML parser will be more reliable. To parse this document as XML, make sure you have the lxml package installed, and pass the keyword argument `features=\"xml\"` into the BeautifulSoup constructor.\n",
      "  warnings.warn(\n"
     ]
    },
    {
     "name": "stdout",
     "output_type": "stream",
     "text": [
      "Trends in Medicare base payment rates for hospital discharges, 2009-2018\n"
     ]
    },
    {
     "name": "stderr",
     "output_type": "stream",
     "text": [
      "/usr/local/lib/python3.10/dist-packages/bs4/builder/__init__.py:545: XMLParsedAsHTMLWarning: It looks like you're parsing an XML document using an HTML parser. If this really is an HTML document (maybe it's XHTML?), you can ignore or filter this warning. If it's XML, you should know that using an XML parser will be more reliable. To parse this document as XML, make sure you have the lxml package installed, and pass the keyword argument `features=\"xml\"` into the BeautifulSoup constructor.\n",
      "  warnings.warn(\n"
     ]
    },
    {
     "name": "stdout",
     "output_type": "stream",
     "text": [
      "Climate change in the UAE: Modeling air temperature using ARIMA and STI across four bio-climatic zones\n"
     ]
    },
    {
     "name": "stderr",
     "output_type": "stream",
     "text": [
      "/usr/local/lib/python3.10/dist-packages/bs4/builder/__init__.py:545: XMLParsedAsHTMLWarning: It looks like you're parsing an XML document using an HTML parser. If this really is an HTML document (maybe it's XHTML?), you can ignore or filter this warning. If it's XML, you should know that using an XML parser will be more reliable. To parse this document as XML, make sure you have the lxml package installed, and pass the keyword argument `features=\"xml\"` into the BeautifulSoup constructor.\n",
      "  warnings.warn(\n"
     ]
    },
    {
     "name": "stdout",
     "output_type": "stream",
     "text": [
      "Reproducibly sampling SARS-CoV-2 genomes across time, geography, and viral diversity\n"
     ]
    },
    {
     "name": "stderr",
     "output_type": "stream",
     "text": [
      "/usr/local/lib/python3.10/dist-packages/bs4/builder/__init__.py:545: XMLParsedAsHTMLWarning: It looks like you're parsing an XML document using an HTML parser. If this really is an HTML document (maybe it's XHTML?), you can ignore or filter this warning. If it's XML, you should know that using an XML parser will be more reliable. To parse this document as XML, make sure you have the lxml package installed, and pass the keyword argument `features=\"xml\"` into the BeautifulSoup constructor.\n",
      "  warnings.warn(\n"
     ]
    },
    {
     "name": "stdout",
     "output_type": "stream",
     "text": [
      "Elections in Nondemocratic Settings: When and Why Do They Help Regime Survival?\n"
     ]
    },
    {
     "name": "stderr",
     "output_type": "stream",
     "text": [
      "/usr/local/lib/python3.10/dist-packages/bs4/builder/__init__.py:545: XMLParsedAsHTMLWarning: It looks like you're parsing an XML document using an HTML parser. If this really is an HTML document (maybe it's XHTML?), you can ignore or filter this warning. If it's XML, you should know that using an XML parser will be more reliable. To parse this document as XML, make sure you have the lxml package installed, and pass the keyword argument `features=\"xml\"` into the BeautifulSoup constructor.\n",
      "  warnings.warn(\n"
     ]
    },
    {
     "name": "stdout",
     "output_type": "stream",
     "text": [
      "A predictive model for daily cumulative COVID-19 cases in Ghana\n"
     ]
    },
    {
     "name": "stderr",
     "output_type": "stream",
     "text": [
      "/usr/local/lib/python3.10/dist-packages/bs4/builder/__init__.py:545: XMLParsedAsHTMLWarning: It looks like you're parsing an XML document using an HTML parser. If this really is an HTML document (maybe it's XHTML?), you can ignore or filter this warning. If it's XML, you should know that using an XML parser will be more reliable. To parse this document as XML, make sure you have the lxml package installed, and pass the keyword argument `features=\"xml\"` into the BeautifulSoup constructor.\n",
      "  warnings.warn(\n"
     ]
    },
    {
     "name": "stdout",
     "output_type": "stream",
     "text": [
      "Saudi Arabian students in postgraduate dental programs: Investigating factors associated with burnout\n"
     ]
    },
    {
     "name": "stderr",
     "output_type": "stream",
     "text": [
      "/usr/local/lib/python3.10/dist-packages/bs4/builder/__init__.py:545: XMLParsedAsHTMLWarning: It looks like you're parsing an XML document using an HTML parser. If this really is an HTML document (maybe it's XHTML?), you can ignore or filter this warning. If it's XML, you should know that using an XML parser will be more reliable. To parse this document as XML, make sure you have the lxml package installed, and pass the keyword argument `features=\"xml\"` into the BeautifulSoup constructor.\n",
      "  warnings.warn(\n"
     ]
    },
    {
     "name": "stdout",
     "output_type": "stream",
     "text": [
      "A Phase 2A randomized, double-blind, placebo-controlled pilot trial of GM604 in patients with Amyotrophic Lateral Sclerosis (ALS Protocol GALS-001) and a single compassionate patient treatment (Protocol GALS-C)\n"
     ]
    },
    {
     "name": "stderr",
     "output_type": "stream",
     "text": [
      "/usr/local/lib/python3.10/dist-packages/bs4/builder/__init__.py:545: XMLParsedAsHTMLWarning: It looks like you're parsing an XML document using an HTML parser. If this really is an HTML document (maybe it's XHTML?), you can ignore or filter this warning. If it's XML, you should know that using an XML parser will be more reliable. To parse this document as XML, make sure you have the lxml package installed, and pass the keyword argument `features=\"xml\"` into the BeautifulSoup constructor.\n",
      "  warnings.warn(\n"
     ]
    },
    {
     "name": "stdout",
     "output_type": "stream",
     "text": [
      "How messages about behavioral genetics research can impact on genetic attribution beliefs\n"
     ]
    },
    {
     "name": "stderr",
     "output_type": "stream",
     "text": [
      "/usr/local/lib/python3.10/dist-packages/bs4/builder/__init__.py:545: XMLParsedAsHTMLWarning: It looks like you're parsing an XML document using an HTML parser. If this really is an HTML document (maybe it's XHTML?), you can ignore or filter this warning. If it's XML, you should know that using an XML parser will be more reliable. To parse this document as XML, make sure you have the lxml package installed, and pass the keyword argument `features=\"xml\"` into the BeautifulSoup constructor.\n",
      "  warnings.warn(\n"
     ]
    },
    {
     "name": "stdout",
     "output_type": "stream",
     "text": [
      "Molecular and \n",
      "                    in-silico analysis of single nucleotide polymorphism targeting human \n",
      "                    TP53 gene exon 5-8 in Sudanese esophageal cancer patients\n"
     ]
    },
    {
     "name": "stderr",
     "output_type": "stream",
     "text": [
      "/usr/local/lib/python3.10/dist-packages/bs4/builder/__init__.py:545: XMLParsedAsHTMLWarning: It looks like you're parsing an XML document using an HTML parser. If this really is an HTML document (maybe it's XHTML?), you can ignore or filter this warning. If it's XML, you should know that using an XML parser will be more reliable. To parse this document as XML, make sure you have the lxml package installed, and pass the keyword argument `features=\"xml\"` into the BeautifulSoup constructor.\n",
      "  warnings.warn(\n"
     ]
    },
    {
     "name": "stdout",
     "output_type": "stream",
     "text": [
      "Effects of ‎tamoxifen on the reproductive system of female breast cancer patients: an ultrasound-based cohort study\n"
     ]
    },
    {
     "name": "stderr",
     "output_type": "stream",
     "text": [
      "/usr/local/lib/python3.10/dist-packages/bs4/builder/__init__.py:545: XMLParsedAsHTMLWarning: It looks like you're parsing an XML document using an HTML parser. If this really is an HTML document (maybe it's XHTML?), you can ignore or filter this warning. If it's XML, you should know that using an XML parser will be more reliable. To parse this document as XML, make sure you have the lxml package installed, and pass the keyword argument `features=\"xml\"` into the BeautifulSoup constructor.\n",
      "  warnings.warn(\n"
     ]
    },
    {
     "name": "stdout",
     "output_type": "stream",
     "text": [
      "Comparison of major bleeding in patients with acute coronary syndrome that underwent coronary artery bypass grafting treated with clopidogrel or ticagrelor: a systematic review and meta-analysis\n"
     ]
    },
    {
     "name": "stderr",
     "output_type": "stream",
     "text": [
      "/usr/local/lib/python3.10/dist-packages/bs4/builder/__init__.py:545: XMLParsedAsHTMLWarning: It looks like you're parsing an XML document using an HTML parser. If this really is an HTML document (maybe it's XHTML?), you can ignore or filter this warning. If it's XML, you should know that using an XML parser will be more reliable. To parse this document as XML, make sure you have the lxml package installed, and pass the keyword argument `features=\"xml\"` into the BeautifulSoup constructor.\n",
      "  warnings.warn(\n"
     ]
    },
    {
     "name": "stdout",
     "output_type": "stream",
     "text": [
      "SeqAcademy: an educational pipeline for RNA-Seq and ChIP-Seq analysis\n"
     ]
    },
    {
     "name": "stderr",
     "output_type": "stream",
     "text": [
      "/usr/local/lib/python3.10/dist-packages/bs4/builder/__init__.py:545: XMLParsedAsHTMLWarning: It looks like you're parsing an XML document using an HTML parser. If this really is an HTML document (maybe it's XHTML?), you can ignore or filter this warning. If it's XML, you should know that using an XML parser will be more reliable. To parse this document as XML, make sure you have the lxml package installed, and pass the keyword argument `features=\"xml\"` into the BeautifulSoup constructor.\n",
      "  warnings.warn(\n"
     ]
    },
    {
     "name": "stdout",
     "output_type": "stream",
     "text": [
      "Fracture resistance and 3D finite element analysis of machined ceramic crowns bonded to endodontically treated molars with two planes versus flat occlusal preparation designs: an\n",
      "                     in vitro study\n"
     ]
    },
    {
     "name": "stderr",
     "output_type": "stream",
     "text": [
      "/usr/local/lib/python3.10/dist-packages/bs4/builder/__init__.py:545: XMLParsedAsHTMLWarning: It looks like you're parsing an XML document using an HTML parser. If this really is an HTML document (maybe it's XHTML?), you can ignore or filter this warning. If it's XML, you should know that using an XML parser will be more reliable. To parse this document as XML, make sure you have the lxml package installed, and pass the keyword argument `features=\"xml\"` into the BeautifulSoup constructor.\n",
      "  warnings.warn(\n"
     ]
    },
    {
     "name": "stdout",
     "output_type": "stream",
     "text": [
      "Corneal laser procedure for vision improvement in patients with neovascular age-related macular degeneration and other retinal disorders involving central vision loss: a retrospective cohort study\n"
     ]
    },
    {
     "name": "stderr",
     "output_type": "stream",
     "text": [
      "/usr/local/lib/python3.10/dist-packages/bs4/builder/__init__.py:545: XMLParsedAsHTMLWarning: It looks like you're parsing an XML document using an HTML parser. If this really is an HTML document (maybe it's XHTML?), you can ignore or filter this warning. If it's XML, you should know that using an XML parser will be more reliable. To parse this document as XML, make sure you have the lxml package installed, and pass the keyword argument `features=\"xml\"` into the BeautifulSoup constructor.\n",
      "  warnings.warn(\n"
     ]
    },
    {
     "name": "stdout",
     "output_type": "stream",
     "text": [
      "Prevalence of responsible research practices among academics in The Netherlands\n"
     ]
    },
    {
     "name": "stderr",
     "output_type": "stream",
     "text": [
      "/usr/local/lib/python3.10/dist-packages/bs4/builder/__init__.py:545: XMLParsedAsHTMLWarning: It looks like you're parsing an XML document using an HTML parser. If this really is an HTML document (maybe it's XHTML?), you can ignore or filter this warning. If it's XML, you should know that using an XML parser will be more reliable. To parse this document as XML, make sure you have the lxml package installed, and pass the keyword argument `features=\"xml\"` into the BeautifulSoup constructor.\n",
      "  warnings.warn(\n"
     ]
    },
    {
     "name": "stdout",
     "output_type": "stream",
     "text": [
      "Circadian stabilization loop: the regulatory hub and therapeutic target promoting circadian resilience and physiological health\n"
     ]
    },
    {
     "name": "stderr",
     "output_type": "stream",
     "text": [
      "/usr/local/lib/python3.10/dist-packages/bs4/builder/__init__.py:545: XMLParsedAsHTMLWarning: It looks like you're parsing an XML document using an HTML parser. If this really is an HTML document (maybe it's XHTML?), you can ignore or filter this warning. If it's XML, you should know that using an XML parser will be more reliable. To parse this document as XML, make sure you have the lxml package installed, and pass the keyword argument `features=\"xml\"` into the BeautifulSoup constructor.\n",
      "  warnings.warn(\n"
     ]
    },
    {
     "name": "stdout",
     "output_type": "stream",
     "text": [
      "Antioxidant effect of ethanolic extract of Pleurotus Ostreatus on 4-hydroxy-2-nonenal (HNE) and glutathione (GSH) level in lung rats exposed to cigarette smoke\n"
     ]
    },
    {
     "name": "stderr",
     "output_type": "stream",
     "text": [
      "/usr/local/lib/python3.10/dist-packages/bs4/builder/__init__.py:545: XMLParsedAsHTMLWarning: It looks like you're parsing an XML document using an HTML parser. If this really is an HTML document (maybe it's XHTML?), you can ignore or filter this warning. If it's XML, you should know that using an XML parser will be more reliable. To parse this document as XML, make sure you have the lxml package installed, and pass the keyword argument `features=\"xml\"` into the BeautifulSoup constructor.\n",
      "  warnings.warn(\n"
     ]
    },
    {
     "name": "stdout",
     "output_type": "stream",
     "text": [
      "Pesticide exposure and lung cancer risk: A case-control study in Nakhon Sawan, Thailand\n"
     ]
    },
    {
     "name": "stderr",
     "output_type": "stream",
     "text": [
      "/usr/local/lib/python3.10/dist-packages/bs4/builder/__init__.py:545: XMLParsedAsHTMLWarning: It looks like you're parsing an XML document using an HTML parser. If this really is an HTML document (maybe it's XHTML?), you can ignore or filter this warning. If it's XML, you should know that using an XML parser will be more reliable. To parse this document as XML, make sure you have the lxml package installed, and pass the keyword argument `features=\"xml\"` into the BeautifulSoup constructor.\n",
      "  warnings.warn(\n"
     ]
    },
    {
     "name": "stdout",
     "output_type": "stream",
     "text": [
      "Low budget analysis of Direct-To-Consumer genomic testing familial data\n"
     ]
    },
    {
     "name": "stderr",
     "output_type": "stream",
     "text": [
      "/usr/local/lib/python3.10/dist-packages/bs4/builder/__init__.py:545: XMLParsedAsHTMLWarning: It looks like you're parsing an XML document using an HTML parser. If this really is an HTML document (maybe it's XHTML?), you can ignore or filter this warning. If it's XML, you should know that using an XML parser will be more reliable. To parse this document as XML, make sure you have the lxml package installed, and pass the keyword argument `features=\"xml\"` into the BeautifulSoup constructor.\n",
      "  warnings.warn(\n"
     ]
    },
    {
     "name": "stdout",
     "output_type": "stream",
     "text": [
      "Can free open access resources strengthen knowledge-based emerging public health priorities, policies and programs in Africa?\n"
     ]
    },
    {
     "name": "stderr",
     "output_type": "stream",
     "text": [
      "/usr/local/lib/python3.10/dist-packages/bs4/builder/__init__.py:545: XMLParsedAsHTMLWarning: It looks like you're parsing an XML document using an HTML parser. If this really is an HTML document (maybe it's XHTML?), you can ignore or filter this warning. If it's XML, you should know that using an XML parser will be more reliable. To parse this document as XML, make sure you have the lxml package installed, and pass the keyword argument `features=\"xml\"` into the BeautifulSoup constructor.\n",
      "  warnings.warn(\n"
     ]
    },
    {
     "name": "stdout",
     "output_type": "stream",
     "text": [
      "Differentially correlated genes in co-expression networks control phenotype transitions\n"
     ]
    },
    {
     "name": "stderr",
     "output_type": "stream",
     "text": [
      "/usr/local/lib/python3.10/dist-packages/bs4/builder/__init__.py:545: XMLParsedAsHTMLWarning: It looks like you're parsing an XML document using an HTML parser. If this really is an HTML document (maybe it's XHTML?), you can ignore or filter this warning. If it's XML, you should know that using an XML parser will be more reliable. To parse this document as XML, make sure you have the lxml package installed, and pass the keyword argument `features=\"xml\"` into the BeautifulSoup constructor.\n",
      "  warnings.warn(\n"
     ]
    },
    {
     "name": "stdout",
     "output_type": "stream",
     "text": [
      "Arkas: Rapid reproducible RNAseq analysis\n"
     ]
    },
    {
     "name": "stderr",
     "output_type": "stream",
     "text": [
      "/usr/local/lib/python3.10/dist-packages/bs4/builder/__init__.py:545: XMLParsedAsHTMLWarning: It looks like you're parsing an XML document using an HTML parser. If this really is an HTML document (maybe it's XHTML?), you can ignore or filter this warning. If it's XML, you should know that using an XML parser will be more reliable. To parse this document as XML, make sure you have the lxml package installed, and pass the keyword argument `features=\"xml\"` into the BeautifulSoup constructor.\n",
      "  warnings.warn(\n"
     ]
    },
    {
     "name": "stdout",
     "output_type": "stream",
     "text": [
      "Positive bias for European men in \n",
      "                    peer reviewed applications for faculty position at Karolinska Institutet\n"
     ]
    },
    {
     "name": "stderr",
     "output_type": "stream",
     "text": [
      "/usr/local/lib/python3.10/dist-packages/bs4/builder/__init__.py:545: XMLParsedAsHTMLWarning: It looks like you're parsing an XML document using an HTML parser. If this really is an HTML document (maybe it's XHTML?), you can ignore or filter this warning. If it's XML, you should know that using an XML parser will be more reliable. To parse this document as XML, make sure you have the lxml package installed, and pass the keyword argument `features=\"xml\"` into the BeautifulSoup constructor.\n",
      "  warnings.warn(\n"
     ]
    },
    {
     "name": "stdout",
     "output_type": "stream",
     "text": [
      "Gilles de la Tourette Syndrome: advice in the times of COVID-19\n"
     ]
    },
    {
     "name": "stderr",
     "output_type": "stream",
     "text": [
      "/usr/local/lib/python3.10/dist-packages/bs4/builder/__init__.py:545: XMLParsedAsHTMLWarning: It looks like you're parsing an XML document using an HTML parser. If this really is an HTML document (maybe it's XHTML?), you can ignore or filter this warning. If it's XML, you should know that using an XML parser will be more reliable. To parse this document as XML, make sure you have the lxml package installed, and pass the keyword argument `features=\"xml\"` into the BeautifulSoup constructor.\n",
      "  warnings.warn(\n"
     ]
    },
    {
     "name": "stdout",
     "output_type": "stream",
     "text": [
      "Mental health care for young people using video games: a pilot RCT on the development of a new intervention method toward Hikikomori and Futōkō\n"
     ]
    },
    {
     "name": "stderr",
     "output_type": "stream",
     "text": [
      "/usr/local/lib/python3.10/dist-packages/bs4/builder/__init__.py:545: XMLParsedAsHTMLWarning: It looks like you're parsing an XML document using an HTML parser. If this really is an HTML document (maybe it's XHTML?), you can ignore or filter this warning. If it's XML, you should know that using an XML parser will be more reliable. To parse this document as XML, make sure you have the lxml package installed, and pass the keyword argument `features=\"xml\"` into the BeautifulSoup constructor.\n",
      "  warnings.warn(\n"
     ]
    },
    {
     "name": "stdout",
     "output_type": "stream",
     "text": [
      "Analysis of the safety and immunogenicity profile of an azoximer bromide polymer-adjuvanted subunit influenza vaccine.\n"
     ]
    },
    {
     "name": "stderr",
     "output_type": "stream",
     "text": [
      "/usr/local/lib/python3.10/dist-packages/bs4/builder/__init__.py:545: XMLParsedAsHTMLWarning: It looks like you're parsing an XML document using an HTML parser. If this really is an HTML document (maybe it's XHTML?), you can ignore or filter this warning. If it's XML, you should know that using an XML parser will be more reliable. To parse this document as XML, make sure you have the lxml package installed, and pass the keyword argument `features=\"xml\"` into the BeautifulSoup constructor.\n",
      "  warnings.warn(\n"
     ]
    },
    {
     "name": "stdout",
     "output_type": "stream",
     "text": [
      "The economic effects of perceptions of the Russia-Ukraine war in Ecuador\n"
     ]
    },
    {
     "name": "stderr",
     "output_type": "stream",
     "text": [
      "/usr/local/lib/python3.10/dist-packages/bs4/builder/__init__.py:545: XMLParsedAsHTMLWarning: It looks like you're parsing an XML document using an HTML parser. If this really is an HTML document (maybe it's XHTML?), you can ignore or filter this warning. If it's XML, you should know that using an XML parser will be more reliable. To parse this document as XML, make sure you have the lxml package installed, and pass the keyword argument `features=\"xml\"` into the BeautifulSoup constructor.\n",
      "  warnings.warn(\n"
     ]
    },
    {
     "name": "stdout",
     "output_type": "stream",
     "text": [
      "A socio-legal imperative of domestic violence prohibition in Africa vis-a-vis Nigerian legal structure for sexually abused women\n",
      "                                                Title  \\\n",
      "0   Integrating small population effects on both d...   \n",
      "1   Effect of rice variety and blending proportion...   \n",
      "2   Constellation Map: Downstream visualization an...   \n",
      "3   DREAMTools: a Python package for scoring colla...   \n",
      "4   South-East Asian strains of \\n                ...   \n",
      "..                                                ...   \n",
      "78  Gilles de la Tourette Syndrome: advice in the ...   \n",
      "79  Mental health care for young people using vide...   \n",
      "80  Analysis of the safety and immunogenicity prof...   \n",
      "81  The economic effects of perceptions of the Rus...   \n",
      "82  A socio-legal imperative of domestic violence ...   \n",
      "\n",
      "                                DOI  \\\n",
      "0   10.12688/f1000research.2-234.v1   \n",
      "1     10.12688/f1000research.6201.1   \n",
      "2     10.12688/f1000research.6644.1   \n",
      "3     10.12688/f1000research.7118.2   \n",
      "4     10.12688/f1000research.9372.2   \n",
      "..                              ...   \n",
      "78   10.12688/f1000research.23275.2   \n",
      "79  10.12688/f1000research.119764.1   \n",
      "80   10.12688/f1000research.75869.2   \n",
      "81  10.12688/f1000research.131992.1   \n",
      "82  10.12688/f1000research.132413.4   \n",
      "\n",
      "                                              Authors  \\\n",
      "0         [{Brian R., Hudgens}, {David K., Garcelon}]   \n",
      "1   [{Sintayehu, Legesse}, {Solomon, Worku}, {Gere...   \n",
      "2   [{Yan, Tan}, {Wu, Felix}, {Tamayo, Pablo}, {W....   \n",
      "3   [{Thomas, Cokelaer}, {Mukesh, Bansal}, {Christ...   \n",
      "4             [{Gajinder Pal, Singh}, {Sharma, Amit}]   \n",
      "..                                                ...   \n",
      "78  [{Robertson, Mary M.}, {Valsamma, Eapen}, {Ren...   \n",
      "79  [{Francesco, Panto}, {Saito, Tamaki}, {Morita,...   \n",
      "80  [{Kompier, Ronald}, {Pieter, Neels}, {Beyer, W...   \n",
      "81  [{Silvia Mariela, Méndez-Prado}, {Medina-Casti...   \n",
      "82  [{Adetutu Deborah, AINA-PELEMO}, {Olujobi, Olu...   \n",
      "\n",
      "                                        Full_Text_URL  \\\n",
      "0   https://f1000research.com/extapi/article/xml?d...   \n",
      "1   https://f1000research.com/extapi/article/xml?d...   \n",
      "2   https://f1000research.com/extapi/article/xml?d...   \n",
      "3   https://f1000research.com/extapi/article/xml?d...   \n",
      "4   https://f1000research.com/extapi/article/xml?d...   \n",
      "..                                                ...   \n",
      "78  https://f1000research.com/extapi/article/xml?d...   \n",
      "79  https://f1000research.com/extapi/article/xml?d...   \n",
      "80  https://f1000research.com/extapi/article/xml?d...   \n",
      "81  https://f1000research.com/extapi/article/xml?d...   \n",
      "82  https://f1000research.com/extapi/article/xml?d...   \n",
      "\n",
      "                                    Full_Text_Content  \n",
      "0   \\n\\nIntroduction\\nDetection of rare species is...  \n",
      "1   \\n\\nIntroduction\\nRice (\\n                Oryz...  \n",
      "2   \\n\\nIntroduction\\nGene set enrichment analysis...  \n",
      "3   \\n\\nIntroduction\\nCrowd-sourcing has gained co...  \n",
      "4   \\n\\nIntroduction\\nArtemisinin combination ther...  \n",
      "..                                                ...  \n",
      "78  \\n\\nAetiology: COVID-19\\nCoronaviruses are a g...  \n",
      "79  \\n\\nIntroduction\\n\\nFiction and non-fiction pe...  \n",
      "80  \\n\\nIntroduction\\nInfluenza virus infections c...  \n",
      "81  \\n\\nIntroduction\\nSince the escalation of the ...  \n",
      "82  \\n\\nIntroduction\\nViolence is a concept that h...  \n",
      "\n",
      "[83 rows x 5 columns]\n",
      "data_df after calling solr_api with f1000:                                                 Title  \\\n",
      "0   Integrating small population effects on both d...   \n",
      "1   Effect of rice variety and blending proportion...   \n",
      "2   Constellation Map: Downstream visualization an...   \n",
      "3   DREAMTools: a Python package for scoring colla...   \n",
      "4   South-East Asian strains of \\n                ...   \n",
      "..                                                ...   \n",
      "78  Gilles de la Tourette Syndrome: advice in the ...   \n",
      "79  Mental health care for young people using vide...   \n",
      "80  Analysis of the safety and immunogenicity prof...   \n",
      "81  The economic effects of perceptions of the Rus...   \n",
      "82  A socio-legal imperative of domestic violence ...   \n",
      "\n",
      "                                DOI  \\\n",
      "0   10.12688/f1000research.2-234.v1   \n",
      "1     10.12688/f1000research.6201.1   \n",
      "2     10.12688/f1000research.6644.1   \n",
      "3     10.12688/f1000research.7118.2   \n",
      "4     10.12688/f1000research.9372.2   \n",
      "..                              ...   \n",
      "78   10.12688/f1000research.23275.2   \n",
      "79  10.12688/f1000research.119764.1   \n",
      "80   10.12688/f1000research.75869.2   \n",
      "81  10.12688/f1000research.131992.1   \n",
      "82  10.12688/f1000research.132413.4   \n",
      "\n",
      "                                              Authors  \\\n",
      "0         [{Brian R., Hudgens}, {David K., Garcelon}]   \n",
      "1   [{Sintayehu, Legesse}, {Solomon, Worku}, {Gere...   \n",
      "2   [{Yan, Tan}, {Wu, Felix}, {Tamayo, Pablo}, {W....   \n",
      "3   [{Thomas, Cokelaer}, {Mukesh, Bansal}, {Christ...   \n",
      "4             [{Gajinder Pal, Singh}, {Sharma, Amit}]   \n",
      "..                                                ...   \n",
      "78  [{Robertson, Mary M.}, {Valsamma, Eapen}, {Ren...   \n",
      "79  [{Francesco, Panto}, {Saito, Tamaki}, {Morita,...   \n",
      "80  [{Kompier, Ronald}, {Pieter, Neels}, {Beyer, W...   \n",
      "81  [{Silvia Mariela, Méndez-Prado}, {Medina-Casti...   \n",
      "82  [{Adetutu Deborah, AINA-PELEMO}, {Olujobi, Olu...   \n",
      "\n",
      "                                        Full_Text_URL  \\\n",
      "0   https://f1000research.com/extapi/article/xml?d...   \n",
      "1   https://f1000research.com/extapi/article/xml?d...   \n",
      "2   https://f1000research.com/extapi/article/xml?d...   \n",
      "3   https://f1000research.com/extapi/article/xml?d...   \n",
      "4   https://f1000research.com/extapi/article/xml?d...   \n",
      "..                                                ...   \n",
      "78  https://f1000research.com/extapi/article/xml?d...   \n",
      "79  https://f1000research.com/extapi/article/xml?d...   \n",
      "80  https://f1000research.com/extapi/article/xml?d...   \n",
      "81  https://f1000research.com/extapi/article/xml?d...   \n",
      "82  https://f1000research.com/extapi/article/xml?d...   \n",
      "\n",
      "                                    Full_Text_Content  \n",
      "0   \\n\\nIntroduction\\nDetection of rare species is...  \n",
      "1   \\n\\nIntroduction\\nRice (\\n                Oryz...  \n",
      "2   \\n\\nIntroduction\\nGene set enrichment analysis...  \n",
      "3   \\n\\nIntroduction\\nCrowd-sourcing has gained co...  \n",
      "4   \\n\\nIntroduction\\nArtemisinin combination ther...  \n",
      "..                                                ...  \n",
      "78  \\n\\nAetiology: COVID-19\\nCoronaviruses are a g...  \n",
      "79  \\n\\nIntroduction\\n\\nFiction and non-fiction pe...  \n",
      "80  \\n\\nIntroduction\\nInfluenza virus infections c...  \n",
      "81  \\n\\nIntroduction\\nSince the escalation of the ...  \n",
      "82  \\n\\nIntroduction\\nViolence is a concept that h...  \n",
      "\n",
      "[83 rows x 5 columns]\n",
      "Filename output: Green+energy_wellcome_20230717.xlsx\n",
      "\n",
      "data: <?xml version=\"1.0\" encoding=\"UTF-8\" standalone=\"yes\"?><results numberOfResultsInPage=\"100\" totalNumberOfPages=\"3\"><doi>10.12688/wellcomeopenres.15761.1</doi><doi>10.12688/wellcomeopenres.12246.1</doi><doi>10.12688/wellcomeopenres.12338.2</doi><doi>10.12688/wellcomeopenres.15610.1</doi><doi>10.12688/wellcomeopenres.18034.1</doi><doi>10.12688/wellcomeopenres.10284.2</doi><doi>10.12688/wellcomeopenres.16380.2</doi><doi>10.12688/wellcomeopenres.10646.1</doi><doi>10.12688/wellcomeopenres.15396.2</doi><doi>10.12688/wellcomeopenres.15974.2</doi><doi>10.12688/wellcomeopenres.18637.1</doi><doi>10.12688/wellcomeopenres.17261.2</doi><doi>10.12688/wellcomeopenres.15807.2</doi><doi>10.12688/wellcomeopenres.16405.1</doi><doi>10.12688/wellcomeopenres.17964.2</doi><doi>10.12688/wellcomeopenres.10036.2</doi><doi>10.12688/wellcomeopenres.16517.2</doi><doi>10.12688/wellcomeopenres.16744.1</doi><doi>10.12688/wellcomeopenres.16113.2</doi><doi>10.12688/wellcomeopenres.18327.1</doi><doi>10.12688/wellcomeopenres.15232.2</doi><doi>10.12688/wellcomeopenres.14907.2</doi><doi>10.12688/wellcomeopenres.17965.1</doi><doi>10.12688/wellcomeopenres.11087.1</doi><doi>10.12688/wellcomeopenres.16068.1</doi><doi>10.12688/wellcomeopenres.15552.2</doi><doi>10.12688/wellcomeopenres.15617.3</doi><doi>10.12688/wellcomeopenres.15893.2</doi><doi>10.12688/wellcomeopenres.16718.1</doi><doi>10.12688/wellcomeopenres.14709.3</doi><doi>10.12688/wellcomeopenres.17536.1</doi><doi>10.12688/wellcomeopenres.15343.2</doi><doi>10.12688/wellcomeopenres.16734.4</doi><doi>10.12688/wellcomeopenres.18955.1</doi><doi>10.12688/wellcomeopenres.16106.3</doi><doi>10.12688/wellcomeopenres.18657.1</doi><doi>10.12688/wellcomeopenres.16939.1</doi><doi>10.12688/wellcomeopenres.15191.2</doi><doi>10.12688/wellcomeopenres.17996.2</doi><doi>10.12688/wellcomeopenres.11253.2</doi><doi>10.12688/wellcomeopenres.13893.2</doi><doi>10.12688/wellcomeopenres.15058.1</doi><doi>10.12688/wellcomeopenres.16259.9</doi><doi>10.12688/wellcomeopenres.16061.1</doi><doi>10.12688/wellcomeopenres.14675.1</doi><doi>10.12688/wellcomeopenres.14721.1</doi><doi>10.12688/wellcomeopenres.13888.1</doi><doi>10.12688/wellcomeopenres.17656.1</doi><doi>10.12688/wellcomeopenres.13113.2</doi><doi>10.12688/wellcomeopenres.12394.1</doi><doi>10.12688/wellcomeopenres.16171.2</doi><doi>10.12688/wellcomeopenres.17716.1</doi><doi>10.12688/wellcomeopenres.14908.2</doi><doi>10.12688/wellcomeopenres.18838.1</doi><doi>10.12688/wellcomeopenres.17736.2</doi><doi>10.12688/wellcomeopenres.14867.2</doi><doi>10.12688/wellcomeopenres.15726.2</doi><doi>10.12688/wellcomeopenres.15992.1</doi><doi>10.12688/wellcomeopenres.18937.2</doi><doi>10.12688/wellcomeopenres.12058.1</doi><doi>10.12688/wellcomeopenres.16320.2</doi><doi>10.12688/wellcomeopenres.16063.2</doi><doi>10.12688/wellcomeopenres.16091.3</doi><doi>10.12688/wellcomeopenres.17124.2</doi><doi>10.12688/wellcomeopenres.16153.1</doi><doi>10.12688/wellcomeopenres.15986.3</doi><doi>10.12688/wellcomeopenres.15048.2</doi><doi>10.12688/wellcomeopenres.15729.2</doi><doi>10.12688/wellcomeopenres.14974.2</doi><doi>10.12688/wellcomeopenres.17379.2</doi><doi>10.12688/wellcomeopenres.14073.3</doi><doi>10.12688/wellcomeopenres.15333.2</doi><doi>10.12688/wellcomeopenres.14950.2</doi><doi>10.12688/wellcomeopenres.16417.1</doi><doi>10.12688/wellcomeopenres.16572.1</doi><doi>10.12688/wellcomeopenres.16168.2</doi><doi>10.12688/wellcomeopenres.18251.1</doi><doi>10.12688/wellcomeopenres.14392.1</doi><doi>10.12688/wellcomeopenres.15770.1</doi><doi>10.12688/wellcomeopenres.16801.2</doi><doi>10.12688/wellcomeopenres.16639.1</doi><doi>10.12688/wellcomeopenres.18742.1</doi><doi>10.12688/wellcomeopenres.17779.1</doi><doi>10.12688/wellcomeopenres.16283.1</doi><doi>10.12688/wellcomeopenres.16131.2</doi><doi>10.12688/wellcomeopenres.10011.1</doi><doi>10.12688/wellcomeopenres.15906.2</doi><doi>10.12688/wellcomeopenres.16107.1</doi><doi>10.12688/wellcomeopenres.15108.1</doi><doi>10.12688/wellcomeopenres.16524.3</doi><doi>10.12688/wellcomeopenres.11926.1</doi><doi>10.12688/wellcomeopenres.15628.3</doi><doi>10.12688/wellcomeopenres.12171.1</doi><doi>10.12688/wellcomeopenres.11246.3</doi><doi>10.12688/wellcomeopenres.15421.1</doi><doi>10.12688/wellcomeopenres.17723.1</doi><doi>10.12688/wellcomeopenres.15477.2</doi><doi>10.12688/wellcomeopenres.16889.1</doi><doi>10.12688/wellcomeopenres.12176.2</doi><doi>10.12688/wellcomeopenres.17005.3</doi></results>\n",
      "Total number of pages: 3\n",
      "doi downloaded\n",
      "doi downloaded\n",
      "doi downloaded\n",
      "doi downloaded\n",
      "doi downloaded\n",
      "doi downloaded\n",
      "doi downloaded\n",
      "doi downloaded\n",
      "doi downloaded\n",
      "doi downloaded\n",
      "doi downloaded\n",
      "doi downloaded\n",
      "doi downloaded\n",
      "doi downloaded\n",
      "doi downloaded\n",
      "doi downloaded\n",
      "doi downloaded\n",
      "doi downloaded\n",
      "doi downloaded\n",
      "doi downloaded\n",
      "doi downloaded\n",
      "doi downloaded\n",
      "doi downloaded\n",
      "doi downloaded\n",
      "doi downloaded\n",
      "doi downloaded\n",
      "doi downloaded\n",
      "doi downloaded\n",
      "doi downloaded\n",
      "doi downloaded\n",
      "doi downloaded\n",
      "doi downloaded\n",
      "doi downloaded\n",
      "doi downloaded\n",
      "doi downloaded\n",
      "doi downloaded\n",
      "doi downloaded\n"
     ]
    },
    {
     "name": "stderr",
     "output_type": "stream",
     "text": [
      "/usr/local/lib/python3.10/dist-packages/bs4/builder/__init__.py:545: XMLParsedAsHTMLWarning: It looks like you're parsing an XML document using an HTML parser. If this really is an HTML document (maybe it's XHTML?), you can ignore or filter this warning. If it's XML, you should know that using an XML parser will be more reliable. To parse this document as XML, make sure you have the lxml package installed, and pass the keyword argument `features=\"xml\"` into the BeautifulSoup constructor.\n",
      "  warnings.warn(\n"
     ]
    },
    {
     "name": "stdout",
     "output_type": "stream",
     "text": [
      "Generalized mean \n",
      "                    p-values for combining dependent tests: comparison of generalized central limit theorem and robust risk analysis\n",
      "Prevalences of inherited red blood cell disorders in pregnant women of different ethnicities living along the Thailand-Myanmar border\n"
     ]
    },
    {
     "name": "stderr",
     "output_type": "stream",
     "text": [
      "/usr/local/lib/python3.10/dist-packages/bs4/builder/__init__.py:545: XMLParsedAsHTMLWarning: It looks like you're parsing an XML document using an HTML parser. If this really is an HTML document (maybe it's XHTML?), you can ignore or filter this warning. If it's XML, you should know that using an XML parser will be more reliable. To parse this document as XML, make sure you have the lxml package installed, and pass the keyword argument `features=\"xml\"` into the BeautifulSoup constructor.\n",
      "  warnings.warn(\n"
     ]
    },
    {
     "name": "stdout",
     "output_type": "stream",
     "text": [
      "Starting School: a large-scale start of school assessment within the ‘Born in Bradford’ longitudinal cohort\n"
     ]
    },
    {
     "name": "stderr",
     "output_type": "stream",
     "text": [
      "/usr/local/lib/python3.10/dist-packages/bs4/builder/__init__.py:545: XMLParsedAsHTMLWarning: It looks like you're parsing an XML document using an HTML parser. If this really is an HTML document (maybe it's XHTML?), you can ignore or filter this warning. If it's XML, you should know that using an XML parser will be more reliable. To parse this document as XML, make sure you have the lxml package installed, and pass the keyword argument `features=\"xml\"` into the BeautifulSoup constructor.\n",
      "  warnings.warn(\n"
     ]
    },
    {
     "name": "stdout",
     "output_type": "stream",
     "text": [
      "Risk messages relating to fertility and pregnancy: a media content analysis\n"
     ]
    },
    {
     "name": "stderr",
     "output_type": "stream",
     "text": [
      "/usr/local/lib/python3.10/dist-packages/bs4/builder/__init__.py:545: XMLParsedAsHTMLWarning: It looks like you're parsing an XML document using an HTML parser. If this really is an HTML document (maybe it's XHTML?), you can ignore or filter this warning. If it's XML, you should know that using an XML parser will be more reliable. To parse this document as XML, make sure you have the lxml package installed, and pass the keyword argument `features=\"xml\"` into the BeautifulSoup constructor.\n",
      "  warnings.warn(\n"
     ]
    },
    {
     "name": "stdout",
     "output_type": "stream",
     "text": [
      "Associations between psychological factors and religious/spiritual beliefs and behaviours in a prospective cohort study (ALSPAC) in Southwest England: A descriptive study\n"
     ]
    },
    {
     "name": "stderr",
     "output_type": "stream",
     "text": [
      "/usr/local/lib/python3.10/dist-packages/bs4/builder/__init__.py:545: XMLParsedAsHTMLWarning: It looks like you're parsing an XML document using an HTML parser. If this really is an HTML document (maybe it's XHTML?), you can ignore or filter this warning. If it's XML, you should know that using an XML parser will be more reliable. To parse this document as XML, make sure you have the lxml package installed, and pass the keyword argument `features=\"xml\"` into the BeautifulSoup constructor.\n",
      "  warnings.warn(\n"
     ]
    },
    {
     "name": "stdout",
     "output_type": "stream",
     "text": [
      "Evaluation of a hypothetical decision-support tool for intensive care triage of patients with coronavirus disease 2019 (COVID-19)\n"
     ]
    },
    {
     "name": "stderr",
     "output_type": "stream",
     "text": [
      "/usr/local/lib/python3.10/dist-packages/bs4/builder/__init__.py:545: XMLParsedAsHTMLWarning: It looks like you're parsing an XML document using an HTML parser. If this really is an HTML document (maybe it's XHTML?), you can ignore or filter this warning. If it's XML, you should know that using an XML parser will be more reliable. To parse this document as XML, make sure you have the lxml package installed, and pass the keyword argument `features=\"xml\"` into the BeautifulSoup constructor.\n",
      "  warnings.warn(\n"
     ]
    },
    {
     "name": "stdout",
     "output_type": "stream",
     "text": [
      "Genetic and environmental determinants of stressful life events and their overlap with depression and neuroticism\n"
     ]
    },
    {
     "name": "stderr",
     "output_type": "stream",
     "text": [
      "/usr/local/lib/python3.10/dist-packages/bs4/builder/__init__.py:545: XMLParsedAsHTMLWarning: It looks like you're parsing an XML document using an HTML parser. If this really is an HTML document (maybe it's XHTML?), you can ignore or filter this warning. If it's XML, you should know that using an XML parser will be more reliable. To parse this document as XML, make sure you have the lxml package installed, and pass the keyword argument `features=\"xml\"` into the BeautifulSoup constructor.\n",
      "  warnings.warn(\n"
     ]
    },
    {
     "name": "stdout",
     "output_type": "stream",
     "text": [
      "Approaches to minimising the epidemiological impact of sources of systematic and random variation that may affect biochemistry assay data in UK Biobank\n"
     ]
    },
    {
     "name": "stderr",
     "output_type": "stream",
     "text": [
      "/usr/local/lib/python3.10/dist-packages/bs4/builder/__init__.py:545: XMLParsedAsHTMLWarning: It looks like you're parsing an XML document using an HTML parser. If this really is an HTML document (maybe it's XHTML?), you can ignore or filter this warning. If it's XML, you should know that using an XML parser will be more reliable. To parse this document as XML, make sure you have the lxml package installed, and pass the keyword argument `features=\"xml\"` into the BeautifulSoup constructor.\n",
      "  warnings.warn(\n"
     ]
    },
    {
     "name": "stdout",
     "output_type": "stream",
     "text": [
      "Molecular characterization of rotavirus group A strains circulating prior to vaccine introduction in rural coastal Kenya, 2002-2013\n"
     ]
    },
    {
     "name": "stderr",
     "output_type": "stream",
     "text": [
      "/usr/local/lib/python3.10/dist-packages/bs4/builder/__init__.py:545: XMLParsedAsHTMLWarning: It looks like you're parsing an XML document using an HTML parser. If this really is an HTML document (maybe it's XHTML?), you can ignore or filter this warning. If it's XML, you should know that using an XML parser will be more reliable. To parse this document as XML, make sure you have the lxml package installed, and pass the keyword argument `features=\"xml\"` into the BeautifulSoup constructor.\n",
      "  warnings.warn(\n"
     ]
    },
    {
     "name": "stdout",
     "output_type": "stream",
     "text": [
      "Shielding individuals at high risk of COVID-19: A micro-simulation study\n"
     ]
    },
    {
     "name": "stderr",
     "output_type": "stream",
     "text": [
      "/usr/local/lib/python3.10/dist-packages/bs4/builder/__init__.py:545: XMLParsedAsHTMLWarning: It looks like you're parsing an XML document using an HTML parser. If this really is an HTML document (maybe it's XHTML?), you can ignore or filter this warning. If it's XML, you should know that using an XML parser will be more reliable. To parse this document as XML, make sure you have the lxml package installed, and pass the keyword argument `features=\"xml\"` into the BeautifulSoup constructor.\n",
      "  warnings.warn(\n"
     ]
    },
    {
     "name": "stdout",
     "output_type": "stream",
     "text": [
      "Sweet taste does not modulate pain perception in adult humans\n"
     ]
    },
    {
     "name": "stderr",
     "output_type": "stream",
     "text": [
      "/usr/local/lib/python3.10/dist-packages/bs4/builder/__init__.py:545: XMLParsedAsHTMLWarning: It looks like you're parsing an XML document using an HTML parser. If this really is an HTML document (maybe it's XHTML?), you can ignore or filter this warning. If it's XML, you should know that using an XML parser will be more reliable. To parse this document as XML, make sure you have the lxml package installed, and pass the keyword argument `features=\"xml\"` into the BeautifulSoup constructor.\n",
      "  warnings.warn(\n"
     ]
    },
    {
     "name": "stdout",
     "output_type": "stream",
     "text": [
      "Quantification of fetal organ sparing in maternal low-protein dietary models\n"
     ]
    },
    {
     "name": "stderr",
     "output_type": "stream",
     "text": [
      "/usr/local/lib/python3.10/dist-packages/bs4/builder/__init__.py:545: XMLParsedAsHTMLWarning: It looks like you're parsing an XML document using an HTML parser. If this really is an HTML document (maybe it's XHTML?), you can ignore or filter this warning. If it's XML, you should know that using an XML parser will be more reliable. To parse this document as XML, make sure you have the lxml package installed, and pass the keyword argument `features=\"xml\"` into the BeautifulSoup constructor.\n",
      "  warnings.warn(\n"
     ]
    },
    {
     "name": "stdout",
     "output_type": "stream",
     "text": [
      "Modelling pooling strategies for SARS-CoV-2 testing in a university setting\n"
     ]
    },
    {
     "name": "stderr",
     "output_type": "stream",
     "text": [
      "/usr/local/lib/python3.10/dist-packages/bs4/builder/__init__.py:545: XMLParsedAsHTMLWarning: It looks like you're parsing an XML document using an HTML parser. If this really is an HTML document (maybe it's XHTML?), you can ignore or filter this warning. If it's XML, you should know that using an XML parser will be more reliable. To parse this document as XML, make sure you have the lxml package installed, and pass the keyword argument `features=\"xml\"` into the BeautifulSoup constructor.\n",
      "  warnings.warn(\n"
     ]
    },
    {
     "name": "stdout",
     "output_type": "stream",
     "text": [
      "Improving causality in microbiome research: can human genetic epidemiology help?\n"
     ]
    },
    {
     "name": "stderr",
     "output_type": "stream",
     "text": [
      "/usr/local/lib/python3.10/dist-packages/bs4/builder/__init__.py:545: XMLParsedAsHTMLWarning: It looks like you're parsing an XML document using an HTML parser. If this really is an HTML document (maybe it's XHTML?), you can ignore or filter this warning. If it's XML, you should know that using an XML parser will be more reliable. To parse this document as XML, make sure you have the lxml package installed, and pass the keyword argument `features=\"xml\"` into the BeautifulSoup constructor.\n",
      "  warnings.warn(\n"
     ]
    },
    {
     "name": "stdout",
     "output_type": "stream",
     "text": [
      "Robust long-read native DNA sequencing using the ONT CsgG Nanopore system\n"
     ]
    },
    {
     "name": "stderr",
     "output_type": "stream",
     "text": [
      "/usr/local/lib/python3.10/dist-packages/bs4/builder/__init__.py:545: XMLParsedAsHTMLWarning: It looks like you're parsing an XML document using an HTML parser. If this really is an HTML document (maybe it's XHTML?), you can ignore or filter this warning. If it's XML, you should know that using an XML parser will be more reliable. To parse this document as XML, make sure you have the lxml package installed, and pass the keyword argument `features=\"xml\"` into the BeautifulSoup constructor.\n",
      "  warnings.warn(\n"
     ]
    },
    {
     "name": "stdout",
     "output_type": "stream",
     "text": [
      "Prevalence and correlates of neurocognitive impairment and psychiatric disorders among schoolchildren in Wakiso District, Uganda: a cross-sectional study\n"
     ]
    },
    {
     "name": "stderr",
     "output_type": "stream",
     "text": [
      "/usr/local/lib/python3.10/dist-packages/bs4/builder/__init__.py:545: XMLParsedAsHTMLWarning: It looks like you're parsing an XML document using an HTML parser. If this really is an HTML document (maybe it's XHTML?), you can ignore or filter this warning. If it's XML, you should know that using an XML parser will be more reliable. To parse this document as XML, make sure you have the lxml package installed, and pass the keyword argument `features=\"xml\"` into the BeautifulSoup constructor.\n",
      "  warnings.warn(\n"
     ]
    },
    {
     "name": "stdout",
     "output_type": "stream",
     "text": [
      "Health economic analyses of latent tuberculosis infection screening and preventive treatment among people living with HIV in lower tuberculosis incidence settings: a systematic review\n"
     ]
    },
    {
     "name": "stderr",
     "output_type": "stream",
     "text": [
      "/usr/local/lib/python3.10/dist-packages/bs4/builder/__init__.py:545: XMLParsedAsHTMLWarning: It looks like you're parsing an XML document using an HTML parser. If this really is an HTML document (maybe it's XHTML?), you can ignore or filter this warning. If it's XML, you should know that using an XML parser will be more reliable. To parse this document as XML, make sure you have the lxml package installed, and pass the keyword argument `features=\"xml\"` into the BeautifulSoup constructor.\n",
      "  warnings.warn(\n"
     ]
    },
    {
     "name": "stdout",
     "output_type": "stream",
     "text": [
      "Life course programming of stress responses in adolescents and young adults in India: Protocol of the Stress Responses in Adolescence and Vulnerability to Adult Non-communicable disease (SRAVANA) Study\n"
     ]
    },
    {
     "name": "stderr",
     "output_type": "stream",
     "text": [
      "/usr/local/lib/python3.10/dist-packages/bs4/builder/__init__.py:545: XMLParsedAsHTMLWarning: It looks like you're parsing an XML document using an HTML parser. If this really is an HTML document (maybe it's XHTML?), you can ignore or filter this warning. If it's XML, you should know that using an XML parser will be more reliable. To parse this document as XML, make sure you have the lxml package installed, and pass the keyword argument `features=\"xml\"` into the BeautifulSoup constructor.\n",
      "  warnings.warn(\n"
     ]
    },
    {
     "name": "stdout",
     "output_type": "stream",
     "text": [
      "Implementation barriers for mHealth for non-communicable diseases management in low and middle income countries: a scoping review and field-based views from implementers\n"
     ]
    },
    {
     "name": "stderr",
     "output_type": "stream",
     "text": [
      "/usr/local/lib/python3.10/dist-packages/bs4/builder/__init__.py:545: XMLParsedAsHTMLWarning: It looks like you're parsing an XML document using an HTML parser. If this really is an HTML document (maybe it's XHTML?), you can ignore or filter this warning. If it's XML, you should know that using an XML parser will be more reliable. To parse this document as XML, make sure you have the lxml package installed, and pass the keyword argument `features=\"xml\"` into the BeautifulSoup constructor.\n",
      "  warnings.warn(\n"
     ]
    },
    {
     "name": "stdout",
     "output_type": "stream",
     "text": [
      "A re-assessment of gene-tag classification approaches for describing \n",
      "                    var gene expression patterns during human \n",
      "                    Plasmodium falciparum malaria parasite infections\n"
     ]
    },
    {
     "name": "stderr",
     "output_type": "stream",
     "text": [
      "/usr/local/lib/python3.10/dist-packages/bs4/builder/__init__.py:545: XMLParsedAsHTMLWarning: It looks like you're parsing an XML document using an HTML parser. If this really is an HTML document (maybe it's XHTML?), you can ignore or filter this warning. If it's XML, you should know that using an XML parser will be more reliable. To parse this document as XML, make sure you have the lxml package installed, and pass the keyword argument `features=\"xml\"` into the BeautifulSoup constructor.\n",
      "  warnings.warn(\n"
     ]
    },
    {
     "name": "stdout",
     "output_type": "stream",
     "text": [
      "Coronary artery disease, genetic risk and the metabolome in young individuals\n"
     ]
    },
    {
     "name": "stderr",
     "output_type": "stream",
     "text": [
      "/usr/local/lib/python3.10/dist-packages/bs4/builder/__init__.py:545: XMLParsedAsHTMLWarning: It looks like you're parsing an XML document using an HTML parser. If this really is an HTML document (maybe it's XHTML?), you can ignore or filter this warning. If it's XML, you should know that using an XML parser will be more reliable. To parse this document as XML, make sure you have the lxml package installed, and pass the keyword argument `features=\"xml\"` into the BeautifulSoup constructor.\n",
      "  warnings.warn(\n"
     ]
    },
    {
     "name": "stdout",
     "output_type": "stream",
     "text": [
      "MindKind: A mixed-methods protocol for the feasibility of global digital mental health studies in young people\n"
     ]
    },
    {
     "name": "stderr",
     "output_type": "stream",
     "text": [
      "/usr/local/lib/python3.10/dist-packages/bs4/builder/__init__.py:545: XMLParsedAsHTMLWarning: It looks like you're parsing an XML document using an HTML parser. If this really is an HTML document (maybe it's XHTML?), you can ignore or filter this warning. If it's XML, you should know that using an XML parser will be more reliable. To parse this document as XML, make sure you have the lxml package installed, and pass the keyword argument `features=\"xml\"` into the BeautifulSoup constructor.\n",
      "  warnings.warn(\n"
     ]
    },
    {
     "name": "stdout",
     "output_type": "stream",
     "text": [
      "Stage 2 Registered Report: Variation in neurodevelopmental outcomes in children with sex chromosome trisomies: testing the double hit hypothesis\n"
     ]
    },
    {
     "name": "stderr",
     "output_type": "stream",
     "text": [
      "/usr/local/lib/python3.10/dist-packages/bs4/builder/__init__.py:545: XMLParsedAsHTMLWarning: It looks like you're parsing an XML document using an HTML parser. If this really is an HTML document (maybe it's XHTML?), you can ignore or filter this warning. If it's XML, you should know that using an XML parser will be more reliable. To parse this document as XML, make sure you have the lxml package installed, and pass the keyword argument `features=\"xml\"` into the BeautifulSoup constructor.\n",
      "  warnings.warn(\n"
     ]
    },
    {
     "name": "stdout",
     "output_type": "stream",
     "text": [
      "Mortality in rural coastal Kenya measured using the Kilifi Health and Demographic Surveillance System: a 16-year descriptive analysis\n"
     ]
    },
    {
     "name": "stderr",
     "output_type": "stream",
     "text": [
      "/usr/local/lib/python3.10/dist-packages/bs4/builder/__init__.py:545: XMLParsedAsHTMLWarning: It looks like you're parsing an XML document using an HTML parser. If this really is an HTML document (maybe it's XHTML?), you can ignore or filter this warning. If it's XML, you should know that using an XML parser will be more reliable. To parse this document as XML, make sure you have the lxml package installed, and pass the keyword argument `features=\"xml\"` into the BeautifulSoup constructor.\n",
      "  warnings.warn(\n"
     ]
    },
    {
     "name": "stdout",
     "output_type": "stream",
     "text": [
      "Global intention of the general public to undergo COVID-19 vaccination: time trends and risk factors for vaccine refusal, a Systematic Review and Meta-analysis\n"
     ]
    },
    {
     "name": "stderr",
     "output_type": "stream",
     "text": [
      "/usr/local/lib/python3.10/dist-packages/bs4/builder/__init__.py:545: XMLParsedAsHTMLWarning: It looks like you're parsing an XML document using an HTML parser. If this really is an HTML document (maybe it's XHTML?), you can ignore or filter this warning. If it's XML, you should know that using an XML parser will be more reliable. To parse this document as XML, make sure you have the lxml package installed, and pass the keyword argument `features=\"xml\"` into the BeautifulSoup constructor.\n",
      "  warnings.warn(\n"
     ]
    },
    {
     "name": "stdout",
     "output_type": "stream",
     "text": [
      "Addressing diversity and complexity in the community engagement literature: The rationale for a realist review\n"
     ]
    },
    {
     "name": "stderr",
     "output_type": "stream",
     "text": [
      "/usr/local/lib/python3.10/dist-packages/bs4/builder/__init__.py:545: XMLParsedAsHTMLWarning: It looks like you're parsing an XML document using an HTML parser. If this really is an HTML document (maybe it's XHTML?), you can ignore or filter this warning. If it's XML, you should know that using an XML parser will be more reliable. To parse this document as XML, make sure you have the lxml package installed, and pass the keyword argument `features=\"xml\"` into the BeautifulSoup constructor.\n",
      "  warnings.warn(\n"
     ]
    },
    {
     "name": "stdout",
     "output_type": "stream",
     "text": [
      "Could dementia be detected from UK primary care patients’ records by simple automated methods earlier than by the treating physician? A retrospective case-control study\n"
     ]
    },
    {
     "name": "stderr",
     "output_type": "stream",
     "text": [
      "/usr/local/lib/python3.10/dist-packages/bs4/builder/__init__.py:545: XMLParsedAsHTMLWarning: It looks like you're parsing an XML document using an HTML parser. If this really is an HTML document (maybe it's XHTML?), you can ignore or filter this warning. If it's XML, you should know that using an XML parser will be more reliable. To parse this document as XML, make sure you have the lxml package installed, and pass the keyword argument `features=\"xml\"` into the BeautifulSoup constructor.\n",
      "  warnings.warn(\n"
     ]
    },
    {
     "name": "stdout",
     "output_type": "stream",
     "text": [
      "A comparison of the World Health Organisation's HEAT model results using a non-linear physical activity dose response function with results from the existing tool\n"
     ]
    },
    {
     "name": "stderr",
     "output_type": "stream",
     "text": [
      "/usr/local/lib/python3.10/dist-packages/bs4/builder/__init__.py:545: XMLParsedAsHTMLWarning: It looks like you're parsing an XML document using an HTML parser. If this really is an HTML document (maybe it's XHTML?), you can ignore or filter this warning. If it's XML, you should know that using an XML parser will be more reliable. To parse this document as XML, make sure you have the lxml package installed, and pass the keyword argument `features=\"xml\"` into the BeautifulSoup constructor.\n",
      "  warnings.warn(\n"
     ]
    },
    {
     "name": "stdout",
     "output_type": "stream",
     "text": [
      "A rapid review and meta-analysis of the asymptomatic proportion of PCR-confirmed SARS-CoV-2 infections in community settings\n"
     ]
    },
    {
     "name": "stderr",
     "output_type": "stream",
     "text": [
      "/usr/local/lib/python3.10/dist-packages/bs4/builder/__init__.py:545: XMLParsedAsHTMLWarning: It looks like you're parsing an XML document using an HTML parser. If this really is an HTML document (maybe it's XHTML?), you can ignore or filter this warning. If it's XML, you should know that using an XML parser will be more reliable. To parse this document as XML, make sure you have the lxml package installed, and pass the keyword argument `features=\"xml\"` into the BeautifulSoup constructor.\n",
      "  warnings.warn(\n"
     ]
    },
    {
     "name": "stdout",
     "output_type": "stream",
     "text": [
      "From severe acute respiratory syndrome (SARS) and Middle East respiratory syndrome (MERS) to coronavirus disease 2019 (COVID-19): a systematic review of the quality and responsiveness of clinical management guidelines in outbreak settings\n"
     ]
    },
    {
     "name": "stderr",
     "output_type": "stream",
     "text": [
      "/usr/local/lib/python3.10/dist-packages/bs4/builder/__init__.py:545: XMLParsedAsHTMLWarning: It looks like you're parsing an XML document using an HTML parser. If this really is an HTML document (maybe it's XHTML?), you can ignore or filter this warning. If it's XML, you should know that using an XML parser will be more reliable. To parse this document as XML, make sure you have the lxml package installed, and pass the keyword argument `features=\"xml\"` into the BeautifulSoup constructor.\n",
      "  warnings.warn(\n"
     ]
    },
    {
     "name": "stdout",
     "output_type": "stream",
     "text": [
      "Patient satisfaction with mental and physical health services: Findings from a UK-wide online survey\n"
     ]
    },
    {
     "name": "stderr",
     "output_type": "stream",
     "text": [
      "/usr/local/lib/python3.10/dist-packages/bs4/builder/__init__.py:545: XMLParsedAsHTMLWarning: It looks like you're parsing an XML document using an HTML parser. If this really is an HTML document (maybe it's XHTML?), you can ignore or filter this warning. If it's XML, you should know that using an XML parser will be more reliable. To parse this document as XML, make sure you have the lxml package installed, and pass the keyword argument `features=\"xml\"` into the BeautifulSoup constructor.\n",
      "  warnings.warn(\n"
     ]
    },
    {
     "name": "stdout",
     "output_type": "stream",
     "text": [
      "Understanding the impact of the COVID-19 outbreak on vulnerable populations in Malaysia through an ethical lens: A study of non-state actors involved in aid distribution\n"
     ]
    },
    {
     "name": "stderr",
     "output_type": "stream",
     "text": [
      "/usr/local/lib/python3.10/dist-packages/bs4/builder/__init__.py:545: XMLParsedAsHTMLWarning: It looks like you're parsing an XML document using an HTML parser. If this really is an HTML document (maybe it's XHTML?), you can ignore or filter this warning. If it's XML, you should know that using an XML parser will be more reliable. To parse this document as XML, make sure you have the lxml package installed, and pass the keyword argument `features=\"xml\"` into the BeautifulSoup constructor.\n",
      "  warnings.warn(\n"
     ]
    },
    {
     "name": "stdout",
     "output_type": "stream",
     "text": [
      "Autism and social anxiety in children with sex chromosome trisomies: an observational study\n"
     ]
    },
    {
     "name": "stderr",
     "output_type": "stream",
     "text": [
      "/usr/local/lib/python3.10/dist-packages/bs4/builder/__init__.py:545: XMLParsedAsHTMLWarning: It looks like you're parsing an XML document using an HTML parser. If this really is an HTML document (maybe it's XHTML?), you can ignore or filter this warning. If it's XML, you should know that using an XML parser will be more reliable. To parse this document as XML, make sure you have the lxml package installed, and pass the keyword argument `features=\"xml\"` into the BeautifulSoup constructor.\n",
      "  warnings.warn(\n"
     ]
    },
    {
     "name": "stdout",
     "output_type": "stream",
     "text": [
      "A multi centre randomized open label trial of chloroquine for the treatment of adults with SARS-CoV-2 infection in Vietnam\n"
     ]
    },
    {
     "name": "stderr",
     "output_type": "stream",
     "text": [
      "/usr/local/lib/python3.10/dist-packages/bs4/builder/__init__.py:545: XMLParsedAsHTMLWarning: It looks like you're parsing an XML document using an HTML parser. If this really is an HTML document (maybe it's XHTML?), you can ignore or filter this warning. If it's XML, you should know that using an XML parser will be more reliable. To parse this document as XML, make sure you have the lxml package installed, and pass the keyword argument `features=\"xml\"` into the BeautifulSoup constructor.\n",
      "  warnings.warn(\n"
     ]
    },
    {
     "name": "stdout",
     "output_type": "stream",
     "text": [
      "miR-155 induction is a marker of murine norovirus infection but does not contribute to control of replication \n",
      "                    in vivo\n",
      "\n"
     ]
    },
    {
     "name": "stderr",
     "output_type": "stream",
     "text": [
      "/usr/local/lib/python3.10/dist-packages/bs4/builder/__init__.py:545: XMLParsedAsHTMLWarning: It looks like you're parsing an XML document using an HTML parser. If this really is an HTML document (maybe it's XHTML?), you can ignore or filter this warning. If it's XML, you should know that using an XML parser will be more reliable. To parse this document as XML, make sure you have the lxml package installed, and pass the keyword argument `features=\"xml\"` into the BeautifulSoup constructor.\n",
      "  warnings.warn(\n"
     ]
    },
    {
     "name": "stdout",
     "output_type": "stream",
     "text": [
      "BoneJ2 - refactoring established research software\n",
      "                                                Title  \\\n",
      "0   Generalized mean \\n                    p-value...   \n",
      "1   Prevalences of inherited red blood cell disord...   \n",
      "2   Starting School: a large-scale start of school...   \n",
      "3   Risk messages relating to fertility and pregna...   \n",
      "4   Associations between psychological factors and...   \n",
      "5   Evaluation of a hypothetical decision-support ...   \n",
      "6   Genetic and environmental determinants of stre...   \n",
      "7   Approaches to minimising the epidemiological i...   \n",
      "8   Molecular characterization of rotavirus group ...   \n",
      "9   Shielding individuals at high risk of COVID-19...   \n",
      "10  Sweet taste does not modulate pain perception ...   \n",
      "11  Quantification of fetal organ sparing in mater...   \n",
      "12                                                 NA   \n",
      "13  Modelling pooling strategies for SARS-CoV-2 te...   \n",
      "14  Improving causality in microbiome research: ca...   \n",
      "15  Robust long-read native DNA sequencing using t...   \n",
      "16  Prevalence and correlates of neurocognitive im...   \n",
      "17  Health economic analyses of latent tuberculosi...   \n",
      "18  Life course programming of stress responses in...   \n",
      "19  Implementation barriers for mHealth for non-co...   \n",
      "20  A re-assessment of gene-tag classification app...   \n",
      "21  Coronary artery disease, genetic risk and the ...   \n",
      "22  MindKind: A mixed-methods protocol for the fea...   \n",
      "23  Stage 2 Registered Report: Variation in neurod...   \n",
      "24  Mortality in rural coastal Kenya measured usin...   \n",
      "25  Global intention of the general public to unde...   \n",
      "26  Addressing diversity and complexity in the com...   \n",
      "27  Could dementia be detected from UK primary car...   \n",
      "28  A comparison of the World Health Organisation'...   \n",
      "29  A rapid review and meta-analysis of the asympt...   \n",
      "30  From severe acute respiratory syndrome (SARS) ...   \n",
      "31  Patient satisfaction with mental and physical ...   \n",
      "32  Understanding the impact of the COVID-19 outbr...   \n",
      "33  Autism and social anxiety in children with sex...   \n",
      "34  A multi centre randomized open label trial of ...   \n",
      "35  miR-155 induction is a marker of murine norovi...   \n",
      "36  BoneJ2 - refactoring established research soft...   \n",
      "\n",
      "                                 DOI  \\\n",
      "0   10.12688/wellcomeopenres.15761.1   \n",
      "1   10.12688/wellcomeopenres.12338.2   \n",
      "2   10.12688/wellcomeopenres.15610.1   \n",
      "3   10.12688/wellcomeopenres.16744.1   \n",
      "4   10.12688/wellcomeopenres.18955.1   \n",
      "5   10.12688/wellcomeopenres.16939.1   \n",
      "6   10.12688/wellcomeopenres.13893.2   \n",
      "7   10.12688/wellcomeopenres.16171.2   \n",
      "8   10.12688/wellcomeopenres.14908.2   \n",
      "9   10.12688/wellcomeopenres.18838.1   \n",
      "10  10.12688/wellcomeopenres.15726.2   \n",
      "11  10.12688/wellcomeopenres.17124.2   \n",
      "12  10.12688/wellcomeopenres.15048.2   \n",
      "13  10.12688/wellcomeopenres.16639.1   \n",
      "14  10.12688/wellcomeopenres.15628.3   \n",
      "15  10.12688/wellcomeopenres.11246.3   \n",
      "16  10.12688/wellcomeopenres.17005.3   \n",
      "17  10.12688/wellcomeopenres.16604.2   \n",
      "18  10.12688/wellcomeopenres.14583.1   \n",
      "19  10.12688/wellcomeopenres.15581.2   \n",
      "20  10.12688/wellcomeopenres.12053.1   \n",
      "21  10.12688/wellcomeopenres.14788.2   \n",
      "22  10.12688/wellcomeopenres.17167.2   \n",
      "23  10.12688/wellcomeopenres.14677.4   \n",
      "24  10.12688/wellcomeopenres.17307.2   \n",
      "25  10.12688/wellcomeopenres.17517.1   \n",
      "26  10.12688/wellcomeopenres.15525.2   \n",
      "27  10.12688/wellcomeopenres.15903.1   \n",
      "28  10.12688/wellcomeopenres.17411.2   \n",
      "29  10.12688/wellcomeopenres.16387.1   \n",
      "30  10.12688/wellcomeopenres.16735.1   \n",
      "31  10.12688/wellcomeopenres.17973.1   \n",
      "32  10.12688/wellcomeopenres.17239.2   \n",
      "33  10.12688/wellcomeopenres.15095.2   \n",
      "34  10.12688/wellcomeopenres.15936.1   \n",
      "35  10.12688/wellcomeopenres.14188.1   \n",
      "36  10.12688/wellcomeopenres.16619.2   \n",
      "\n",
      "                                              Authors  \\\n",
      "0                               [{Wilson, Daniel J.}]   \n",
      "1   [{Bancone, Germana}, {Gilder, Mary Ellen}, {No...   \n",
      "2   [{Shire, Katy}, {Elizabeth, Andrews}, {Barber,...   \n",
      "3   [{Olivia, Marshall}, {Blaylock, Rebecca}, {Cla...   \n",
      "4   [{Daniel, Major-Smith}, {Jimmy, Morgan}, {Hami...   \n",
      "5   [{Simon Thomas, Emily}, {Bryony, Peiris}, {Di ...   \n",
      "6   [{Toni-Kim, Clarke}, {Zeng, Yanni}, {Navrady, ...   \n",
      "7   [{Allen, Naomi E.}, {Arnold, Matthew}, {Parish...   \n",
      "8   [{Betty E., Owor}, {Mike J., Mwanga}, {Njeru, ...   \n",
      "9   [{Van Zandvoort, Kevin}, {Caroline, Favas}, {F...   \n",
      "10  [{Elizabeth R, Mooney}, {Alexander J, Davies},...   \n",
      "11  [{Serpente, Patricia}, {Zhang, Ying}, {Eva, Is...   \n",
      "12                                                 NA   \n",
      "13  [{Hemani, Gibran}, {Thomas, Amy C.}, {Walker, ...   \n",
      "14           [{Kaitlin H., Wade}, {Lindsay J., Hall}]   \n",
      "15        [{Carter, Jean-Michel}, {Hussain, Shobbir}]   \n",
      "16  [{Margaret, Nampijja}, {Sembajjwe, Wilber}, {H...   \n",
      "17  [{Rebecca F., Baggaley}, {Vegvari, Carolin}, {...   \n",
      "18  [{GV, Krishnaveni}, {Kalyanaraman, Kumaran}, {...   \n",
      "19  [{Josefien, van Olmen}, {Erica, Erwin}, {Garcí...   \n",
      "20             [{Githinji, George}, {Peter C., Bull}]   \n",
      "21  [{Thomas, Battram}, {Hoskins, Luke}, {Hughes, ...   \n",
      "22       [{Surname not found, Given names not found}]   \n",
      "23  [{Dianne F., Newbury}, {Nuala H., Simpson}, {P...   \n",
      "24  [{Otiende, Mark}, {Bauni, Evasius}, {Amek, Nya...   \n",
      "25  [{Ashwaghosha, Parthasarathi}, {Puvvada, Rahul...   \n",
      "26  [{Richardson, Emma Z.L.}, {Sunita V.S., Bandew...   \n",
      "27  [{Elizabeth, Ford}, {Starlinger, Johannes}, {P...   \n",
      "28  [{Robert A., Smith}, {Thomas, Chloe}, {Squires...   \n",
      "29  [{Beale, Sarah}, {Andrew, Hayward}, {Shallcros...   \n",
      "30  [{Lipworth, Samuel}, {Rigby, Ishmeala}, {Cheng...   \n",
      "31  [{Elizabeth J., Kirkham}, {Fletcher-Watson, Su...   \n",
      "32  [{Nungsari, Melati}, {Hui Yin, Chuah}, {Nicole...   \n",
      "33  [{Wilson, Alexander C.}, {Judith, King}, {Bish...   \n",
      "34  [{Evelyne, Kestelyn}, {Nguyen Thi Phuong, Dung...   \n",
      "35  [{Thorne, Lucy}, {Lu, Jia}, {Yasmin, Chaudhry}...   \n",
      "36  [{Domander, Richard}, {Alessandro A, Felder}, ...   \n",
      "\n",
      "                                        Full_Text_URL  \\\n",
      "0   https://wellcomeopenresearch.org/extapi/articl...   \n",
      "1   https://wellcomeopenresearch.org/extapi/articl...   \n",
      "2   https://wellcomeopenresearch.org/extapi/articl...   \n",
      "3   https://wellcomeopenresearch.org/extapi/articl...   \n",
      "4   https://wellcomeopenresearch.org/extapi/articl...   \n",
      "5   https://wellcomeopenresearch.org/extapi/articl...   \n",
      "6   https://wellcomeopenresearch.org/extapi/articl...   \n",
      "7   https://wellcomeopenresearch.org/extapi/articl...   \n",
      "8   https://wellcomeopenresearch.org/extapi/articl...   \n",
      "9   https://wellcomeopenresearch.org/extapi/articl...   \n",
      "10  https://wellcomeopenresearch.org/extapi/articl...   \n",
      "11  https://wellcomeopenresearch.org/extapi/articl...   \n",
      "12  https://wellcomeopenresearch.org/extapi/articl...   \n",
      "13  https://wellcomeopenresearch.org/extapi/articl...   \n",
      "14  https://wellcomeopenresearch.org/extapi/articl...   \n",
      "15  https://wellcomeopenresearch.org/extapi/articl...   \n",
      "16  https://wellcomeopenresearch.org/extapi/articl...   \n",
      "17  https://wellcomeopenresearch.org/extapi/articl...   \n",
      "18  https://wellcomeopenresearch.org/extapi/articl...   \n",
      "19  https://wellcomeopenresearch.org/extapi/articl...   \n",
      "20  https://wellcomeopenresearch.org/extapi/articl...   \n",
      "21  https://wellcomeopenresearch.org/extapi/articl...   \n",
      "22  https://wellcomeopenresearch.org/extapi/articl...   \n",
      "23  https://wellcomeopenresearch.org/extapi/articl...   \n",
      "24  https://wellcomeopenresearch.org/extapi/articl...   \n",
      "25  https://wellcomeopenresearch.org/extapi/articl...   \n",
      "26  https://wellcomeopenresearch.org/extapi/articl...   \n",
      "27  https://wellcomeopenresearch.org/extapi/articl...   \n",
      "28  https://wellcomeopenresearch.org/extapi/articl...   \n",
      "29  https://wellcomeopenresearch.org/extapi/articl...   \n",
      "30  https://wellcomeopenresearch.org/extapi/articl...   \n",
      "31  https://wellcomeopenresearch.org/extapi/articl...   \n",
      "32  https://wellcomeopenresearch.org/extapi/articl...   \n",
      "33  https://wellcomeopenresearch.org/extapi/articl...   \n",
      "34  https://wellcomeopenresearch.org/extapi/articl...   \n",
      "35  https://wellcomeopenresearch.org/extapi/articl...   \n",
      "36  https://wellcomeopenresearch.org/extapi/articl...   \n",
      "\n",
      "                                    Full_Text_Content  \n",
      "0   \\n\\n1 Introduction\\nCombining \\n              ...  \n",
      "1   \\n\\nIntroduction\\nInherited red cells disorder...  \n",
      "2   \\n\\nIntroduction\\nThe Born in Bradford (BiB) l...  \n",
      "3   \\n\\nIntroduction\\nThe UK media is an important...  \n",
      "4   \\n\\nIntroduction\\nReligion is one of several c...  \n",
      "5   \\n\\nIntroduction\\nIn the first phase of the co...  \n",
      "6   \\n\\nIntroduction\\nThe importance of stressful ...  \n",
      "7   \\n\\nIntroduction\\nUK Biobank is a population-b...  \n",
      "8   \\n\\nIntroduction\\nRotavirus group A (RVA) infe...  \n",
      "9   \\n\\nIntroduction\\nCOVID-19 epidemics may prove...  \n",
      "10  \\n\\nIntroduction\\nSugar is in routine clinical...  \n",
      "11  \\n\\nIntroduction\\nModerate nutrient deprivatio...  \n",
      "12                                                 NA  \n",
      "13  \\n\\nIntroduction\\nIn the midst of the coronavi...  \n",
      "14  \\n\\nList of abbreviations\\nAUC = area under th...  \n",
      "15  \\n\\nIntroduction\\nIn 1977, Sanger and colleagu...  \n",
      "16  \\n\\nIntroduction\\nGlobally, there is a signifi...  \n",
      "17  \\n\\nIntroduction\\nNearly a quarter of the worl...  \n",
      "18  \\n\\nIntroduction\\nPsychological stress is an u...  \n",
      "19  \\n\\nIntroduction\\nNon-communicable diseases (N...  \n",
      "20  \\n\\nIntroduction\\nPfEMP1 is an important targe...  \n",
      "21  \\n\\nIntroduction\\nCoronary artery disease (CAD...  \n",
      "22  \\n\\nIntroduction\\nFor adolescents globally, me...  \n",
      "23  \\n\\nIntroduction\\nDevelopmental language disor...  \n",
      "24  \\n\\nIntroduction\\nA majority of low- and middl...  \n",
      "25  \\n\\nIntroduction\\nThe severe acute respiratory...  \n",
      "26  \\n\\nIntroduction\\nCommunity engagement (CE) is...  \n",
      "27  \\n\\nIntroduction\\nDementia is a global public ...  \n",
      "28  \\n\\nIntroduction\\nThere is a growing recogniti...  \n",
      "29  \\n\\nIntroduction\\nReports of asymptomatic SARS...  \n",
      "30  \\n\\nList of abbreviations\\nCMG- Clinical Manag...  \n",
      "31  \\n\\nIntroduction\\nCollecting data on patient s...  \n",
      "32  \\n\\nIntroduction\\nGlobally, vulnerable populat...  \n",
      "33  \\n\\nIntroduction\\nChromosome trisomies arise f...  \n",
      "34  \\n\\nIntroduction\\n\\nBackground\\nCoronaviruses ...  \n",
      "35  \\n\\nIntroduction\\nNoroviruses belong to the \\n...  \n",
      "36  \\n\\nIntroduction\\n\\nBoneJ\\n\\n1\\n is a collecti...  \n",
      "data_df after calling solr_api with wellcome:                                                 Title  \\\n",
      "0   Generalized mean \\n                    p-value...   \n",
      "1   Prevalences of inherited red blood cell disord...   \n",
      "2   Starting School: a large-scale start of school...   \n",
      "3   Risk messages relating to fertility and pregna...   \n",
      "4   Associations between psychological factors and...   \n",
      "5   Evaluation of a hypothetical decision-support ...   \n",
      "6   Genetic and environmental determinants of stre...   \n",
      "7   Approaches to minimising the epidemiological i...   \n",
      "8   Molecular characterization of rotavirus group ...   \n",
      "9   Shielding individuals at high risk of COVID-19...   \n",
      "10  Sweet taste does not modulate pain perception ...   \n",
      "11  Quantification of fetal organ sparing in mater...   \n",
      "12                                                 NA   \n",
      "13  Modelling pooling strategies for SARS-CoV-2 te...   \n",
      "14  Improving causality in microbiome research: ca...   \n",
      "15  Robust long-read native DNA sequencing using t...   \n",
      "16  Prevalence and correlates of neurocognitive im...   \n",
      "17  Health economic analyses of latent tuberculosi...   \n",
      "18  Life course programming of stress responses in...   \n",
      "19  Implementation barriers for mHealth for non-co...   \n",
      "20  A re-assessment of gene-tag classification app...   \n",
      "21  Coronary artery disease, genetic risk and the ...   \n",
      "22  MindKind: A mixed-methods protocol for the fea...   \n",
      "23  Stage 2 Registered Report: Variation in neurod...   \n",
      "24  Mortality in rural coastal Kenya measured usin...   \n",
      "25  Global intention of the general public to unde...   \n",
      "26  Addressing diversity and complexity in the com...   \n",
      "27  Could dementia be detected from UK primary car...   \n",
      "28  A comparison of the World Health Organisation'...   \n",
      "29  A rapid review and meta-analysis of the asympt...   \n",
      "30  From severe acute respiratory syndrome (SARS) ...   \n",
      "31  Patient satisfaction with mental and physical ...   \n",
      "32  Understanding the impact of the COVID-19 outbr...   \n",
      "33  Autism and social anxiety in children with sex...   \n",
      "34  A multi centre randomized open label trial of ...   \n",
      "35  miR-155 induction is a marker of murine norovi...   \n",
      "36  BoneJ2 - refactoring established research soft...   \n",
      "\n",
      "                                 DOI  \\\n",
      "0   10.12688/wellcomeopenres.15761.1   \n",
      "1   10.12688/wellcomeopenres.12338.2   \n",
      "2   10.12688/wellcomeopenres.15610.1   \n",
      "3   10.12688/wellcomeopenres.16744.1   \n",
      "4   10.12688/wellcomeopenres.18955.1   \n",
      "5   10.12688/wellcomeopenres.16939.1   \n",
      "6   10.12688/wellcomeopenres.13893.2   \n",
      "7   10.12688/wellcomeopenres.16171.2   \n",
      "8   10.12688/wellcomeopenres.14908.2   \n",
      "9   10.12688/wellcomeopenres.18838.1   \n",
      "10  10.12688/wellcomeopenres.15726.2   \n",
      "11  10.12688/wellcomeopenres.17124.2   \n",
      "12  10.12688/wellcomeopenres.15048.2   \n",
      "13  10.12688/wellcomeopenres.16639.1   \n",
      "14  10.12688/wellcomeopenres.15628.3   \n",
      "15  10.12688/wellcomeopenres.11246.3   \n",
      "16  10.12688/wellcomeopenres.17005.3   \n",
      "17  10.12688/wellcomeopenres.16604.2   \n",
      "18  10.12688/wellcomeopenres.14583.1   \n",
      "19  10.12688/wellcomeopenres.15581.2   \n",
      "20  10.12688/wellcomeopenres.12053.1   \n",
      "21  10.12688/wellcomeopenres.14788.2   \n",
      "22  10.12688/wellcomeopenres.17167.2   \n",
      "23  10.12688/wellcomeopenres.14677.4   \n",
      "24  10.12688/wellcomeopenres.17307.2   \n",
      "25  10.12688/wellcomeopenres.17517.1   \n",
      "26  10.12688/wellcomeopenres.15525.2   \n",
      "27  10.12688/wellcomeopenres.15903.1   \n",
      "28  10.12688/wellcomeopenres.17411.2   \n",
      "29  10.12688/wellcomeopenres.16387.1   \n",
      "30  10.12688/wellcomeopenres.16735.1   \n",
      "31  10.12688/wellcomeopenres.17973.1   \n",
      "32  10.12688/wellcomeopenres.17239.2   \n",
      "33  10.12688/wellcomeopenres.15095.2   \n",
      "34  10.12688/wellcomeopenres.15936.1   \n",
      "35  10.12688/wellcomeopenres.14188.1   \n",
      "36  10.12688/wellcomeopenres.16619.2   \n",
      "\n",
      "                                              Authors  \\\n",
      "0                               [{Wilson, Daniel J.}]   \n",
      "1   [{Bancone, Germana}, {Gilder, Mary Ellen}, {No...   \n",
      "2   [{Shire, Katy}, {Elizabeth, Andrews}, {Barber,...   \n",
      "3   [{Olivia, Marshall}, {Blaylock, Rebecca}, {Cla...   \n",
      "4   [{Daniel, Major-Smith}, {Jimmy, Morgan}, {Hami...   \n",
      "5   [{Simon Thomas, Emily}, {Bryony, Peiris}, {Di ...   \n",
      "6   [{Toni-Kim, Clarke}, {Zeng, Yanni}, {Navrady, ...   \n",
      "7   [{Allen, Naomi E.}, {Arnold, Matthew}, {Parish...   \n",
      "8   [{Betty E., Owor}, {Mike J., Mwanga}, {Njeru, ...   \n",
      "9   [{Van Zandvoort, Kevin}, {Caroline, Favas}, {F...   \n",
      "10  [{Elizabeth R, Mooney}, {Alexander J, Davies},...   \n",
      "11  [{Serpente, Patricia}, {Zhang, Ying}, {Eva, Is...   \n",
      "12                                                 NA   \n",
      "13  [{Hemani, Gibran}, {Thomas, Amy C.}, {Walker, ...   \n",
      "14           [{Kaitlin H., Wade}, {Lindsay J., Hall}]   \n",
      "15        [{Carter, Jean-Michel}, {Hussain, Shobbir}]   \n",
      "16  [{Margaret, Nampijja}, {Sembajjwe, Wilber}, {H...   \n",
      "17  [{Rebecca F., Baggaley}, {Vegvari, Carolin}, {...   \n",
      "18  [{GV, Krishnaveni}, {Kalyanaraman, Kumaran}, {...   \n",
      "19  [{Josefien, van Olmen}, {Erica, Erwin}, {Garcí...   \n",
      "20             [{Githinji, George}, {Peter C., Bull}]   \n",
      "21  [{Thomas, Battram}, {Hoskins, Luke}, {Hughes, ...   \n",
      "22       [{Surname not found, Given names not found}]   \n",
      "23  [{Dianne F., Newbury}, {Nuala H., Simpson}, {P...   \n",
      "24  [{Otiende, Mark}, {Bauni, Evasius}, {Amek, Nya...   \n",
      "25  [{Ashwaghosha, Parthasarathi}, {Puvvada, Rahul...   \n",
      "26  [{Richardson, Emma Z.L.}, {Sunita V.S., Bandew...   \n",
      "27  [{Elizabeth, Ford}, {Starlinger, Johannes}, {P...   \n",
      "28  [{Robert A., Smith}, {Thomas, Chloe}, {Squires...   \n",
      "29  [{Beale, Sarah}, {Andrew, Hayward}, {Shallcros...   \n",
      "30  [{Lipworth, Samuel}, {Rigby, Ishmeala}, {Cheng...   \n",
      "31  [{Elizabeth J., Kirkham}, {Fletcher-Watson, Su...   \n",
      "32  [{Nungsari, Melati}, {Hui Yin, Chuah}, {Nicole...   \n",
      "33  [{Wilson, Alexander C.}, {Judith, King}, {Bish...   \n",
      "34  [{Evelyne, Kestelyn}, {Nguyen Thi Phuong, Dung...   \n",
      "35  [{Thorne, Lucy}, {Lu, Jia}, {Yasmin, Chaudhry}...   \n",
      "36  [{Domander, Richard}, {Alessandro A, Felder}, ...   \n",
      "\n",
      "                                        Full_Text_URL  \\\n",
      "0   https://wellcomeopenresearch.org/extapi/articl...   \n",
      "1   https://wellcomeopenresearch.org/extapi/articl...   \n",
      "2   https://wellcomeopenresearch.org/extapi/articl...   \n",
      "3   https://wellcomeopenresearch.org/extapi/articl...   \n",
      "4   https://wellcomeopenresearch.org/extapi/articl...   \n",
      "5   https://wellcomeopenresearch.org/extapi/articl...   \n",
      "6   https://wellcomeopenresearch.org/extapi/articl...   \n",
      "7   https://wellcomeopenresearch.org/extapi/articl...   \n",
      "8   https://wellcomeopenresearch.org/extapi/articl...   \n",
      "9   https://wellcomeopenresearch.org/extapi/articl...   \n",
      "10  https://wellcomeopenresearch.org/extapi/articl...   \n",
      "11  https://wellcomeopenresearch.org/extapi/articl...   \n",
      "12  https://wellcomeopenresearch.org/extapi/articl...   \n",
      "13  https://wellcomeopenresearch.org/extapi/articl...   \n",
      "14  https://wellcomeopenresearch.org/extapi/articl...   \n",
      "15  https://wellcomeopenresearch.org/extapi/articl...   \n",
      "16  https://wellcomeopenresearch.org/extapi/articl...   \n",
      "17  https://wellcomeopenresearch.org/extapi/articl...   \n",
      "18  https://wellcomeopenresearch.org/extapi/articl...   \n",
      "19  https://wellcomeopenresearch.org/extapi/articl...   \n",
      "20  https://wellcomeopenresearch.org/extapi/articl...   \n",
      "21  https://wellcomeopenresearch.org/extapi/articl...   \n",
      "22  https://wellcomeopenresearch.org/extapi/articl...   \n",
      "23  https://wellcomeopenresearch.org/extapi/articl...   \n",
      "24  https://wellcomeopenresearch.org/extapi/articl...   \n",
      "25  https://wellcomeopenresearch.org/extapi/articl...   \n",
      "26  https://wellcomeopenresearch.org/extapi/articl...   \n",
      "27  https://wellcomeopenresearch.org/extapi/articl...   \n",
      "28  https://wellcomeopenresearch.org/extapi/articl...   \n",
      "29  https://wellcomeopenresearch.org/extapi/articl...   \n",
      "30  https://wellcomeopenresearch.org/extapi/articl...   \n",
      "31  https://wellcomeopenresearch.org/extapi/articl...   \n",
      "32  https://wellcomeopenresearch.org/extapi/articl...   \n",
      "33  https://wellcomeopenresearch.org/extapi/articl...   \n",
      "34  https://wellcomeopenresearch.org/extapi/articl...   \n",
      "35  https://wellcomeopenresearch.org/extapi/articl...   \n",
      "36  https://wellcomeopenresearch.org/extapi/articl...   \n",
      "\n",
      "                                    Full_Text_Content  \n",
      "0   \\n\\n1 Introduction\\nCombining \\n              ...  \n",
      "1   \\n\\nIntroduction\\nInherited red cells disorder...  \n",
      "2   \\n\\nIntroduction\\nThe Born in Bradford (BiB) l...  \n",
      "3   \\n\\nIntroduction\\nThe UK media is an important...  \n",
      "4   \\n\\nIntroduction\\nReligion is one of several c...  \n",
      "5   \\n\\nIntroduction\\nIn the first phase of the co...  \n",
      "6   \\n\\nIntroduction\\nThe importance of stressful ...  \n",
      "7   \\n\\nIntroduction\\nUK Biobank is a population-b...  \n",
      "8   \\n\\nIntroduction\\nRotavirus group A (RVA) infe...  \n",
      "9   \\n\\nIntroduction\\nCOVID-19 epidemics may prove...  \n",
      "10  \\n\\nIntroduction\\nSugar is in routine clinical...  \n",
      "11  \\n\\nIntroduction\\nModerate nutrient deprivatio...  \n",
      "12                                                 NA  \n",
      "13  \\n\\nIntroduction\\nIn the midst of the coronavi...  \n",
      "14  \\n\\nList of abbreviations\\nAUC = area under th...  \n",
      "15  \\n\\nIntroduction\\nIn 1977, Sanger and colleagu...  \n",
      "16  \\n\\nIntroduction\\nGlobally, there is a signifi...  \n",
      "17  \\n\\nIntroduction\\nNearly a quarter of the worl...  \n",
      "18  \\n\\nIntroduction\\nPsychological stress is an u...  \n",
      "19  \\n\\nIntroduction\\nNon-communicable diseases (N...  \n",
      "20  \\n\\nIntroduction\\nPfEMP1 is an important targe...  \n",
      "21  \\n\\nIntroduction\\nCoronary artery disease (CAD...  \n",
      "22  \\n\\nIntroduction\\nFor adolescents globally, me...  \n",
      "23  \\n\\nIntroduction\\nDevelopmental language disor...  \n",
      "24  \\n\\nIntroduction\\nA majority of low- and middl...  \n",
      "25  \\n\\nIntroduction\\nThe severe acute respiratory...  \n",
      "26  \\n\\nIntroduction\\nCommunity engagement (CE) is...  \n",
      "27  \\n\\nIntroduction\\nDementia is a global public ...  \n",
      "28  \\n\\nIntroduction\\nThere is a growing recogniti...  \n",
      "29  \\n\\nIntroduction\\nReports of asymptomatic SARS...  \n",
      "30  \\n\\nList of abbreviations\\nCMG- Clinical Manag...  \n",
      "31  \\n\\nIntroduction\\nCollecting data on patient s...  \n",
      "32  \\n\\nIntroduction\\nGlobally, vulnerable populat...  \n",
      "33  \\n\\nIntroduction\\nChromosome trisomies arise f...  \n",
      "34  \\n\\nIntroduction\\n\\nBackground\\nCoronaviruses ...  \n",
      "35  \\n\\nIntroduction\\nNoroviruses belong to the \\n...  \n",
      "36  \\n\\nIntroduction\\n\\nBoneJ\\n\\n1\\n is a collecti...  \n",
      "Filename output: Green+energy_gatesopen_20230717.xlsx\n",
      "\n",
      "data: <?xml version=\"1.0\" encoding=\"UTF-8\" standalone=\"yes\"?><results numberOfResultsInPage=\"21\" totalNumberOfPages=\"1\"><doi>10.12688/gatesopenres.12758.2</doi><doi>10.12688/gatesopenres.12838.2</doi><doi>10.12688/gatesopenres.13347.2</doi><doi>10.12688/gatesopenres.13542.2</doi><doi>10.12688/gatesopenres.12878.1</doi><doi>10.12688/gatesopenres.13067.1</doi><doi>10.12688/gatesopenres.12928.1</doi><doi>10.12688/gatesopenres.13031.2</doi><doi>10.12688/gatesopenres.12822.1</doi><doi>10.12688/gatesopenres.12772.1</doi><doi>10.12688/gatesopenres.13178.1</doi><doi>10.12688/gatesopenres.12780.1</doi><doi>10.12688/gatesopenres.14041.1</doi><doi>10.12688/gatesopenres.13615.1</doi><doi>10.12688/gatesopenres.13171.1</doi><doi>10.12688/gatesopenres.13188.2</doi><doi>10.12688/gatesopenres.13278.2</doi><doi>10.12688/gatesopenres.13083.2</doi><doi>10.12688/gatesopenres.12891.2</doi><doi>10.12688/gatesopenres.13137.2</doi><doi>10.12688/gatesopenres.12895.4</doi></results>\n",
      "Total number of pages: 1\n",
      "doi downloaded\n",
      "doi downloaded\n",
      "doi downloaded\n",
      "doi downloaded\n",
      "doi downloaded\n",
      "doi downloaded\n"
     ]
    },
    {
     "name": "stderr",
     "output_type": "stream",
     "text": [
      "/usr/local/lib/python3.10/dist-packages/bs4/builder/__init__.py:545: XMLParsedAsHTMLWarning: It looks like you're parsing an XML document using an HTML parser. If this really is an HTML document (maybe it's XHTML?), you can ignore or filter this warning. If it's XML, you should know that using an XML parser will be more reliable. To parse this document as XML, make sure you have the lxml package installed, and pass the keyword argument `features=\"xml\"` into the BeautifulSoup constructor.\n",
      "  warnings.warn(\n"
     ]
    },
    {
     "name": "stdout",
     "output_type": "stream",
     "text": [
      "Use of a cow-side oestrus detection test for fertility management in Kenyan smallholder dairy herds.\n",
      "Team- and individual-level motivation in complex primary care system change: A realist evaluation of the Salud Mesoamerica Initiative in El Salvador\n"
     ]
    },
    {
     "name": "stderr",
     "output_type": "stream",
     "text": [
      "/usr/local/lib/python3.10/dist-packages/bs4/builder/__init__.py:545: XMLParsedAsHTMLWarning: It looks like you're parsing an XML document using an HTML parser. If this really is an HTML document (maybe it's XHTML?), you can ignore or filter this warning. If it's XML, you should know that using an XML parser will be more reliable. To parse this document as XML, make sure you have the lxml package installed, and pass the keyword argument `features=\"xml\"` into the BeautifulSoup constructor.\n",
      "  warnings.warn(\n"
     ]
    },
    {
     "name": "stdout",
     "output_type": "stream",
     "text": [
      "Metabolic profiles derived from residual blood spot samples: A longitudinal analysis\n"
     ]
    },
    {
     "name": "stderr",
     "output_type": "stream",
     "text": [
      "/usr/local/lib/python3.10/dist-packages/bs4/builder/__init__.py:545: XMLParsedAsHTMLWarning: It looks like you're parsing an XML document using an HTML parser. If this really is an HTML document (maybe it's XHTML?), you can ignore or filter this warning. If it's XML, you should know that using an XML parser will be more reliable. To parse this document as XML, make sure you have the lxml package installed, and pass the keyword argument `features=\"xml\"` into the BeautifulSoup constructor.\n",
      "  warnings.warn(\n"
     ]
    },
    {
     "name": "stdout",
     "output_type": "stream",
     "text": [
      "The maximum contraceptive prevalence ‘demand curve’: guiding discussions on programmatic investments\n"
     ]
    },
    {
     "name": "stderr",
     "output_type": "stream",
     "text": [
      "/usr/local/lib/python3.10/dist-packages/bs4/builder/__init__.py:545: XMLParsedAsHTMLWarning: It looks like you're parsing an XML document using an HTML parser. If this really is an HTML document (maybe it's XHTML?), you can ignore or filter this warning. If it's XML, you should know that using an XML parser will be more reliable. To parse this document as XML, make sure you have the lxml package installed, and pass the keyword argument `features=\"xml\"` into the BeautifulSoup constructor.\n",
      "  warnings.warn(\n"
     ]
    },
    {
     "name": "stdout",
     "output_type": "stream",
     "text": [
      "The impact of condom use on the HIV epidemic\n"
     ]
    },
    {
     "name": "stderr",
     "output_type": "stream",
     "text": [
      "/usr/local/lib/python3.10/dist-packages/bs4/builder/__init__.py:545: XMLParsedAsHTMLWarning: It looks like you're parsing an XML document using an HTML parser. If this really is an HTML document (maybe it's XHTML?), you can ignore or filter this warning. If it's XML, you should know that using an XML parser will be more reliable. To parse this document as XML, make sure you have the lxml package installed, and pass the keyword argument `features=\"xml\"` into the BeautifulSoup constructor.\n",
      "  warnings.warn(\n"
     ]
    },
    {
     "name": "stdout",
     "output_type": "stream",
     "text": [
      "Automated verbal autopsy classification: using one-against-all ensemble method and Naïve Bayes classifier\n",
      "                                               Title  \\\n",
      "0  Use of a cow-side oestrus detection test for f...   \n",
      "1  Team- and individual-level motivation in compl...   \n",
      "2  Metabolic profiles derived from residual blood...   \n",
      "3  The maximum contraceptive prevalence ‘demand c...   \n",
      "4       The impact of condom use on the HIV epidemic   \n",
      "5  Automated verbal autopsy classification: using...   \n",
      "\n",
      "                             DOI  \\\n",
      "0  10.12688/gatesopenres.13542.2   \n",
      "1  10.12688/gatesopenres.12878.1   \n",
      "2  10.12688/gatesopenres.12822.1   \n",
      "3  10.12688/gatesopenres.12780.1   \n",
      "4  10.12688/gatesopenres.13278.2   \n",
      "5  10.12688/gatesopenres.12891.2   \n",
      "\n",
      "                                             Authors  \\\n",
      "0  [{Andrew R., Peters}, {Johanna T., Wong}, {Wil...   \n",
      "1  [{Wolfgang, Munar}, {Wahid, Syed S.}, {Sangeet...   \n",
      "2  [{Murphy, Malia S.Q.}, {Hawken, Steven}, {Chen...   \n",
      "3  [{Michelle, Weinberger}, {Sonneveldt, Emily}, ...   \n",
      "4                       [{Stover, John}, {Teng, Yu}]   \n",
      "5  [{Syed Shariyar, Murtaza}, {Patrycja, Kolpak},...   \n",
      "\n",
      "                                       Full_Text_URL  \\\n",
      "0  https://gatesopenresearch.org/extapi/article/x...   \n",
      "1  https://gatesopenresearch.org/extapi/article/x...   \n",
      "2  https://gatesopenresearch.org/extapi/article/x...   \n",
      "3  https://gatesopenresearch.org/extapi/article/x...   \n",
      "4  https://gatesopenresearch.org/extapi/article/x...   \n",
      "5  https://gatesopenresearch.org/extapi/article/x...   \n",
      "\n",
      "                                   Full_Text_Content  \n",
      "0  \\n\\nIntroduction\\nIn Kenya, as in many lower- ...  \n",
      "1  \\n\\nIntroduction\\nCalls have been made for acq...  \n",
      "2  \\n\\nIntroduction\\nNewborn screening is a publi...  \n",
      "3  \\n\\nIntroduction\\nFP Goals is a new model that...  \n",
      "4  \\n\\nIntroduction\\nThe distribution and promoti...  \n",
      "5  \\n\\nIntroduction\\nVerbal autopsy (VA) is incre...  \n",
      "data_df after calling solr_api with gatesopen:                                                Title  \\\n",
      "0  Use of a cow-side oestrus detection test for f...   \n",
      "1  Team- and individual-level motivation in compl...   \n",
      "2  Metabolic profiles derived from residual blood...   \n",
      "3  The maximum contraceptive prevalence ‘demand c...   \n",
      "4       The impact of condom use on the HIV epidemic   \n",
      "5  Automated verbal autopsy classification: using...   \n",
      "\n",
      "                             DOI  \\\n",
      "0  10.12688/gatesopenres.13542.2   \n",
      "1  10.12688/gatesopenres.12878.1   \n",
      "2  10.12688/gatesopenres.12822.1   \n",
      "3  10.12688/gatesopenres.12780.1   \n",
      "4  10.12688/gatesopenres.13278.2   \n",
      "5  10.12688/gatesopenres.12891.2   \n",
      "\n",
      "                                             Authors  \\\n",
      "0  [{Andrew R., Peters}, {Johanna T., Wong}, {Wil...   \n",
      "1  [{Wolfgang, Munar}, {Wahid, Syed S.}, {Sangeet...   \n",
      "2  [{Murphy, Malia S.Q.}, {Hawken, Steven}, {Chen...   \n",
      "3  [{Michelle, Weinberger}, {Sonneveldt, Emily}, ...   \n",
      "4                       [{Stover, John}, {Teng, Yu}]   \n",
      "5  [{Syed Shariyar, Murtaza}, {Patrycja, Kolpak},...   \n",
      "\n",
      "                                       Full_Text_URL  \\\n",
      "0  https://gatesopenresearch.org/extapi/article/x...   \n",
      "1  https://gatesopenresearch.org/extapi/article/x...   \n",
      "2  https://gatesopenresearch.org/extapi/article/x...   \n",
      "3  https://gatesopenresearch.org/extapi/article/x...   \n",
      "4  https://gatesopenresearch.org/extapi/article/x...   \n",
      "5  https://gatesopenresearch.org/extapi/article/x...   \n",
      "\n",
      "                                   Full_Text_Content  \n",
      "0  \\n\\nIntroduction\\nIn Kenya, as in many lower- ...  \n",
      "1  \\n\\nIntroduction\\nCalls have been made for acq...  \n",
      "2  \\n\\nIntroduction\\nNewborn screening is a publi...  \n",
      "3  \\n\\nIntroduction\\nFP Goals is a new model that...  \n",
      "4  \\n\\nIntroduction\\nThe distribution and promoti...  \n",
      "5  \\n\\nIntroduction\\nVerbal autopsy (VA) is incre...  \n",
      "Current count: 4\n",
      "Filename output: Pollution+regulations_f1000_20230717.xlsx\n",
      "\n",
      "data: <?xml version=\"1.0\" encoding=\"UTF-8\" standalone=\"yes\"?><results numberOfResultsInPage=\"100\" totalNumberOfPages=\"2\"><doi>10.12688/f1000research.2-7.v1</doi><doi>10.12688/f1000research.2-77.v2</doi><doi>10.12688/f1000research.2-190.v1</doi><doi>10.12688/f1000research.5672.1</doi><doi>10.12688/f1000research.5530.2</doi><doi>10.12688/f1000research.5573.3</doi><doi>10.12688/f1000research.6210.1</doi><doi>10.12688/f1000research.5378.2</doi><doi>10.12688/f1000research.6392.1</doi><doi>10.12688/f1000research.6451.1</doi><doi>10.12688/f1000research.6536.1</doi><doi>10.12688/f1000research.6822.1</doi><doi>10.12688/f1000research.5921.2</doi><doi>10.12688/f1000research.6060.2</doi><doi>10.12688/f1000research.7143.1</doi><doi>10.12688/f1000research.7201.1</doi><doi>10.12688/f1000research.7507.2</doi><doi>10.12688/f1000research.8548.1</doi><doi>10.12688/f1000research.9434.1</doi><doi>10.12688/f1000research.9918.1</doi><doi>10.12688/f1000research.10009.1</doi><doi>10.12688/f1000research.8603.2</doi><doi>10.12688/f1000research.9544.2</doi><doi>10.12688/f1000research.12717.1</doi><doi>10.12688/f1000research.12330.2</doi><doi>10.12688/f1000research.12337.4</doi><doi>10.12688/f1000research.13035.2</doi><doi>10.12688/f1000research.12490.3</doi><doi>10.12688/f1000research.11395.4</doi><doi>10.12688/f1000research.13930.1</doi><doi>10.12688/f1000research.13830.2</doi><doi>10.12688/f1000research.12418.2</doi><doi>10.12688/f1000research.5977.3</doi><doi>10.12688/f1000research.14566.2</doi><doi>10.12688/f1000research.14032.2</doi><doi>10.12688/f1000research.15826.1</doi><doi>10.12688/f1000research.12713.3</doi><doi>10.12688/f1000research.15955.1</doi><doi>10.12688/f1000research.15386.2</doi><doi>10.12688/f1000research.13196.2</doi><doi>10.12688/f1000research.16802.1</doi><doi>10.12688/f1000research.16819.1</doi><doi>10.12688/f1000research.14770.3</doi><doi>10.12688/f1000research.17447.1</doi><doi>10.12688/f1000research.14960.2</doi><doi>10.12688/f1000research.18575.2</doi><doi>10.12688/f1000research.15361.3</doi><doi>10.12688/f1000research.20534.2</doi><doi>10.12688/f1000research.18445.2</doi><doi>10.12688/f1000research.19803.2</doi><doi>10.12688/f1000research.22655.1</doi><doi>10.12688/f1000research.22299.2</doi><doi>10.12688/f1000research.22922.1</doi><doi>10.12688/f1000research.22689.2</doi><doi>10.12688/f1000research.22731.2</doi><doi>10.12688/f1000research.24772.1</doi><doi>10.12688/f1000research.19901.2</doi><doi>10.12688/f1000research.24927.1</doi><doi>10.12688/f1000research.6348.2</doi><doi>10.12688/f1000research.19598.5</doi><doi>10.12688/f1000research.16926.3</doi><doi>10.12688/f1000research.26025.2</doi><doi>10.12688/f1000research.26269.3</doi><doi>10.12688/f1000research.25390.2</doi><doi>10.12688/f1000research.26429.2</doi><doi>10.12688/f1000research.24854.2</doi><doi>10.12688/f1000research.52494.1</doi><doi>10.12688/f1000research.52878.1</doi><doi>10.12688/f1000research.25148.2</doi><doi>10.12688/f1000research.53962.1</doi><doi>10.12688/f1000research.54305.1</doi><doi>10.12688/f1000research.54501.1</doi><doi>10.12688/f1000research.52392.2</doi><doi>10.12688/f1000research.51270.2</doi><doi>10.12688/f1000research.74727.1</doi><doi>10.12688/f1000research.52433.3</doi><doi>10.12688/f1000research.54533.2</doi><doi>10.12688/f1000research.108668.1</doi><doi>10.12688/f1000research.108799.1</doi><doi>10.12688/f1000research.53595.3</doi><doi>10.12688/f1000research.53135.2</doi><doi>10.12688/f1000research.121980.1</doi><doi>10.12688/f1000research.122453.1</doi><doi>10.12688/f1000research.26073.2</doi><doi>10.12688/f1000research.26762.2</doi><doi>10.12688/f1000research.123041.2</doi><doi>10.12688/f1000research.126059.1</doi><doi>10.12688/f1000research.121813.2</doi><doi>10.12688/f1000research.55004.2</doi><doi>10.12688/f1000research.125074.2</doi><doi>10.12688/f1000research.54887.5</doi><doi>10.12688/f1000research.122437.2</doi><doi>10.12688/f1000research.76218.2</doi><doi>10.12688/f1000research.53095.2</doi><doi>10.12688/f1000research.129929.2</doi><doi>10.12688/f1000research.73410.3</doi><doi>10.12688/f1000research.135221.1</doi><doi>10.12688/f1000research.132106.2</doi><doi>10.12688/f1000research.20144.3</doi><doi>10.12688/f1000research.25247.4</doi></results>\n",
      "Total number of pages: 2\n",
      "Empty DataFrame\n",
      "Columns: [Title, DOI, Authors, Full_Text_URL, Full_Text_Content]\n",
      "Index: []\n",
      "data_df after calling solr_api with f1000: Empty DataFrame\n",
      "Columns: [Title, DOI, Authors, Full_Text_URL, Full_Text_Content]\n",
      "Index: []\n",
      "Filename output: Pollution+regulations_wellcome_20230717.xlsx\n",
      "\n",
      "data: <?xml version=\"1.0\" encoding=\"UTF-8\" standalone=\"yes\"?><results numberOfResultsInPage=\"65\" totalNumberOfPages=\"1\"><doi>10.12688/wellcomeopenres.12583.3</doi><doi>10.12688/wellcomeopenres.14735.2</doi><doi>10.12688/wellcomeopenres.11715.1</doi><doi>10.12688/wellcomeopenres.14767.2</doi><doi>10.12688/wellcomeopenres.16584.2</doi><doi>10.12688/wellcomeopenres.15974.2</doi><doi>10.12688/wellcomeopenres.17261.2</doi><doi>10.12688/wellcomeopenres.16405.1</doi><doi>10.12688/wellcomeopenres.10036.2</doi><doi>10.12688/wellcomeopenres.15061.2</doi><doi>10.12688/wellcomeopenres.18868.1</doi><doi>10.12688/wellcomeopenres.14904.2</doi><doi>10.12688/wellcomeopenres.15919.2</doi><doi>10.12688/wellcomeopenres.15232.2</doi><doi>10.12688/wellcomeopenres.17965.1</doi><doi>10.12688/wellcomeopenres.15587.2</doi><doi>10.12688/wellcomeopenres.16068.1</doi><doi>10.12688/wellcomeopenres.15893.2</doi><doi>10.12688/wellcomeopenres.15013.2</doi><doi>10.12688/wellcomeopenres.17536.1</doi><doi>10.12688/wellcomeopenres.16734.4</doi><doi>10.12688/wellcomeopenres.14818.1</doi><doi>10.12688/wellcomeopenres.15675.2</doi><doi>10.12688/wellcomeopenres.17090.1</doi><doi>10.12688/wellcomeopenres.12394.1</doi><doi>10.12688/wellcomeopenres.10308.1</doi><doi>10.12688/wellcomeopenres.17736.2</doi><doi>10.12688/wellcomeopenres.14839.1</doi><doi>10.12688/wellcomeopenres.14765.2</doi><doi>10.12688/wellcomeopenres.17660.2</doi><doi>10.12688/wellcomeopenres.15941.2</doi><doi>10.12688/wellcomeopenres.16635.2</doi><doi>10.12688/wellcomeopenres.11300.3</doi><doi>10.12688/wellcomeopenres.15403.2</doi><doi>10.12688/wellcomeopenres.15565.2</doi><doi>10.12688/wellcomeopenres.15451.1</doi><doi>10.12688/wellcomeopenres.15748.2</doi><doi>10.12688/wellcomeopenres.15729.2</doi><doi>10.12688/wellcomeopenres.18482.1</doi><doi>10.12688/wellcomeopenres.16409.1</doi><doi>10.12688/wellcomeopenres.14898.2</doi><doi>10.12688/wellcomeopenres.15568.1</doi><doi>10.12688/wellcomeopenres.18681.1</doi><doi>10.12688/wellcomeopenres.16572.1</doi><doi>10.12688/wellcomeopenres.16299.2</doi><doi>10.12688/wellcomeopenres.16168.2</doi><doi>10.12688/wellcomeopenres.18251.1</doi><doi>10.12688/wellcomeopenres.17398.2</doi><doi>10.12688/wellcomeopenres.15770.1</doi><doi>10.12688/wellcomeopenres.15531.2</doi><doi>10.12688/wellcomeopenres.16801.2</doi><doi>10.12688/wellcomeopenres.18742.1</doi><doi>10.12688/wellcomeopenres.16031.2</doi><doi>10.12688/wellcomeopenres.16131.2</doi><doi>10.12688/wellcomeopenres.16363.2</doi><doi>10.12688/wellcomeopenres.17885.1</doi><doi>10.12688/wellcomeopenres.12237.2</doi><doi>10.12688/wellcomeopenres.17661.1</doi><doi>10.12688/wellcomeopenres.10535.3</doi><doi>10.12688/wellcomeopenres.15108.1</doi><doi>10.12688/wellcomeopenres.16072.1</doi><doi>10.12688/wellcomeopenres.16002.2</doi><doi>10.12688/wellcomeopenres.16004.2</doi><doi>10.12688/wellcomeopenres.12631.1</doi><doi>10.12688/wellcomeopenres.11005.1</doi></results>\n",
      "Total number of pages: 1\n",
      "Empty DataFrame\n",
      "Columns: [Title, DOI, Authors, Full_Text_URL, Full_Text_Content]\n",
      "Index: []\n",
      "data_df after calling solr_api with wellcome: Empty DataFrame\n",
      "Columns: [Title, DOI, Authors, Full_Text_URL, Full_Text_Content]\n",
      "Index: []\n",
      "Filename output: Pollution+regulations_gatesopen_20230717.xlsx\n",
      "\n",
      "data: <?xml version=\"1.0\" encoding=\"UTF-8\" standalone=\"yes\"?><results numberOfResultsInPage=\"6\" totalNumberOfPages=\"1\"><doi>10.12688/gatesopenres.12758.2</doi><doi>10.12688/gatesopenres.13635.2</doi><doi>10.12688/gatesopenres.12974.2</doi><doi>10.12688/gatesopenres.13039.2</doi><doi>10.12688/gatesopenres.14041.1</doi><doi>10.12688/gatesopenres.12866.2</doi></results>\n",
      "Total number of pages: 1\n",
      "Empty DataFrame\n",
      "Columns: [Title, DOI, Authors, Full_Text_URL, Full_Text_Content]\n",
      "Index: []\n",
      "data_df after calling solr_api with gatesopen: Empty DataFrame\n",
      "Columns: [Title, DOI, Authors, Full_Text_URL, Full_Text_Content]\n",
      "Index: []\n",
      "Current count: 5\n",
      "Filename output: Pollution+mitigation_f1000_20230717.xlsx\n",
      "\n",
      "data: <?xml version=\"1.0\" encoding=\"UTF-8\" standalone=\"yes\"?><results numberOfResultsInPage=\"100\" totalNumberOfPages=\"2\"><doi>10.12688/f1000research.2-7.v1</doi><doi>10.12688/f1000research.2-77.v2</doi><doi>10.12688/f1000research.2-190.v1</doi><doi>10.12688/f1000research.5672.1</doi><doi>10.12688/f1000research.5813.1</doi><doi>10.12688/f1000research.5530.2</doi><doi>10.12688/f1000research.5573.3</doi><doi>10.12688/f1000research.5378.2</doi><doi>10.12688/f1000research.6392.1</doi><doi>10.12688/f1000research.6451.1</doi><doi>10.12688/f1000research.6536.1</doi><doi>10.12688/f1000research.3894.2</doi><doi>10.12688/f1000research.6822.1</doi><doi>10.12688/f1000research.5921.2</doi><doi>10.12688/f1000research.6060.2</doi><doi>10.12688/f1000research.7507.2</doi><doi>10.12688/f1000research.8548.1</doi><doi>10.12688/f1000research.9434.1</doi><doi>10.12688/f1000research.9606.1</doi><doi>10.12688/f1000research.9918.1</doi><doi>10.12688/f1000research.10009.1</doi><doi>10.12688/f1000research.9544.2</doi><doi>10.12688/f1000research.12717.1</doi><doi>10.12688/f1000research.12994.2</doi><doi>10.12688/f1000research.12337.4</doi><doi>10.12688/f1000research.13035.2</doi><doi>10.12688/f1000research.13605.1</doi><doi>10.12688/f1000research.12490.3</doi><doi>10.12688/f1000research.11395.4</doi><doi>10.12688/f1000research.13930.1</doi><doi>10.12688/f1000research.13830.2</doi><doi>10.12688/f1000research.12418.2</doi><doi>10.12688/f1000research.5977.3</doi><doi>10.12688/f1000research.13062.2</doi><doi>10.12688/f1000research.14566.2</doi><doi>10.12688/f1000research.14032.2</doi><doi>10.12688/f1000research.15826.1</doi><doi>10.12688/f1000research.12713.3</doi><doi>10.12688/f1000research.15883.1</doi><doi>10.12688/f1000research.15955.1</doi><doi>10.12688/f1000research.15386.2</doi><doi>10.12688/f1000research.13196.2</doi><doi>10.12688/f1000research.16819.1</doi><doi>10.12688/f1000research.14770.3</doi><doi>10.12688/f1000research.17447.1</doi><doi>10.12688/f1000research.14960.2</doi><doi>10.12688/f1000research.18063.1</doi><doi>10.12688/f1000research.19304.2</doi><doi>10.12688/f1000research.18575.2</doi><doi>10.12688/f1000research.15361.3</doi><doi>10.12688/f1000research.20534.2</doi><doi>10.12688/f1000research.18445.2</doi><doi>10.12688/f1000research.19803.2</doi><doi>10.12688/f1000research.22655.1</doi><doi>10.12688/f1000research.22299.2</doi><doi>10.12688/f1000research.22922.1</doi><doi>10.12688/f1000research.24772.1</doi><doi>10.12688/f1000research.19901.2</doi><doi>10.12688/f1000research.24927.1</doi><doi>10.12688/f1000research.6348.2</doi><doi>10.12688/f1000research.25798.2</doi><doi>10.12688/f1000research.19598.5</doi><doi>10.12688/f1000research.16926.3</doi><doi>10.12688/f1000research.26025.2</doi><doi>10.12688/f1000research.26269.3</doi><doi>10.12688/f1000research.26429.2</doi><doi>10.12688/f1000research.38156.1</doi><doi>10.12688/f1000research.24854.2</doi><doi>10.12688/f1000research.52494.1</doi><doi>10.12688/f1000research.52878.1</doi><doi>10.12688/f1000research.25148.2</doi><doi>10.12688/f1000research.53962.1</doi><doi>10.12688/f1000research.54305.1</doi><doi>10.12688/f1000research.52392.2</doi><doi>10.12688/f1000research.51270.2</doi><doi>10.12688/f1000research.74727.1</doi><doi>10.12688/f1000research.52433.3</doi><doi>10.12688/f1000research.54533.2</doi><doi>10.12688/f1000research.75870.1</doi><doi>10.12688/f1000research.108668.1</doi><doi>10.12688/f1000research.108799.1</doi><doi>10.12688/f1000research.53595.3</doi><doi>10.12688/f1000research.121980.1</doi><doi>10.12688/f1000research.122332.1</doi><doi>10.12688/f1000research.26073.2</doi><doi>10.12688/f1000research.26762.2</doi><doi>10.12688/f1000research.123041.2</doi><doi>10.12688/f1000research.121813.2</doi><doi>10.12688/f1000research.55004.2</doi><doi>10.12688/f1000research.125074.2</doi><doi>10.12688/f1000research.54887.5</doi><doi>10.12688/f1000research.129833.1</doi><doi>10.12688/f1000research.122437.2</doi><doi>10.12688/f1000research.76218.2</doi><doi>10.12688/f1000research.53095.2</doi><doi>10.12688/f1000research.129929.2</doi><doi>10.12688/f1000research.73410.3</doi><doi>10.12688/f1000research.135221.1</doi><doi>10.12688/f1000research.132106.2</doi><doi>10.12688/f1000research.25247.4</doi></results>\n",
      "Total number of pages: 2\n",
      "Empty DataFrame\n",
      "Columns: [Title, DOI, Authors, Full_Text_URL, Full_Text_Content]\n",
      "Index: []\n",
      "data_df after calling solr_api with f1000: Empty DataFrame\n",
      "Columns: [Title, DOI, Authors, Full_Text_URL, Full_Text_Content]\n",
      "Index: []\n",
      "Filename output: Pollution+mitigation_wellcome_20230717.xlsx\n",
      "\n",
      "data: <?xml version=\"1.0\" encoding=\"UTF-8\" standalone=\"yes\"?><results numberOfResultsInPage=\"64\" totalNumberOfPages=\"1\"><doi>10.12688/wellcomeopenres.12583.3</doi><doi>10.12688/wellcomeopenres.14735.2</doi><doi>10.12688/wellcomeopenres.11715.1</doi><doi>10.12688/wellcomeopenres.14767.2</doi><doi>10.12688/wellcomeopenres.13387.2</doi><doi>10.12688/wellcomeopenres.16584.2</doi><doi>10.12688/wellcomeopenres.15974.2</doi><doi>10.12688/wellcomeopenres.17261.2</doi><doi>10.12688/wellcomeopenres.16405.1</doi><doi>10.12688/wellcomeopenres.10036.2</doi><doi>10.12688/wellcomeopenres.18868.1</doi><doi>10.12688/wellcomeopenres.14904.2</doi><doi>10.12688/wellcomeopenres.15919.2</doi><doi>10.12688/wellcomeopenres.15232.2</doi><doi>10.12688/wellcomeopenres.17965.1</doi><doi>10.12688/wellcomeopenres.15587.2</doi><doi>10.12688/wellcomeopenres.16068.1</doi><doi>10.12688/wellcomeopenres.15893.2</doi><doi>10.12688/wellcomeopenres.15013.2</doi><doi>10.12688/wellcomeopenres.16482.1</doi><doi>10.12688/wellcomeopenres.16734.4</doi><doi>10.12688/wellcomeopenres.15675.2</doi><doi>10.12688/wellcomeopenres.17090.1</doi><doi>10.12688/wellcomeopenres.12394.1</doi><doi>10.12688/wellcomeopenres.10308.1</doi><doi>10.12688/wellcomeopenres.17736.2</doi><doi>10.12688/wellcomeopenres.14839.1</doi><doi>10.12688/wellcomeopenres.14765.2</doi><doi>10.12688/wellcomeopenres.17660.2</doi><doi>10.12688/wellcomeopenres.15941.2</doi><doi>10.12688/wellcomeopenres.17743.2</doi><doi>10.12688/wellcomeopenres.11300.3</doi><doi>10.12688/wellcomeopenres.15403.2</doi><doi>10.12688/wellcomeopenres.15565.2</doi><doi>10.12688/wellcomeopenres.15451.1</doi><doi>10.12688/wellcomeopenres.15748.2</doi><doi>10.12688/wellcomeopenres.15729.2</doi><doi>10.12688/wellcomeopenres.18482.1</doi><doi>10.12688/wellcomeopenres.16409.1</doi><doi>10.12688/wellcomeopenres.15201.3</doi><doi>10.12688/wellcomeopenres.14898.2</doi><doi>10.12688/wellcomeopenres.15568.1</doi><doi>10.12688/wellcomeopenres.18681.1</doi><doi>10.12688/wellcomeopenres.16572.1</doi><doi>10.12688/wellcomeopenres.16299.2</doi><doi>10.12688/wellcomeopenres.16168.2</doi><doi>10.12688/wellcomeopenres.18251.1</doi><doi>10.12688/wellcomeopenres.17398.2</doi><doi>10.12688/wellcomeopenres.15770.1</doi><doi>10.12688/wellcomeopenres.15531.2</doi><doi>10.12688/wellcomeopenres.16801.2</doi><doi>10.12688/wellcomeopenres.18742.1</doi><doi>10.12688/wellcomeopenres.16031.2</doi><doi>10.12688/wellcomeopenres.16131.2</doi><doi>10.12688/wellcomeopenres.16363.2</doi><doi>10.12688/wellcomeopenres.17885.1</doi><doi>10.12688/wellcomeopenres.12237.2</doi><doi>10.12688/wellcomeopenres.10535.3</doi><doi>10.12688/wellcomeopenres.15108.1</doi><doi>10.12688/wellcomeopenres.16072.1</doi><doi>10.12688/wellcomeopenres.16002.2</doi><doi>10.12688/wellcomeopenres.14932.2</doi><doi>10.12688/wellcomeopenres.16004.2</doi><doi>10.12688/wellcomeopenres.11005.1</doi></results>\n",
      "Total number of pages: 1\n",
      "Empty DataFrame\n",
      "Columns: [Title, DOI, Authors, Full_Text_URL, Full_Text_Content]\n",
      "Index: []\n",
      "data_df after calling solr_api with wellcome: Empty DataFrame\n",
      "Columns: [Title, DOI, Authors, Full_Text_URL, Full_Text_Content]\n",
      "Index: []\n",
      "Filename output: Pollution+mitigation_gatesopen_20230717.xlsx\n",
      "\n",
      "data: <?xml version=\"1.0\" encoding=\"UTF-8\" standalone=\"yes\"?><results numberOfResultsInPage=\"8\" totalNumberOfPages=\"1\"><doi>10.12688/gatesopenres.12758.2</doi><doi>10.12688/gatesopenres.13635.2</doi><doi>10.12688/gatesopenres.12974.2</doi><doi>10.12688/gatesopenres.13039.2</doi><doi>10.12688/gatesopenres.14041.1</doi><doi>10.12688/gatesopenres.13072.1</doi><doi>10.12688/gatesopenres.12866.2</doi><doi>10.12688/gatesopenres.12879.1</doi></results>\n",
      "Total number of pages: 1\n",
      "Empty DataFrame\n",
      "Columns: [Title, DOI, Authors, Full_Text_URL, Full_Text_Content]\n",
      "Index: []\n",
      "data_df after calling solr_api with gatesopen: Empty DataFrame\n",
      "Columns: [Title, DOI, Authors, Full_Text_URL, Full_Text_Content]\n",
      "Index: []\n",
      "Current count: 6\n",
      "Filename output: Pollutants_f1000_20230717.xlsx\n",
      "\n",
      "data: <?xml version=\"1.0\" encoding=\"UTF-8\" standalone=\"yes\"?><results numberOfResultsInPage=\"100\" totalNumberOfPages=\"2\"><doi>10.12688/f1000research.1-44.v1</doi><doi>10.12688/f1000research.2-7.v1</doi><doi>10.12688/f1000research.2-77.v2</doi><doi>10.12688/f1000research.2-126.v2</doi><doi>10.12688/f1000research.2-190.v1</doi><doi>10.12688/f1000research.4709.1</doi><doi>10.12688/f1000research.5672.1</doi><doi>10.12688/f1000research.5530.2</doi><doi>10.12688/f1000research.5666.2</doi><doi>10.12688/f1000research.5573.3</doi><doi>10.12688/f1000research.5378.2</doi><doi>10.12688/f1000research.6392.1</doi><doi>10.12688/f1000research.6451.1</doi><doi>10.12688/f1000research.6822.1</doi><doi>10.12688/f1000research.5921.2</doi><doi>10.12688/f1000research.7507.2</doi><doi>10.12688/f1000research.8548.1</doi><doi>10.12688/f1000research.9434.1</doi><doi>10.12688/f1000research.9606.1</doi><doi>10.12688/f1000research.9918.1</doi><doi>10.12688/f1000research.9129.2</doi><doi>10.12688/f1000research.9544.2</doi><doi>10.12688/f1000research.9652.2</doi><doi>10.12688/f1000research.12717.1</doi><doi>10.12688/f1000research.12994.2</doi><doi>10.12688/f1000research.12337.4</doi><doi>10.12688/f1000research.13035.2</doi><doi>10.12688/f1000research.11395.4</doi><doi>10.12688/f1000research.13930.1</doi><doi>10.12688/f1000research.12418.2</doi><doi>10.12688/f1000research.13062.2</doi><doi>10.12688/f1000research.14566.2</doi><doi>10.12688/f1000research.14032.2</doi><doi>10.12688/f1000research.15826.1</doi><doi>10.12688/f1000research.12713.3</doi><doi>10.12688/f1000research.15955.1</doi><doi>10.12688/f1000research.15386.2</doi><doi>10.12688/f1000research.13196.2</doi><doi>10.12688/f1000research.16819.1</doi><doi>10.12688/f1000research.14770.3</doi><doi>10.12688/f1000research.17447.1</doi><doi>10.12688/f1000research.14960.2</doi><doi>10.12688/f1000research.18063.1</doi><doi>10.12688/f1000research.19304.2</doi><doi>10.12688/f1000research.18575.2</doi><doi>10.12688/f1000research.15361.3</doi><doi>10.12688/f1000research.20534.2</doi><doi>10.12688/f1000research.18445.2</doi><doi>10.12688/f1000research.19803.2</doi><doi>10.12688/f1000research.22299.2</doi><doi>10.12688/f1000research.22922.1</doi><doi>10.12688/f1000research.23532.1</doi><doi>10.12688/f1000research.24772.1</doi><doi>10.12688/f1000research.19901.2</doi><doi>10.12688/f1000research.25798.2</doi><doi>10.12688/f1000research.19598.5</doi><doi>10.12688/f1000research.16926.3</doi><doi>10.12688/f1000research.26025.2</doi><doi>10.12688/f1000research.26269.3</doi><doi>10.12688/f1000research.25142.2</doi><doi>10.12688/f1000research.24854.2</doi><doi>10.12688/f1000research.52494.1</doi><doi>10.12688/f1000research.52878.1</doi><doi>10.12688/f1000research.53962.1</doi><doi>10.12688/f1000research.54305.1</doi><doi>10.12688/f1000research.54436.1</doi><doi>10.12688/f1000research.51640.2</doi><doi>10.12688/f1000research.74484.1</doi><doi>10.12688/f1000research.55166.2</doi><doi>10.12688/f1000research.51270.2</doi><doi>10.12688/f1000research.52433.3</doi><doi>10.12688/f1000research.54533.2</doi><doi>10.12688/f1000research.75870.1</doi><doi>10.12688/f1000research.73602.2</doi><doi>10.12688/f1000research.108668.1</doi><doi>10.12688/f1000research.108799.1</doi><doi>10.12688/f1000research.110608.1</doi><doi>10.12688/f1000research.53135.2</doi><doi>10.12688/f1000research.121980.1</doi><doi>10.12688/f1000research.122332.1</doi><doi>10.12688/f1000research.26073.2</doi><doi>10.12688/f1000research.108886.2</doi><doi>10.12688/f1000research.26762.2</doi><doi>10.12688/f1000research.123041.2</doi><doi>10.12688/f1000research.126059.1</doi><doi>10.12688/f1000research.121813.2</doi><doi>10.12688/f1000research.127767.1</doi><doi>10.12688/f1000research.128048.1</doi><doi>10.12688/f1000research.55004.2</doi><doi>10.12688/f1000research.125074.2</doi><doi>10.12688/f1000research.54887.5</doi><doi>10.12688/f1000research.129833.1</doi><doi>10.12688/f1000research.122437.2</doi><doi>10.12688/f1000research.131730.1</doi><doi>10.12688/f1000research.53095.2</doi><doi>10.12688/f1000research.73410.3</doi><doi>10.12688/f1000research.135221.1</doi><doi>10.12688/f1000research.132106.2</doi><doi>10.12688/f1000research.25247.4</doi><doi>10.12688/f1000research.74198.2</doi></results>\n",
      "Total number of pages: 2\n",
      "doi downloaded\n",
      "doi downloaded\n",
      "doi downloaded\n"
     ]
    },
    {
     "name": "stderr",
     "output_type": "stream",
     "text": [
      "/usr/local/lib/python3.10/dist-packages/bs4/builder/__init__.py:545: XMLParsedAsHTMLWarning: It looks like you're parsing an XML document using an HTML parser. If this really is an HTML document (maybe it's XHTML?), you can ignore or filter this warning. If it's XML, you should know that using an XML parser will be more reliable. To parse this document as XML, make sure you have the lxml package installed, and pass the keyword argument `features=\"xml\"` into the BeautifulSoup constructor.\n",
      "  warnings.warn(\n"
     ]
    },
    {
     "name": "stdout",
     "output_type": "stream",
     "text": [
      "Towards recognizing the mechanisms of effects evoked in living organisms by static magnetic field. Numerically simulated effects of the static magnetic field upon simple inorganic molecules.\n",
      "Antibacterial, antibiofilm, and cytotoxic activities and chemical compositions of Peruvian propolis in an \n",
      "                    in vitro oral biofilm\n"
     ]
    },
    {
     "name": "stderr",
     "output_type": "stream",
     "text": [
      "/usr/local/lib/python3.10/dist-packages/bs4/builder/__init__.py:545: XMLParsedAsHTMLWarning: It looks like you're parsing an XML document using an HTML parser. If this really is an HTML document (maybe it's XHTML?), you can ignore or filter this warning. If it's XML, you should know that using an XML parser will be more reliable. To parse this document as XML, make sure you have the lxml package installed, and pass the keyword argument `features=\"xml\"` into the BeautifulSoup constructor.\n",
      "  warnings.warn(\n"
     ]
    },
    {
     "name": "stdout",
     "output_type": "stream",
     "text": [
      "Anticancer and antiretroviral activities of methanolic extract from \n",
      "                    Theobroma cacao L pod husk: focusing on the ethyl acetate partition\n",
      "                                               Title  \\\n",
      "0  Towards recognizing the mechanisms of effects ...   \n",
      "1  Antibacterial, antibiofilm, and cytotoxic acti...   \n",
      "2  Anticancer and antiretroviral activities of me...   \n",
      "\n",
      "                               DOI  \\\n",
      "0   10.12688/f1000research.54436.1   \n",
      "1   10.12688/f1000research.73602.2   \n",
      "2  10.12688/f1000research.128048.1   \n",
      "\n",
      "                                             Authors  \\\n",
      "0  [{Ciesielski, Wojciech}, {Tomasz, Girek}, {Zdz...   \n",
      "1  [{Pablo Alejandro, Millones-Gómez}, {Tay Chu J...   \n",
      "2  [{Yahya, Mustanir}, {Binawati, Ginting}, {Nurd...   \n",
      "\n",
      "                                       Full_Text_URL  \\\n",
      "0  https://f1000research.com/extapi/article/xml?d...   \n",
      "1  https://f1000research.com/extapi/article/xml?d...   \n",
      "2  https://f1000research.com/extapi/article/xml?d...   \n",
      "\n",
      "                                   Full_Text_Content  \n",
      "0  \\n\\nIntroduction\\nThere are a considerable num...  \n",
      "1  \\n\\nIntroduction\\n\\nFusobacterium nucleatum (\\...  \n",
      "2  \\n\\nIntroduction\\n\\nTheobroma cocoa pod husk, ...  \n",
      "data_df after calling solr_api with f1000:                                                Title  \\\n",
      "0  Towards recognizing the mechanisms of effects ...   \n",
      "1  Antibacterial, antibiofilm, and cytotoxic acti...   \n",
      "2  Anticancer and antiretroviral activities of me...   \n",
      "\n",
      "                               DOI  \\\n",
      "0   10.12688/f1000research.54436.1   \n",
      "1   10.12688/f1000research.73602.2   \n",
      "2  10.12688/f1000research.128048.1   \n",
      "\n",
      "                                             Authors  \\\n",
      "0  [{Ciesielski, Wojciech}, {Tomasz, Girek}, {Zdz...   \n",
      "1  [{Pablo Alejandro, Millones-Gómez}, {Tay Chu J...   \n",
      "2  [{Yahya, Mustanir}, {Binawati, Ginting}, {Nurd...   \n",
      "\n",
      "                                       Full_Text_URL  \\\n",
      "0  https://f1000research.com/extapi/article/xml?d...   \n",
      "1  https://f1000research.com/extapi/article/xml?d...   \n",
      "2  https://f1000research.com/extapi/article/xml?d...   \n",
      "\n",
      "                                   Full_Text_Content  \n",
      "0  \\n\\nIntroduction\\nThere are a considerable num...  \n",
      "1  \\n\\nIntroduction\\n\\nFusobacterium nucleatum (\\...  \n",
      "2  \\n\\nIntroduction\\n\\nTheobroma cocoa pod husk, ...  \n",
      "Filename output: Pollutants_wellcome_20230717.xlsx\n",
      "\n",
      "data: <?xml version=\"1.0\" encoding=\"UTF-8\" standalone=\"yes\"?><results numberOfResultsInPage=\"76\" totalNumberOfPages=\"1\"><doi>10.12688/wellcomeopenres.16834.1</doi><doi>10.12688/wellcomeopenres.12583.3</doi><doi>10.12688/wellcomeopenres.14735.2</doi><doi>10.12688/wellcomeopenres.11715.1</doi><doi>10.12688/wellcomeopenres.14767.2</doi><doi>10.12688/wellcomeopenres.13387.2</doi><doi>10.12688/wellcomeopenres.16584.2</doi><doi>10.12688/wellcomeopenres.15974.2</doi><doi>10.12688/wellcomeopenres.17261.2</doi><doi>10.12688/wellcomeopenres.16405.1</doi><doi>10.12688/wellcomeopenres.10036.2</doi><doi>10.12688/wellcomeopenres.15061.2</doi><doi>10.12688/wellcomeopenres.15401.3</doi><doi>10.12688/wellcomeopenres.18868.1</doi><doi>10.12688/wellcomeopenres.14904.2</doi><doi>10.12688/wellcomeopenres.15919.2</doi><doi>10.12688/wellcomeopenres.15232.2</doi><doi>10.12688/wellcomeopenres.17965.1</doi><doi>10.12688/wellcomeopenres.15587.2</doi><doi>10.12688/wellcomeopenres.16068.1</doi><doi>10.12688/wellcomeopenres.15893.2</doi><doi>10.12688/wellcomeopenres.15013.2</doi><doi>10.12688/wellcomeopenres.17536.1</doi><doi>10.12688/wellcomeopenres.16482.1</doi><doi>10.12688/wellcomeopenres.16734.4</doi><doi>10.12688/wellcomeopenres.14818.1</doi><doi>10.12688/wellcomeopenres.15359.1</doi><doi>10.12688/wellcomeopenres.15675.2</doi><doi>10.12688/wellcomeopenres.17090.1</doi><doi>10.12688/wellcomeopenres.11854.1</doi><doi>10.12688/wellcomeopenres.12394.1</doi><doi>10.12688/wellcomeopenres.10308.1</doi><doi>10.12688/wellcomeopenres.17736.2</doi><doi>10.12688/wellcomeopenres.16064.1</doi><doi>10.12688/wellcomeopenres.14839.1</doi><doi>10.12688/wellcomeopenres.14765.2</doi><doi>10.12688/wellcomeopenres.17660.2</doi><doi>10.12688/wellcomeopenres.15941.2</doi><doi>10.12688/wellcomeopenres.16635.2</doi><doi>10.12688/wellcomeopenres.17743.2</doi><doi>10.12688/wellcomeopenres.11300.3</doi><doi>10.12688/wellcomeopenres.15403.2</doi><doi>10.12688/wellcomeopenres.15565.2</doi><doi>10.12688/wellcomeopenres.15451.1</doi><doi>10.12688/wellcomeopenres.15748.2</doi><doi>10.12688/wellcomeopenres.15729.2</doi><doi>10.12688/wellcomeopenres.18482.1</doi><doi>10.12688/wellcomeopenres.16409.1</doi><doi>10.12688/wellcomeopenres.15201.3</doi><doi>10.12688/wellcomeopenres.14898.2</doi><doi>10.12688/wellcomeopenres.15568.1</doi><doi>10.12688/wellcomeopenres.18681.1</doi><doi>10.12688/wellcomeopenres.16572.1</doi><doi>10.12688/wellcomeopenres.16299.2</doi><doi>10.12688/wellcomeopenres.16168.2</doi><doi>10.12688/wellcomeopenres.18251.1</doi><doi>10.12688/wellcomeopenres.17398.2</doi><doi>10.12688/wellcomeopenres.15770.1</doi><doi>10.12688/wellcomeopenres.15531.2</doi><doi>10.12688/wellcomeopenres.16801.2</doi><doi>10.12688/wellcomeopenres.18742.1</doi><doi>10.12688/wellcomeopenres.16031.2</doi><doi>10.12688/wellcomeopenres.16131.2</doi><doi>10.12688/wellcomeopenres.16363.2</doi><doi>10.12688/wellcomeopenres.17885.1</doi><doi>10.12688/wellcomeopenres.12237.2</doi><doi>10.12688/wellcomeopenres.17661.1</doi><doi>10.12688/wellcomeopenres.15140.1</doi><doi>10.12688/wellcomeopenres.10535.3</doi><doi>10.12688/wellcomeopenres.15108.1</doi><doi>10.12688/wellcomeopenres.16072.1</doi><doi>10.12688/wellcomeopenres.16002.2</doi><doi>10.12688/wellcomeopenres.14932.2</doi><doi>10.12688/wellcomeopenres.16004.2</doi><doi>10.12688/wellcomeopenres.12631.1</doi><doi>10.12688/wellcomeopenres.11005.1</doi></results>\n",
      "Total number of pages: 1\n",
      "Empty DataFrame\n",
      "Columns: [Title, DOI, Authors, Full_Text_URL, Full_Text_Content]\n",
      "Index: []\n",
      "data_df after calling solr_api with wellcome: Empty DataFrame\n",
      "Columns: [Title, DOI, Authors, Full_Text_URL, Full_Text_Content]\n",
      "Index: []\n",
      "Filename output: Pollutants_gatesopen_20230717.xlsx\n",
      "\n",
      "data: <?xml version=\"1.0\" encoding=\"UTF-8\" standalone=\"yes\"?><results numberOfResultsInPage=\"8\" totalNumberOfPages=\"1\"><doi>10.12688/gatesopenres.12758.2</doi><doi>10.12688/gatesopenres.13635.2</doi><doi>10.12688/gatesopenres.12974.2</doi><doi>10.12688/gatesopenres.13039.2</doi><doi>10.12688/gatesopenres.14041.1</doi><doi>10.12688/gatesopenres.13072.1</doi><doi>10.12688/gatesopenres.12866.2</doi><doi>10.12688/gatesopenres.12879.1</doi></results>\n",
      "Total number of pages: 1\n",
      "Empty DataFrame\n",
      "Columns: [Title, DOI, Authors, Full_Text_URL, Full_Text_Content]\n",
      "Index: []\n",
      "data_df after calling solr_api with gatesopen: Empty DataFrame\n",
      "Columns: [Title, DOI, Authors, Full_Text_URL, Full_Text_Content]\n",
      "Index: []\n",
      "Current count: 7\n",
      "Filename output: Paris+Agreement_f1000_20230717.xlsx\n",
      "\n",
      "data: <?xml version=\"1.0\" encoding=\"UTF-8\" standalone=\"yes\"?><results numberOfResultsInPage=\"100\" totalNumberOfPages=\"11\"><doi>10.12688/f1000research.1-58.v1</doi><doi>10.12688/f1000research.1-12.v2</doi><doi>10.12688/f1000research.2-77.v2</doi><doi>10.12688/f1000research.2-204.v1</doi><doi>10.12688/f1000research.2-155.v2</doi><doi>10.12688/f1000research.2-234.v1</doi><doi>10.12688/f1000research.4831.1</doi><doi>10.12688/f1000research.4436.2</doi><doi>10.12688/f1000research.5369.2</doi><doi>10.12688/f1000research.7201.1</doi><doi>10.12688/f1000research.8102.2</doi><doi>10.12688/f1000research.7035.2</doi><doi>10.12688/f1000research.9556.1</doi><doi>10.12688/f1000research.9501.2</doi><doi>10.12688/f1000research.7082.3</doi><doi>10.12688/f1000research.10545.1</doi><doi>10.12688/f1000research.10559.1</doi><doi>10.12688/f1000research.11091.1</doi><doi>10.12688/f1000research.8839.3</doi><doi>10.12688/f1000research.11354.1</doi><doi>10.12688/f1000research.11968.1</doi><doi>10.12688/f1000research.11997.1</doi><doi>10.12688/f1000research.12122.1</doi><doi>10.12688/f1000research.12757.1</doi><doi>10.12688/f1000research.6963.5</doi><doi>10.12688/f1000research.13619.1</doi><doi>10.12688/f1000research.14361.1</doi><doi>10.12688/f1000research.13990.2</doi><doi>10.12688/f1000research.12418.2</doi><doi>10.12688/f1000research.10411.2</doi><doi>10.12688/f1000research.14566.2</doi><doi>10.12688/f1000research.9973.2</doi><doi>10.12688/f1000research.15557.1</doi><doi>10.12688/f1000research.16047.1</doi><doi>10.12688/f1000research.14013.2</doi><doi>10.12688/f1000research.16026.2</doi><doi>10.12688/f1000research.13196.2</doi><doi>10.12688/f1000research.9005.3</doi><doi>10.12688/f1000research.17187.1</doi><doi>10.12688/f1000research.17997.1</doi><doi>10.12688/f1000research.18476.1</doi><doi>10.12688/f1000research.17548.2</doi><doi>10.12688/f1000research.16928.3</doi><doi>10.12688/f1000research.18705.2</doi><doi>10.12688/f1000research.18575.2</doi><doi>10.12688/f1000research.20608.1</doi><doi>10.12688/f1000research.20844.2</doi><doi>10.12688/f1000research.22996.1</doi><doi>10.12688/f1000research.24015.1</doi><doi>10.12688/f1000research.19894.2</doi><doi>10.12688/f1000research.24772.1</doi><doi>10.12688/f1000research.25501.1</doi><doi>10.12688/f1000research.23160.3</doi><doi>10.12688/f1000research.24187.2</doi><doi>10.12688/f1000research.24532.2</doi><doi>10.12688/f1000research.24289.2</doi><doi>10.12688/f1000research.24435.2</doi><doi>10.12688/f1000research.28023.1</doi><doi>10.12688/f1000research.24868.3</doi><doi>10.12688/f1000research.52494.1</doi><doi>10.12688/f1000research.52693.1</doi><doi>10.12688/f1000research.25943.2</doi><doi>10.12688/f1000research.53962.1</doi><doi>10.12688/f1000research.54305.1</doi><doi>10.12688/f1000research.54501.1</doi><doi>10.12688/f1000research.54990.1</doi><doi>10.12688/f1000research.26128.2</doi><doi>10.12688/f1000research.52607.2</doi><doi>10.12688/f1000research.55385.1</doi><doi>10.12688/f1000research.28281.2</doi><doi>10.12688/f1000research.54268.2</doi><doi>10.12688/f1000research.72986.1</doi><doi>10.12688/f1000research.73498.1</doi><doi>10.12688/f1000research.52613.2</doi><doi>10.12688/f1000research.52999.2</doi><doi>10.12688/f1000research.54533.2</doi><doi>10.12688/f1000research.74041.2</doi><doi>10.12688/f1000research.111241.1</doi><doi>10.12688/f1000research.117334.1</doi><doi>10.12688/f1000research.72904.2</doi><doi>10.12688/f1000research.121980.1</doi><doi>10.12688/f1000research.26167.3</doi><doi>10.12688/f1000research.123275.1</doi><doi>10.12688/f1000research.124234.1</doi><doi>10.12688/f1000research.110647.2</doi><doi>10.12688/f1000research.127363.1</doi><doi>10.12688/f1000research.128002.1</doi><doi>10.12688/f1000research.128537.1</doi><doi>10.12688/f1000research.73520.2</doi><doi>10.12688/f1000research.73904.2</doi><doi>10.12688/f1000research.121746.3</doi><doi>10.12688/f1000research.109551.2</doi><doi>10.12688/f1000research.122437.2</doi><doi>10.12688/f1000research.54195.2</doi><doi>10.12688/f1000research.108648.2</doi><doi>10.12688/f1000research.125400.2</doi><doi>10.12688/f1000research.123693.2</doi><doi>10.12688/f1000research.131013.1</doi><doi>10.12688/f1000research.126579.2</doi><doi>10.12688/f1000research.73410.3</doi></results>\n",
      "Total number of pages: 11\n",
      "doi downloaded\n",
      "doi downloaded\n",
      "doi downloaded\n",
      "doi downloaded\n",
      "doi downloaded\n",
      "doi downloaded\n",
      "doi downloaded\n",
      "doi downloaded\n",
      "doi downloaded\n",
      "doi downloaded\n",
      "doi downloaded\n",
      "doi downloaded\n",
      "doi downloaded\n",
      "doi downloaded\n",
      "doi downloaded\n",
      "doi downloaded\n",
      "doi downloaded\n",
      "doi downloaded\n",
      "doi downloaded\n",
      "doi downloaded\n",
      "doi downloaded\n",
      "doi downloaded\n",
      "doi downloaded\n",
      "doi downloaded\n",
      "doi downloaded\n",
      "doi downloaded\n",
      "doi downloaded\n",
      "doi downloaded\n",
      "doi downloaded\n",
      "doi downloaded\n",
      "doi downloaded\n",
      "doi downloaded\n",
      "doi downloaded\n",
      "doi downloaded\n",
      "doi downloaded\n",
      "doi downloaded\n",
      "doi downloaded\n",
      "doi downloaded\n",
      "doi downloaded\n",
      "doi downloaded\n",
      "doi downloaded\n",
      "doi downloaded\n",
      "doi downloaded\n",
      "doi downloaded\n",
      "doi downloaded\n",
      "doi downloaded\n",
      "doi downloaded\n",
      "doi downloaded\n",
      "doi downloaded\n",
      "doi downloaded\n",
      "doi downloaded\n",
      "doi downloaded\n",
      "doi downloaded\n",
      "doi downloaded\n",
      "doi downloaded\n",
      "doi downloaded\n",
      "doi downloaded\n",
      "doi downloaded\n",
      "doi downloaded\n",
      "doi downloaded\n",
      "doi downloaded\n",
      "doi downloaded\n",
      "doi downloaded\n",
      "doi downloaded\n",
      "doi downloaded\n",
      "doi downloaded\n",
      "doi downloaded\n",
      "doi downloaded\n",
      "doi downloaded\n",
      "doi downloaded\n",
      "doi downloaded\n",
      "doi downloaded\n",
      "doi downloaded\n",
      "doi downloaded\n",
      "doi downloaded\n",
      "doi downloaded\n",
      "doi downloaded\n",
      "doi downloaded\n",
      "doi downloaded\n",
      "doi downloaded\n",
      "doi downloaded\n",
      "doi downloaded\n",
      "doi downloaded\n",
      "doi downloaded\n",
      "doi downloaded\n",
      "doi downloaded\n",
      "doi downloaded\n",
      "doi downloaded\n",
      "doi downloaded\n",
      "doi downloaded\n",
      "doi downloaded\n",
      "doi downloaded\n",
      "doi downloaded\n",
      "doi downloaded\n",
      "doi downloaded\n",
      "doi downloaded\n",
      "doi downloaded\n",
      "doi downloaded\n",
      "doi downloaded\n",
      "doi downloaded\n",
      "doi downloaded\n",
      "doi downloaded\n",
      "doi downloaded\n",
      "doi downloaded\n",
      "doi downloaded\n",
      "doi downloaded\n",
      "doi downloaded\n",
      "doi downloaded\n",
      "doi downloaded\n",
      "doi downloaded\n",
      "doi downloaded\n",
      "doi downloaded\n",
      "doi downloaded\n",
      "doi downloaded\n",
      "doi downloaded\n",
      "doi downloaded\n",
      "doi downloaded\n",
      "doi downloaded\n",
      "doi downloaded\n",
      "doi downloaded\n",
      "doi downloaded\n",
      "doi downloaded\n",
      "doi downloaded\n",
      "doi downloaded\n",
      "doi downloaded\n",
      "doi downloaded\n",
      "doi downloaded\n",
      "doi downloaded\n",
      "doi downloaded\n",
      "doi downloaded\n",
      "doi downloaded\n",
      "doi downloaded\n",
      "doi downloaded\n",
      "doi downloaded\n",
      "doi downloaded\n",
      "doi downloaded\n",
      "doi downloaded\n",
      "doi downloaded\n",
      "doi downloaded\n",
      "doi downloaded\n",
      "doi downloaded\n",
      "doi downloaded\n",
      "doi downloaded\n",
      "doi downloaded\n",
      "doi downloaded\n",
      "doi downloaded\n",
      "doi downloaded\n",
      "doi downloaded\n",
      "doi downloaded\n"
     ]
    },
    {
     "name": "stderr",
     "output_type": "stream",
     "text": [
      "/usr/local/lib/python3.10/dist-packages/bs4/builder/__init__.py:545: XMLParsedAsHTMLWarning: It looks like you're parsing an XML document using an HTML parser. If this really is an HTML document (maybe it's XHTML?), you can ignore or filter this warning. If it's XML, you should know that using an XML parser will be more reliable. To parse this document as XML, make sure you have the lxml package installed, and pass the keyword argument `features=\"xml\"` into the BeautifulSoup constructor.\n",
      "  warnings.warn(\n"
     ]
    },
    {
     "name": "stdout",
     "output_type": "stream",
     "text": [
      "FALCON: a software package for analysis of nestedness in bipartite networks\n",
      "Conservation of gene essentiality in Apicomplexa and its application for prioritization of anti-malarial drug targets\n"
     ]
    },
    {
     "name": "stderr",
     "output_type": "stream",
     "text": [
      "/usr/local/lib/python3.10/dist-packages/bs4/builder/__init__.py:545: XMLParsedAsHTMLWarning: It looks like you're parsing an XML document using an HTML parser. If this really is an HTML document (maybe it's XHTML?), you can ignore or filter this warning. If it's XML, you should know that using an XML parser will be more reliable. To parse this document as XML, make sure you have the lxml package installed, and pass the keyword argument `features=\"xml\"` into the BeautifulSoup constructor.\n",
      "  warnings.warn(\n"
     ]
    },
    {
     "name": "stdout",
     "output_type": "stream",
     "text": [
      "Null hypothesis significance testing: a guide to commonly misunderstood concepts and recommendations for good practice\n"
     ]
    },
    {
     "name": "stderr",
     "output_type": "stream",
     "text": [
      "/usr/local/lib/python3.10/dist-packages/bs4/builder/__init__.py:545: XMLParsedAsHTMLWarning: It looks like you're parsing an XML document using an HTML parser. If this really is an HTML document (maybe it's XHTML?), you can ignore or filter this warning. If it's XML, you should know that using an XML parser will be more reliable. To parse this document as XML, make sure you have the lxml package installed, and pass the keyword argument `features=\"xml\"` into the BeautifulSoup constructor.\n",
      "  warnings.warn(\n"
     ]
    },
    {
     "name": "stdout",
     "output_type": "stream",
     "text": [
      "The acid tolerance response and pH adaptation of \n",
      "                    Enterococcus faecalis in extract of lime \n",
      "                    Citrus aurantiifolia from Aceh Indonesia\n"
     ]
    },
    {
     "name": "stderr",
     "output_type": "stream",
     "text": [
      "/usr/local/lib/python3.10/dist-packages/bs4/builder/__init__.py:545: XMLParsedAsHTMLWarning: It looks like you're parsing an XML document using an HTML parser. If this really is an HTML document (maybe it's XHTML?), you can ignore or filter this warning. If it's XML, you should know that using an XML parser will be more reliable. To parse this document as XML, make sure you have the lxml package installed, and pass the keyword argument `features=\"xml\"` into the BeautifulSoup constructor.\n",
      "  warnings.warn(\n"
     ]
    },
    {
     "name": "stdout",
     "output_type": "stream",
     "text": [
      "Expanding the Orthologous Matrix (OMA) programmatic interfaces: REST API and the \n",
      "                    OmaDB packages for R and Python\n"
     ]
    },
    {
     "name": "stderr",
     "output_type": "stream",
     "text": [
      "/usr/local/lib/python3.10/dist-packages/bs4/builder/__init__.py:545: XMLParsedAsHTMLWarning: It looks like you're parsing an XML document using an HTML parser. If this really is an HTML document (maybe it's XHTML?), you can ignore or filter this warning. If it's XML, you should know that using an XML parser will be more reliable. To parse this document as XML, make sure you have the lxml package installed, and pass the keyword argument `features=\"xml\"` into the BeautifulSoup constructor.\n",
      "  warnings.warn(\n"
     ]
    },
    {
     "name": "stdout",
     "output_type": "stream",
     "text": [
      "Development and validation of the English version of the Moral Growth Mindset measure\n"
     ]
    },
    {
     "name": "stderr",
     "output_type": "stream",
     "text": [
      "/usr/local/lib/python3.10/dist-packages/bs4/builder/__init__.py:545: XMLParsedAsHTMLWarning: It looks like you're parsing an XML document using an HTML parser. If this really is an HTML document (maybe it's XHTML?), you can ignore or filter this warning. If it's XML, you should know that using an XML parser will be more reliable. To parse this document as XML, make sure you have the lxml package installed, and pass the keyword argument `features=\"xml\"` into the BeautifulSoup constructor.\n",
      "  warnings.warn(\n"
     ]
    },
    {
     "name": "stdout",
     "output_type": "stream",
     "text": [
      "Evidence of misuse of nonparametric tests in the presence of heteroscedasticity within obesity research\n"
     ]
    },
    {
     "name": "stderr",
     "output_type": "stream",
     "text": [
      "/usr/local/lib/python3.10/dist-packages/bs4/builder/__init__.py:545: XMLParsedAsHTMLWarning: It looks like you're parsing an XML document using an HTML parser. If this really is an HTML document (maybe it's XHTML?), you can ignore or filter this warning. If it's XML, you should know that using an XML parser will be more reliable. To parse this document as XML, make sure you have the lxml package installed, and pass the keyword argument `features=\"xml\"` into the BeautifulSoup constructor.\n",
      "  warnings.warn(\n"
     ]
    },
    {
     "name": "stdout",
     "output_type": "stream",
     "text": [
      "\n",
      "Drosophila immune priming against\n",
      "                     Pseudomonas aeruginosa is short-lasting and depends on cellular and humoral immunity\n"
     ]
    },
    {
     "name": "stderr",
     "output_type": "stream",
     "text": [
      "/usr/local/lib/python3.10/dist-packages/bs4/builder/__init__.py:545: XMLParsedAsHTMLWarning: It looks like you're parsing an XML document using an HTML parser. If this really is an HTML document (maybe it's XHTML?), you can ignore or filter this warning. If it's XML, you should know that using an XML parser will be more reliable. To parse this document as XML, make sure you have the lxml package installed, and pass the keyword argument `features=\"xml\"` into the BeautifulSoup constructor.\n",
      "  warnings.warn(\n"
     ]
    },
    {
     "name": "stdout",
     "output_type": "stream",
     "text": [
      "NetMatchStar: an enhanced Cytoscape network querying app\n"
     ]
    },
    {
     "name": "stderr",
     "output_type": "stream",
     "text": [
      "/usr/local/lib/python3.10/dist-packages/bs4/builder/__init__.py:545: XMLParsedAsHTMLWarning: It looks like you're parsing an XML document using an HTML parser. If this really is an HTML document (maybe it's XHTML?), you can ignore or filter this warning. If it's XML, you should know that using an XML parser will be more reliable. To parse this document as XML, make sure you have the lxml package installed, and pass the keyword argument `features=\"xml\"` into the BeautifulSoup constructor.\n",
      "  warnings.warn(\n"
     ]
    },
    {
     "name": "stdout",
     "output_type": "stream",
     "text": [
      "Leukocyte telomere length and hippocampus volume: a meta-analysis\n"
     ]
    },
    {
     "name": "stderr",
     "output_type": "stream",
     "text": [
      "/usr/local/lib/python3.10/dist-packages/bs4/builder/__init__.py:545: XMLParsedAsHTMLWarning: It looks like you're parsing an XML document using an HTML parser. If this really is an HTML document (maybe it's XHTML?), you can ignore or filter this warning. If it's XML, you should know that using an XML parser will be more reliable. To parse this document as XML, make sure you have the lxml package installed, and pass the keyword argument `features=\"xml\"` into the BeautifulSoup constructor.\n",
      "  warnings.warn(\n"
     ]
    },
    {
     "name": "stdout",
     "output_type": "stream",
     "text": [
      "Reproductive success is predicted by social dynamics and kinship in managed animal populations\n"
     ]
    },
    {
     "name": "stderr",
     "output_type": "stream",
     "text": [
      "/usr/local/lib/python3.10/dist-packages/bs4/builder/__init__.py:545: XMLParsedAsHTMLWarning: It looks like you're parsing an XML document using an HTML parser. If this really is an HTML document (maybe it's XHTML?), you can ignore or filter this warning. If it's XML, you should know that using an XML parser will be more reliable. To parse this document as XML, make sure you have the lxml package installed, and pass the keyword argument `features=\"xml\"` into the BeautifulSoup constructor.\n",
      "  warnings.warn(\n"
     ]
    },
    {
     "name": "stdout",
     "output_type": "stream",
     "text": [
      "Analyzing DECREASE trials to estimate evidence of data manipulation\n"
     ]
    },
    {
     "name": "stderr",
     "output_type": "stream",
     "text": [
      "/usr/local/lib/python3.10/dist-packages/bs4/builder/__init__.py:545: XMLParsedAsHTMLWarning: It looks like you're parsing an XML document using an HTML parser. If this really is an HTML document (maybe it's XHTML?), you can ignore or filter this warning. If it's XML, you should know that using an XML parser will be more reliable. To parse this document as XML, make sure you have the lxml package installed, and pass the keyword argument `features=\"xml\"` into the BeautifulSoup constructor.\n",
      "  warnings.warn(\n"
     ]
    },
    {
     "name": "stdout",
     "output_type": "stream",
     "text": [
      "Strong evidence that callous–unemotional traits are not related to risk-taking task performance\n"
     ]
    },
    {
     "name": "stderr",
     "output_type": "stream",
     "text": [
      "/usr/local/lib/python3.10/dist-packages/bs4/builder/__init__.py:545: XMLParsedAsHTMLWarning: It looks like you're parsing an XML document using an HTML parser. If this really is an HTML document (maybe it's XHTML?), you can ignore or filter this warning. If it's XML, you should know that using an XML parser will be more reliable. To parse this document as XML, make sure you have the lxml package installed, and pass the keyword argument `features=\"xml\"` into the BeautifulSoup constructor.\n",
      "  warnings.warn(\n"
     ]
    },
    {
     "name": "stdout",
     "output_type": "stream",
     "text": [
      "A genome-wide scan of cleft lip triads identifies parent-of-origin interaction effects between \n",
      "                    ANK3 and maternal smoking, and between \n",
      "                    ARHGEF10 and alcohol consumption\n"
     ]
    },
    {
     "name": "stderr",
     "output_type": "stream",
     "text": [
      "/usr/local/lib/python3.10/dist-packages/bs4/builder/__init__.py:545: XMLParsedAsHTMLWarning: It looks like you're parsing an XML document using an HTML parser. If this really is an HTML document (maybe it's XHTML?), you can ignore or filter this warning. If it's XML, you should know that using an XML parser will be more reliable. To parse this document as XML, make sure you have the lxml package installed, and pass the keyword argument `features=\"xml\"` into the BeautifulSoup constructor.\n",
      "  warnings.warn(\n"
     ]
    },
    {
     "name": "stdout",
     "output_type": "stream",
     "text": [
      "Relative prolixity in journals with different citation impact values: an evidence-based scientific writing assessment\n"
     ]
    },
    {
     "name": "stderr",
     "output_type": "stream",
     "text": [
      "/usr/local/lib/python3.10/dist-packages/bs4/builder/__init__.py:545: XMLParsedAsHTMLWarning: It looks like you're parsing an XML document using an HTML parser. If this really is an HTML document (maybe it's XHTML?), you can ignore or filter this warning. If it's XML, you should know that using an XML parser will be more reliable. To parse this document as XML, make sure you have the lxml package installed, and pass the keyword argument `features=\"xml\"` into the BeautifulSoup constructor.\n",
      "  warnings.warn(\n"
     ]
    },
    {
     "name": "stdout",
     "output_type": "stream",
     "text": [
      "Analysis of diagnostic product portfolios using the Portfolio-To-Impact modelling tool\n"
     ]
    },
    {
     "name": "stderr",
     "output_type": "stream",
     "text": [
      "/usr/local/lib/python3.10/dist-packages/bs4/builder/__init__.py:545: XMLParsedAsHTMLWarning: It looks like you're parsing an XML document using an HTML parser. If this really is an HTML document (maybe it's XHTML?), you can ignore or filter this warning. If it's XML, you should know that using an XML parser will be more reliable. To parse this document as XML, make sure you have the lxml package installed, and pass the keyword argument `features=\"xml\"` into the BeautifulSoup constructor.\n",
      "  warnings.warn(\n"
     ]
    },
    {
     "name": "stdout",
     "output_type": "stream",
     "text": [
      "Applying machine learning EEG signal classification to emotion‑related brain anticipatory activity\n"
     ]
    },
    {
     "name": "stderr",
     "output_type": "stream",
     "text": [
      "/usr/local/lib/python3.10/dist-packages/bs4/builder/__init__.py:545: XMLParsedAsHTMLWarning: It looks like you're parsing an XML document using an HTML parser. If this really is an HTML document (maybe it's XHTML?), you can ignore or filter this warning. If it's XML, you should know that using an XML parser will be more reliable. To parse this document as XML, make sure you have the lxml package installed, and pass the keyword argument `features=\"xml\"` into the BeautifulSoup constructor.\n",
      "  warnings.warn(\n"
     ]
    },
    {
     "name": "stdout",
     "output_type": "stream",
     "text": [
      "Association of smoking status with hospitalisation for COVID-19 compared with other respiratory viruses a year previous: a case-control study at a single UK National Health Service trust\n"
     ]
    },
    {
     "name": "stderr",
     "output_type": "stream",
     "text": [
      "/usr/local/lib/python3.10/dist-packages/bs4/builder/__init__.py:545: XMLParsedAsHTMLWarning: It looks like you're parsing an XML document using an HTML parser. If this really is an HTML document (maybe it's XHTML?), you can ignore or filter this warning. If it's XML, you should know that using an XML parser will be more reliable. To parse this document as XML, make sure you have the lxml package installed, and pass the keyword argument `features=\"xml\"` into the BeautifulSoup constructor.\n",
      "  warnings.warn(\n"
     ]
    },
    {
     "name": "stdout",
     "output_type": "stream",
     "text": [
      "The use of consultation on Incontinence Questioner – Nocturia (ICIQ-N) in Indonesian population: an affirmation study\n"
     ]
    },
    {
     "name": "stderr",
     "output_type": "stream",
     "text": [
      "/usr/local/lib/python3.10/dist-packages/bs4/builder/__init__.py:545: XMLParsedAsHTMLWarning: It looks like you're parsing an XML document using an HTML parser. If this really is an HTML document (maybe it's XHTML?), you can ignore or filter this warning. If it's XML, you should know that using an XML parser will be more reliable. To parse this document as XML, make sure you have the lxml package installed, and pass the keyword argument `features=\"xml\"` into the BeautifulSoup constructor.\n",
      "  warnings.warn(\n"
     ]
    },
    {
     "name": "stdout",
     "output_type": "stream",
     "text": [
      "Automated detection of over- and under-dispersion in baseline tables in randomised controlled trials\n"
     ]
    },
    {
     "name": "stderr",
     "output_type": "stream",
     "text": [
      "/usr/local/lib/python3.10/dist-packages/bs4/builder/__init__.py:545: XMLParsedAsHTMLWarning: It looks like you're parsing an XML document using an HTML parser. If this really is an HTML document (maybe it's XHTML?), you can ignore or filter this warning. If it's XML, you should know that using an XML parser will be more reliable. To parse this document as XML, make sure you have the lxml package installed, and pass the keyword argument `features=\"xml\"` into the BeautifulSoup constructor.\n",
      "  warnings.warn(\n"
     ]
    },
    {
     "name": "stdout",
     "output_type": "stream",
     "text": [
      "Prediction of self-efficacy in recognizing deepfakes based on personality traits \n"
     ]
    },
    {
     "name": "stderr",
     "output_type": "stream",
     "text": [
      "/usr/local/lib/python3.10/dist-packages/bs4/builder/__init__.py:545: XMLParsedAsHTMLWarning: It looks like you're parsing an XML document using an HTML parser. If this really is an HTML document (maybe it's XHTML?), you can ignore or filter this warning. If it's XML, you should know that using an XML parser will be more reliable. To parse this document as XML, make sure you have the lxml package installed, and pass the keyword argument `features=\"xml\"` into the BeautifulSoup constructor.\n",
      "  warnings.warn(\n"
     ]
    },
    {
     "name": "stdout",
     "output_type": "stream",
     "text": [
      "Positive or negative allosteric modulation of metabotropic glutamate receptor 5 (mGluR5) does not alter expression of behavioral sensitization to methamphetamine\n"
     ]
    },
    {
     "name": "stderr",
     "output_type": "stream",
     "text": [
      "/usr/local/lib/python3.10/dist-packages/bs4/builder/__init__.py:545: XMLParsedAsHTMLWarning: It looks like you're parsing an XML document using an HTML parser. If this really is an HTML document (maybe it's XHTML?), you can ignore or filter this warning. If it's XML, you should know that using an XML parser will be more reliable. To parse this document as XML, make sure you have the lxml package installed, and pass the keyword argument `features=\"xml\"` into the BeautifulSoup constructor.\n",
      "  warnings.warn(\n"
     ]
    },
    {
     "name": "stdout",
     "output_type": "stream",
     "text": [
      "Analysis of red autofluorescence (650-670nm) in epidermal cell populations and its potential for distinguishing contributors to 'touch' biological samples\n"
     ]
    },
    {
     "name": "stderr",
     "output_type": "stream",
     "text": [
      "/usr/local/lib/python3.10/dist-packages/bs4/builder/__init__.py:545: XMLParsedAsHTMLWarning: It looks like you're parsing an XML document using an HTML parser. If this really is an HTML document (maybe it's XHTML?), you can ignore or filter this warning. If it's XML, you should know that using an XML parser will be more reliable. To parse this document as XML, make sure you have the lxml package installed, and pass the keyword argument `features=\"xml\"` into the BeautifulSoup constructor.\n",
      "  warnings.warn(\n"
     ]
    },
    {
     "name": "stdout",
     "output_type": "stream",
     "text": [
      "Cutaneous neonatal Langerhans cell histiocytosis: a systematic review of case reports\n"
     ]
    },
    {
     "name": "stderr",
     "output_type": "stream",
     "text": [
      "/usr/local/lib/python3.10/dist-packages/bs4/builder/__init__.py:545: XMLParsedAsHTMLWarning: It looks like you're parsing an XML document using an HTML parser. If this really is an HTML document (maybe it's XHTML?), you can ignore or filter this warning. If it's XML, you should know that using an XML parser will be more reliable. To parse this document as XML, make sure you have the lxml package installed, and pass the keyword argument `features=\"xml\"` into the BeautifulSoup constructor.\n",
      "  warnings.warn(\n"
     ]
    },
    {
     "name": "stdout",
     "output_type": "stream",
     "text": [
      "Using equivalence class counts for fast and accurate testing of differential transcript usage\n"
     ]
    },
    {
     "name": "stderr",
     "output_type": "stream",
     "text": [
      "/usr/local/lib/python3.10/dist-packages/bs4/builder/__init__.py:545: XMLParsedAsHTMLWarning: It looks like you're parsing an XML document using an HTML parser. If this really is an HTML document (maybe it's XHTML?), you can ignore or filter this warning. If it's XML, you should know that using an XML parser will be more reliable. To parse this document as XML, make sure you have the lxml package installed, and pass the keyword argument `features=\"xml\"` into the BeautifulSoup constructor.\n",
      "  warnings.warn(\n"
     ]
    },
    {
     "name": "stdout",
     "output_type": "stream",
     "text": [
      "Decaffeinated light-roasted green coffee and green tea extract combination improved metabolic parameters and modulated inflammatory genes in metabolic syndrome rats\n"
     ]
    },
    {
     "name": "stderr",
     "output_type": "stream",
     "text": [
      "/usr/local/lib/python3.10/dist-packages/bs4/builder/__init__.py:545: XMLParsedAsHTMLWarning: It looks like you're parsing an XML document using an HTML parser. If this really is an HTML document (maybe it's XHTML?), you can ignore or filter this warning. If it's XML, you should know that using an XML parser will be more reliable. To parse this document as XML, make sure you have the lxml package installed, and pass the keyword argument `features=\"xml\"` into the BeautifulSoup constructor.\n",
      "  warnings.warn(\n"
     ]
    },
    {
     "name": "stdout",
     "output_type": "stream",
     "text": [
      "Affective rating of audio and video clips using the EmojiGrid\n"
     ]
    },
    {
     "name": "stderr",
     "output_type": "stream",
     "text": [
      "/usr/local/lib/python3.10/dist-packages/bs4/builder/__init__.py:545: XMLParsedAsHTMLWarning: It looks like you're parsing an XML document using an HTML parser. If this really is an HTML document (maybe it's XHTML?), you can ignore or filter this warning. If it's XML, you should know that using an XML parser will be more reliable. To parse this document as XML, make sure you have the lxml package installed, and pass the keyword argument `features=\"xml\"` into the BeautifulSoup constructor.\n",
      "  warnings.warn(\n"
     ]
    },
    {
     "name": "stdout",
     "output_type": "stream",
     "text": [
      "Determinants of in-hospital death in patients with a thrombus straddling a patent foramen ovale: protocol of a systematic review\n"
     ]
    },
    {
     "name": "stderr",
     "output_type": "stream",
     "text": [
      "/usr/local/lib/python3.10/dist-packages/bs4/builder/__init__.py:545: XMLParsedAsHTMLWarning: It looks like you're parsing an XML document using an HTML parser. If this really is an HTML document (maybe it's XHTML?), you can ignore or filter this warning. If it's XML, you should know that using an XML parser will be more reliable. To parse this document as XML, make sure you have the lxml package installed, and pass the keyword argument `features=\"xml\"` into the BeautifulSoup constructor.\n",
      "  warnings.warn(\n"
     ]
    },
    {
     "name": "stdout",
     "output_type": "stream",
     "text": [
      "Knowledge, attitude, and behaviours on diet, physical activity, and tobacco use among school students: A cross-sectional study in two Indian states\n"
     ]
    },
    {
     "name": "stderr",
     "output_type": "stream",
     "text": [
      "/usr/local/lib/python3.10/dist-packages/bs4/builder/__init__.py:545: XMLParsedAsHTMLWarning: It looks like you're parsing an XML document using an HTML parser. If this really is an HTML document (maybe it's XHTML?), you can ignore or filter this warning. If it's XML, you should know that using an XML parser will be more reliable. To parse this document as XML, make sure you have the lxml package installed, and pass the keyword argument `features=\"xml\"` into the BeautifulSoup constructor.\n",
      "  warnings.warn(\n"
     ]
    },
    {
     "name": "stdout",
     "output_type": "stream",
     "text": [
      "Faculty readiness for online teaching at Imam Abdulrahman Bin Faisal University during the COVID-19 crisis: a cross-sectional study\n"
     ]
    },
    {
     "name": "stderr",
     "output_type": "stream",
     "text": [
      "/usr/local/lib/python3.10/dist-packages/bs4/builder/__init__.py:545: XMLParsedAsHTMLWarning: It looks like you're parsing an XML document using an HTML parser. If this really is an HTML document (maybe it's XHTML?), you can ignore or filter this warning. If it's XML, you should know that using an XML parser will be more reliable. To parse this document as XML, make sure you have the lxml package installed, and pass the keyword argument `features=\"xml\"` into the BeautifulSoup constructor.\n",
      "  warnings.warn(\n"
     ]
    },
    {
     "name": "stdout",
     "output_type": "stream",
     "text": [
      "Success rate of repeated cycles of induction in labour in a UK clinical setting: A cohort study\n"
     ]
    },
    {
     "name": "stderr",
     "output_type": "stream",
     "text": [
      "/usr/local/lib/python3.10/dist-packages/bs4/builder/__init__.py:545: XMLParsedAsHTMLWarning: It looks like you're parsing an XML document using an HTML parser. If this really is an HTML document (maybe it's XHTML?), you can ignore or filter this warning. If it's XML, you should know that using an XML parser will be more reliable. To parse this document as XML, make sure you have the lxml package installed, and pass the keyword argument `features=\"xml\"` into the BeautifulSoup constructor.\n",
      "  warnings.warn(\n"
     ]
    },
    {
     "name": "stdout",
     "output_type": "stream",
     "text": [
      "Epiphyte response to drought and experimental warming in an Andean cloud forest\n"
     ]
    },
    {
     "name": "stderr",
     "output_type": "stream",
     "text": [
      "/usr/local/lib/python3.10/dist-packages/bs4/builder/__init__.py:545: XMLParsedAsHTMLWarning: It looks like you're parsing an XML document using an HTML parser. If this really is an HTML document (maybe it's XHTML?), you can ignore or filter this warning. If it's XML, you should know that using an XML parser will be more reliable. To parse this document as XML, make sure you have the lxml package installed, and pass the keyword argument `features=\"xml\"` into the BeautifulSoup constructor.\n",
      "  warnings.warn(\n"
     ]
    },
    {
     "name": "stdout",
     "output_type": "stream",
     "text": [
      "Pilot experience with opebacan/rBPI\n",
      "                    21 in myeloablative hematopoietic cell transplantation\n"
     ]
    },
    {
     "name": "stderr",
     "output_type": "stream",
     "text": [
      "/usr/local/lib/python3.10/dist-packages/bs4/builder/__init__.py:545: XMLParsedAsHTMLWarning: It looks like you're parsing an XML document using an HTML parser. If this really is an HTML document (maybe it's XHTML?), you can ignore or filter this warning. If it's XML, you should know that using an XML parser will be more reliable. To parse this document as XML, make sure you have the lxml package installed, and pass the keyword argument `features=\"xml\"` into the BeautifulSoup constructor.\n",
      "  warnings.warn(\n"
     ]
    },
    {
     "name": "stdout",
     "output_type": "stream",
     "text": [
      "Flow cytometry dataset for cells collected from touched surfaces\n"
     ]
    },
    {
     "name": "stderr",
     "output_type": "stream",
     "text": [
      "/usr/local/lib/python3.10/dist-packages/bs4/builder/__init__.py:545: XMLParsedAsHTMLWarning: It looks like you're parsing an XML document using an HTML parser. If this really is an HTML document (maybe it's XHTML?), you can ignore or filter this warning. If it's XML, you should know that using an XML parser will be more reliable. To parse this document as XML, make sure you have the lxml package installed, and pass the keyword argument `features=\"xml\"` into the BeautifulSoup constructor.\n",
      "  warnings.warn(\n"
     ]
    },
    {
     "name": "stdout",
     "output_type": "stream",
     "text": [
      "Effects of physical activity on the link between PGC-1a and FNDC5 in muscle, circulating Ιrisin and UCP1 of white adipocytes in humans: A systematic review\n"
     ]
    },
    {
     "name": "stderr",
     "output_type": "stream",
     "text": [
      "/usr/local/lib/python3.10/dist-packages/bs4/builder/__init__.py:545: XMLParsedAsHTMLWarning: It looks like you're parsing an XML document using an HTML parser. If this really is an HTML document (maybe it's XHTML?), you can ignore or filter this warning. If it's XML, you should know that using an XML parser will be more reliable. To parse this document as XML, make sure you have the lxml package installed, and pass the keyword argument `features=\"xml\"` into the BeautifulSoup constructor.\n",
      "  warnings.warn(\n"
     ]
    },
    {
     "name": "stdout",
     "output_type": "stream",
     "text": [
      "Platelet distribution width, mean platelet volume and haematological parameters in patients with uncomplicated \n",
      "                    plasmodium falciparum and \n",
      "                    P. vivax malaria\n"
     ]
    },
    {
     "name": "stderr",
     "output_type": "stream",
     "text": [
      "/usr/local/lib/python3.10/dist-packages/bs4/builder/__init__.py:545: XMLParsedAsHTMLWarning: It looks like you're parsing an XML document using an HTML parser. If this really is an HTML document (maybe it's XHTML?), you can ignore or filter this warning. If it's XML, you should know that using an XML parser will be more reliable. To parse this document as XML, make sure you have the lxml package installed, and pass the keyword argument `features=\"xml\"` into the BeautifulSoup constructor.\n",
      "  warnings.warn(\n"
     ]
    },
    {
     "name": "stdout",
     "output_type": "stream",
     "text": [
      "Elevated eosinophil levels observed in infantile hemangioma patients from Kaifeng, China\n"
     ]
    },
    {
     "name": "stderr",
     "output_type": "stream",
     "text": [
      "/usr/local/lib/python3.10/dist-packages/bs4/builder/__init__.py:545: XMLParsedAsHTMLWarning: It looks like you're parsing an XML document using an HTML parser. If this really is an HTML document (maybe it's XHTML?), you can ignore or filter this warning. If it's XML, you should know that using an XML parser will be more reliable. To parse this document as XML, make sure you have the lxml package installed, and pass the keyword argument `features=\"xml\"` into the BeautifulSoup constructor.\n",
      "  warnings.warn(\n"
     ]
    },
    {
     "name": "stdout",
     "output_type": "stream",
     "text": [
      "Determinants of preeclampsia and eclampsia among women delivering in county hospitals in Nairobi, Kenya\n"
     ]
    },
    {
     "name": "stderr",
     "output_type": "stream",
     "text": [
      "/usr/local/lib/python3.10/dist-packages/bs4/builder/__init__.py:545: XMLParsedAsHTMLWarning: It looks like you're parsing an XML document using an HTML parser. If this really is an HTML document (maybe it's XHTML?), you can ignore or filter this warning. If it's XML, you should know that using an XML parser will be more reliable. To parse this document as XML, make sure you have the lxml package installed, and pass the keyword argument `features=\"xml\"` into the BeautifulSoup constructor.\n",
      "  warnings.warn(\n"
     ]
    },
    {
     "name": "stdout",
     "output_type": "stream",
     "text": [
      "Reporting of academic degrees in high-impact medical journals\n"
     ]
    },
    {
     "name": "stderr",
     "output_type": "stream",
     "text": [
      "/usr/local/lib/python3.10/dist-packages/bs4/builder/__init__.py:545: XMLParsedAsHTMLWarning: It looks like you're parsing an XML document using an HTML parser. If this really is an HTML document (maybe it's XHTML?), you can ignore or filter this warning. If it's XML, you should know that using an XML parser will be more reliable. To parse this document as XML, make sure you have the lxml package installed, and pass the keyword argument `features=\"xml\"` into the BeautifulSoup constructor.\n",
      "  warnings.warn(\n"
     ]
    },
    {
     "name": "stdout",
     "output_type": "stream",
     "text": [
      "Correlation between salivary estrogen levels and oral epithelial cytokeratin 5 expression\n"
     ]
    },
    {
     "name": "stderr",
     "output_type": "stream",
     "text": [
      "/usr/local/lib/python3.10/dist-packages/bs4/builder/__init__.py:545: XMLParsedAsHTMLWarning: It looks like you're parsing an XML document using an HTML parser. If this really is an HTML document (maybe it's XHTML?), you can ignore or filter this warning. If it's XML, you should know that using an XML parser will be more reliable. To parse this document as XML, make sure you have the lxml package installed, and pass the keyword argument `features=\"xml\"` into the BeautifulSoup constructor.\n",
      "  warnings.warn(\n"
     ]
    },
    {
     "name": "stdout",
     "output_type": "stream",
     "text": [
      "iCAT: diagnostic assessment tool of immunological history using high-throughput T-cell receptor sequencing\n"
     ]
    },
    {
     "name": "stderr",
     "output_type": "stream",
     "text": [
      "/usr/local/lib/python3.10/dist-packages/bs4/builder/__init__.py:545: XMLParsedAsHTMLWarning: It looks like you're parsing an XML document using an HTML parser. If this really is an HTML document (maybe it's XHTML?), you can ignore or filter this warning. If it's XML, you should know that using an XML parser will be more reliable. To parse this document as XML, make sure you have the lxml package installed, and pass the keyword argument `features=\"xml\"` into the BeautifulSoup constructor.\n",
      "  warnings.warn(\n"
     ]
    },
    {
     "name": "stdout",
     "output_type": "stream",
     "text": [
      "Eating versus skipping breakfast has no discernible effect on obesity-related anthropometric outcomes: a systematic review and meta-analysis\n"
     ]
    },
    {
     "name": "stderr",
     "output_type": "stream",
     "text": [
      "/usr/local/lib/python3.10/dist-packages/bs4/builder/__init__.py:545: XMLParsedAsHTMLWarning: It looks like you're parsing an XML document using an HTML parser. If this really is an HTML document (maybe it's XHTML?), you can ignore or filter this warning. If it's XML, you should know that using an XML parser will be more reliable. To parse this document as XML, make sure you have the lxml package installed, and pass the keyword argument `features=\"xml\"` into the BeautifulSoup constructor.\n",
      "  warnings.warn(\n"
     ]
    },
    {
     "name": "stdout",
     "output_type": "stream",
     "text": [
      "Four practice-based preliminary studies on Human Givens Rewind treatment for posttraumatic stress in Great Britain\n"
     ]
    },
    {
     "name": "stderr",
     "output_type": "stream",
     "text": [
      "/usr/local/lib/python3.10/dist-packages/bs4/builder/__init__.py:545: XMLParsedAsHTMLWarning: It looks like you're parsing an XML document using an HTML parser. If this really is an HTML document (maybe it's XHTML?), you can ignore or filter this warning. If it's XML, you should know that using an XML parser will be more reliable. To parse this document as XML, make sure you have the lxml package installed, and pass the keyword argument `features=\"xml\"` into the BeautifulSoup constructor.\n",
      "  warnings.warn(\n"
     ]
    },
    {
     "name": "stdout",
     "output_type": "stream",
     "text": [
      "COVID-19: Comparison of immunogenicity response between natural and post-vaccination infections\n"
     ]
    },
    {
     "name": "stderr",
     "output_type": "stream",
     "text": [
      "/usr/local/lib/python3.10/dist-packages/bs4/builder/__init__.py:545: XMLParsedAsHTMLWarning: It looks like you're parsing an XML document using an HTML parser. If this really is an HTML document (maybe it's XHTML?), you can ignore or filter this warning. If it's XML, you should know that using an XML parser will be more reliable. To parse this document as XML, make sure you have the lxml package installed, and pass the keyword argument `features=\"xml\"` into the BeautifulSoup constructor.\n",
      "  warnings.warn(\n"
     ]
    },
    {
     "name": "stdout",
     "output_type": "stream",
     "text": [
      "Measuring behaviour in hens using an ethogram to assess analgesia during further refinement of a high welfare, on-hen, poultry red mite feeding device\n"
     ]
    },
    {
     "name": "stderr",
     "output_type": "stream",
     "text": [
      "/usr/local/lib/python3.10/dist-packages/bs4/builder/__init__.py:545: XMLParsedAsHTMLWarning: It looks like you're parsing an XML document using an HTML parser. If this really is an HTML document (maybe it's XHTML?), you can ignore or filter this warning. If it's XML, you should know that using an XML parser will be more reliable. To parse this document as XML, make sure you have the lxml package installed, and pass the keyword argument `features=\"xml\"` into the BeautifulSoup constructor.\n",
      "  warnings.warn(\n"
     ]
    },
    {
     "name": "stdout",
     "output_type": "stream",
     "text": [
      "First regional evaluation of nuclear genetic diversity and population structure in northeastern coyotes (\n",
      "                    Canis latrans)\n"
     ]
    },
    {
     "name": "stderr",
     "output_type": "stream",
     "text": [
      "/usr/local/lib/python3.10/dist-packages/bs4/builder/__init__.py:545: XMLParsedAsHTMLWarning: It looks like you're parsing an XML document using an HTML parser. If this really is an HTML document (maybe it's XHTML?), you can ignore or filter this warning. If it's XML, you should know that using an XML parser will be more reliable. To parse this document as XML, make sure you have the lxml package installed, and pass the keyword argument `features=\"xml\"` into the BeautifulSoup constructor.\n",
      "  warnings.warn(\n"
     ]
    },
    {
     "name": "stdout",
     "output_type": "stream",
     "text": [
      "Epitope specificity and protein signaling interactions driving epidemic occurrences of Ebola disease\n"
     ]
    },
    {
     "name": "stderr",
     "output_type": "stream",
     "text": [
      "/usr/local/lib/python3.10/dist-packages/bs4/builder/__init__.py:545: XMLParsedAsHTMLWarning: It looks like you're parsing an XML document using an HTML parser. If this really is an HTML document (maybe it's XHTML?), you can ignore or filter this warning. If it's XML, you should know that using an XML parser will be more reliable. To parse this document as XML, make sure you have the lxml package installed, and pass the keyword argument `features=\"xml\"` into the BeautifulSoup constructor.\n",
      "  warnings.warn(\n"
     ]
    },
    {
     "name": "stdout",
     "output_type": "stream",
     "text": [
      "VISIT-TS: A multimedia tool for population studies on tic disorders\n"
     ]
    },
    {
     "name": "stderr",
     "output_type": "stream",
     "text": [
      "/usr/local/lib/python3.10/dist-packages/bs4/builder/__init__.py:545: XMLParsedAsHTMLWarning: It looks like you're parsing an XML document using an HTML parser. If this really is an HTML document (maybe it's XHTML?), you can ignore or filter this warning. If it's XML, you should know that using an XML parser will be more reliable. To parse this document as XML, make sure you have the lxml package installed, and pass the keyword argument `features=\"xml\"` into the BeautifulSoup constructor.\n",
      "  warnings.warn(\n"
     ]
    },
    {
     "name": "stdout",
     "output_type": "stream",
     "text": [
      "Case Report: Ocular toxoplasmosis in a WHIM syndrome immunodeficiency patient\n"
     ]
    },
    {
     "name": "stderr",
     "output_type": "stream",
     "text": [
      "/usr/local/lib/python3.10/dist-packages/bs4/builder/__init__.py:545: XMLParsedAsHTMLWarning: It looks like you're parsing an XML document using an HTML parser. If this really is an HTML document (maybe it's XHTML?), you can ignore or filter this warning. If it's XML, you should know that using an XML parser will be more reliable. To parse this document as XML, make sure you have the lxml package installed, and pass the keyword argument `features=\"xml\"` into the BeautifulSoup constructor.\n",
      "  warnings.warn(\n"
     ]
    },
    {
     "name": "stdout",
     "output_type": "stream",
     "text": [
      "Association between umbilical cord hygiene and neonatal sepsis among neonates presenting to a primary care facility in Nairobi County, Kenya: a case-control study\n"
     ]
    },
    {
     "name": "stderr",
     "output_type": "stream",
     "text": [
      "/usr/local/lib/python3.10/dist-packages/bs4/builder/__init__.py:545: XMLParsedAsHTMLWarning: It looks like you're parsing an XML document using an HTML parser. If this really is an HTML document (maybe it's XHTML?), you can ignore or filter this warning. If it's XML, you should know that using an XML parser will be more reliable. To parse this document as XML, make sure you have the lxml package installed, and pass the keyword argument `features=\"xml\"` into the BeautifulSoup constructor.\n",
      "  warnings.warn(\n"
     ]
    },
    {
     "name": "stdout",
     "output_type": "stream",
     "text": [
      "Change in the criteria for hypertension based on a Peruvian population: a study based on the recent American Heart Association/American College of Cardiology guidelines\n"
     ]
    },
    {
     "name": "stderr",
     "output_type": "stream",
     "text": [
      "/usr/local/lib/python3.10/dist-packages/bs4/builder/__init__.py:545: XMLParsedAsHTMLWarning: It looks like you're parsing an XML document using an HTML parser. If this really is an HTML document (maybe it's XHTML?), you can ignore or filter this warning. If it's XML, you should know that using an XML parser will be more reliable. To parse this document as XML, make sure you have the lxml package installed, and pass the keyword argument `features=\"xml\"` into the BeautifulSoup constructor.\n",
      "  warnings.warn(\n"
     ]
    },
    {
     "name": "stdout",
     "output_type": "stream",
     "text": [
      "Perception on Online Teaching and Learning Among Health Sciences Students in Higher Education Institutions during the COVID-19 Lockdown – Ways to Improve Teaching and Learning in Saudi Colleges and Universities\n"
     ]
    },
    {
     "name": "stderr",
     "output_type": "stream",
     "text": [
      "/usr/local/lib/python3.10/dist-packages/bs4/builder/__init__.py:545: XMLParsedAsHTMLWarning: It looks like you're parsing an XML document using an HTML parser. If this really is an HTML document (maybe it's XHTML?), you can ignore or filter this warning. If it's XML, you should know that using an XML parser will be more reliable. To parse this document as XML, make sure you have the lxml package installed, and pass the keyword argument `features=\"xml\"` into the BeautifulSoup constructor.\n",
      "  warnings.warn(\n"
     ]
    },
    {
     "name": "stdout",
     "output_type": "stream",
     "text": [
      "Potential predictors of adoption of the Tobacco Heating System by U.S. adult smokers: An actual use study\n"
     ]
    },
    {
     "name": "stderr",
     "output_type": "stream",
     "text": [
      "/usr/local/lib/python3.10/dist-packages/bs4/builder/__init__.py:545: XMLParsedAsHTMLWarning: It looks like you're parsing an XML document using an HTML parser. If this really is an HTML document (maybe it's XHTML?), you can ignore or filter this warning. If it's XML, you should know that using an XML parser will be more reliable. To parse this document as XML, make sure you have the lxml package installed, and pass the keyword argument `features=\"xml\"` into the BeautifulSoup constructor.\n",
      "  warnings.warn(\n"
     ]
    },
    {
     "name": "stdout",
     "output_type": "stream",
     "text": [
      "Burnout and work satisfaction are differentially associated in gastroenterologists in Germany\n"
     ]
    },
    {
     "name": "stderr",
     "output_type": "stream",
     "text": [
      "/usr/local/lib/python3.10/dist-packages/bs4/builder/__init__.py:545: XMLParsedAsHTMLWarning: It looks like you're parsing an XML document using an HTML parser. If this really is an HTML document (maybe it's XHTML?), you can ignore or filter this warning. If it's XML, you should know that using an XML parser will be more reliable. To parse this document as XML, make sure you have the lxml package installed, and pass the keyword argument `features=\"xml\"` into the BeautifulSoup constructor.\n",
      "  warnings.warn(\n"
     ]
    },
    {
     "name": "stdout",
     "output_type": "stream",
     "text": [
      "Creating and sustaining collaborative multi-institutional industry site visit programs: a toolkit\n"
     ]
    },
    {
     "name": "stderr",
     "output_type": "stream",
     "text": [
      "/usr/local/lib/python3.10/dist-packages/bs4/builder/__init__.py:545: XMLParsedAsHTMLWarning: It looks like you're parsing an XML document using an HTML parser. If this really is an HTML document (maybe it's XHTML?), you can ignore or filter this warning. If it's XML, you should know that using an XML parser will be more reliable. To parse this document as XML, make sure you have the lxml package installed, and pass the keyword argument `features=\"xml\"` into the BeautifulSoup constructor.\n",
      "  warnings.warn(\n"
     ]
    },
    {
     "name": "stdout",
     "output_type": "stream",
     "text": [
      "Online academic satisfaction during the COVID-19 pandemic in medical students: role of sleep, psychological issues, college adjustment, and digital skills\n"
     ]
    },
    {
     "name": "stderr",
     "output_type": "stream",
     "text": [
      "/usr/local/lib/python3.10/dist-packages/bs4/builder/__init__.py:545: XMLParsedAsHTMLWarning: It looks like you're parsing an XML document using an HTML parser. If this really is an HTML document (maybe it's XHTML?), you can ignore or filter this warning. If it's XML, you should know that using an XML parser will be more reliable. To parse this document as XML, make sure you have the lxml package installed, and pass the keyword argument `features=\"xml\"` into the BeautifulSoup constructor.\n",
      "  warnings.warn(\n"
     ]
    },
    {
     "name": "stdout",
     "output_type": "stream",
     "text": [
      "A2TEA: Identifying trait-specific evolutionary adaptations\n"
     ]
    },
    {
     "name": "stderr",
     "output_type": "stream",
     "text": [
      "/usr/local/lib/python3.10/dist-packages/bs4/builder/__init__.py:545: XMLParsedAsHTMLWarning: It looks like you're parsing an XML document using an HTML parser. If this really is an HTML document (maybe it's XHTML?), you can ignore or filter this warning. If it's XML, you should know that using an XML parser will be more reliable. To parse this document as XML, make sure you have the lxml package installed, and pass the keyword argument `features=\"xml\"` into the BeautifulSoup constructor.\n",
      "  warnings.warn(\n"
     ]
    },
    {
     "name": "stdout",
     "output_type": "stream",
     "text": [
      "Attrition of methylnaltrexone treatment-emergent adverse events in patients with chronic noncancer pain and opioid-induced constipation: a post hoc pooled analysis of two clinical trials\n"
     ]
    },
    {
     "name": "stderr",
     "output_type": "stream",
     "text": [
      "/usr/local/lib/python3.10/dist-packages/bs4/builder/__init__.py:545: XMLParsedAsHTMLWarning: It looks like you're parsing an XML document using an HTML parser. If this really is an HTML document (maybe it's XHTML?), you can ignore or filter this warning. If it's XML, you should know that using an XML parser will be more reliable. To parse this document as XML, make sure you have the lxml package installed, and pass the keyword argument `features=\"xml\"` into the BeautifulSoup constructor.\n",
      "  warnings.warn(\n"
     ]
    },
    {
     "name": "stdout",
     "output_type": "stream",
     "text": [
      "Using Twitter to investigate opinions about multiple sclerosis treatments: a descriptive, exploratory study\n"
     ]
    },
    {
     "name": "stderr",
     "output_type": "stream",
     "text": [
      "/usr/local/lib/python3.10/dist-packages/bs4/builder/__init__.py:545: XMLParsedAsHTMLWarning: It looks like you're parsing an XML document using an HTML parser. If this really is an HTML document (maybe it's XHTML?), you can ignore or filter this warning. If it's XML, you should know that using an XML parser will be more reliable. To parse this document as XML, make sure you have the lxml package installed, and pass the keyword argument `features=\"xml\"` into the BeautifulSoup constructor.\n",
      "  warnings.warn(\n"
     ]
    },
    {
     "name": "stdout",
     "output_type": "stream",
     "text": [
      "Differential recolonization of Atlantic intertidal habitats after disturbance reveals potential bottom-up community regulation\n"
     ]
    },
    {
     "name": "stderr",
     "output_type": "stream",
     "text": [
      "/usr/local/lib/python3.10/dist-packages/bs4/builder/__init__.py:545: XMLParsedAsHTMLWarning: It looks like you're parsing an XML document using an HTML parser. If this really is an HTML document (maybe it's XHTML?), you can ignore or filter this warning. If it's XML, you should know that using an XML parser will be more reliable. To parse this document as XML, make sure you have the lxml package installed, and pass the keyword argument `features=\"xml\"` into the BeautifulSoup constructor.\n",
      "  warnings.warn(\n"
     ]
    },
    {
     "name": "stdout",
     "output_type": "stream",
     "text": [
      "The ICR1000 UK exome series: a resource of gene variation in an outbred population\n"
     ]
    },
    {
     "name": "stderr",
     "output_type": "stream",
     "text": [
      "/usr/local/lib/python3.10/dist-packages/bs4/builder/__init__.py:545: XMLParsedAsHTMLWarning: It looks like you're parsing an XML document using an HTML parser. If this really is an HTML document (maybe it's XHTML?), you can ignore or filter this warning. If it's XML, you should know that using an XML parser will be more reliable. To parse this document as XML, make sure you have the lxml package installed, and pass the keyword argument `features=\"xml\"` into the BeautifulSoup constructor.\n",
      "  warnings.warn(\n"
     ]
    },
    {
     "name": "stdout",
     "output_type": "stream",
     "text": [
      "Dimension reduction of Malaria Box data allows efficient compound prioritization\n"
     ]
    },
    {
     "name": "stderr",
     "output_type": "stream",
     "text": [
      "/usr/local/lib/python3.10/dist-packages/bs4/builder/__init__.py:545: XMLParsedAsHTMLWarning: It looks like you're parsing an XML document using an HTML parser. If this really is an HTML document (maybe it's XHTML?), you can ignore or filter this warning. If it's XML, you should know that using an XML parser will be more reliable. To parse this document as XML, make sure you have the lxml package installed, and pass the keyword argument `features=\"xml\"` into the BeautifulSoup constructor.\n",
      "  warnings.warn(\n"
     ]
    },
    {
     "name": "stdout",
     "output_type": "stream",
     "text": [
      "Antimicrobial peptide LL-37 and recombinant human mannose-binding lectin express distinct age- and pathogen-specific antimicrobial activity in human newborn cord blood \n",
      "                    in vitro\n",
      "\n"
     ]
    },
    {
     "name": "stderr",
     "output_type": "stream",
     "text": [
      "/usr/local/lib/python3.10/dist-packages/bs4/builder/__init__.py:545: XMLParsedAsHTMLWarning: It looks like you're parsing an XML document using an HTML parser. If this really is an HTML document (maybe it's XHTML?), you can ignore or filter this warning. If it's XML, you should know that using an XML parser will be more reliable. To parse this document as XML, make sure you have the lxml package installed, and pass the keyword argument `features=\"xml\"` into the BeautifulSoup constructor.\n",
      "  warnings.warn(\n"
     ]
    },
    {
     "name": "stdout",
     "output_type": "stream",
     "text": [
      "Sleep monitoring with the Apple Watch: comparison to a clinically validated actigraph\n"
     ]
    },
    {
     "name": "stderr",
     "output_type": "stream",
     "text": [
      "/usr/local/lib/python3.10/dist-packages/bs4/builder/__init__.py:545: XMLParsedAsHTMLWarning: It looks like you're parsing an XML document using an HTML parser. If this really is an HTML document (maybe it's XHTML?), you can ignore or filter this warning. If it's XML, you should know that using an XML parser will be more reliable. To parse this document as XML, make sure you have the lxml package installed, and pass the keyword argument `features=\"xml\"` into the BeautifulSoup constructor.\n",
      "  warnings.warn(\n"
     ]
    },
    {
     "name": "stdout",
     "output_type": "stream",
     "text": [
      "Seroprevalence of human cytomegalovirus among pregnant women who had undergone abortion(s) attending El-Damazin Hospital for Obstetrics and Gynecology, Sudan: A cross-sectional study\n"
     ]
    },
    {
     "name": "stderr",
     "output_type": "stream",
     "text": [
      "/usr/local/lib/python3.10/dist-packages/bs4/builder/__init__.py:545: XMLParsedAsHTMLWarning: It looks like you're parsing an XML document using an HTML parser. If this really is an HTML document (maybe it's XHTML?), you can ignore or filter this warning. If it's XML, you should know that using an XML parser will be more reliable. To parse this document as XML, make sure you have the lxml package installed, and pass the keyword argument `features=\"xml\"` into the BeautifulSoup constructor.\n",
      "  warnings.warn(\n"
     ]
    },
    {
     "name": "stdout",
     "output_type": "stream",
     "text": [
      "Risk factors for major external structural birth defects among children in Kiambu County, Kenya: a case-control study\n"
     ]
    },
    {
     "name": "stderr",
     "output_type": "stream",
     "text": [
      "/usr/local/lib/python3.10/dist-packages/bs4/builder/__init__.py:545: XMLParsedAsHTMLWarning: It looks like you're parsing an XML document using an HTML parser. If this really is an HTML document (maybe it's XHTML?), you can ignore or filter this warning. If it's XML, you should know that using an XML parser will be more reliable. To parse this document as XML, make sure you have the lxml package installed, and pass the keyword argument `features=\"xml\"` into the BeautifulSoup constructor.\n",
      "  warnings.warn(\n"
     ]
    },
    {
     "name": "stdout",
     "output_type": "stream",
     "text": [
      "Knowledge, attitudes and perceptions about HIV self-testing amongst college students in Namibia\n"
     ]
    },
    {
     "name": "stderr",
     "output_type": "stream",
     "text": [
      "/usr/local/lib/python3.10/dist-packages/bs4/builder/__init__.py:545: XMLParsedAsHTMLWarning: It looks like you're parsing an XML document using an HTML parser. If this really is an HTML document (maybe it's XHTML?), you can ignore or filter this warning. If it's XML, you should know that using an XML parser will be more reliable. To parse this document as XML, make sure you have the lxml package installed, and pass the keyword argument `features=\"xml\"` into the BeautifulSoup constructor.\n",
      "  warnings.warn(\n"
     ]
    },
    {
     "name": "stdout",
     "output_type": "stream",
     "text": [
      "Factors associated with the Dubowitz neurological examination in preterm new-borns\n"
     ]
    },
    {
     "name": "stderr",
     "output_type": "stream",
     "text": [
      "/usr/local/lib/python3.10/dist-packages/bs4/builder/__init__.py:545: XMLParsedAsHTMLWarning: It looks like you're parsing an XML document using an HTML parser. If this really is an HTML document (maybe it's XHTML?), you can ignore or filter this warning. If it's XML, you should know that using an XML parser will be more reliable. To parse this document as XML, make sure you have the lxml package installed, and pass the keyword argument `features=\"xml\"` into the BeautifulSoup constructor.\n",
      "  warnings.warn(\n"
     ]
    },
    {
     "name": "stdout",
     "output_type": "stream",
     "text": [
      "Adverse COVID-19 vaccination effects in Finnish patients with Ménière’s disease: a cross-sectional study\n"
     ]
    },
    {
     "name": "stderr",
     "output_type": "stream",
     "text": [
      "/usr/local/lib/python3.10/dist-packages/bs4/builder/__init__.py:545: XMLParsedAsHTMLWarning: It looks like you're parsing an XML document using an HTML parser. If this really is an HTML document (maybe it's XHTML?), you can ignore or filter this warning. If it's XML, you should know that using an XML parser will be more reliable. To parse this document as XML, make sure you have the lxml package installed, and pass the keyword argument `features=\"xml\"` into the BeautifulSoup constructor.\n",
      "  warnings.warn(\n"
     ]
    },
    {
     "name": "stdout",
     "output_type": "stream",
     "text": [
      "Elevated shock index and modified shock index are associated with mortality and major adverse cardiac events in patients with acute myocardial infarction: A systematic review and meta-analysis\n"
     ]
    },
    {
     "name": "stderr",
     "output_type": "stream",
     "text": [
      "/usr/local/lib/python3.10/dist-packages/bs4/builder/__init__.py:545: XMLParsedAsHTMLWarning: It looks like you're parsing an XML document using an HTML parser. If this really is an HTML document (maybe it's XHTML?), you can ignore or filter this warning. If it's XML, you should know that using an XML parser will be more reliable. To parse this document as XML, make sure you have the lxml package installed, and pass the keyword argument `features=\"xml\"` into the BeautifulSoup constructor.\n",
      "  warnings.warn(\n"
     ]
    },
    {
     "name": "stdout",
     "output_type": "stream",
     "text": [
      "Prevalence of carpal tunnel syndrome among dentists: a systematic review and meta-analysis\n"
     ]
    },
    {
     "name": "stderr",
     "output_type": "stream",
     "text": [
      "/usr/local/lib/python3.10/dist-packages/bs4/builder/__init__.py:545: XMLParsedAsHTMLWarning: It looks like you're parsing an XML document using an HTML parser. If this really is an HTML document (maybe it's XHTML?), you can ignore or filter this warning. If it's XML, you should know that using an XML parser will be more reliable. To parse this document as XML, make sure you have the lxml package installed, and pass the keyword argument `features=\"xml\"` into the BeautifulSoup constructor.\n",
      "  warnings.warn(\n"
     ]
    },
    {
     "name": "stdout",
     "output_type": "stream",
     "text": [
      "\n",
      "BioJS DAGViewer: A reusable JavaScript component for displaying directed graphs\n"
     ]
    },
    {
     "name": "stderr",
     "output_type": "stream",
     "text": [
      "/usr/local/lib/python3.10/dist-packages/bs4/builder/__init__.py:545: XMLParsedAsHTMLWarning: It looks like you're parsing an XML document using an HTML parser. If this really is an HTML document (maybe it's XHTML?), you can ignore or filter this warning. If it's XML, you should know that using an XML parser will be more reliable. To parse this document as XML, make sure you have the lxml package installed, and pass the keyword argument `features=\"xml\"` into the BeautifulSoup constructor.\n",
      "  warnings.warn(\n"
     ]
    },
    {
     "name": "stdout",
     "output_type": "stream",
     "text": [
      "Epidemiology and patterns of musculoskeletal motorcycle injuries in the USA\n"
     ]
    },
    {
     "name": "stderr",
     "output_type": "stream",
     "text": [
      "/usr/local/lib/python3.10/dist-packages/bs4/builder/__init__.py:545: XMLParsedAsHTMLWarning: It looks like you're parsing an XML document using an HTML parser. If this really is an HTML document (maybe it's XHTML?), you can ignore or filter this warning. If it's XML, you should know that using an XML parser will be more reliable. To parse this document as XML, make sure you have the lxml package installed, and pass the keyword argument `features=\"xml\"` into the BeautifulSoup constructor.\n",
      "  warnings.warn(\n"
     ]
    },
    {
     "name": "stdout",
     "output_type": "stream",
     "text": [
      "Electrical maturation of neurons derived from human embryonic stem cells\n"
     ]
    },
    {
     "name": "stderr",
     "output_type": "stream",
     "text": [
      "/usr/local/lib/python3.10/dist-packages/bs4/builder/__init__.py:545: XMLParsedAsHTMLWarning: It looks like you're parsing an XML document using an HTML parser. If this really is an HTML document (maybe it's XHTML?), you can ignore or filter this warning. If it's XML, you should know that using an XML parser will be more reliable. To parse this document as XML, make sure you have the lxml package installed, and pass the keyword argument `features=\"xml\"` into the BeautifulSoup constructor.\n",
      "  warnings.warn(\n"
     ]
    },
    {
     "name": "stdout",
     "output_type": "stream",
     "text": [
      "Professional medical writing support and the reporting quality of randomized controlled trial abstracts among high-impact general medical journals\n"
     ]
    },
    {
     "name": "stderr",
     "output_type": "stream",
     "text": [
      "/usr/local/lib/python3.10/dist-packages/bs4/builder/__init__.py:545: XMLParsedAsHTMLWarning: It looks like you're parsing an XML document using an HTML parser. If this really is an HTML document (maybe it's XHTML?), you can ignore or filter this warning. If it's XML, you should know that using an XML parser will be more reliable. To parse this document as XML, make sure you have the lxml package installed, and pass the keyword argument `features=\"xml\"` into the BeautifulSoup constructor.\n",
      "  warnings.warn(\n"
     ]
    },
    {
     "name": "stdout",
     "output_type": "stream",
     "text": [
      "Evaluation of the potential defensive strategy against Influenza A in cell line models\n"
     ]
    },
    {
     "name": "stderr",
     "output_type": "stream",
     "text": [
      "/usr/local/lib/python3.10/dist-packages/bs4/builder/__init__.py:545: XMLParsedAsHTMLWarning: It looks like you're parsing an XML document using an HTML parser. If this really is an HTML document (maybe it's XHTML?), you can ignore or filter this warning. If it's XML, you should know that using an XML parser will be more reliable. To parse this document as XML, make sure you have the lxml package installed, and pass the keyword argument `features=\"xml\"` into the BeautifulSoup constructor.\n",
      "  warnings.warn(\n"
     ]
    },
    {
     "name": "stdout",
     "output_type": "stream",
     "text": [
      "Use and effectiveness of the Individual Development Plan among postdoctoral researchers: findings from a cross-sectional study\n"
     ]
    },
    {
     "name": "stderr",
     "output_type": "stream",
     "text": [
      "/usr/local/lib/python3.10/dist-packages/bs4/builder/__init__.py:545: XMLParsedAsHTMLWarning: It looks like you're parsing an XML document using an HTML parser. If this really is an HTML document (maybe it's XHTML?), you can ignore or filter this warning. If it's XML, you should know that using an XML parser will be more reliable. To parse this document as XML, make sure you have the lxml package installed, and pass the keyword argument `features=\"xml\"` into the BeautifulSoup constructor.\n",
      "  warnings.warn(\n"
     ]
    },
    {
     "name": "stdout",
     "output_type": "stream",
     "text": [
      "Oral hormone pregnancy tests and the risks of congenital malformations: a systematic review and meta-analysis\n"
     ]
    },
    {
     "name": "stderr",
     "output_type": "stream",
     "text": [
      "/usr/local/lib/python3.10/dist-packages/bs4/builder/__init__.py:545: XMLParsedAsHTMLWarning: It looks like you're parsing an XML document using an HTML parser. If this really is an HTML document (maybe it's XHTML?), you can ignore or filter this warning. If it's XML, you should know that using an XML parser will be more reliable. To parse this document as XML, make sure you have the lxml package installed, and pass the keyword argument `features=\"xml\"` into the BeautifulSoup constructor.\n",
      "  warnings.warn(\n"
     ]
    },
    {
     "name": "stdout",
     "output_type": "stream",
     "text": [
      "Efficacy of \n",
      "                    Curcuma longa in treatment of postprandial distress syndrome: An open-label randomized-controlled trial\n"
     ]
    },
    {
     "name": "stderr",
     "output_type": "stream",
     "text": [
      "/usr/local/lib/python3.10/dist-packages/bs4/builder/__init__.py:545: XMLParsedAsHTMLWarning: It looks like you're parsing an XML document using an HTML parser. If this really is an HTML document (maybe it's XHTML?), you can ignore or filter this warning. If it's XML, you should know that using an XML parser will be more reliable. To parse this document as XML, make sure you have the lxml package installed, and pass the keyword argument `features=\"xml\"` into the BeautifulSoup constructor.\n",
      "  warnings.warn(\n"
     ]
    },
    {
     "name": "stdout",
     "output_type": "stream",
     "text": [
      "Methods developed during the first National Center for Biotechnology Information Structural Variation Codeathon at Baylor College of Medicine\n"
     ]
    },
    {
     "name": "stderr",
     "output_type": "stream",
     "text": [
      "/usr/local/lib/python3.10/dist-packages/bs4/builder/__init__.py:545: XMLParsedAsHTMLWarning: It looks like you're parsing an XML document using an HTML parser. If this really is an HTML document (maybe it's XHTML?), you can ignore or filter this warning. If it's XML, you should know that using an XML parser will be more reliable. To parse this document as XML, make sure you have the lxml package installed, and pass the keyword argument `features=\"xml\"` into the BeautifulSoup constructor.\n",
      "  warnings.warn(\n"
     ]
    },
    {
     "name": "stdout",
     "output_type": "stream",
     "text": [
      "A systematic performance evaluation of clustering methods for single-cell RNA-seq data\n"
     ]
    },
    {
     "name": "stderr",
     "output_type": "stream",
     "text": [
      "/usr/local/lib/python3.10/dist-packages/bs4/builder/__init__.py:545: XMLParsedAsHTMLWarning: It looks like you're parsing an XML document using an HTML parser. If this really is an HTML document (maybe it's XHTML?), you can ignore or filter this warning. If it's XML, you should know that using an XML parser will be more reliable. To parse this document as XML, make sure you have the lxml package installed, and pass the keyword argument `features=\"xml\"` into the BeautifulSoup constructor.\n",
      "  warnings.warn(\n"
     ]
    },
    {
     "name": "stdout",
     "output_type": "stream",
     "text": [
      "Attitudes and habits regarding brain training applications and games among Japanese consumers: a cross-sectional study\n"
     ]
    },
    {
     "name": "stderr",
     "output_type": "stream",
     "text": [
      "/usr/local/lib/python3.10/dist-packages/bs4/builder/__init__.py:545: XMLParsedAsHTMLWarning: It looks like you're parsing an XML document using an HTML parser. If this really is an HTML document (maybe it's XHTML?), you can ignore or filter this warning. If it's XML, you should know that using an XML parser will be more reliable. To parse this document as XML, make sure you have the lxml package installed, and pass the keyword argument `features=\"xml\"` into the BeautifulSoup constructor.\n",
      "  warnings.warn(\n"
     ]
    },
    {
     "name": "stdout",
     "output_type": "stream",
     "text": [
      "Development of a computer-assisted instructional package for life skills to prevent risky sexual behaviors in early adolescents, Bangkok, Thailand\n"
     ]
    },
    {
     "name": "stderr",
     "output_type": "stream",
     "text": [
      "/usr/local/lib/python3.10/dist-packages/bs4/builder/__init__.py:545: XMLParsedAsHTMLWarning: It looks like you're parsing an XML document using an HTML parser. If this really is an HTML document (maybe it's XHTML?), you can ignore or filter this warning. If it's XML, you should know that using an XML parser will be more reliable. To parse this document as XML, make sure you have the lxml package installed, and pass the keyword argument `features=\"xml\"` into the BeautifulSoup constructor.\n",
      "  warnings.warn(\n"
     ]
    },
    {
     "name": "stdout",
     "output_type": "stream",
     "text": [
      "Smart city perspectives in post-pandemic governance: Externalities reduction policy\n"
     ]
    },
    {
     "name": "stderr",
     "output_type": "stream",
     "text": [
      "/usr/local/lib/python3.10/dist-packages/bs4/builder/__init__.py:545: XMLParsedAsHTMLWarning: It looks like you're parsing an XML document using an HTML parser. If this really is an HTML document (maybe it's XHTML?), you can ignore or filter this warning. If it's XML, you should know that using an XML parser will be more reliable. To parse this document as XML, make sure you have the lxml package installed, and pass the keyword argument `features=\"xml\"` into the BeautifulSoup constructor.\n",
      "  warnings.warn(\n"
     ]
    },
    {
     "name": "stdout",
     "output_type": "stream",
     "text": [
      "Survival rate of patients with combined hepatocellular cholangiocarcinoma receiving medical cannabis treatment: A retrospective, cohort comparative study\n"
     ]
    },
    {
     "name": "stderr",
     "output_type": "stream",
     "text": [
      "/usr/local/lib/python3.10/dist-packages/bs4/builder/__init__.py:545: XMLParsedAsHTMLWarning: It looks like you're parsing an XML document using an HTML parser. If this really is an HTML document (maybe it's XHTML?), you can ignore or filter this warning. If it's XML, you should know that using an XML parser will be more reliable. To parse this document as XML, make sure you have the lxml package installed, and pass the keyword argument `features=\"xml\"` into the BeautifulSoup constructor.\n",
      "  warnings.warn(\n"
     ]
    },
    {
     "name": "stdout",
     "output_type": "stream",
     "text": [
      "The gaming problem: A latent class analysis of DSM-5 criteria for Internet Gaming Disorder in a non-clinical sample\n"
     ]
    },
    {
     "name": "stderr",
     "output_type": "stream",
     "text": [
      "/usr/local/lib/python3.10/dist-packages/bs4/builder/__init__.py:545: XMLParsedAsHTMLWarning: It looks like you're parsing an XML document using an HTML parser. If this really is an HTML document (maybe it's XHTML?), you can ignore or filter this warning. If it's XML, you should know that using an XML parser will be more reliable. To parse this document as XML, make sure you have the lxml package installed, and pass the keyword argument `features=\"xml\"` into the BeautifulSoup constructor.\n",
      "  warnings.warn(\n"
     ]
    },
    {
     "name": "stdout",
     "output_type": "stream",
     "text": [
      "Intrinsic and extrinsic motivational factors of frontline health workers in Ghana\n"
     ]
    },
    {
     "name": "stderr",
     "output_type": "stream",
     "text": [
      "/usr/local/lib/python3.10/dist-packages/bs4/builder/__init__.py:545: XMLParsedAsHTMLWarning: It looks like you're parsing an XML document using an HTML parser. If this really is an HTML document (maybe it's XHTML?), you can ignore or filter this warning. If it's XML, you should know that using an XML parser will be more reliable. To parse this document as XML, make sure you have the lxml package installed, and pass the keyword argument `features=\"xml\"` into the BeautifulSoup constructor.\n",
      "  warnings.warn(\n"
     ]
    },
    {
     "name": "stdout",
     "output_type": "stream",
     "text": [
      "Epidemiology of first cases of SARS-CoV-2 infection, from March to April 2020, in Gabon\n"
     ]
    },
    {
     "name": "stderr",
     "output_type": "stream",
     "text": [
      "/usr/local/lib/python3.10/dist-packages/bs4/builder/__init__.py:545: XMLParsedAsHTMLWarning: It looks like you're parsing an XML document using an HTML parser. If this really is an HTML document (maybe it's XHTML?), you can ignore or filter this warning. If it's XML, you should know that using an XML parser will be more reliable. To parse this document as XML, make sure you have the lxml package installed, and pass the keyword argument `features=\"xml\"` into the BeautifulSoup constructor.\n",
      "  warnings.warn(\n"
     ]
    },
    {
     "name": "stdout",
     "output_type": "stream",
     "text": [
      "Effectiveness of multi-component modular intervention among adults with prehypertension in a village of Dakshina Kannada district - a community-based interventional study – protocol\n"
     ]
    },
    {
     "name": "stderr",
     "output_type": "stream",
     "text": [
      "/usr/local/lib/python3.10/dist-packages/bs4/builder/__init__.py:545: XMLParsedAsHTMLWarning: It looks like you're parsing an XML document using an HTML parser. If this really is an HTML document (maybe it's XHTML?), you can ignore or filter this warning. If it's XML, you should know that using an XML parser will be more reliable. To parse this document as XML, make sure you have the lxml package installed, and pass the keyword argument `features=\"xml\"` into the BeautifulSoup constructor.\n",
      "  warnings.warn(\n"
     ]
    },
    {
     "name": "stdout",
     "output_type": "stream",
     "text": [
      "Association between gambling and financial trading: A systemic review.\n"
     ]
    },
    {
     "name": "stderr",
     "output_type": "stream",
     "text": [
      "/usr/local/lib/python3.10/dist-packages/bs4/builder/__init__.py:545: XMLParsedAsHTMLWarning: It looks like you're parsing an XML document using an HTML parser. If this really is an HTML document (maybe it's XHTML?), you can ignore or filter this warning. If it's XML, you should know that using an XML parser will be more reliable. To parse this document as XML, make sure you have the lxml package installed, and pass the keyword argument `features=\"xml\"` into the BeautifulSoup constructor.\n",
      "  warnings.warn(\n"
     ]
    },
    {
     "name": "stdout",
     "output_type": "stream",
     "text": [
      "Predictors of face mask use during the COVID-19 pandemic in Indonesia: Application of the health belief model, psychological distress and health motivation\n"
     ]
    },
    {
     "name": "stderr",
     "output_type": "stream",
     "text": [
      "/usr/local/lib/python3.10/dist-packages/bs4/builder/__init__.py:545: XMLParsedAsHTMLWarning: It looks like you're parsing an XML document using an HTML parser. If this really is an HTML document (maybe it's XHTML?), you can ignore or filter this warning. If it's XML, you should know that using an XML parser will be more reliable. To parse this document as XML, make sure you have the lxml package installed, and pass the keyword argument `features=\"xml\"` into the BeautifulSoup constructor.\n",
      "  warnings.warn(\n"
     ]
    },
    {
     "name": "stdout",
     "output_type": "stream",
     "text": [
      "Changing the method of consent to increase the numbers of cadaveric donors in Saudi Arabia: the autonomy paradox\n"
     ]
    },
    {
     "name": "stderr",
     "output_type": "stream",
     "text": [
      "/usr/local/lib/python3.10/dist-packages/bs4/builder/__init__.py:545: XMLParsedAsHTMLWarning: It looks like you're parsing an XML document using an HTML parser. If this really is an HTML document (maybe it's XHTML?), you can ignore or filter this warning. If it's XML, you should know that using an XML parser will be more reliable. To parse this document as XML, make sure you have the lxml package installed, and pass the keyword argument `features=\"xml\"` into the BeautifulSoup constructor.\n",
      "  warnings.warn(\n"
     ]
    },
    {
     "name": "stdout",
     "output_type": "stream",
     "text": [
      "Venous thromboembolism prophylaxis in patients with traumatic brain injury: a systematic review\n"
     ]
    },
    {
     "name": "stderr",
     "output_type": "stream",
     "text": [
      "/usr/local/lib/python3.10/dist-packages/bs4/builder/__init__.py:545: XMLParsedAsHTMLWarning: It looks like you're parsing an XML document using an HTML parser. If this really is an HTML document (maybe it's XHTML?), you can ignore or filter this warning. If it's XML, you should know that using an XML parser will be more reliable. To parse this document as XML, make sure you have the lxml package installed, and pass the keyword argument `features=\"xml\"` into the BeautifulSoup constructor.\n",
      "  warnings.warn(\n"
     ]
    },
    {
     "name": "stdout",
     "output_type": "stream",
     "text": [
      "A pilot trial to examine the association between circulating endothelial cell levels and vascular injury in patients with diabetes and chronic kidney disease\n"
     ]
    },
    {
     "name": "stderr",
     "output_type": "stream",
     "text": [
      "/usr/local/lib/python3.10/dist-packages/bs4/builder/__init__.py:545: XMLParsedAsHTMLWarning: It looks like you're parsing an XML document using an HTML parser. If this really is an HTML document (maybe it's XHTML?), you can ignore or filter this warning. If it's XML, you should know that using an XML parser will be more reliable. To parse this document as XML, make sure you have the lxml package installed, and pass the keyword argument `features=\"xml\"` into the BeautifulSoup constructor.\n",
      "  warnings.warn(\n"
     ]
    },
    {
     "name": "stdout",
     "output_type": "stream",
     "text": [
      "Quercetin feeding protects plants against oxidative stress\n"
     ]
    },
    {
     "name": "stderr",
     "output_type": "stream",
     "text": [
      "/usr/local/lib/python3.10/dist-packages/bs4/builder/__init__.py:545: XMLParsedAsHTMLWarning: It looks like you're parsing an XML document using an HTML parser. If this really is an HTML document (maybe it's XHTML?), you can ignore or filter this warning. If it's XML, you should know that using an XML parser will be more reliable. To parse this document as XML, make sure you have the lxml package installed, and pass the keyword argument `features=\"xml\"` into the BeautifulSoup constructor.\n",
      "  warnings.warn(\n"
     ]
    },
    {
     "name": "stdout",
     "output_type": "stream",
     "text": [
      "The effects of an editor serving as one of the reviewers during the peer-review process\n"
     ]
    },
    {
     "name": "stderr",
     "output_type": "stream",
     "text": [
      "/usr/local/lib/python3.10/dist-packages/bs4/builder/__init__.py:545: XMLParsedAsHTMLWarning: It looks like you're parsing an XML document using an HTML parser. If this really is an HTML document (maybe it's XHTML?), you can ignore or filter this warning. If it's XML, you should know that using an XML parser will be more reliable. To parse this document as XML, make sure you have the lxml package installed, and pass the keyword argument `features=\"xml\"` into the BeautifulSoup constructor.\n",
      "  warnings.warn(\n"
     ]
    },
    {
     "name": "stdout",
     "output_type": "stream",
     "text": [
      "Consumption of traditional alcoholic beverages in children from a rural village in Northern Peru, 2017\n"
     ]
    },
    {
     "name": "stderr",
     "output_type": "stream",
     "text": [
      "/usr/local/lib/python3.10/dist-packages/bs4/builder/__init__.py:545: XMLParsedAsHTMLWarning: It looks like you're parsing an XML document using an HTML parser. If this really is an HTML document (maybe it's XHTML?), you can ignore or filter this warning. If it's XML, you should know that using an XML parser will be more reliable. To parse this document as XML, make sure you have the lxml package installed, and pass the keyword argument `features=\"xml\"` into the BeautifulSoup constructor.\n",
      "  warnings.warn(\n"
     ]
    },
    {
     "name": "stdout",
     "output_type": "stream",
     "text": [
      "Patent foramen ovale closure versus medical therapy for stroke prevention: A systematic review and meta-analysis of randomized controlled trials\n"
     ]
    },
    {
     "name": "stderr",
     "output_type": "stream",
     "text": [
      "/usr/local/lib/python3.10/dist-packages/bs4/builder/__init__.py:545: XMLParsedAsHTMLWarning: It looks like you're parsing an XML document using an HTML parser. If this really is an HTML document (maybe it's XHTML?), you can ignore or filter this warning. If it's XML, you should know that using an XML parser will be more reliable. To parse this document as XML, make sure you have the lxml package installed, and pass the keyword argument `features=\"xml\"` into the BeautifulSoup constructor.\n",
      "  warnings.warn(\n"
     ]
    },
    {
     "name": "stdout",
     "output_type": "stream",
     "text": [
      "pysradb: A Python package to query next-generation sequencing metadata and data from NCBI Sequence Read Archive\n"
     ]
    },
    {
     "name": "stderr",
     "output_type": "stream",
     "text": [
      "/usr/local/lib/python3.10/dist-packages/bs4/builder/__init__.py:545: XMLParsedAsHTMLWarning: It looks like you're parsing an XML document using an HTML parser. If this really is an HTML document (maybe it's XHTML?), you can ignore or filter this warning. If it's XML, you should know that using an XML parser will be more reliable. To parse this document as XML, make sure you have the lxml package installed, and pass the keyword argument `features=\"xml\"` into the BeautifulSoup constructor.\n",
      "  warnings.warn(\n"
     ]
    },
    {
     "name": "stdout",
     "output_type": "stream",
     "text": [
      "Knowledge and practices about breastfeeding in rural areas of Rajshahi District, Bangladesh: A cross-sectional study\n"
     ]
    },
    {
     "name": "stderr",
     "output_type": "stream",
     "text": [
      "/usr/local/lib/python3.10/dist-packages/bs4/builder/__init__.py:545: XMLParsedAsHTMLWarning: It looks like you're parsing an XML document using an HTML parser. If this really is an HTML document (maybe it's XHTML?), you can ignore or filter this warning. If it's XML, you should know that using an XML parser will be more reliable. To parse this document as XML, make sure you have the lxml package installed, and pass the keyword argument `features=\"xml\"` into the BeautifulSoup constructor.\n",
      "  warnings.warn(\n"
     ]
    },
    {
     "name": "stdout",
     "output_type": "stream",
     "text": [
      "Enclosing a pen to improve response rate to postal questionnaire: an embedded randomised controlled trial\n"
     ]
    },
    {
     "name": "stderr",
     "output_type": "stream",
     "text": [
      "/usr/local/lib/python3.10/dist-packages/bs4/builder/__init__.py:545: XMLParsedAsHTMLWarning: It looks like you're parsing an XML document using an HTML parser. If this really is an HTML document (maybe it's XHTML?), you can ignore or filter this warning. If it's XML, you should know that using an XML parser will be more reliable. To parse this document as XML, make sure you have the lxml package installed, and pass the keyword argument `features=\"xml\"` into the BeautifulSoup constructor.\n",
      "  warnings.warn(\n"
     ]
    },
    {
     "name": "stdout",
     "output_type": "stream",
     "text": [
      "Using DHS and MICS data to complement or replace NGO baseline health data: an exploratory study\n"
     ]
    },
    {
     "name": "stderr",
     "output_type": "stream",
     "text": [
      "/usr/local/lib/python3.10/dist-packages/bs4/builder/__init__.py:545: XMLParsedAsHTMLWarning: It looks like you're parsing an XML document using an HTML parser. If this really is an HTML document (maybe it's XHTML?), you can ignore or filter this warning. If it's XML, you should know that using an XML parser will be more reliable. To parse this document as XML, make sure you have the lxml package installed, and pass the keyword argument `features=\"xml\"` into the BeautifulSoup constructor.\n",
      "  warnings.warn(\n"
     ]
    },
    {
     "name": "stdout",
     "output_type": "stream",
     "text": [
      "Estimation and human health risk assessment of organochlorine and organophosphate pesticide residues in raw milk collected in Kenya\n"
     ]
    },
    {
     "name": "stderr",
     "output_type": "stream",
     "text": [
      "/usr/local/lib/python3.10/dist-packages/bs4/builder/__init__.py:545: XMLParsedAsHTMLWarning: It looks like you're parsing an XML document using an HTML parser. If this really is an HTML document (maybe it's XHTML?), you can ignore or filter this warning. If it's XML, you should know that using an XML parser will be more reliable. To parse this document as XML, make sure you have the lxml package installed, and pass the keyword argument `features=\"xml\"` into the BeautifulSoup constructor.\n",
      "  warnings.warn(\n"
     ]
    },
    {
     "name": "stdout",
     "output_type": "stream",
     "text": [
      "Pandemic Pedagogy: Perception of Nursing students’: A cross-sectional study\n"
     ]
    },
    {
     "name": "stderr",
     "output_type": "stream",
     "text": [
      "/usr/local/lib/python3.10/dist-packages/bs4/builder/__init__.py:545: XMLParsedAsHTMLWarning: It looks like you're parsing an XML document using an HTML parser. If this really is an HTML document (maybe it's XHTML?), you can ignore or filter this warning. If it's XML, you should know that using an XML parser will be more reliable. To parse this document as XML, make sure you have the lxml package installed, and pass the keyword argument `features=\"xml\"` into the BeautifulSoup constructor.\n",
      "  warnings.warn(\n"
     ]
    },
    {
     "name": "stdout",
     "output_type": "stream",
     "text": [
      "Diversity and antimicrobial activity of marine nudibranch associated bacteria against tropical human skin pathogens\n"
     ]
    },
    {
     "name": "stderr",
     "output_type": "stream",
     "text": [
      "/usr/local/lib/python3.10/dist-packages/bs4/builder/__init__.py:545: XMLParsedAsHTMLWarning: It looks like you're parsing an XML document using an HTML parser. If this really is an HTML document (maybe it's XHTML?), you can ignore or filter this warning. If it's XML, you should know that using an XML parser will be more reliable. To parse this document as XML, make sure you have the lxml package installed, and pass the keyword argument `features=\"xml\"` into the BeautifulSoup constructor.\n",
      "  warnings.warn(\n"
     ]
    },
    {
     "name": "stdout",
     "output_type": "stream",
     "text": [
      "High copy number of multi-drug resistance genes in spent coffee grounds used in organic composting\n"
     ]
    },
    {
     "name": "stderr",
     "output_type": "stream",
     "text": [
      "/usr/local/lib/python3.10/dist-packages/bs4/builder/__init__.py:545: XMLParsedAsHTMLWarning: It looks like you're parsing an XML document using an HTML parser. If this really is an HTML document (maybe it's XHTML?), you can ignore or filter this warning. If it's XML, you should know that using an XML parser will be more reliable. To parse this document as XML, make sure you have the lxml package installed, and pass the keyword argument `features=\"xml\"` into the BeautifulSoup constructor.\n",
      "  warnings.warn(\n"
     ]
    },
    {
     "name": "stdout",
     "output_type": "stream",
     "text": [
      "The performance of lipid profiles and ratios as a predictor of arterial stiffness measured by brachial-ankle pulse wave velocity in type 2 diabetic patients\n"
     ]
    },
    {
     "name": "stderr",
     "output_type": "stream",
     "text": [
      "/usr/local/lib/python3.10/dist-packages/bs4/builder/__init__.py:545: XMLParsedAsHTMLWarning: It looks like you're parsing an XML document using an HTML parser. If this really is an HTML document (maybe it's XHTML?), you can ignore or filter this warning. If it's XML, you should know that using an XML parser will be more reliable. To parse this document as XML, make sure you have the lxml package installed, and pass the keyword argument `features=\"xml\"` into the BeautifulSoup constructor.\n",
      "  warnings.warn(\n"
     ]
    },
    {
     "name": "stdout",
     "output_type": "stream",
     "text": [
      "\n",
      "BioJS InterMine List Analysis: A BioJS component for displaying graphical or statistical analysis of collections of items from InterMine endpoints\n"
     ]
    },
    {
     "name": "stderr",
     "output_type": "stream",
     "text": [
      "/usr/local/lib/python3.10/dist-packages/bs4/builder/__init__.py:545: XMLParsedAsHTMLWarning: It looks like you're parsing an XML document using an HTML parser. If this really is an HTML document (maybe it's XHTML?), you can ignore or filter this warning. If it's XML, you should know that using an XML parser will be more reliable. To parse this document as XML, make sure you have the lxml package installed, and pass the keyword argument `features=\"xml\"` into the BeautifulSoup constructor.\n",
      "  warnings.warn(\n"
     ]
    },
    {
     "name": "stdout",
     "output_type": "stream",
     "text": [
      "Do Insurers Compete on the Federal Health Insurance Exchange?\n"
     ]
    },
    {
     "name": "stderr",
     "output_type": "stream",
     "text": [
      "/usr/local/lib/python3.10/dist-packages/bs4/builder/__init__.py:545: XMLParsedAsHTMLWarning: It looks like you're parsing an XML document using an HTML parser. If this really is an HTML document (maybe it's XHTML?), you can ignore or filter this warning. If it's XML, you should know that using an XML parser will be more reliable. To parse this document as XML, make sure you have the lxml package installed, and pass the keyword argument `features=\"xml\"` into the BeautifulSoup constructor.\n",
      "  warnings.warn(\n"
     ]
    },
    {
     "name": "stdout",
     "output_type": "stream",
     "text": [
      "Whole genome resequencing of a laboratory-adapted \n",
      "                    Drosophila melanogaster population sample\n"
     ]
    },
    {
     "name": "stderr",
     "output_type": "stream",
     "text": [
      "/usr/local/lib/python3.10/dist-packages/bs4/builder/__init__.py:545: XMLParsedAsHTMLWarning: It looks like you're parsing an XML document using an HTML parser. If this really is an HTML document (maybe it's XHTML?), you can ignore or filter this warning. If it's XML, you should know that using an XML parser will be more reliable. To parse this document as XML, make sure you have the lxml package installed, and pass the keyword argument `features=\"xml\"` into the BeautifulSoup constructor.\n",
      "  warnings.warn(\n"
     ]
    },
    {
     "name": "stdout",
     "output_type": "stream",
     "text": [
      "Intertraffic of Endothelin 1 and Thrombospondin 1 between lungs and myocard via pulmonary circulation can alter cardiac loads, tissue integrity and atrial blood coagulability\n"
     ]
    },
    {
     "name": "stderr",
     "output_type": "stream",
     "text": [
      "/usr/local/lib/python3.10/dist-packages/bs4/builder/__init__.py:545: XMLParsedAsHTMLWarning: It looks like you're parsing an XML document using an HTML parser. If this really is an HTML document (maybe it's XHTML?), you can ignore or filter this warning. If it's XML, you should know that using an XML parser will be more reliable. To parse this document as XML, make sure you have the lxml package installed, and pass the keyword argument `features=\"xml\"` into the BeautifulSoup constructor.\n",
      "  warnings.warn(\n"
     ]
    },
    {
     "name": "stdout",
     "output_type": "stream",
     "text": [
      "Educational sessions may not be enough to improve knowledge about hand hygiene: Assessing the knowledge about hand hygiene of health workers before and after an educational workshop in Sudan\n"
     ]
    },
    {
     "name": "stderr",
     "output_type": "stream",
     "text": [
      "/usr/local/lib/python3.10/dist-packages/bs4/builder/__init__.py:545: XMLParsedAsHTMLWarning: It looks like you're parsing an XML document using an HTML parser. If this really is an HTML document (maybe it's XHTML?), you can ignore or filter this warning. If it's XML, you should know that using an XML parser will be more reliable. To parse this document as XML, make sure you have the lxml package installed, and pass the keyword argument `features=\"xml\"` into the BeautifulSoup constructor.\n",
      "  warnings.warn(\n"
     ]
    },
    {
     "name": "stdout",
     "output_type": "stream",
     "text": [
      "Neuraxial anesthesia for postpartum tubal ligation at an academic medical center\n"
     ]
    },
    {
     "name": "stderr",
     "output_type": "stream",
     "text": [
      "/usr/local/lib/python3.10/dist-packages/bs4/builder/__init__.py:545: XMLParsedAsHTMLWarning: It looks like you're parsing an XML document using an HTML parser. If this really is an HTML document (maybe it's XHTML?), you can ignore or filter this warning. If it's XML, you should know that using an XML parser will be more reliable. To parse this document as XML, make sure you have the lxml package installed, and pass the keyword argument `features=\"xml\"` into the BeautifulSoup constructor.\n",
      "  warnings.warn(\n"
     ]
    },
    {
     "name": "stdout",
     "output_type": "stream",
     "text": [
      "A high dose of total recombinant FSH suppresses granulosa cell apoptosis and maintains oocyte quality in endometriosis: A cross-sectional study\n"
     ]
    },
    {
     "name": "stderr",
     "output_type": "stream",
     "text": [
      "/usr/local/lib/python3.10/dist-packages/bs4/builder/__init__.py:545: XMLParsedAsHTMLWarning: It looks like you're parsing an XML document using an HTML parser. If this really is an HTML document (maybe it's XHTML?), you can ignore or filter this warning. If it's XML, you should know that using an XML parser will be more reliable. To parse this document as XML, make sure you have the lxml package installed, and pass the keyword argument `features=\"xml\"` into the BeautifulSoup constructor.\n",
      "  warnings.warn(\n"
     ]
    },
    {
     "name": "stdout",
     "output_type": "stream",
     "text": [
      "A method for transplantation of human HSCs into zebrafish, to replace humanised murine transplantation models\n"
     ]
    },
    {
     "name": "stderr",
     "output_type": "stream",
     "text": [
      "/usr/local/lib/python3.10/dist-packages/bs4/builder/__init__.py:545: XMLParsedAsHTMLWarning: It looks like you're parsing an XML document using an HTML parser. If this really is an HTML document (maybe it's XHTML?), you can ignore or filter this warning. If it's XML, you should know that using an XML parser will be more reliable. To parse this document as XML, make sure you have the lxml package installed, and pass the keyword argument `features=\"xml\"` into the BeautifulSoup constructor.\n",
      "  warnings.warn(\n"
     ]
    },
    {
     "name": "stdout",
     "output_type": "stream",
     "text": [
      "Usual care for mental health problems in children with epilepsy: A cohort study\n"
     ]
    },
    {
     "name": "stderr",
     "output_type": "stream",
     "text": [
      "/usr/local/lib/python3.10/dist-packages/bs4/builder/__init__.py:545: XMLParsedAsHTMLWarning: It looks like you're parsing an XML document using an HTML parser. If this really is an HTML document (maybe it's XHTML?), you can ignore or filter this warning. If it's XML, you should know that using an XML parser will be more reliable. To parse this document as XML, make sure you have the lxml package installed, and pass the keyword argument `features=\"xml\"` into the BeautifulSoup constructor.\n",
      "  warnings.warn(\n"
     ]
    },
    {
     "name": "stdout",
     "output_type": "stream",
     "text": [
      "CAPE for measuring callous-unemotional traits in disadvantaged families: a cross-sectional validation study\n"
     ]
    },
    {
     "name": "stderr",
     "output_type": "stream",
     "text": [
      "/usr/local/lib/python3.10/dist-packages/bs4/builder/__init__.py:545: XMLParsedAsHTMLWarning: It looks like you're parsing an XML document using an HTML parser. If this really is an HTML document (maybe it's XHTML?), you can ignore or filter this warning. If it's XML, you should know that using an XML parser will be more reliable. To parse this document as XML, make sure you have the lxml package installed, and pass the keyword argument `features=\"xml\"` into the BeautifulSoup constructor.\n",
      "  warnings.warn(\n"
     ]
    },
    {
     "name": "stdout",
     "output_type": "stream",
     "text": [
      "Interactive Clustered Heat Map Builder: An easy web-based tool for creating sophisticated clustered heat maps\n"
     ]
    },
    {
     "name": "stderr",
     "output_type": "stream",
     "text": [
      "/usr/local/lib/python3.10/dist-packages/bs4/builder/__init__.py:545: XMLParsedAsHTMLWarning: It looks like you're parsing an XML document using an HTML parser. If this really is an HTML document (maybe it's XHTML?), you can ignore or filter this warning. If it's XML, you should know that using an XML parser will be more reliable. To parse this document as XML, make sure you have the lxml package installed, and pass the keyword argument `features=\"xml\"` into the BeautifulSoup constructor.\n",
      "  warnings.warn(\n"
     ]
    },
    {
     "name": "stdout",
     "output_type": "stream",
     "text": [
      "Predictors of presumptive treatment of uncomplicated malaria among children in private retail outlets in Kenya: mixed effects logistic regression modelling\n"
     ]
    },
    {
     "name": "stderr",
     "output_type": "stream",
     "text": [
      "/usr/local/lib/python3.10/dist-packages/bs4/builder/__init__.py:545: XMLParsedAsHTMLWarning: It looks like you're parsing an XML document using an HTML parser. If this really is an HTML document (maybe it's XHTML?), you can ignore or filter this warning. If it's XML, you should know that using an XML parser will be more reliable. To parse this document as XML, make sure you have the lxml package installed, and pass the keyword argument `features=\"xml\"` into the BeautifulSoup constructor.\n",
      "  warnings.warn(\n"
     ]
    },
    {
     "name": "stdout",
     "output_type": "stream",
     "text": [
      "Cooking with biomass fuel and cardiovascular disease: a cross-sectional study among rural villagers in Phitsanulok, Thailand\n"
     ]
    },
    {
     "name": "stderr",
     "output_type": "stream",
     "text": [
      "/usr/local/lib/python3.10/dist-packages/bs4/builder/__init__.py:545: XMLParsedAsHTMLWarning: It looks like you're parsing an XML document using an HTML parser. If this really is an HTML document (maybe it's XHTML?), you can ignore or filter this warning. If it's XML, you should know that using an XML parser will be more reliable. To parse this document as XML, make sure you have the lxml package installed, and pass the keyword argument `features=\"xml\"` into the BeautifulSoup constructor.\n",
      "  warnings.warn(\n"
     ]
    },
    {
     "name": "stdout",
     "output_type": "stream",
     "text": [
      "Estimating epidemiological and economic burden and community derived disability weights for snake bite in Kerala: a study protocol\n"
     ]
    },
    {
     "name": "stderr",
     "output_type": "stream",
     "text": [
      "/usr/local/lib/python3.10/dist-packages/bs4/builder/__init__.py:545: XMLParsedAsHTMLWarning: It looks like you're parsing an XML document using an HTML parser. If this really is an HTML document (maybe it's XHTML?), you can ignore or filter this warning. If it's XML, you should know that using an XML parser will be more reliable. To parse this document as XML, make sure you have the lxml package installed, and pass the keyword argument `features=\"xml\"` into the BeautifulSoup constructor.\n",
      "  warnings.warn(\n"
     ]
    },
    {
     "name": "stdout",
     "output_type": "stream",
     "text": [
      "Medication adherence in type 2 diabetes mellitus patients during Covid-19 pandemic: a cross-sectional study from the United Arab Emirates\n"
     ]
    },
    {
     "name": "stderr",
     "output_type": "stream",
     "text": [
      "/usr/local/lib/python3.10/dist-packages/bs4/builder/__init__.py:545: XMLParsedAsHTMLWarning: It looks like you're parsing an XML document using an HTML parser. If this really is an HTML document (maybe it's XHTML?), you can ignore or filter this warning. If it's XML, you should know that using an XML parser will be more reliable. To parse this document as XML, make sure you have the lxml package installed, and pass the keyword argument `features=\"xml\"` into the BeautifulSoup constructor.\n",
      "  warnings.warn(\n"
     ]
    },
    {
     "name": "stdout",
     "output_type": "stream",
     "text": [
      "Chlorpyrifos and other pesticide exposure and suspected developmental delay in children aged under 5 years: a case-control study in Phitsanulok, Thailand\n"
     ]
    },
    {
     "name": "stderr",
     "output_type": "stream",
     "text": [
      "/usr/local/lib/python3.10/dist-packages/bs4/builder/__init__.py:545: XMLParsedAsHTMLWarning: It looks like you're parsing an XML document using an HTML parser. If this really is an HTML document (maybe it's XHTML?), you can ignore or filter this warning. If it's XML, you should know that using an XML parser will be more reliable. To parse this document as XML, make sure you have the lxml package installed, and pass the keyword argument `features=\"xml\"` into the BeautifulSoup constructor.\n",
      "  warnings.warn(\n"
     ]
    },
    {
     "name": "stdout",
     "output_type": "stream",
     "text": [
      "Playing Edcraft at Home: Gamified Online Learning for Recycling Intention during Lockdown\n"
     ]
    },
    {
     "name": "stderr",
     "output_type": "stream",
     "text": [
      "/usr/local/lib/python3.10/dist-packages/bs4/builder/__init__.py:545: XMLParsedAsHTMLWarning: It looks like you're parsing an XML document using an HTML parser. If this really is an HTML document (maybe it's XHTML?), you can ignore or filter this warning. If it's XML, you should know that using an XML parser will be more reliable. To parse this document as XML, make sure you have the lxml package installed, and pass the keyword argument `features=\"xml\"` into the BeautifulSoup constructor.\n",
      "  warnings.warn(\n"
     ]
    },
    {
     "name": "stdout",
     "output_type": "stream",
     "text": [
      "The effects of multimedia information on recruitment and retention in a children’s cardiac surgery trial: a randomised controlled SWAT (study within a trial)\n"
     ]
    },
    {
     "name": "stderr",
     "output_type": "stream",
     "text": [
      "/usr/local/lib/python3.10/dist-packages/bs4/builder/__init__.py:545: XMLParsedAsHTMLWarning: It looks like you're parsing an XML document using an HTML parser. If this really is an HTML document (maybe it's XHTML?), you can ignore or filter this warning. If it's XML, you should know that using an XML parser will be more reliable. To parse this document as XML, make sure you have the lxml package installed, and pass the keyword argument `features=\"xml\"` into the BeautifulSoup constructor.\n",
      "  warnings.warn(\n"
     ]
    },
    {
     "name": "stdout",
     "output_type": "stream",
     "text": [
      "Factors associated with producing a scientific publication during medical training: evidence from a cross-sectional study of 40 medical schools in Latin America\n"
     ]
    },
    {
     "name": "stderr",
     "output_type": "stream",
     "text": [
      "/usr/local/lib/python3.10/dist-packages/bs4/builder/__init__.py:545: XMLParsedAsHTMLWarning: It looks like you're parsing an XML document using an HTML parser. If this really is an HTML document (maybe it's XHTML?), you can ignore or filter this warning. If it's XML, you should know that using an XML parser will be more reliable. To parse this document as XML, make sure you have the lxml package installed, and pass the keyword argument `features=\"xml\"` into the BeautifulSoup constructor.\n",
      "  warnings.warn(\n"
     ]
    },
    {
     "name": "stdout",
     "output_type": "stream",
     "text": [
      "Prevalence of oral manifestations in patients with lupus erythematosus in a sample of the Egyptian population: a hospital based cross-sectional study\n"
     ]
    },
    {
     "name": "stderr",
     "output_type": "stream",
     "text": [
      "/usr/local/lib/python3.10/dist-packages/bs4/builder/__init__.py:545: XMLParsedAsHTMLWarning: It looks like you're parsing an XML document using an HTML parser. If this really is an HTML document (maybe it's XHTML?), you can ignore or filter this warning. If it's XML, you should know that using an XML parser will be more reliable. To parse this document as XML, make sure you have the lxml package installed, and pass the keyword argument `features=\"xml\"` into the BeautifulSoup constructor.\n",
      "  warnings.warn(\n"
     ]
    },
    {
     "name": "stdout",
     "output_type": "stream",
     "text": [
      "Assessment of cardiorespiratory fitness among medical students: a prospective study\n"
     ]
    },
    {
     "name": "stderr",
     "output_type": "stream",
     "text": [
      "/usr/local/lib/python3.10/dist-packages/bs4/builder/__init__.py:545: XMLParsedAsHTMLWarning: It looks like you're parsing an XML document using an HTML parser. If this really is an HTML document (maybe it's XHTML?), you can ignore or filter this warning. If it's XML, you should know that using an XML parser will be more reliable. To parse this document as XML, make sure you have the lxml package installed, and pass the keyword argument `features=\"xml\"` into the BeautifulSoup constructor.\n",
      "  warnings.warn(\n"
     ]
    },
    {
     "name": "stdout",
     "output_type": "stream",
     "text": [
      "Novel behavioral model in evaluating initiation and sustenance of teeth brushing behavior among students pursuing health sciences: a cross-sectional study\n"
     ]
    },
    {
     "name": "stderr",
     "output_type": "stream",
     "text": [
      "/usr/local/lib/python3.10/dist-packages/bs4/builder/__init__.py:545: XMLParsedAsHTMLWarning: It looks like you're parsing an XML document using an HTML parser. If this really is an HTML document (maybe it's XHTML?), you can ignore or filter this warning. If it's XML, you should know that using an XML parser will be more reliable. To parse this document as XML, make sure you have the lxml package installed, and pass the keyword argument `features=\"xml\"` into the BeautifulSoup constructor.\n",
      "  warnings.warn(\n"
     ]
    },
    {
     "name": "stdout",
     "output_type": "stream",
     "text": [
      "The distribution of circulating microRNA and their relation to coronary disease\n"
     ]
    },
    {
     "name": "stderr",
     "output_type": "stream",
     "text": [
      "/usr/local/lib/python3.10/dist-packages/bs4/builder/__init__.py:545: XMLParsedAsHTMLWarning: It looks like you're parsing an XML document using an HTML parser. If this really is an HTML document (maybe it's XHTML?), you can ignore or filter this warning. If it's XML, you should know that using an XML parser will be more reliable. To parse this document as XML, make sure you have the lxml package installed, and pass the keyword argument `features=\"xml\"` into the BeautifulSoup constructor.\n",
      "  warnings.warn(\n"
     ]
    },
    {
     "name": "stdout",
     "output_type": "stream",
     "text": [
      "Photoperiodic and circadian bifurcation theories of depression and mania\n"
     ]
    },
    {
     "name": "stderr",
     "output_type": "stream",
     "text": [
      "/usr/local/lib/python3.10/dist-packages/bs4/builder/__init__.py:545: XMLParsedAsHTMLWarning: It looks like you're parsing an XML document using an HTML parser. If this really is an HTML document (maybe it's XHTML?), you can ignore or filter this warning. If it's XML, you should know that using an XML parser will be more reliable. To parse this document as XML, make sure you have the lxml package installed, and pass the keyword argument `features=\"xml\"` into the BeautifulSoup constructor.\n",
      "  warnings.warn(\n"
     ]
    },
    {
     "name": "stdout",
     "output_type": "stream",
     "text": [
      "Psoriasis is characterized by deficient negative immune regulation compared to transient delayed-type hypersensitivity reactions\n"
     ]
    },
    {
     "name": "stderr",
     "output_type": "stream",
     "text": [
      "/usr/local/lib/python3.10/dist-packages/bs4/builder/__init__.py:545: XMLParsedAsHTMLWarning: It looks like you're parsing an XML document using an HTML parser. If this really is an HTML document (maybe it's XHTML?), you can ignore or filter this warning. If it's XML, you should know that using an XML parser will be more reliable. To parse this document as XML, make sure you have the lxml package installed, and pass the keyword argument `features=\"xml\"` into the BeautifulSoup constructor.\n",
      "  warnings.warn(\n"
     ]
    },
    {
     "name": "stdout",
     "output_type": "stream",
     "text": [
      "Engagement of introductory biostatistics students in a novel hybrid course format\n"
     ]
    },
    {
     "name": "stderr",
     "output_type": "stream",
     "text": [
      "/usr/local/lib/python3.10/dist-packages/bs4/builder/__init__.py:545: XMLParsedAsHTMLWarning: It looks like you're parsing an XML document using an HTML parser. If this really is an HTML document (maybe it's XHTML?), you can ignore or filter this warning. If it's XML, you should know that using an XML parser will be more reliable. To parse this document as XML, make sure you have the lxml package installed, and pass the keyword argument `features=\"xml\"` into the BeautifulSoup constructor.\n",
      "  warnings.warn(\n"
     ]
    },
    {
     "name": "stdout",
     "output_type": "stream",
     "text": [
      "Reproducibility2020: Progress and priorities\n"
     ]
    },
    {
     "name": "stderr",
     "output_type": "stream",
     "text": [
      "/usr/local/lib/python3.10/dist-packages/bs4/builder/__init__.py:545: XMLParsedAsHTMLWarning: It looks like you're parsing an XML document using an HTML parser. If this really is an HTML document (maybe it's XHTML?), you can ignore or filter this warning. If it's XML, you should know that using an XML parser will be more reliable. To parse this document as XML, make sure you have the lxml package installed, and pass the keyword argument `features=\"xml\"` into the BeautifulSoup constructor.\n",
      "  warnings.warn(\n"
     ]
    },
    {
     "name": "stdout",
     "output_type": "stream",
     "text": [
      "Audit of transvaginal sonography of normal postmenopausal ovaries by sonographers from the United Kingdom Collaborative Trial of Ovarian Cancer Screening (UKCTOCS)\n"
     ]
    },
    {
     "name": "stderr",
     "output_type": "stream",
     "text": [
      "/usr/local/lib/python3.10/dist-packages/bs4/builder/__init__.py:545: XMLParsedAsHTMLWarning: It looks like you're parsing an XML document using an HTML parser. If this really is an HTML document (maybe it's XHTML?), you can ignore or filter this warning. If it's XML, you should know that using an XML parser will be more reliable. To parse this document as XML, make sure you have the lxml package installed, and pass the keyword argument `features=\"xml\"` into the BeautifulSoup constructor.\n",
      "  warnings.warn(\n"
     ]
    },
    {
     "name": "stdout",
     "output_type": "stream",
     "text": [
      "Does gonorrhoea screening intensity play a role in the early selection of antimicrobial resistance in men who have sex with men (MSM)? A comparative study of Belgium and the United Kingdom\n"
     ]
    },
    {
     "name": "stderr",
     "output_type": "stream",
     "text": [
      "/usr/local/lib/python3.10/dist-packages/bs4/builder/__init__.py:545: XMLParsedAsHTMLWarning: It looks like you're parsing an XML document using an HTML parser. If this really is an HTML document (maybe it's XHTML?), you can ignore or filter this warning. If it's XML, you should know that using an XML parser will be more reliable. To parse this document as XML, make sure you have the lxml package installed, and pass the keyword argument `features=\"xml\"` into the BeautifulSoup constructor.\n",
      "  warnings.warn(\n"
     ]
    },
    {
     "name": "stdout",
     "output_type": "stream",
     "text": [
      "Management and cost of snakebite injuries at a teaching and referral hospital in Western Kenya\n"
     ]
    },
    {
     "name": "stderr",
     "output_type": "stream",
     "text": [
      "/usr/local/lib/python3.10/dist-packages/bs4/builder/__init__.py:545: XMLParsedAsHTMLWarning: It looks like you're parsing an XML document using an HTML parser. If this really is an HTML document (maybe it's XHTML?), you can ignore or filter this warning. If it's XML, you should know that using an XML parser will be more reliable. To parse this document as XML, make sure you have the lxml package installed, and pass the keyword argument `features=\"xml\"` into the BeautifulSoup constructor.\n",
      "  warnings.warn(\n"
     ]
    },
    {
     "name": "stdout",
     "output_type": "stream",
     "text": [
      "The effects of touch-screen technology usage on hand skills among preschool children: a case-control study\n"
     ]
    },
    {
     "name": "stderr",
     "output_type": "stream",
     "text": [
      "/usr/local/lib/python3.10/dist-packages/bs4/builder/__init__.py:545: XMLParsedAsHTMLWarning: It looks like you're parsing an XML document using an HTML parser. If this really is an HTML document (maybe it's XHTML?), you can ignore or filter this warning. If it's XML, you should know that using an XML parser will be more reliable. To parse this document as XML, make sure you have the lxml package installed, and pass the keyword argument `features=\"xml\"` into the BeautifulSoup constructor.\n",
      "  warnings.warn(\n"
     ]
    },
    {
     "name": "stdout",
     "output_type": "stream",
     "text": [
      "The impact of environmental risk factors on delirium and benefits of noise and light modifications: a scoping review\n"
     ]
    },
    {
     "name": "stderr",
     "output_type": "stream",
     "text": [
      "/usr/local/lib/python3.10/dist-packages/bs4/builder/__init__.py:545: XMLParsedAsHTMLWarning: It looks like you're parsing an XML document using an HTML parser. If this really is an HTML document (maybe it's XHTML?), you can ignore or filter this warning. If it's XML, you should know that using an XML parser will be more reliable. To parse this document as XML, make sure you have the lxml package installed, and pass the keyword argument `features=\"xml\"` into the BeautifulSoup constructor.\n",
      "  warnings.warn(\n"
     ]
    },
    {
     "name": "stdout",
     "output_type": "stream",
     "text": [
      "Efficacy, safety, and immunogenicity of rurioctocog alfa pegol for prophylactic treatment in previously treated patients with severe hemophilia A: a systematic review and meta-analysis of clinical trials\n"
     ]
    },
    {
     "name": "stderr",
     "output_type": "stream",
     "text": [
      "/usr/local/lib/python3.10/dist-packages/bs4/builder/__init__.py:545: XMLParsedAsHTMLWarning: It looks like you're parsing an XML document using an HTML parser. If this really is an HTML document (maybe it's XHTML?), you can ignore or filter this warning. If it's XML, you should know that using an XML parser will be more reliable. To parse this document as XML, make sure you have the lxml package installed, and pass the keyword argument `features=\"xml\"` into the BeautifulSoup constructor.\n",
      "  warnings.warn(\n"
     ]
    },
    {
     "name": "stdout",
     "output_type": "stream",
     "text": [
      "Seroprevalence and risk factors of SARS-CoV-2 infection in an urban informal settlement in Nairobi, Kenya, December 2020\n"
     ]
    },
    {
     "name": "stderr",
     "output_type": "stream",
     "text": [
      "/usr/local/lib/python3.10/dist-packages/bs4/builder/__init__.py:545: XMLParsedAsHTMLWarning: It looks like you're parsing an XML document using an HTML parser. If this really is an HTML document (maybe it's XHTML?), you can ignore or filter this warning. If it's XML, you should know that using an XML parser will be more reliable. To parse this document as XML, make sure you have the lxml package installed, and pass the keyword argument `features=\"xml\"` into the BeautifulSoup constructor.\n",
      "  warnings.warn(\n"
     ]
    },
    {
     "name": "stdout",
     "output_type": "stream",
     "text": [
      "Assessing the role of vascular risk factors in dementia: Mendelian randomization meta-analysis and comparison with observational estimates\n"
     ]
    },
    {
     "name": "stderr",
     "output_type": "stream",
     "text": [
      "/usr/local/lib/python3.10/dist-packages/bs4/builder/__init__.py:545: XMLParsedAsHTMLWarning: It looks like you're parsing an XML document using an HTML parser. If this really is an HTML document (maybe it's XHTML?), you can ignore or filter this warning. If it's XML, you should know that using an XML parser will be more reliable. To parse this document as XML, make sure you have the lxml package installed, and pass the keyword argument `features=\"xml\"` into the BeautifulSoup constructor.\n",
      "  warnings.warn(\n"
     ]
    },
    {
     "name": "stdout",
     "output_type": "stream",
     "text": [
      "Data Note: COVID-19, social distancing, and pipeline vandalism in Nigeria\n"
     ]
    },
    {
     "name": "stderr",
     "output_type": "stream",
     "text": [
      "/usr/local/lib/python3.10/dist-packages/bs4/builder/__init__.py:545: XMLParsedAsHTMLWarning: It looks like you're parsing an XML document using an HTML parser. If this really is an HTML document (maybe it's XHTML?), you can ignore or filter this warning. If it's XML, you should know that using an XML parser will be more reliable. To parse this document as XML, make sure you have the lxml package installed, and pass the keyword argument `features=\"xml\"` into the BeautifulSoup constructor.\n",
      "  warnings.warn(\n"
     ]
    },
    {
     "name": "stdout",
     "output_type": "stream",
     "text": [
      "Comparison of clinical characteristics and short-term outcomes among COVID-19 patients in a tertiary care center during second wave pandemic in Nepal: a cross-sectional study\n"
     ]
    },
    {
     "name": "stderr",
     "output_type": "stream",
     "text": [
      "/usr/local/lib/python3.10/dist-packages/bs4/builder/__init__.py:545: XMLParsedAsHTMLWarning: It looks like you're parsing an XML document using an HTML parser. If this really is an HTML document (maybe it's XHTML?), you can ignore or filter this warning. If it's XML, you should know that using an XML parser will be more reliable. To parse this document as XML, make sure you have the lxml package installed, and pass the keyword argument `features=\"xml\"` into the BeautifulSoup constructor.\n",
      "  warnings.warn(\n"
     ]
    },
    {
     "name": "stdout",
     "output_type": "stream",
     "text": [
      "The effect of coronal pre-flaring and root canal irrigant on apex locators’ accuracy: an in-vitro study\n"
     ]
    },
    {
     "name": "stderr",
     "output_type": "stream",
     "text": [
      "/usr/local/lib/python3.10/dist-packages/bs4/builder/__init__.py:545: XMLParsedAsHTMLWarning: It looks like you're parsing an XML document using an HTML parser. If this really is an HTML document (maybe it's XHTML?), you can ignore or filter this warning. If it's XML, you should know that using an XML parser will be more reliable. To parse this document as XML, make sure you have the lxml package installed, and pass the keyword argument `features=\"xml\"` into the BeautifulSoup constructor.\n",
      "  warnings.warn(\n"
     ]
    },
    {
     "name": "stdout",
     "output_type": "stream",
     "text": [
      "Current treatment of early breast cancer: adjuvant and neoadjuvant therapy\n"
     ]
    },
    {
     "name": "stderr",
     "output_type": "stream",
     "text": [
      "/usr/local/lib/python3.10/dist-packages/bs4/builder/__init__.py:545: XMLParsedAsHTMLWarning: It looks like you're parsing an XML document using an HTML parser. If this really is an HTML document (maybe it's XHTML?), you can ignore or filter this warning. If it's XML, you should know that using an XML parser will be more reliable. To parse this document as XML, make sure you have the lxml package installed, and pass the keyword argument `features=\"xml\"` into the BeautifulSoup constructor.\n",
      "  warnings.warn(\n"
     ]
    },
    {
     "name": "stdout",
     "output_type": "stream",
     "text": [
      "Non-invasive imaging to monitor lupus nephritis and neuropsychiatric systemic lupus erythematosus\n"
     ]
    },
    {
     "name": "stderr",
     "output_type": "stream",
     "text": [
      "/usr/local/lib/python3.10/dist-packages/bs4/builder/__init__.py:545: XMLParsedAsHTMLWarning: It looks like you're parsing an XML document using an HTML parser. If this really is an HTML document (maybe it's XHTML?), you can ignore or filter this warning. If it's XML, you should know that using an XML parser will be more reliable. To parse this document as XML, make sure you have the lxml package installed, and pass the keyword argument `features=\"xml\"` into the BeautifulSoup constructor.\n",
      "  warnings.warn(\n"
     ]
    },
    {
     "name": "stdout",
     "output_type": "stream",
     "text": [
      "Combined vitrectomy, near-confluent panretinal endolaser, bevacizumab and cyclophotocoagulation for neovascular glaucoma — a retrospective interventional case series\n"
     ]
    },
    {
     "name": "stderr",
     "output_type": "stream",
     "text": [
      "/usr/local/lib/python3.10/dist-packages/bs4/builder/__init__.py:545: XMLParsedAsHTMLWarning: It looks like you're parsing an XML document using an HTML parser. If this really is an HTML document (maybe it's XHTML?), you can ignore or filter this warning. If it's XML, you should know that using an XML parser will be more reliable. To parse this document as XML, make sure you have the lxml package installed, and pass the keyword argument `features=\"xml\"` into the BeautifulSoup constructor.\n",
      "  warnings.warn(\n"
     ]
    },
    {
     "name": "stdout",
     "output_type": "stream",
     "text": [
      "Role of RAS signaling in ovarian cancer\n",
      "                                                 Title  \\\n",
      "0    FALCON: a software package for analysis of nes...   \n",
      "1    Conservation of gene essentiality in Apicomple...   \n",
      "2    Null hypothesis significance testing: a guide ...   \n",
      "3    The acid tolerance response and pH adaptation ...   \n",
      "4    Expanding the Orthologous Matrix (OMA) program...   \n",
      "..                                                 ...   \n",
      "144  The effect of coronal pre-flaring and root can...   \n",
      "145  Current treatment of early breast cancer: adju...   \n",
      "146  Non-invasive imaging to monitor lupus nephriti...   \n",
      "147  Combined vitrectomy, near-confluent panretinal...   \n",
      "148            Role of RAS signaling in ovarian cancer   \n",
      "\n",
      "                                 DOI  \\\n",
      "0      10.12688/f1000research.4831.1   \n",
      "1     10.12688/f1000research.10559.1   \n",
      "2      10.12688/f1000research.6963.5   \n",
      "3     10.12688/f1000research.13990.2   \n",
      "4     10.12688/f1000research.17548.2   \n",
      "..                               ...   \n",
      "144  10.12688/f1000research.133288.1   \n",
      "145    10.12688/f1000research.4340.1   \n",
      "146    10.12688/f1000research.6587.2   \n",
      "147   10.12688/f1000research.26879.2   \n",
      "148  10.12688/f1000research.126337.1   \n",
      "\n",
      "                                               Authors  \\\n",
      "0    [{Beckett, Stephen J.}, {Boulton, Chris A.}, {...   \n",
      "1                              [{Gajinder Pal, Singh}]   \n",
      "2                                    [{Cyril, Pernet}]   \n",
      "3                    [{Zaki, Mubarak}, {Soraya, Cut }]   \n",
      "4    [{Klara, Kaleb}, {Alex Warwick, Vesztrocy}, {A...   \n",
      "..                                                 ...   \n",
      "144  [{Shimaa, Rifaat}, {Abdullah, Aljami}, {Alsheh...   \n",
      "145  [{Elizabeth, Miller}, {Lee, Hee Jin}, {Lulla, ...   \n",
      "146      [{Thurman, Joshua M.}, {Natalie J., Serkova}]   \n",
      "147  [{Piotr, Strzalkowski}, {Strzalkowska, Alicja}...   \n",
      "148  [{Therachiyil, Lubna}, {Anjana, Anand}, {Abdul...   \n",
      "\n",
      "                                         Full_Text_URL  \\\n",
      "0    https://f1000research.com/extapi/article/xml?d...   \n",
      "1    https://f1000research.com/extapi/article/xml?d...   \n",
      "2    https://f1000research.com/extapi/article/xml?d...   \n",
      "3    https://f1000research.com/extapi/article/xml?d...   \n",
      "4    https://f1000research.com/extapi/article/xml?d...   \n",
      "..                                                 ...   \n",
      "144  https://f1000research.com/extapi/article/xml?d...   \n",
      "145  https://f1000research.com/extapi/article/xml?d...   \n",
      "146  https://f1000research.com/extapi/article/xml?d...   \n",
      "147  https://f1000research.com/extapi/article/xml?d...   \n",
      "148  https://f1000research.com/extapi/article/xml?d...   \n",
      "\n",
      "                                     Full_Text_Content  \n",
      "0    \\n\\nIntroduction\\nNestedness is a statistical ...  \n",
      "1    \\n\\nIntroduction\\nMalaria killed an estimated ...  \n",
      "2    \\n\\nThe Null Hypothesis Significance Testing f...  \n",
      "3    \\n\\nIntroduction\\n\\nEnterococcus faecalis is a...  \n",
      "4    \\n\\nIntroduction\\nOrthologs are pairs of prote...  \n",
      "..                                                 ...  \n",
      "144  \\n\\nIntroduction\\nSuccessful root canal treatm...  \n",
      "145  \\n\\nIntroduction\\nBreast cancer is the most co...  \n",
      "146  \\n\\nIntroduction\\nSystemic lupus erythematosus...  \n",
      "147  \\n\\nIntroduction\\nNeovascular glaucoma (NVG) i...  \n",
      "148  \\n\\nIntroduction\\nGynecological malignancies i...  \n",
      "\n",
      "[149 rows x 5 columns]\n",
      "data_df after calling solr_api with f1000:                                                  Title  \\\n",
      "0    FALCON: a software package for analysis of nes...   \n",
      "1    Conservation of gene essentiality in Apicomple...   \n",
      "2    Null hypothesis significance testing: a guide ...   \n",
      "3    The acid tolerance response and pH adaptation ...   \n",
      "4    Expanding the Orthologous Matrix (OMA) program...   \n",
      "..                                                 ...   \n",
      "144  The effect of coronal pre-flaring and root can...   \n",
      "145  Current treatment of early breast cancer: adju...   \n",
      "146  Non-invasive imaging to monitor lupus nephriti...   \n",
      "147  Combined vitrectomy, near-confluent panretinal...   \n",
      "148            Role of RAS signaling in ovarian cancer   \n",
      "\n",
      "                                 DOI  \\\n",
      "0      10.12688/f1000research.4831.1   \n",
      "1     10.12688/f1000research.10559.1   \n",
      "2      10.12688/f1000research.6963.5   \n",
      "3     10.12688/f1000research.13990.2   \n",
      "4     10.12688/f1000research.17548.2   \n",
      "..                               ...   \n",
      "144  10.12688/f1000research.133288.1   \n",
      "145    10.12688/f1000research.4340.1   \n",
      "146    10.12688/f1000research.6587.2   \n",
      "147   10.12688/f1000research.26879.2   \n",
      "148  10.12688/f1000research.126337.1   \n",
      "\n",
      "                                               Authors  \\\n",
      "0    [{Beckett, Stephen J.}, {Boulton, Chris A.}, {...   \n",
      "1                              [{Gajinder Pal, Singh}]   \n",
      "2                                    [{Cyril, Pernet}]   \n",
      "3                    [{Zaki, Mubarak}, {Soraya, Cut }]   \n",
      "4    [{Klara, Kaleb}, {Alex Warwick, Vesztrocy}, {A...   \n",
      "..                                                 ...   \n",
      "144  [{Shimaa, Rifaat}, {Abdullah, Aljami}, {Alsheh...   \n",
      "145  [{Elizabeth, Miller}, {Lee, Hee Jin}, {Lulla, ...   \n",
      "146      [{Thurman, Joshua M.}, {Natalie J., Serkova}]   \n",
      "147  [{Piotr, Strzalkowski}, {Strzalkowska, Alicja}...   \n",
      "148  [{Therachiyil, Lubna}, {Anjana, Anand}, {Abdul...   \n",
      "\n",
      "                                         Full_Text_URL  \\\n",
      "0    https://f1000research.com/extapi/article/xml?d...   \n",
      "1    https://f1000research.com/extapi/article/xml?d...   \n",
      "2    https://f1000research.com/extapi/article/xml?d...   \n",
      "3    https://f1000research.com/extapi/article/xml?d...   \n",
      "4    https://f1000research.com/extapi/article/xml?d...   \n",
      "..                                                 ...   \n",
      "144  https://f1000research.com/extapi/article/xml?d...   \n",
      "145  https://f1000research.com/extapi/article/xml?d...   \n",
      "146  https://f1000research.com/extapi/article/xml?d...   \n",
      "147  https://f1000research.com/extapi/article/xml?d...   \n",
      "148  https://f1000research.com/extapi/article/xml?d...   \n",
      "\n",
      "                                     Full_Text_Content  \n",
      "0    \\n\\nIntroduction\\nNestedness is a statistical ...  \n",
      "1    \\n\\nIntroduction\\nMalaria killed an estimated ...  \n",
      "2    \\n\\nThe Null Hypothesis Significance Testing f...  \n",
      "3    \\n\\nIntroduction\\n\\nEnterococcus faecalis is a...  \n",
      "4    \\n\\nIntroduction\\nOrthologs are pairs of prote...  \n",
      "..                                                 ...  \n",
      "144  \\n\\nIntroduction\\nSuccessful root canal treatm...  \n",
      "145  \\n\\nIntroduction\\nBreast cancer is the most co...  \n",
      "146  \\n\\nIntroduction\\nSystemic lupus erythematosus...  \n",
      "147  \\n\\nIntroduction\\nNeovascular glaucoma (NVG) i...  \n",
      "148  \\n\\nIntroduction\\nGynecological malignancies i...  \n",
      "\n",
      "[149 rows x 5 columns]\n",
      "Filename output: Paris+Agreement_wellcome_20230717.xlsx\n",
      "\n",
      "data: <?xml version=\"1.0\" encoding=\"UTF-8\" standalone=\"yes\"?><results numberOfResultsInPage=\"100\" totalNumberOfPages=\"4\"><doi>10.12688/wellcomeopenres.17781.2</doi><doi>10.12688/wellcomeopenres.12583.3</doi><doi>10.12688/wellcomeopenres.15761.1</doi><doi>10.12688/wellcomeopenres.11715.1</doi><doi>10.12688/wellcomeopenres.15881.2</doi><doi>10.12688/wellcomeopenres.16584.2</doi><doi>10.12688/wellcomeopenres.10646.1</doi><doi>10.12688/wellcomeopenres.15974.2</doi><doi>10.12688/wellcomeopenres.18119.1</doi><doi>10.12688/wellcomeopenres.17261.2</doi><doi>10.12688/wellcomeopenres.15807.2</doi><doi>10.12688/wellcomeopenres.10036.2</doi><doi>10.12688/wellcomeopenres.11864.1</doi><doi>10.12688/wellcomeopenres.10985.2</doi><doi>10.12688/wellcomeopenres.15846.2</doi><doi>10.12688/wellcomeopenres.15529.2</doi><doi>10.12688/wellcomeopenres.16485.1</doi><doi>10.12688/wellcomeopenres.15607.2</doi><doi>10.12688/wellcomeopenres.16748.3</doi><doi>10.12688/wellcomeopenres.15587.2</doi><doi>10.12688/wellcomeopenres.15065.2</doi><doi>10.12688/wellcomeopenres.16068.1</doi><doi>10.12688/wellcomeopenres.14241.2</doi><doi>10.12688/wellcomeopenres.15893.2</doi><doi>10.12688/wellcomeopenres.15343.2</doi><doi>10.12688/wellcomeopenres.16734.4</doi><doi>10.12688/wellcomeopenres.14571.1</doi><doi>10.12688/wellcomeopenres.15191.2</doi><doi>10.12688/wellcomeopenres.17933.2</doi><doi>10.12688/wellcomeopenres.13854.1</doi><doi>10.12688/wellcomeopenres.15675.2</doi><doi>10.12688/wellcomeopenres.13893.2</doi><doi>10.12688/wellcomeopenres.16928.2</doi><doi>10.12688/wellcomeopenres.17733.2</doi><doi>10.12688/wellcomeopenres.16119.1</doi><doi>10.12688/wellcomeopenres.16344.3</doi><doi>10.12688/wellcomeopenres.17598.2</doi><doi>10.12688/wellcomeopenres.13888.1</doi><doi>10.12688/wellcomeopenres.17090.1</doi><doi>10.12688/wellcomeopenres.15254.1</doi><doi>10.12688/wellcomeopenres.15583.1</doi><doi>10.12688/wellcomeopenres.12394.1</doi><doi>10.12688/wellcomeopenres.15347.2</doi><doi>10.12688/wellcomeopenres.16986.1</doi><doi>10.12688/wellcomeopenres.17423.1</doi><doi>10.12688/wellcomeopenres.12871.1</doi><doi>10.12688/wellcomeopenres.15136.1</doi><doi>10.12688/wellcomeopenres.17736.2</doi><doi>10.12688/wellcomeopenres.19126.2</doi><doi>10.12688/wellcomeopenres.16320.2</doi><doi>10.12688/wellcomeopenres.17665.1</doi><doi>10.12688/wellcomeopenres.14493.2</doi><doi>10.12688/wellcomeopenres.14645.4</doi><doi>10.12688/wellcomeopenres.16091.3</doi><doi>10.12688/wellcomeopenres.17124.2</doi><doi>10.12688/wellcomeopenres.15002.1</doi><doi>10.12688/wellcomeopenres.15403.2</doi><doi>10.12688/wellcomeopenres.15304.3</doi><doi>10.12688/wellcomeopenres.15451.1</doi><doi>10.12688/wellcomeopenres.15048.2</doi><doi>10.12688/wellcomeopenres.15748.2</doi><doi>10.12688/wellcomeopenres.15729.2</doi><doi>10.12688/wellcomeopenres.14073.3</doi><doi>10.12688/wellcomeopenres.14898.2</doi><doi>10.12688/wellcomeopenres.16417.1</doi><doi>10.12688/wellcomeopenres.16299.2</doi><doi>10.12688/wellcomeopenres.16466.2</doi><doi>10.12688/wellcomeopenres.16168.2</doi><doi>10.12688/wellcomeopenres.9869.2</doi><doi>10.12688/wellcomeopenres.18251.1</doi><doi>10.12688/wellcomeopenres.14392.1</doi><doi>10.12688/wellcomeopenres.13905.1</doi><doi>10.12688/wellcomeopenres.15770.1</doi><doi>10.12688/wellcomeopenres.17779.1</doi><doi>10.12688/wellcomeopenres.17237.1</doi><doi>10.12688/wellcomeopenres.16283.1</doi><doi>10.12688/wellcomeopenres.16131.2</doi><doi>10.12688/wellcomeopenres.16363.2</doi><doi>10.12688/wellcomeopenres.16600.2</doi><doi>10.12688/wellcomeopenres.11589.4</doi><doi>10.12688/wellcomeopenres.17904.1</doi><doi>10.12688/wellcomeopenres.15250.1</doi><doi>10.12688/wellcomeopenres.17170.2</doi><doi>10.12688/wellcomeopenres.17322.2</doi><doi>10.12688/wellcomeopenres.16107.1</doi><doi>10.12688/wellcomeopenres.15842.3</doi><doi>10.12688/wellcomeopenres.11386.2</doi><doi>10.12688/wellcomeopenres.14861.2</doi><doi>10.12688/wellcomeopenres.10038.3</doi><doi>10.12688/wellcomeopenres.16629.2</doi><doi>10.12688/wellcomeopenres.15115.1</doi><doi>10.12688/wellcomeopenres.17991.1</doi><doi>10.12688/wellcomeopenres.16901.2</doi><doi>10.12688/wellcomeopenres.16592.1</doi><doi>10.12688/wellcomeopenres.15474.2</doi><doi>10.12688/wellcomeopenres.12171.1</doi><doi>10.12688/wellcomeopenres.15421.1</doi><doi>10.12688/wellcomeopenres.17723.1</doi><doi>10.12688/wellcomeopenres.15477.2</doi><doi>10.12688/wellcomeopenres.14641.1</doi></results>\n",
      "Total number of pages: 4\n",
      "doi downloaded\n",
      "doi downloaded\n",
      "doi downloaded\n",
      "doi downloaded\n",
      "doi downloaded\n",
      "doi downloaded\n",
      "doi downloaded\n",
      "doi downloaded\n",
      "doi downloaded\n",
      "doi downloaded\n",
      "doi downloaded\n",
      "doi downloaded\n",
      "doi downloaded\n",
      "doi downloaded\n",
      "doi downloaded\n",
      "doi downloaded\n",
      "doi downloaded\n",
      "doi downloaded\n",
      "doi downloaded\n",
      "doi downloaded\n",
      "doi downloaded\n",
      "doi downloaded\n",
      "doi downloaded\n",
      "doi downloaded\n",
      "doi downloaded\n",
      "doi downloaded\n",
      "doi downloaded\n",
      "doi downloaded\n",
      "doi downloaded\n",
      "doi downloaded\n",
      "doi downloaded\n",
      "doi downloaded\n",
      "doi downloaded\n",
      "doi downloaded\n",
      "doi downloaded\n",
      "doi downloaded\n",
      "doi downloaded\n",
      "doi downloaded\n",
      "doi downloaded\n",
      "doi downloaded\n",
      "doi downloaded\n",
      "doi downloaded\n"
     ]
    },
    {
     "name": "stderr",
     "output_type": "stream",
     "text": [
      "/usr/local/lib/python3.10/dist-packages/bs4/builder/__init__.py:545: XMLParsedAsHTMLWarning: It looks like you're parsing an XML document using an HTML parser. If this really is an HTML document (maybe it's XHTML?), you can ignore or filter this warning. If it's XML, you should know that using an XML parser will be more reliable. To parse this document as XML, make sure you have the lxml package installed, and pass the keyword argument `features=\"xml\"` into the BeautifulSoup constructor.\n",
      "  warnings.warn(\n"
     ]
    },
    {
     "name": "stdout",
     "output_type": "stream",
     "text": [
      "Living HTA: Automating Health Economic Evaluation with R\n",
      "Genetic and environmental contributions to psychological resilience and coping\n"
     ]
    },
    {
     "name": "stderr",
     "output_type": "stream",
     "text": [
      "/usr/local/lib/python3.10/dist-packages/bs4/builder/__init__.py:545: XMLParsedAsHTMLWarning: It looks like you're parsing an XML document using an HTML parser. If this really is an HTML document (maybe it's XHTML?), you can ignore or filter this warning. If it's XML, you should know that using an XML parser will be more reliable. To parse this document as XML, make sure you have the lxml package installed, and pass the keyword argument `features=\"xml\"` into the BeautifulSoup constructor.\n",
      "  warnings.warn(\n"
     ]
    },
    {
     "name": "stdout",
     "output_type": "stream",
     "text": [
      "Planar cell polarity proteins determine basal cell height in the later stage embryonic mouse epidermis'\n"
     ]
    },
    {
     "name": "stderr",
     "output_type": "stream",
     "text": [
      "/usr/local/lib/python3.10/dist-packages/bs4/builder/__init__.py:545: XMLParsedAsHTMLWarning: It looks like you're parsing an XML document using an HTML parser. If this really is an HTML document (maybe it's XHTML?), you can ignore or filter this warning. If it's XML, you should know that using an XML parser will be more reliable. To parse this document as XML, make sure you have the lxml package installed, and pass the keyword argument `features=\"xml\"` into the BeautifulSoup constructor.\n",
      "  warnings.warn(\n"
     ]
    },
    {
     "name": "stdout",
     "output_type": "stream",
     "text": [
      "The EWAS Catalog: a database of epigenome-wide association studies\n"
     ]
    },
    {
     "name": "stderr",
     "output_type": "stream",
     "text": [
      "/usr/local/lib/python3.10/dist-packages/bs4/builder/__init__.py:545: XMLParsedAsHTMLWarning: It looks like you're parsing an XML document using an HTML parser. If this really is an HTML document (maybe it's XHTML?), you can ignore or filter this warning. If it's XML, you should know that using an XML parser will be more reliable. To parse this document as XML, make sure you have the lxml package installed, and pass the keyword argument `features=\"xml\"` into the BeautifulSoup constructor.\n",
      "  warnings.warn(\n"
     ]
    },
    {
     "name": "stdout",
     "output_type": "stream",
     "text": [
      "Stage 2 Registered Report: There is no appreciable relationship between strength of hand preference and language ability in 6- to 7-year-old children\n"
     ]
    },
    {
     "name": "stderr",
     "output_type": "stream",
     "text": [
      "/usr/local/lib/python3.10/dist-packages/bs4/builder/__init__.py:545: XMLParsedAsHTMLWarning: It looks like you're parsing an XML document using an HTML parser. If this really is an HTML document (maybe it's XHTML?), you can ignore or filter this warning. If it's XML, you should know that using an XML parser will be more reliable. To parse this document as XML, make sure you have the lxml package installed, and pass the keyword argument `features=\"xml\"` into the BeautifulSoup constructor.\n",
      "  warnings.warn(\n"
     ]
    },
    {
     "name": "stdout",
     "output_type": "stream",
     "text": [
      "Do propranolol and amisulpride modulate confidence in risk-taking?\n"
     ]
    },
    {
     "name": "stderr",
     "output_type": "stream",
     "text": [
      "/usr/local/lib/python3.10/dist-packages/bs4/builder/__init__.py:545: XMLParsedAsHTMLWarning: It looks like you're parsing an XML document using an HTML parser. If this really is an HTML document (maybe it's XHTML?), you can ignore or filter this warning. If it's XML, you should know that using an XML parser will be more reliable. To parse this document as XML, make sure you have the lxml package installed, and pass the keyword argument `features=\"xml\"` into the BeautifulSoup constructor.\n",
      "  warnings.warn(\n"
     ]
    },
    {
     "name": "stdout",
     "output_type": "stream",
     "text": [
      "Strengthening capacity for community and public engagement (CPE): a mixed-methods evaluation of the ‘DELTAS Africa CPE seed fund’ pilot\n"
     ]
    },
    {
     "name": "stderr",
     "output_type": "stream",
     "text": [
      "/usr/local/lib/python3.10/dist-packages/bs4/builder/__init__.py:545: XMLParsedAsHTMLWarning: It looks like you're parsing an XML document using an HTML parser. If this really is an HTML document (maybe it's XHTML?), you can ignore or filter this warning. If it's XML, you should know that using an XML parser will be more reliable. To parse this document as XML, make sure you have the lxml package installed, and pass the keyword argument `features=\"xml\"` into the BeautifulSoup constructor.\n",
      "  warnings.warn(\n"
     ]
    },
    {
     "name": "stdout",
     "output_type": "stream",
     "text": [
      "Confirmation of the superior performance of the causal Graphical Analysis Using Genetics (cGAUGE) pipeline in comparison to various competing alternatives\n"
     ]
    },
    {
     "name": "stderr",
     "output_type": "stream",
     "text": [
      "/usr/local/lib/python3.10/dist-packages/bs4/builder/__init__.py:545: XMLParsedAsHTMLWarning: It looks like you're parsing an XML document using an HTML parser. If this really is an HTML document (maybe it's XHTML?), you can ignore or filter this warning. If it's XML, you should know that using an XML parser will be more reliable. To parse this document as XML, make sure you have the lxml package installed, and pass the keyword argument `features=\"xml\"` into the BeautifulSoup constructor.\n",
      "  warnings.warn(\n"
     ]
    },
    {
     "name": "stdout",
     "output_type": "stream",
     "text": [
      "Assessing the impact of COVID-19 on STEM (science, technology, engineering, mathematics) researchers in India\n"
     ]
    },
    {
     "name": "stderr",
     "output_type": "stream",
     "text": [
      "/usr/local/lib/python3.10/dist-packages/bs4/builder/__init__.py:545: XMLParsedAsHTMLWarning: It looks like you're parsing an XML document using an HTML parser. If this really is an HTML document (maybe it's XHTML?), you can ignore or filter this warning. If it's XML, you should know that using an XML parser will be more reliable. To parse this document as XML, make sure you have the lxml package installed, and pass the keyword argument `features=\"xml\"` into the BeautifulSoup constructor.\n",
      "  warnings.warn(\n"
     ]
    },
    {
     "name": "stdout",
     "output_type": "stream",
     "text": [
      "Measuring the effects of exercise in neuromuscular disorders: a systematic review and meta-analyses\n"
     ]
    },
    {
     "name": "stderr",
     "output_type": "stream",
     "text": [
      "/usr/local/lib/python3.10/dist-packages/bs4/builder/__init__.py:545: XMLParsedAsHTMLWarning: It looks like you're parsing an XML document using an HTML parser. If this really is an HTML document (maybe it's XHTML?), you can ignore or filter this warning. If it's XML, you should know that using an XML parser will be more reliable. To parse this document as XML, make sure you have the lxml package installed, and pass the keyword argument `features=\"xml\"` into the BeautifulSoup constructor.\n",
      "  warnings.warn(\n"
     ]
    },
    {
     "name": "stdout",
     "output_type": "stream",
     "text": [
      "Interpreting estimates of coronavirus disease 2019 (COVID-19) vaccine efficacy and effectiveness to inform simulation studies of vaccine impact: a systematic review\n"
     ]
    },
    {
     "name": "stderr",
     "output_type": "stream",
     "text": [
      "/usr/local/lib/python3.10/dist-packages/bs4/builder/__init__.py:545: XMLParsedAsHTMLWarning: It looks like you're parsing an XML document using an HTML parser. If this really is an HTML document (maybe it's XHTML?), you can ignore or filter this warning. If it's XML, you should know that using an XML parser will be more reliable. To parse this document as XML, make sure you have the lxml package installed, and pass the keyword argument `features=\"xml\"` into the BeautifulSoup constructor.\n",
      "  warnings.warn(\n"
     ]
    },
    {
     "name": "stdout",
     "output_type": "stream",
     "text": [
      "Effect of taurine administration on symptoms, severity, or clinical outcome of dilated cardiomyopathy and heart failure in humans: a systematic review\n"
     ]
    },
    {
     "name": "stderr",
     "output_type": "stream",
     "text": [
      "/usr/local/lib/python3.10/dist-packages/bs4/builder/__init__.py:545: XMLParsedAsHTMLWarning: It looks like you're parsing an XML document using an HTML parser. If this really is an HTML document (maybe it's XHTML?), you can ignore or filter this warning. If it's XML, you should know that using an XML parser will be more reliable. To parse this document as XML, make sure you have the lxml package installed, and pass the keyword argument `features=\"xml\"` into the BeautifulSoup constructor.\n",
      "  warnings.warn(\n"
     ]
    },
    {
     "name": "stdout",
     "output_type": "stream",
     "text": [
      "The impact of using primaquine without prior G6PD testing: a case series describing the obstacles to the medical management of haemolysis\n"
     ]
    },
    {
     "name": "stderr",
     "output_type": "stream",
     "text": [
      "/usr/local/lib/python3.10/dist-packages/bs4/builder/__init__.py:545: XMLParsedAsHTMLWarning: It looks like you're parsing an XML document using an HTML parser. If this really is an HTML document (maybe it's XHTML?), you can ignore or filter this warning. If it's XML, you should know that using an XML parser will be more reliable. To parse this document as XML, make sure you have the lxml package installed, and pass the keyword argument `features=\"xml\"` into the BeautifulSoup constructor.\n",
      "  warnings.warn(\n"
     ]
    },
    {
     "name": "stdout",
     "output_type": "stream",
     "text": [
      "Functional and proteomic analysis of a full thickness filaggrin-deficient skin organoid model\n"
     ]
    },
    {
     "name": "stderr",
     "output_type": "stream",
     "text": [
      "/usr/local/lib/python3.10/dist-packages/bs4/builder/__init__.py:545: XMLParsedAsHTMLWarning: It looks like you're parsing an XML document using an HTML parser. If this really is an HTML document (maybe it's XHTML?), you can ignore or filter this warning. If it's XML, you should know that using an XML parser will be more reliable. To parse this document as XML, make sure you have the lxml package installed, and pass the keyword argument `features=\"xml\"` into the BeautifulSoup constructor.\n",
      "  warnings.warn(\n"
     ]
    },
    {
     "name": "stdout",
     "output_type": "stream",
     "text": [
      "Socioeconomic position and mental health during the COVID-19 pandemic: a cross-sectional analysis of the CovidLife study\n"
     ]
    },
    {
     "name": "stderr",
     "output_type": "stream",
     "text": [
      "/usr/local/lib/python3.10/dist-packages/bs4/builder/__init__.py:545: XMLParsedAsHTMLWarning: It looks like you're parsing an XML document using an HTML parser. If this really is an HTML document (maybe it's XHTML?), you can ignore or filter this warning. If it's XML, you should know that using an XML parser will be more reliable. To parse this document as XML, make sure you have the lxml package installed, and pass the keyword argument `features=\"xml\"` into the BeautifulSoup constructor.\n",
      "  warnings.warn(\n"
     ]
    },
    {
     "name": "stdout",
     "output_type": "stream",
     "text": [
      "Tuberculous meningitis diagnosis and outcomes during the Xpert MTB/Rif era: a 6.5-year cohort study in Uganda\n"
     ]
    },
    {
     "name": "stderr",
     "output_type": "stream",
     "text": [
      "/usr/local/lib/python3.10/dist-packages/bs4/builder/__init__.py:545: XMLParsedAsHTMLWarning: It looks like you're parsing an XML document using an HTML parser. If this really is an HTML document (maybe it's XHTML?), you can ignore or filter this warning. If it's XML, you should know that using an XML parser will be more reliable. To parse this document as XML, make sure you have the lxml package installed, and pass the keyword argument `features=\"xml\"` into the BeautifulSoup constructor.\n",
      "  warnings.warn(\n"
     ]
    },
    {
     "name": "stdout",
     "output_type": "stream",
     "text": [
      "Antimalarial drugs and the prevalence of mental and neurological manifestations: A systematic review and meta-analysis\n"
     ]
    },
    {
     "name": "stderr",
     "output_type": "stream",
     "text": [
      "/usr/local/lib/python3.10/dist-packages/bs4/builder/__init__.py:545: XMLParsedAsHTMLWarning: It looks like you're parsing an XML document using an HTML parser. If this really is an HTML document (maybe it's XHTML?), you can ignore or filter this warning. If it's XML, you should know that using an XML parser will be more reliable. To parse this document as XML, make sure you have the lxml package installed, and pass the keyword argument `features=\"xml\"` into the BeautifulSoup constructor.\n",
      "  warnings.warn(\n"
     ]
    },
    {
     "name": "stdout",
     "output_type": "stream",
     "text": [
      "Proteomic analysis of extracellular vesicles from a \n",
      "                    Plasmodium falciparum Kenyan clinical isolate defines a core parasite secretome\n"
     ]
    },
    {
     "name": "stderr",
     "output_type": "stream",
     "text": [
      "/usr/local/lib/python3.10/dist-packages/bs4/builder/__init__.py:545: XMLParsedAsHTMLWarning: It looks like you're parsing an XML document using an HTML parser. If this really is an HTML document (maybe it's XHTML?), you can ignore or filter this warning. If it's XML, you should know that using an XML parser will be more reliable. To parse this document as XML, make sure you have the lxml package installed, and pass the keyword argument `features=\"xml\"` into the BeautifulSoup constructor.\n",
      "  warnings.warn(\n"
     ]
    },
    {
     "name": "stdout",
     "output_type": "stream",
     "text": [
      "Impact of detecting potentially serious incidental findings during multi-modal imaging\n"
     ]
    },
    {
     "name": "stderr",
     "output_type": "stream",
     "text": [
      "/usr/local/lib/python3.10/dist-packages/bs4/builder/__init__.py:545: XMLParsedAsHTMLWarning: It looks like you're parsing an XML document using an HTML parser. If this really is an HTML document (maybe it's XHTML?), you can ignore or filter this warning. If it's XML, you should know that using an XML parser will be more reliable. To parse this document as XML, make sure you have the lxml package installed, and pass the keyword argument `features=\"xml\"` into the BeautifulSoup constructor.\n",
      "  warnings.warn(\n"
     ]
    },
    {
     "name": "stdout",
     "output_type": "stream",
     "text": [
      "Measuring the psychological drivers of participation in collective action to address violence against women in Mumbai, India\n"
     ]
    },
    {
     "name": "stderr",
     "output_type": "stream",
     "text": [
      "/usr/local/lib/python3.10/dist-packages/bs4/builder/__init__.py:545: XMLParsedAsHTMLWarning: It looks like you're parsing an XML document using an HTML parser. If this really is an HTML document (maybe it's XHTML?), you can ignore or filter this warning. If it's XML, you should know that using an XML parser will be more reliable. To parse this document as XML, make sure you have the lxml package installed, and pass the keyword argument `features=\"xml\"` into the BeautifulSoup constructor.\n",
      "  warnings.warn(\n"
     ]
    },
    {
     "name": "stdout",
     "output_type": "stream",
     "text": [
      "Geographic-genetic analysis of \n",
      "                    Plasmodium falciparum parasite populations from surveys of primary school children in Western Kenya\n"
     ]
    },
    {
     "name": "stderr",
     "output_type": "stream",
     "text": [
      "/usr/local/lib/python3.10/dist-packages/bs4/builder/__init__.py:545: XMLParsedAsHTMLWarning: It looks like you're parsing an XML document using an HTML parser. If this really is an HTML document (maybe it's XHTML?), you can ignore or filter this warning. If it's XML, you should know that using an XML parser will be more reliable. To parse this document as XML, make sure you have the lxml package installed, and pass the keyword argument `features=\"xml\"` into the BeautifulSoup constructor.\n",
      "  warnings.warn(\n"
     ]
    },
    {
     "name": "stdout",
     "output_type": "stream",
     "text": [
      "Burden of neurodevelopmental disorders in low and middle-income countries: A systematic review and meta-analysis\n"
     ]
    },
    {
     "name": "stderr",
     "output_type": "stream",
     "text": [
      "/usr/local/lib/python3.10/dist-packages/bs4/builder/__init__.py:545: XMLParsedAsHTMLWarning: It looks like you're parsing an XML document using an HTML parser. If this really is an HTML document (maybe it's XHTML?), you can ignore or filter this warning. If it's XML, you should know that using an XML parser will be more reliable. To parse this document as XML, make sure you have the lxml package installed, and pass the keyword argument `features=\"xml\"` into the BeautifulSoup constructor.\n",
      "  warnings.warn(\n"
     ]
    },
    {
     "name": "stdout",
     "output_type": "stream",
     "text": [
      "Free serum haemoglobin is associated with brain atrophy in secondary progressive multiple sclerosis\n"
     ]
    },
    {
     "name": "stderr",
     "output_type": "stream",
     "text": [
      "/usr/local/lib/python3.10/dist-packages/bs4/builder/__init__.py:545: XMLParsedAsHTMLWarning: It looks like you're parsing an XML document using an HTML parser. If this really is an HTML document (maybe it's XHTML?), you can ignore or filter this warning. If it's XML, you should know that using an XML parser will be more reliable. To parse this document as XML, make sure you have the lxml package installed, and pass the keyword argument `features=\"xml\"` into the BeautifulSoup constructor.\n",
      "  warnings.warn(\n"
     ]
    },
    {
     "name": "stdout",
     "output_type": "stream",
     "text": [
      "Human movement patterns of farmers and forest workers from the Thailand-Myanmar border\n"
     ]
    },
    {
     "name": "stderr",
     "output_type": "stream",
     "text": [
      "/usr/local/lib/python3.10/dist-packages/bs4/builder/__init__.py:545: XMLParsedAsHTMLWarning: It looks like you're parsing an XML document using an HTML parser. If this really is an HTML document (maybe it's XHTML?), you can ignore or filter this warning. If it's XML, you should know that using an XML parser will be more reliable. To parse this document as XML, make sure you have the lxml package installed, and pass the keyword argument `features=\"xml\"` into the BeautifulSoup constructor.\n",
      "  warnings.warn(\n"
     ]
    },
    {
     "name": "stdout",
     "output_type": "stream",
     "text": [
      "An evaluation of the potential to improve perinatal outcomes by improving antenatal detection of small for gestational age babies in Scotland: a retrospective population cohort study\n"
     ]
    },
    {
     "name": "stderr",
     "output_type": "stream",
     "text": [
      "/usr/local/lib/python3.10/dist-packages/bs4/builder/__init__.py:545: XMLParsedAsHTMLWarning: It looks like you're parsing an XML document using an HTML parser. If this really is an HTML document (maybe it's XHTML?), you can ignore or filter this warning. If it's XML, you should know that using an XML parser will be more reliable. To parse this document as XML, make sure you have the lxml package installed, and pass the keyword argument `features=\"xml\"` into the BeautifulSoup constructor.\n",
      "  warnings.warn(\n"
     ]
    },
    {
     "name": "stdout",
     "output_type": "stream",
     "text": [
      "Using a knowledge exchange event to assess study participants’ attitudes to research in a rapidly evolving research context\n"
     ]
    },
    {
     "name": "stderr",
     "output_type": "stream",
     "text": [
      "/usr/local/lib/python3.10/dist-packages/bs4/builder/__init__.py:545: XMLParsedAsHTMLWarning: It looks like you're parsing an XML document using an HTML parser. If this really is an HTML document (maybe it's XHTML?), you can ignore or filter this warning. If it's XML, you should know that using an XML parser will be more reliable. To parse this document as XML, make sure you have the lxml package installed, and pass the keyword argument `features=\"xml\"` into the BeautifulSoup constructor.\n",
      "  warnings.warn(\n"
     ]
    },
    {
     "name": "stdout",
     "output_type": "stream",
     "text": [
      "The HCT Index: a typology and index of health conspiracy theories with examples of use\n"
     ]
    },
    {
     "name": "stderr",
     "output_type": "stream",
     "text": [
      "/usr/local/lib/python3.10/dist-packages/bs4/builder/__init__.py:545: XMLParsedAsHTMLWarning: It looks like you're parsing an XML document using an HTML parser. If this really is an HTML document (maybe it's XHTML?), you can ignore or filter this warning. If it's XML, you should know that using an XML parser will be more reliable. To parse this document as XML, make sure you have the lxml package installed, and pass the keyword argument `features=\"xml\"` into the BeautifulSoup constructor.\n",
      "  warnings.warn(\n"
     ]
    },
    {
     "name": "stdout",
     "output_type": "stream",
     "text": [
      "“Why have I not been told about this?”: a survey of experiences of and attitudes to advance decision-making amongst people with bipolar\n"
     ]
    },
    {
     "name": "stderr",
     "output_type": "stream",
     "text": [
      "/usr/local/lib/python3.10/dist-packages/bs4/builder/__init__.py:545: XMLParsedAsHTMLWarning: It looks like you're parsing an XML document using an HTML parser. If this really is an HTML document (maybe it's XHTML?), you can ignore or filter this warning. If it's XML, you should know that using an XML parser will be more reliable. To parse this document as XML, make sure you have the lxml package installed, and pass the keyword argument `features=\"xml\"` into the BeautifulSoup constructor.\n",
      "  warnings.warn(\n"
     ]
    },
    {
     "name": "stdout",
     "output_type": "stream",
     "text": [
      "Two decades of malaria control in Malawi: Geostatistical Analysis of the changing malaria prevalence from 2000-2022\n"
     ]
    },
    {
     "name": "stderr",
     "output_type": "stream",
     "text": [
      "/usr/local/lib/python3.10/dist-packages/bs4/builder/__init__.py:545: XMLParsedAsHTMLWarning: It looks like you're parsing an XML document using an HTML parser. If this really is an HTML document (maybe it's XHTML?), you can ignore or filter this warning. If it's XML, you should know that using an XML parser will be more reliable. To parse this document as XML, make sure you have the lxml package installed, and pass the keyword argument `features=\"xml\"` into the BeautifulSoup constructor.\n",
      "  warnings.warn(\n"
     ]
    },
    {
     "name": "stdout",
     "output_type": "stream",
     "text": [
      "Cardiometabolic health during early adulthood and risk of miscarriage: a prospective study\n"
     ]
    },
    {
     "name": "stderr",
     "output_type": "stream",
     "text": [
      "/usr/local/lib/python3.10/dist-packages/bs4/builder/__init__.py:545: XMLParsedAsHTMLWarning: It looks like you're parsing an XML document using an HTML parser. If this really is an HTML document (maybe it's XHTML?), you can ignore or filter this warning. If it's XML, you should know that using an XML parser will be more reliable. To parse this document as XML, make sure you have the lxml package installed, and pass the keyword argument `features=\"xml\"` into the BeautifulSoup constructor.\n",
      "  warnings.warn(\n"
     ]
    },
    {
     "name": "stdout",
     "output_type": "stream",
     "text": [
      "A nested randomised trial of the effect of tranexamic acid on intracranial haemorrhage and infarction in traumatic brain injury (CRASH-3 trial intracranial bleeding mechanistic study): Statistical analysis plan\n"
     ]
    },
    {
     "name": "stderr",
     "output_type": "stream",
     "text": [
      "/usr/local/lib/python3.10/dist-packages/bs4/builder/__init__.py:545: XMLParsedAsHTMLWarning: It looks like you're parsing an XML document using an HTML parser. If this really is an HTML document (maybe it's XHTML?), you can ignore or filter this warning. If it's XML, you should know that using an XML parser will be more reliable. To parse this document as XML, make sure you have the lxml package installed, and pass the keyword argument `features=\"xml\"` into the BeautifulSoup constructor.\n",
      "  warnings.warn(\n"
     ]
    },
    {
     "name": "stdout",
     "output_type": "stream",
     "text": [
      "Whole genome sequencing of two human rhinovirus A types (A101 and A15) detected in Kenya, 2016-2018\n"
     ]
    },
    {
     "name": "stderr",
     "output_type": "stream",
     "text": [
      "/usr/local/lib/python3.10/dist-packages/bs4/builder/__init__.py:545: XMLParsedAsHTMLWarning: It looks like you're parsing an XML document using an HTML parser. If this really is an HTML document (maybe it's XHTML?), you can ignore or filter this warning. If it's XML, you should know that using an XML parser will be more reliable. To parse this document as XML, make sure you have the lxml package installed, and pass the keyword argument `features=\"xml\"` into the BeautifulSoup constructor.\n",
      "  warnings.warn(\n"
     ]
    },
    {
     "name": "stdout",
     "output_type": "stream",
     "text": [
      "Characterising demographics, knowledge, practices and clinical care among patients attending sickle cell disease clinics in Eastern Uganda\n"
     ]
    },
    {
     "name": "stderr",
     "output_type": "stream",
     "text": [
      "/usr/local/lib/python3.10/dist-packages/bs4/builder/__init__.py:545: XMLParsedAsHTMLWarning: It looks like you're parsing an XML document using an HTML parser. If this really is an HTML document (maybe it's XHTML?), you can ignore or filter this warning. If it's XML, you should know that using an XML parser will be more reliable. To parse this document as XML, make sure you have the lxml package installed, and pass the keyword argument `features=\"xml\"` into the BeautifulSoup constructor.\n",
      "  warnings.warn(\n"
     ]
    },
    {
     "name": "stdout",
     "output_type": "stream",
     "text": [
      "Accuracy of diagnostic tests for respiratory syncytial virus infection within a paediatric hospital population in Kilifi County, Kenya\n"
     ]
    },
    {
     "name": "stderr",
     "output_type": "stream",
     "text": [
      "/usr/local/lib/python3.10/dist-packages/bs4/builder/__init__.py:545: XMLParsedAsHTMLWarning: It looks like you're parsing an XML document using an HTML parser. If this really is an HTML document (maybe it's XHTML?), you can ignore or filter this warning. If it's XML, you should know that using an XML parser will be more reliable. To parse this document as XML, make sure you have the lxml package installed, and pass the keyword argument `features=\"xml\"` into the BeautifulSoup constructor.\n",
      "  warnings.warn(\n"
     ]
    },
    {
     "name": "stdout",
     "output_type": "stream",
     "text": [
      "REal-time Assessment of Community Transmission (REACT) of SARS-CoV-2 virus: Study protocol\n"
     ]
    },
    {
     "name": "stderr",
     "output_type": "stream",
     "text": [
      "/usr/local/lib/python3.10/dist-packages/bs4/builder/__init__.py:545: XMLParsedAsHTMLWarning: It looks like you're parsing an XML document using an HTML parser. If this really is an HTML document (maybe it's XHTML?), you can ignore or filter this warning. If it's XML, you should know that using an XML parser will be more reliable. To parse this document as XML, make sure you have the lxml package installed, and pass the keyword argument `features=\"xml\"` into the BeautifulSoup constructor.\n",
      "  warnings.warn(\n"
     ]
    },
    {
     "name": "stdout",
     "output_type": "stream",
     "text": [
      "WOMAN-PharmacoTXA trial: Study protocol for a randomised controlled trial to assess the pharmacokinetics and pharmacodynamics of intramuscular, intravenous and oral administration of tranexamic acid in women giving birth by caesarean section\n"
     ]
    },
    {
     "name": "stderr",
     "output_type": "stream",
     "text": [
      "/usr/local/lib/python3.10/dist-packages/bs4/builder/__init__.py:545: XMLParsedAsHTMLWarning: It looks like you're parsing an XML document using an HTML parser. If this really is an HTML document (maybe it's XHTML?), you can ignore or filter this warning. If it's XML, you should know that using an XML parser will be more reliable. To parse this document as XML, make sure you have the lxml package installed, and pass the keyword argument `features=\"xml\"` into the BeautifulSoup constructor.\n",
      "  warnings.warn(\n"
     ]
    },
    {
     "name": "stdout",
     "output_type": "stream",
     "text": [
      "DOLORisk: study protocol for a multi-centre observational study to understand the risk factors and determinants of neuropathic pain\n"
     ]
    },
    {
     "name": "stderr",
     "output_type": "stream",
     "text": [
      "/usr/local/lib/python3.10/dist-packages/bs4/builder/__init__.py:545: XMLParsedAsHTMLWarning: It looks like you're parsing an XML document using an HTML parser. If this really is an HTML document (maybe it's XHTML?), you can ignore or filter this warning. If it's XML, you should know that using an XML parser will be more reliable. To parse this document as XML, make sure you have the lxml package installed, and pass the keyword argument `features=\"xml\"` into the BeautifulSoup constructor.\n",
      "  warnings.warn(\n"
     ]
    },
    {
     "name": "stdout",
     "output_type": "stream",
     "text": [
      "Cost-effectiveness of oral versus intravenous antibiotics (OVIVA) in patients with bone and joint infection: evidence from a non-inferiority trial\n"
     ]
    },
    {
     "name": "stderr",
     "output_type": "stream",
     "text": [
      "/usr/local/lib/python3.10/dist-packages/bs4/builder/__init__.py:545: XMLParsedAsHTMLWarning: It looks like you're parsing an XML document using an HTML parser. If this really is an HTML document (maybe it's XHTML?), you can ignore or filter this warning. If it's XML, you should know that using an XML parser will be more reliable. To parse this document as XML, make sure you have the lxml package installed, and pass the keyword argument `features=\"xml\"` into the BeautifulSoup constructor.\n",
      "  warnings.warn(\n"
     ]
    },
    {
     "name": "stdout",
     "output_type": "stream",
     "text": [
      "Intrathecal Immunoglobulin for treatment of adult patients with tetanus: A randomized controlled 2x2 factorial trial\n"
     ]
    },
    {
     "name": "stderr",
     "output_type": "stream",
     "text": [
      "/usr/local/lib/python3.10/dist-packages/bs4/builder/__init__.py:545: XMLParsedAsHTMLWarning: It looks like you're parsing an XML document using an HTML parser. If this really is an HTML document (maybe it's XHTML?), you can ignore or filter this warning. If it's XML, you should know that using an XML parser will be more reliable. To parse this document as XML, make sure you have the lxml package installed, and pass the keyword argument `features=\"xml\"` into the BeautifulSoup constructor.\n",
      "  warnings.warn(\n"
     ]
    },
    {
     "name": "stdout",
     "output_type": "stream",
     "text": [
      "Tranexamic acid for significant traumatic brain injury (The CRASH-3 trial): Statistical analysis plan for an international, randomised, double-blind, placebo-controlled trial\n"
     ]
    },
    {
     "name": "stderr",
     "output_type": "stream",
     "text": [
      "/usr/local/lib/python3.10/dist-packages/bs4/builder/__init__.py:545: XMLParsedAsHTMLWarning: It looks like you're parsing an XML document using an HTML parser. If this really is an HTML document (maybe it's XHTML?), you can ignore or filter this warning. If it's XML, you should know that using an XML parser will be more reliable. To parse this document as XML, make sure you have the lxml package installed, and pass the keyword argument `features=\"xml\"` into the BeautifulSoup constructor.\n",
      "  warnings.warn(\n"
     ]
    },
    {
     "name": "stdout",
     "output_type": "stream",
     "text": [
      "Therapeutic monitoring of anti-seizure medications in low- and middle-income countries: a systematic review\n"
     ]
    },
    {
     "name": "stderr",
     "output_type": "stream",
     "text": [
      "/usr/local/lib/python3.10/dist-packages/bs4/builder/__init__.py:545: XMLParsedAsHTMLWarning: It looks like you're parsing an XML document using an HTML parser. If this really is an HTML document (maybe it's XHTML?), you can ignore or filter this warning. If it's XML, you should know that using an XML parser will be more reliable. To parse this document as XML, make sure you have the lxml package installed, and pass the keyword argument `features=\"xml\"` into the BeautifulSoup constructor.\n",
      "  warnings.warn(\n"
     ]
    },
    {
     "name": "stdout",
     "output_type": "stream",
     "text": [
      "Personality profiles and engagement with the augmented reality game Pokémon GO: a cross-sectional study\n",
      "                                                Title  \\\n",
      "0   Living HTA: Automating Health Economic Evaluat...   \n",
      "1   Genetic and environmental contributions to psy...   \n",
      "2   Planar cell polarity proteins determine basal ...   \n",
      "3   The EWAS Catalog: a database of epigenome-wide...   \n",
      "4   Stage 2 Registered Report: There is no appreci...   \n",
      "5   Do propranolol and amisulpride modulate confid...   \n",
      "6   Strengthening capacity for community and publi...   \n",
      "7   Confirmation of the superior performance of th...   \n",
      "8   Assessing the impact of COVID-19 on STEM (scie...   \n",
      "9   Measuring the effects of exercise in neuromusc...   \n",
      "10  Interpreting estimates of coronavirus disease ...   \n",
      "11  Effect of taurine administration on symptoms, ...   \n",
      "12  The impact of using primaquine without prior G...   \n",
      "13  Functional and proteomic analysis of a full th...   \n",
      "14  Socioeconomic position and mental health durin...   \n",
      "15  Tuberculous meningitis diagnosis and outcomes ...   \n",
      "16  Antimalarial drugs and the prevalence of menta...   \n",
      "17  Proteomic analysis of extracellular vesicles f...   \n",
      "18  Impact of detecting potentially serious incide...   \n",
      "19  Measuring the psychological drivers of partici...   \n",
      "20  Geographic-genetic analysis of \\n             ...   \n",
      "21  Burden of neurodevelopmental disorders in low ...   \n",
      "22  Free serum haemoglobin is associated with brai...   \n",
      "23  Human movement patterns of farmers and forest ...   \n",
      "24  An evaluation of the potential to improve peri...   \n",
      "25  Using a knowledge exchange event to assess stu...   \n",
      "26  The HCT Index: a typology and index of health ...   \n",
      "27  “Why have I not been told about this?”: a surv...   \n",
      "28  Two decades of malaria control in Malawi: Geos...   \n",
      "29  Cardiometabolic health during early adulthood ...   \n",
      "30  A nested randomised trial of the effect of tra...   \n",
      "31  Whole genome sequencing of two human rhinoviru...   \n",
      "32  Characterising demographics, knowledge, practi...   \n",
      "33  Accuracy of diagnostic tests for respiratory s...   \n",
      "34  REal-time Assessment of Community Transmission...   \n",
      "35  WOMAN-PharmacoTXA trial: Study protocol for a ...   \n",
      "36  DOLORisk: study protocol for a multi-centre ob...   \n",
      "37  Cost-effectiveness of oral versus intravenous ...   \n",
      "38  Intrathecal Immunoglobulin for treatment of ad...   \n",
      "39  Tranexamic acid for significant traumatic brai...   \n",
      "40  Therapeutic monitoring of anti-seizure medicat...   \n",
      "41  Personality profiles and engagement with the a...   \n",
      "\n",
      "                                 DOI  \\\n",
      "0   10.12688/wellcomeopenres.17933.2   \n",
      "1   10.12688/wellcomeopenres.13854.1   \n",
      "2   10.12688/wellcomeopenres.17733.2   \n",
      "3   10.12688/wellcomeopenres.17598.2   \n",
      "4   10.12688/wellcomeopenres.15254.1   \n",
      "5   10.12688/wellcomeopenres.17423.1   \n",
      "6   10.12688/wellcomeopenres.17665.1   \n",
      "7   10.12688/wellcomeopenres.17991.1   \n",
      "8   10.12688/wellcomeopenres.17853.2   \n",
      "9   10.12688/wellcomeopenres.15825.1   \n",
      "10  10.12688/wellcomeopenres.16992.1   \n",
      "11  10.12688/wellcomeopenres.17505.3   \n",
      "12  10.12688/wellcomeopenres.15100.2   \n",
      "13  10.12688/wellcomeopenres.15405.2   \n",
      "14  10.12688/wellcomeopenres.16820.1   \n",
      "15  10.12688/wellcomeopenres.14610.2   \n",
      "16  10.12688/wellcomeopenres.10658.2   \n",
      "17  10.12688/wellcomeopenres.11910.2   \n",
      "18  10.12688/wellcomeopenres.13181.3   \n",
      "19  10.12688/wellcomeopenres.15707.2   \n",
      "20  10.12688/wellcomeopenres.11228.2   \n",
      "21  10.12688/wellcomeopenres.13540.3   \n",
      "22   10.12688/wellcomeopenres.9967.2   \n",
      "23  10.12688/wellcomeopenres.16784.1   \n",
      "24  10.12688/wellcomeopenres.15532.1   \n",
      "25  10.12688/wellcomeopenres.15651.2   \n",
      "26  10.12688/wellcomeopenres.16790.1   \n",
      "27  10.12688/wellcomeopenres.14989.2   \n",
      "28  10.12688/wellcomeopenres.19390.1   \n",
      "29  10.12688/wellcomeopenres.16245.2   \n",
      "30  10.12688/wellcomeopenres.14731.3   \n",
      "31  10.12688/wellcomeopenres.16911.2   \n",
      "32  10.12688/wellcomeopenres.15847.2   \n",
      "33  10.12688/wellcomeopenres.16067.1   \n",
      "34  10.12688/wellcomeopenres.16228.2   \n",
      "35  10.12688/wellcomeopenres.16884.1   \n",
      "36  10.12688/wellcomeopenres.14576.2   \n",
      "37  10.12688/wellcomeopenres.15314.4   \n",
      "38  10.12688/wellcomeopenres.14587.2   \n",
      "39  10.12688/wellcomeopenres.14700.2   \n",
      "40  10.12688/wellcomeopenres.16749.2   \n",
      "41  10.12688/wellcomeopenres.18397.1   \n",
      "\n",
      "                                              Authors  \\\n",
      "0   [{Robert A., Smith}, {Schneider, Paul P.}, {Mo...   \n",
      "1   [{Navrady, Lauren B}, {Zeng, Yanni}, {Toni-Kim...   \n",
      "2           [{Carl, Hobbs}, {Caroline J., Formstone}]   \n",
      "3   [{Thomas, Battram}, {Paul, Yousefi}, {Gemma, C...   \n",
      "4   [{Pritchard, Verena E.}, {Stephanie A., Malone...   \n",
      "5   [{Habicht, Johanna}, {Magda, Dubois}, {Jochen,...   \n",
      "6   [{Leah, Mwangi}, {Mutengu, Lillian}, {Gitau, E...   \n",
      "7           [{Richard, Howey}, {Heather J., Cordell}]   \n",
      "8   [{Mehta, Nikita}, {Vedika, Inamdar}, {Arathy, ...   \n",
      "9   [{Renae J., Stefanetti}, {Alasdair, Blain}, {C...   \n",
      "10  [{Natsuko, Imai}, {Alexandra B., Hogan}, {Will...   \n",
      "11  [{McGurk, Kathryn A.}, {Kasapi, Melpomeni}, {W...   \n",
      "12  [{Chu, Cindy S.}, {Bancone, Germana}, {Soe, Na...   \n",
      "13  [{Martina S., Elias}, {Sheila C., Wright}, {Ni...   \n",
      "14  [{Miranda, Pierre}, {Keller, Markéta}, {Altsch...   \n",
      "15  [{Fiona V., Cresswell}, {Bangdiwala, Ananta S....   \n",
      "16  [{Bitta, Mary A.}, {Symon M., Kariuki}, {Mwita...   \n",
      "17  [{Abdi, Abdirahman I.}, {Lu, Yu}, {Goulding, D...   \n",
      "18  [{Lorna M, Gibson}, {Thomas J, Littlejohns}, {...   \n",
      "19  [{Lu, Gram}, {Suman, Kanougiya}, {Nayreen, Dar...   \n",
      "20  [{Irene, Omedo}, {Polycarp, Mogeni}, {Kirk A.,...   \n",
      "21  [{Bitta, Mary A.}, {Symon M., Kariuki}, {Abuba...   \n",
      "22  [{Lewin, Alex}, {Hamilton, Shea}, {Aviva, Witk...   \n",
      "23  [{Sai Thein Than, Tun}, {Myo Chit, Min}, {Agua...   \n",
      "24  [{Austin, Claire M.}, {Michael, Dias}, {Jane E...   \n",
      "25  [{Beange, Iona}, {Elizabeth J., Kirkham}, {Fle...   \n",
      "26  [{Joseph M., Stubbersfield}, {Widger, Tom}, {R...   \n",
      "27  [{Hindley, Guy}, {Stephenson, Lucy A.}, {Ruck ...   \n",
      "28  [{Donnie, Mategula}, {Judy, Gichuki}, {Chipeta...   \n",
      "29  [{Magnus, Maria C.}, {Ferreira, Diana D. S.}, ...   \n",
      "30  [{Abda, Mahmood}, {Roberts, Ian}, {Haleema, Sh...   \n",
      "31  [{Martha M., Luka}, {Kamau, Everlyn}, {de Laur...   \n",
      "32  [{Olupot-Olupot, Peter}, {Wabwire, Ham}, {Ndil...   \n",
      "33  [{Mweu, Marshal M.}, {Nickson, Murunga}, {Juli...   \n",
      "34  [{Riley, Steven}, {Christina, Atchison}, {Ashb...   \n",
      "35  [{Monica, Arribas}, {Roberts, Ian}, {Rizwana, ...   \n",
      "36  [{Pascal, Mathilde M.V.}, {Themistocleous, And...   \n",
      "37  [{McMeekin, Nicola}, {Claudia, Geue}, {Andrew,...   \n",
      "38  [{Loan, Huỳnh Thị}, {Lam Minh, Yen}, {Kestelyn...   \n",
      "39  [{Roberts, Ian}, {Antonio, Belli}, {Brenner, A...   \n",
      "40  [{Odhiambo, Mercy}, {Symon M., Kariuki}, {Char...   \n",
      "41  [{Moscoso, Miguel G.}, {David, Villarreal-Zega...   \n",
      "\n",
      "                                        Full_Text_URL  \\\n",
      "0   https://wellcomeopenresearch.org/extapi/articl...   \n",
      "1   https://wellcomeopenresearch.org/extapi/articl...   \n",
      "2   https://wellcomeopenresearch.org/extapi/articl...   \n",
      "3   https://wellcomeopenresearch.org/extapi/articl...   \n",
      "4   https://wellcomeopenresearch.org/extapi/articl...   \n",
      "5   https://wellcomeopenresearch.org/extapi/articl...   \n",
      "6   https://wellcomeopenresearch.org/extapi/articl...   \n",
      "7   https://wellcomeopenresearch.org/extapi/articl...   \n",
      "8   https://wellcomeopenresearch.org/extapi/articl...   \n",
      "9   https://wellcomeopenresearch.org/extapi/articl...   \n",
      "10  https://wellcomeopenresearch.org/extapi/articl...   \n",
      "11  https://wellcomeopenresearch.org/extapi/articl...   \n",
      "12  https://wellcomeopenresearch.org/extapi/articl...   \n",
      "13  https://wellcomeopenresearch.org/extapi/articl...   \n",
      "14  https://wellcomeopenresearch.org/extapi/articl...   \n",
      "15  https://wellcomeopenresearch.org/extapi/articl...   \n",
      "16  https://wellcomeopenresearch.org/extapi/articl...   \n",
      "17  https://wellcomeopenresearch.org/extapi/articl...   \n",
      "18  https://wellcomeopenresearch.org/extapi/articl...   \n",
      "19  https://wellcomeopenresearch.org/extapi/articl...   \n",
      "20  https://wellcomeopenresearch.org/extapi/articl...   \n",
      "21  https://wellcomeopenresearch.org/extapi/articl...   \n",
      "22  https://wellcomeopenresearch.org/extapi/articl...   \n",
      "23  https://wellcomeopenresearch.org/extapi/articl...   \n",
      "24  https://wellcomeopenresearch.org/extapi/articl...   \n",
      "25  https://wellcomeopenresearch.org/extapi/articl...   \n",
      "26  https://wellcomeopenresearch.org/extapi/articl...   \n",
      "27  https://wellcomeopenresearch.org/extapi/articl...   \n",
      "28  https://wellcomeopenresearch.org/extapi/articl...   \n",
      "29  https://wellcomeopenresearch.org/extapi/articl...   \n",
      "30  https://wellcomeopenresearch.org/extapi/articl...   \n",
      "31  https://wellcomeopenresearch.org/extapi/articl...   \n",
      "32  https://wellcomeopenresearch.org/extapi/articl...   \n",
      "33  https://wellcomeopenresearch.org/extapi/articl...   \n",
      "34  https://wellcomeopenresearch.org/extapi/articl...   \n",
      "35  https://wellcomeopenresearch.org/extapi/articl...   \n",
      "36  https://wellcomeopenresearch.org/extapi/articl...   \n",
      "37  https://wellcomeopenresearch.org/extapi/articl...   \n",
      "38  https://wellcomeopenresearch.org/extapi/articl...   \n",
      "39  https://wellcomeopenresearch.org/extapi/articl...   \n",
      "40  https://wellcomeopenresearch.org/extapi/articl...   \n",
      "41  https://wellcomeopenresearch.org/extapi/articl...   \n",
      "\n",
      "                                    Full_Text_Content  \n",
      "0   \\n\\nIntroduction\\nThe development of economic ...  \n",
      "1   \\n\\nIntroduction\\nDespite significant risk for...  \n",
      "2   \\n\\nIntroduction\\nComplex organs comprise mult...  \n",
      "3   \\n\\nIntroduction\\nEWAS assess associations bet...  \n",
      "4   \\n\\nRelationships between handedness and langu...  \n",
      "5   \\n\\nIntroduction\\nConsidering the probability ...  \n",
      "6   \\n\\nIntroduction\\nEngagement with research com...  \n",
      "7   \\n\\nIntroduction\\nIn a paper recently publishe...  \n",
      "8   \\n\\nIntroduction\\nThe coronavirus disease 2019...  \n",
      "9   \\n\\n\\n\\n\\nResearch in context\\n\\n\\nEvidence be...  \n",
      "10  \\n\\nIntroduction\\nIt took just over a year fro...  \n",
      "11  \\n\\nIntroduction\\nDilated cardiomyopathy (DCM)...  \n",
      "12  \\n\\nIntroduction\\nPrimaquine is the only treat...  \n",
      "13  \\n\\nIntroduction\\nAtopic eczema (also termed a...  \n",
      "14  \\n\\nIntroduction\\nThe coronavirus disease 2019...  \n",
      "15  \\n\\nIntroduction\\n\\tTuberculous meningitis (TB...  \n",
      "16  \\n\\nIntroduction\\nOver 3.2 billion people in t...  \n",
      "17  \\n\\nIntroduction\\n\\nPlasmodium falciparum mala...  \n",
      "18  \\n\\nIntroduction\\nUK Biobank (\\n              ...  \n",
      "19  \\n\\nIntroduction\\nWorldwide, violence against ...  \n",
      "20  \\n\\nIntroduction\\nMalaria incidence has marked...  \n",
      "21  \\n\\nIntroduction\\nNeurodevelopmental disorders...  \n",
      "22  \\n\\nIntroduction\\nIn multiple sclerosis (MS), ...  \n",
      "23  \\n\\nIntroduction\\nHuman movement or travel is ...  \n",
      "24  \\n\\nAbbreviations\\nAC Abdominal Circumference\\...  \n",
      "25  \\n\\nIntroduction\\nThe UK has hosted some of th...  \n",
      "26  \\n\\nIntroduction\\nThe dissemination of misinfo...  \n",
      "27  \\n\\nAbbreviations\\nBP – Bipolar\\nADM – Advance...  \n",
      "28  \\n\\nIntroduction\\nMalaria is a disease of publ...  \n",
      "29  \\n\\nIntroduction\\nAn estimated 12–15% of recog...  \n",
      "30  \\n\\nIntroduction\\nWorldwide over 50 million pe...  \n",
      "31  \\n\\nIntroduction\\nGenomic surveillance of resp...  \n",
      "32  \\n\\nIntroduction\\nFollowing years of neglect i...  \n",
      "33  \\n\\nIntroduction\\nRespiratory syncytial virus ...  \n",
      "34  \\n\\nBackground and rationale\\nCOVID-19 is a pa...  \n",
      "35  \\n\\nAbbreviations\\nBIC: Bayesian Information C...  \n",
      "36  \\n\\nIntroduction\\nNeuropathic pain affects 7–1...  \n",
      "37  \\n\\nIntroduction\\nBone and joint infections ar...  \n",
      "38  \\n\\n\\n\\nAbbreviations: CSF, cerebrospinal flui...  \n",
      "39  \\n\\nList of abbreviations\\nAEs: Adverse events...  \n",
      "40  \\n\\nIntroduction\\nEpilepsy is a serious neurol...  \n",
      "41  \\n\\nIntroduction\\nPokémon GO™ is an augmented ...  \n",
      "data_df after calling solr_api with wellcome:                                                 Title  \\\n",
      "0   Living HTA: Automating Health Economic Evaluat...   \n",
      "1   Genetic and environmental contributions to psy...   \n",
      "2   Planar cell polarity proteins determine basal ...   \n",
      "3   The EWAS Catalog: a database of epigenome-wide...   \n",
      "4   Stage 2 Registered Report: There is no appreci...   \n",
      "5   Do propranolol and amisulpride modulate confid...   \n",
      "6   Strengthening capacity for community and publi...   \n",
      "7   Confirmation of the superior performance of th...   \n",
      "8   Assessing the impact of COVID-19 on STEM (scie...   \n",
      "9   Measuring the effects of exercise in neuromusc...   \n",
      "10  Interpreting estimates of coronavirus disease ...   \n",
      "11  Effect of taurine administration on symptoms, ...   \n",
      "12  The impact of using primaquine without prior G...   \n",
      "13  Functional and proteomic analysis of a full th...   \n",
      "14  Socioeconomic position and mental health durin...   \n",
      "15  Tuberculous meningitis diagnosis and outcomes ...   \n",
      "16  Antimalarial drugs and the prevalence of menta...   \n",
      "17  Proteomic analysis of extracellular vesicles f...   \n",
      "18  Impact of detecting potentially serious incide...   \n",
      "19  Measuring the psychological drivers of partici...   \n",
      "20  Geographic-genetic analysis of \\n             ...   \n",
      "21  Burden of neurodevelopmental disorders in low ...   \n",
      "22  Free serum haemoglobin is associated with brai...   \n",
      "23  Human movement patterns of farmers and forest ...   \n",
      "24  An evaluation of the potential to improve peri...   \n",
      "25  Using a knowledge exchange event to assess stu...   \n",
      "26  The HCT Index: a typology and index of health ...   \n",
      "27  “Why have I not been told about this?”: a surv...   \n",
      "28  Two decades of malaria control in Malawi: Geos...   \n",
      "29  Cardiometabolic health during early adulthood ...   \n",
      "30  A nested randomised trial of the effect of tra...   \n",
      "31  Whole genome sequencing of two human rhinoviru...   \n",
      "32  Characterising demographics, knowledge, practi...   \n",
      "33  Accuracy of diagnostic tests for respiratory s...   \n",
      "34  REal-time Assessment of Community Transmission...   \n",
      "35  WOMAN-PharmacoTXA trial: Study protocol for a ...   \n",
      "36  DOLORisk: study protocol for a multi-centre ob...   \n",
      "37  Cost-effectiveness of oral versus intravenous ...   \n",
      "38  Intrathecal Immunoglobulin for treatment of ad...   \n",
      "39  Tranexamic acid for significant traumatic brai...   \n",
      "40  Therapeutic monitoring of anti-seizure medicat...   \n",
      "41  Personality profiles and engagement with the a...   \n",
      "\n",
      "                                 DOI  \\\n",
      "0   10.12688/wellcomeopenres.17933.2   \n",
      "1   10.12688/wellcomeopenres.13854.1   \n",
      "2   10.12688/wellcomeopenres.17733.2   \n",
      "3   10.12688/wellcomeopenres.17598.2   \n",
      "4   10.12688/wellcomeopenres.15254.1   \n",
      "5   10.12688/wellcomeopenres.17423.1   \n",
      "6   10.12688/wellcomeopenres.17665.1   \n",
      "7   10.12688/wellcomeopenres.17991.1   \n",
      "8   10.12688/wellcomeopenres.17853.2   \n",
      "9   10.12688/wellcomeopenres.15825.1   \n",
      "10  10.12688/wellcomeopenres.16992.1   \n",
      "11  10.12688/wellcomeopenres.17505.3   \n",
      "12  10.12688/wellcomeopenres.15100.2   \n",
      "13  10.12688/wellcomeopenres.15405.2   \n",
      "14  10.12688/wellcomeopenres.16820.1   \n",
      "15  10.12688/wellcomeopenres.14610.2   \n",
      "16  10.12688/wellcomeopenres.10658.2   \n",
      "17  10.12688/wellcomeopenres.11910.2   \n",
      "18  10.12688/wellcomeopenres.13181.3   \n",
      "19  10.12688/wellcomeopenres.15707.2   \n",
      "20  10.12688/wellcomeopenres.11228.2   \n",
      "21  10.12688/wellcomeopenres.13540.3   \n",
      "22   10.12688/wellcomeopenres.9967.2   \n",
      "23  10.12688/wellcomeopenres.16784.1   \n",
      "24  10.12688/wellcomeopenres.15532.1   \n",
      "25  10.12688/wellcomeopenres.15651.2   \n",
      "26  10.12688/wellcomeopenres.16790.1   \n",
      "27  10.12688/wellcomeopenres.14989.2   \n",
      "28  10.12688/wellcomeopenres.19390.1   \n",
      "29  10.12688/wellcomeopenres.16245.2   \n",
      "30  10.12688/wellcomeopenres.14731.3   \n",
      "31  10.12688/wellcomeopenres.16911.2   \n",
      "32  10.12688/wellcomeopenres.15847.2   \n",
      "33  10.12688/wellcomeopenres.16067.1   \n",
      "34  10.12688/wellcomeopenres.16228.2   \n",
      "35  10.12688/wellcomeopenres.16884.1   \n",
      "36  10.12688/wellcomeopenres.14576.2   \n",
      "37  10.12688/wellcomeopenres.15314.4   \n",
      "38  10.12688/wellcomeopenres.14587.2   \n",
      "39  10.12688/wellcomeopenres.14700.2   \n",
      "40  10.12688/wellcomeopenres.16749.2   \n",
      "41  10.12688/wellcomeopenres.18397.1   \n",
      "\n",
      "                                              Authors  \\\n",
      "0   [{Robert A., Smith}, {Schneider, Paul P.}, {Mo...   \n",
      "1   [{Navrady, Lauren B}, {Zeng, Yanni}, {Toni-Kim...   \n",
      "2           [{Carl, Hobbs}, {Caroline J., Formstone}]   \n",
      "3   [{Thomas, Battram}, {Paul, Yousefi}, {Gemma, C...   \n",
      "4   [{Pritchard, Verena E.}, {Stephanie A., Malone...   \n",
      "5   [{Habicht, Johanna}, {Magda, Dubois}, {Jochen,...   \n",
      "6   [{Leah, Mwangi}, {Mutengu, Lillian}, {Gitau, E...   \n",
      "7           [{Richard, Howey}, {Heather J., Cordell}]   \n",
      "8   [{Mehta, Nikita}, {Vedika, Inamdar}, {Arathy, ...   \n",
      "9   [{Renae J., Stefanetti}, {Alasdair, Blain}, {C...   \n",
      "10  [{Natsuko, Imai}, {Alexandra B., Hogan}, {Will...   \n",
      "11  [{McGurk, Kathryn A.}, {Kasapi, Melpomeni}, {W...   \n",
      "12  [{Chu, Cindy S.}, {Bancone, Germana}, {Soe, Na...   \n",
      "13  [{Martina S., Elias}, {Sheila C., Wright}, {Ni...   \n",
      "14  [{Miranda, Pierre}, {Keller, Markéta}, {Altsch...   \n",
      "15  [{Fiona V., Cresswell}, {Bangdiwala, Ananta S....   \n",
      "16  [{Bitta, Mary A.}, {Symon M., Kariuki}, {Mwita...   \n",
      "17  [{Abdi, Abdirahman I.}, {Lu, Yu}, {Goulding, D...   \n",
      "18  [{Lorna M, Gibson}, {Thomas J, Littlejohns}, {...   \n",
      "19  [{Lu, Gram}, {Suman, Kanougiya}, {Nayreen, Dar...   \n",
      "20  [{Irene, Omedo}, {Polycarp, Mogeni}, {Kirk A.,...   \n",
      "21  [{Bitta, Mary A.}, {Symon M., Kariuki}, {Abuba...   \n",
      "22  [{Lewin, Alex}, {Hamilton, Shea}, {Aviva, Witk...   \n",
      "23  [{Sai Thein Than, Tun}, {Myo Chit, Min}, {Agua...   \n",
      "24  [{Austin, Claire M.}, {Michael, Dias}, {Jane E...   \n",
      "25  [{Beange, Iona}, {Elizabeth J., Kirkham}, {Fle...   \n",
      "26  [{Joseph M., Stubbersfield}, {Widger, Tom}, {R...   \n",
      "27  [{Hindley, Guy}, {Stephenson, Lucy A.}, {Ruck ...   \n",
      "28  [{Donnie, Mategula}, {Judy, Gichuki}, {Chipeta...   \n",
      "29  [{Magnus, Maria C.}, {Ferreira, Diana D. S.}, ...   \n",
      "30  [{Abda, Mahmood}, {Roberts, Ian}, {Haleema, Sh...   \n",
      "31  [{Martha M., Luka}, {Kamau, Everlyn}, {de Laur...   \n",
      "32  [{Olupot-Olupot, Peter}, {Wabwire, Ham}, {Ndil...   \n",
      "33  [{Mweu, Marshal M.}, {Nickson, Murunga}, {Juli...   \n",
      "34  [{Riley, Steven}, {Christina, Atchison}, {Ashb...   \n",
      "35  [{Monica, Arribas}, {Roberts, Ian}, {Rizwana, ...   \n",
      "36  [{Pascal, Mathilde M.V.}, {Themistocleous, And...   \n",
      "37  [{McMeekin, Nicola}, {Claudia, Geue}, {Andrew,...   \n",
      "38  [{Loan, Huỳnh Thị}, {Lam Minh, Yen}, {Kestelyn...   \n",
      "39  [{Roberts, Ian}, {Antonio, Belli}, {Brenner, A...   \n",
      "40  [{Odhiambo, Mercy}, {Symon M., Kariuki}, {Char...   \n",
      "41  [{Moscoso, Miguel G.}, {David, Villarreal-Zega...   \n",
      "\n",
      "                                        Full_Text_URL  \\\n",
      "0   https://wellcomeopenresearch.org/extapi/articl...   \n",
      "1   https://wellcomeopenresearch.org/extapi/articl...   \n",
      "2   https://wellcomeopenresearch.org/extapi/articl...   \n",
      "3   https://wellcomeopenresearch.org/extapi/articl...   \n",
      "4   https://wellcomeopenresearch.org/extapi/articl...   \n",
      "5   https://wellcomeopenresearch.org/extapi/articl...   \n",
      "6   https://wellcomeopenresearch.org/extapi/articl...   \n",
      "7   https://wellcomeopenresearch.org/extapi/articl...   \n",
      "8   https://wellcomeopenresearch.org/extapi/articl...   \n",
      "9   https://wellcomeopenresearch.org/extapi/articl...   \n",
      "10  https://wellcomeopenresearch.org/extapi/articl...   \n",
      "11  https://wellcomeopenresearch.org/extapi/articl...   \n",
      "12  https://wellcomeopenresearch.org/extapi/articl...   \n",
      "13  https://wellcomeopenresearch.org/extapi/articl...   \n",
      "14  https://wellcomeopenresearch.org/extapi/articl...   \n",
      "15  https://wellcomeopenresearch.org/extapi/articl...   \n",
      "16  https://wellcomeopenresearch.org/extapi/articl...   \n",
      "17  https://wellcomeopenresearch.org/extapi/articl...   \n",
      "18  https://wellcomeopenresearch.org/extapi/articl...   \n",
      "19  https://wellcomeopenresearch.org/extapi/articl...   \n",
      "20  https://wellcomeopenresearch.org/extapi/articl...   \n",
      "21  https://wellcomeopenresearch.org/extapi/articl...   \n",
      "22  https://wellcomeopenresearch.org/extapi/articl...   \n",
      "23  https://wellcomeopenresearch.org/extapi/articl...   \n",
      "24  https://wellcomeopenresearch.org/extapi/articl...   \n",
      "25  https://wellcomeopenresearch.org/extapi/articl...   \n",
      "26  https://wellcomeopenresearch.org/extapi/articl...   \n",
      "27  https://wellcomeopenresearch.org/extapi/articl...   \n",
      "28  https://wellcomeopenresearch.org/extapi/articl...   \n",
      "29  https://wellcomeopenresearch.org/extapi/articl...   \n",
      "30  https://wellcomeopenresearch.org/extapi/articl...   \n",
      "31  https://wellcomeopenresearch.org/extapi/articl...   \n",
      "32  https://wellcomeopenresearch.org/extapi/articl...   \n",
      "33  https://wellcomeopenresearch.org/extapi/articl...   \n",
      "34  https://wellcomeopenresearch.org/extapi/articl...   \n",
      "35  https://wellcomeopenresearch.org/extapi/articl...   \n",
      "36  https://wellcomeopenresearch.org/extapi/articl...   \n",
      "37  https://wellcomeopenresearch.org/extapi/articl...   \n",
      "38  https://wellcomeopenresearch.org/extapi/articl...   \n",
      "39  https://wellcomeopenresearch.org/extapi/articl...   \n",
      "40  https://wellcomeopenresearch.org/extapi/articl...   \n",
      "41  https://wellcomeopenresearch.org/extapi/articl...   \n",
      "\n",
      "                                    Full_Text_Content  \n",
      "0   \\n\\nIntroduction\\nThe development of economic ...  \n",
      "1   \\n\\nIntroduction\\nDespite significant risk for...  \n",
      "2   \\n\\nIntroduction\\nComplex organs comprise mult...  \n",
      "3   \\n\\nIntroduction\\nEWAS assess associations bet...  \n",
      "4   \\n\\nRelationships between handedness and langu...  \n",
      "5   \\n\\nIntroduction\\nConsidering the probability ...  \n",
      "6   \\n\\nIntroduction\\nEngagement with research com...  \n",
      "7   \\n\\nIntroduction\\nIn a paper recently publishe...  \n",
      "8   \\n\\nIntroduction\\nThe coronavirus disease 2019...  \n",
      "9   \\n\\n\\n\\n\\nResearch in context\\n\\n\\nEvidence be...  \n",
      "10  \\n\\nIntroduction\\nIt took just over a year fro...  \n",
      "11  \\n\\nIntroduction\\nDilated cardiomyopathy (DCM)...  \n",
      "12  \\n\\nIntroduction\\nPrimaquine is the only treat...  \n",
      "13  \\n\\nIntroduction\\nAtopic eczema (also termed a...  \n",
      "14  \\n\\nIntroduction\\nThe coronavirus disease 2019...  \n",
      "15  \\n\\nIntroduction\\n\\tTuberculous meningitis (TB...  \n",
      "16  \\n\\nIntroduction\\nOver 3.2 billion people in t...  \n",
      "17  \\n\\nIntroduction\\n\\nPlasmodium falciparum mala...  \n",
      "18  \\n\\nIntroduction\\nUK Biobank (\\n              ...  \n",
      "19  \\n\\nIntroduction\\nWorldwide, violence against ...  \n",
      "20  \\n\\nIntroduction\\nMalaria incidence has marked...  \n",
      "21  \\n\\nIntroduction\\nNeurodevelopmental disorders...  \n",
      "22  \\n\\nIntroduction\\nIn multiple sclerosis (MS), ...  \n",
      "23  \\n\\nIntroduction\\nHuman movement or travel is ...  \n",
      "24  \\n\\nAbbreviations\\nAC Abdominal Circumference\\...  \n",
      "25  \\n\\nIntroduction\\nThe UK has hosted some of th...  \n",
      "26  \\n\\nIntroduction\\nThe dissemination of misinfo...  \n",
      "27  \\n\\nAbbreviations\\nBP – Bipolar\\nADM – Advance...  \n",
      "28  \\n\\nIntroduction\\nMalaria is a disease of publ...  \n",
      "29  \\n\\nIntroduction\\nAn estimated 12–15% of recog...  \n",
      "30  \\n\\nIntroduction\\nWorldwide over 50 million pe...  \n",
      "31  \\n\\nIntroduction\\nGenomic surveillance of resp...  \n",
      "32  \\n\\nIntroduction\\nFollowing years of neglect i...  \n",
      "33  \\n\\nIntroduction\\nRespiratory syncytial virus ...  \n",
      "34  \\n\\nBackground and rationale\\nCOVID-19 is a pa...  \n",
      "35  \\n\\nAbbreviations\\nBIC: Bayesian Information C...  \n",
      "36  \\n\\nIntroduction\\nNeuropathic pain affects 7–1...  \n",
      "37  \\n\\nIntroduction\\nBone and joint infections ar...  \n",
      "38  \\n\\n\\n\\nAbbreviations: CSF, cerebrospinal flui...  \n",
      "39  \\n\\nList of abbreviations\\nAEs: Adverse events...  \n",
      "40  \\n\\nIntroduction\\nEpilepsy is a serious neurol...  \n",
      "41  \\n\\nIntroduction\\nPokémon GO™ is an augmented ...  \n",
      "Filename output: Paris+Agreement_gatesopen_20230717.xlsx\n",
      "\n",
      "data: <?xml version=\"1.0\" encoding=\"UTF-8\" standalone=\"yes\"?><results numberOfResultsInPage=\"44\" totalNumberOfPages=\"1\"><doi>10.12688/gatesopenres.12868.2</doi><doi>10.12688/gatesopenres.12758.2</doi><doi>10.12688/gatesopenres.13635.2</doi><doi>10.12688/gatesopenres.13318.1</doi><doi>10.12688/gatesopenres.13231.2</doi><doi>10.12688/gatesopenres.13131.2</doi><doi>10.12688/gatesopenres.13220.1</doi><doi>10.12688/gatesopenres.12838.2</doi><doi>10.12688/gatesopenres.13347.2</doi><doi>10.12688/gatesopenres.13123.2</doi><doi>10.12688/gatesopenres.13542.2</doi><doi>10.12688/gatesopenres.12822.1</doi><doi>10.12688/gatesopenres.12858.4</doi><doi>10.12688/gatesopenres.12785.2</doi><doi>10.12688/gatesopenres.13561.1</doi><doi>10.12688/gatesopenres.12974.2</doi><doi>10.12688/gatesopenres.13041.1</doi><doi>10.12688/gatesopenres.12873.2</doi><doi>10.12688/gatesopenres.12854.3</doi><doi>10.12688/gatesopenres.13039.2</doi><doi>10.12688/gatesopenres.14573.1</doi><doi>10.12688/gatesopenres.14041.1</doi><doi>10.12688/gatesopenres.13432.1</doi><doi>10.12688/gatesopenres.12961.2</doi><doi>10.12688/gatesopenres.13045.2</doi><doi>10.12688/gatesopenres.13037.2</doi><doi>10.12688/gatesopenres.12817.3</doi><doi>10.12688/gatesopenres.12979.3</doi><doi>10.12688/gatesopenres.13578.2</doi><doi>10.12688/gatesopenres.13108.2</doi><doi>10.12688/gatesopenres.13191.3</doi><doi>10.12688/gatesopenres.13223.2</doi><doi>10.12688/gatesopenres.14287.1</doi><doi>10.12688/gatesopenres.12801.1</doi><doi>10.12688/gatesopenres.13188.2</doi><doi>10.12688/gatesopenres.13430.1</doi><doi>10.12688/gatesopenres.12866.2</doi><doi>10.12688/gatesopenres.13725.1</doi><doi>10.12688/gatesopenres.12755.2</doi><doi>10.12688/gatesopenres.12891.2</doi><doi>10.12688/gatesopenres.13727.2</doi><doi>10.12688/gatesopenres.12895.4</doi><doi>10.12688/gatesopenres.13233.3</doi><doi>10.12688/gatesopenres.13044.1</doi></results>\n",
      "Total number of pages: 1\n",
      "doi downloaded\n",
      "doi downloaded\n",
      "doi downloaded\n",
      "doi downloaded\n",
      "doi downloaded\n",
      "doi downloaded\n",
      "doi downloaded\n",
      "doi downloaded\n",
      "doi downloaded\n",
      "doi downloaded\n",
      "doi downloaded\n",
      "doi downloaded\n",
      "doi downloaded\n",
      "doi downloaded\n",
      "doi downloaded\n"
     ]
    },
    {
     "name": "stderr",
     "output_type": "stream",
     "text": [
      "/usr/local/lib/python3.10/dist-packages/bs4/builder/__init__.py:545: XMLParsedAsHTMLWarning: It looks like you're parsing an XML document using an HTML parser. If this really is an HTML document (maybe it's XHTML?), you can ignore or filter this warning. If it's XML, you should know that using an XML parser will be more reliable. To parse this document as XML, make sure you have the lxml package installed, and pass the keyword argument `features=\"xml\"` into the BeautifulSoup constructor.\n",
      "  warnings.warn(\n"
     ]
    },
    {
     "name": "stdout",
     "output_type": "stream",
     "text": [
      "Relationships between variance in electroencephalography relative power and developmental status in infants with typical development and at risk for developmental disability: An observational study\n",
      "Introducing a drift and diffusion framework for childhood growth research\n"
     ]
    },
    {
     "name": "stderr",
     "output_type": "stream",
     "text": [
      "/usr/local/lib/python3.10/dist-packages/bs4/builder/__init__.py:545: XMLParsedAsHTMLWarning: It looks like you're parsing an XML document using an HTML parser. If this really is an HTML document (maybe it's XHTML?), you can ignore or filter this warning. If it's XML, you should know that using an XML parser will be more reliable. To parse this document as XML, make sure you have the lxml package installed, and pass the keyword argument `features=\"xml\"` into the BeautifulSoup constructor.\n",
      "  warnings.warn(\n"
     ]
    },
    {
     "name": "stdout",
     "output_type": "stream",
     "text": [
      "Cost per insertion and couple year of protection for postpartum intrauterine devices and implants provided during service scale-up in Kigali, Rwanda\n"
     ]
    },
    {
     "name": "stderr",
     "output_type": "stream",
     "text": [
      "/usr/local/lib/python3.10/dist-packages/bs4/builder/__init__.py:545: XMLParsedAsHTMLWarning: It looks like you're parsing an XML document using an HTML parser. If this really is an HTML document (maybe it's XHTML?), you can ignore or filter this warning. If it's XML, you should know that using an XML parser will be more reliable. To parse this document as XML, make sure you have the lxml package installed, and pass the keyword argument `features=\"xml\"` into the BeautifulSoup constructor.\n",
      "  warnings.warn(\n"
     ]
    },
    {
     "name": "stdout",
     "output_type": "stream",
     "text": [
      "AIDS-defining causes of death from autopsy findings for HIV-positive individuals in sub-Saharan Africa in the pre- and post-ART era: A systematic review and meta-analyses\n"
     ]
    },
    {
     "name": "stderr",
     "output_type": "stream",
     "text": [
      "/usr/local/lib/python3.10/dist-packages/bs4/builder/__init__.py:545: XMLParsedAsHTMLWarning: It looks like you're parsing an XML document using an HTML parser. If this really is an HTML document (maybe it's XHTML?), you can ignore or filter this warning. If it's XML, you should know that using an XML parser will be more reliable. To parse this document as XML, make sure you have the lxml package installed, and pass the keyword argument `features=\"xml\"` into the BeautifulSoup constructor.\n",
      "  warnings.warn(\n"
     ]
    },
    {
     "name": "stdout",
     "output_type": "stream",
     "text": [
      "Evaluation of a multi-level intervention to improve postpartum intrauterine device services in Rwanda\n"
     ]
    },
    {
     "name": "stderr",
     "output_type": "stream",
     "text": [
      "/usr/local/lib/python3.10/dist-packages/bs4/builder/__init__.py:545: XMLParsedAsHTMLWarning: It looks like you're parsing an XML document using an HTML parser. If this really is an HTML document (maybe it's XHTML?), you can ignore or filter this warning. If it's XML, you should know that using an XML parser will be more reliable. To parse this document as XML, make sure you have the lxml package installed, and pass the keyword argument `features=\"xml\"` into the BeautifulSoup constructor.\n",
      "  warnings.warn(\n"
     ]
    },
    {
     "name": "stdout",
     "output_type": "stream",
     "text": [
      "Evaluating user-centered interventions in optimizing utilization of HIV and pregnancy prevention services among adolescent girls and young women (AGYW) in Kenya: a study protocol\n"
     ]
    },
    {
     "name": "stderr",
     "output_type": "stream",
     "text": [
      "/usr/local/lib/python3.10/dist-packages/bs4/builder/__init__.py:545: XMLParsedAsHTMLWarning: It looks like you're parsing an XML document using an HTML parser. If this really is an HTML document (maybe it's XHTML?), you can ignore or filter this warning. If it's XML, you should know that using an XML parser will be more reliable. To parse this document as XML, make sure you have the lxml package installed, and pass the keyword argument `features=\"xml\"` into the BeautifulSoup constructor.\n",
      "  warnings.warn(\n"
     ]
    },
    {
     "name": "stdout",
     "output_type": "stream",
     "text": [
      "Abortion knowledge and experiences among young women and men in Accra, Ghana\n"
     ]
    },
    {
     "name": "stderr",
     "output_type": "stream",
     "text": [
      "/usr/local/lib/python3.10/dist-packages/bs4/builder/__init__.py:545: XMLParsedAsHTMLWarning: It looks like you're parsing an XML document using an HTML parser. If this really is an HTML document (maybe it's XHTML?), you can ignore or filter this warning. If it's XML, you should know that using an XML parser will be more reliable. To parse this document as XML, make sure you have the lxml package installed, and pass the keyword argument `features=\"xml\"` into the BeautifulSoup constructor.\n",
      "  warnings.warn(\n"
     ]
    },
    {
     "name": "stdout",
     "output_type": "stream",
     "text": [
      "Access to family planning for youth: perspectives of young family planning leaders from 40 countries\n"
     ]
    },
    {
     "name": "stderr",
     "output_type": "stream",
     "text": [
      "/usr/local/lib/python3.10/dist-packages/bs4/builder/__init__.py:545: XMLParsedAsHTMLWarning: It looks like you're parsing an XML document using an HTML parser. If this really is an HTML document (maybe it's XHTML?), you can ignore or filter this warning. If it's XML, you should know that using an XML parser will be more reliable. To parse this document as XML, make sure you have the lxml package installed, and pass the keyword argument `features=\"xml\"` into the BeautifulSoup constructor.\n",
      "  warnings.warn(\n"
     ]
    },
    {
     "name": "stdout",
     "output_type": "stream",
     "text": [
      "Assessment of a neuro-developmental screening tool in children in Bhutan\n"
     ]
    },
    {
     "name": "stderr",
     "output_type": "stream",
     "text": [
      "/usr/local/lib/python3.10/dist-packages/bs4/builder/__init__.py:545: XMLParsedAsHTMLWarning: It looks like you're parsing an XML document using an HTML parser. If this really is an HTML document (maybe it's XHTML?), you can ignore or filter this warning. If it's XML, you should know that using an XML parser will be more reliable. To parse this document as XML, make sure you have the lxml package installed, and pass the keyword argument `features=\"xml\"` into the BeautifulSoup constructor.\n",
      "  warnings.warn(\n"
     ]
    },
    {
     "name": "stdout",
     "output_type": "stream",
     "text": [
      "The status of Ghanaian community health workers’ supervision and service delivery: descriptive analyses from the 2017 Performance Monitoring and Accountability 2020 survey\n"
     ]
    },
    {
     "name": "stderr",
     "output_type": "stream",
     "text": [
      "/usr/local/lib/python3.10/dist-packages/bs4/builder/__init__.py:545: XMLParsedAsHTMLWarning: It looks like you're parsing an XML document using an HTML parser. If this really is an HTML document (maybe it's XHTML?), you can ignore or filter this warning. If it's XML, you should know that using an XML parser will be more reliable. To parse this document as XML, make sure you have the lxml package installed, and pass the keyword argument `features=\"xml\"` into the BeautifulSoup constructor.\n",
      "  warnings.warn(\n"
     ]
    },
    {
     "name": "stdout",
     "output_type": "stream",
     "text": [
      "Comparing QuantiFERON-TB Gold Plus with QuantiFERON-TB Gold in-tube for diagnosis of latent tuberculosis infection among highly TB exposed gold miners in South Africa\n"
     ]
    },
    {
     "name": "stderr",
     "output_type": "stream",
     "text": [
      "/usr/local/lib/python3.10/dist-packages/bs4/builder/__init__.py:545: XMLParsedAsHTMLWarning: It looks like you're parsing an XML document using an HTML parser. If this really is an HTML document (maybe it's XHTML?), you can ignore or filter this warning. If it's XML, you should know that using an XML parser will be more reliable. To parse this document as XML, make sure you have the lxml package installed, and pass the keyword argument `features=\"xml\"` into the BeautifulSoup constructor.\n",
      "  warnings.warn(\n"
     ]
    },
    {
     "name": "stdout",
     "output_type": "stream",
     "text": [
      "A hybrid effectiveness-implementation study protocol to assess the effectiveness and chemoprevention efficacy of implementing seasonal malaria chemoprevention in five districts in Karamoja region, Uganda\n"
     ]
    },
    {
     "name": "stderr",
     "output_type": "stream",
     "text": [
      "/usr/local/lib/python3.10/dist-packages/bs4/builder/__init__.py:545: XMLParsedAsHTMLWarning: It looks like you're parsing an XML document using an HTML parser. If this really is an HTML document (maybe it's XHTML?), you can ignore or filter this warning. If it's XML, you should know that using an XML parser will be more reliable. To parse this document as XML, make sure you have the lxml package installed, and pass the keyword argument `features=\"xml\"` into the BeautifulSoup constructor.\n",
      "  warnings.warn(\n"
     ]
    },
    {
     "name": "stdout",
     "output_type": "stream",
     "text": [
      "Quantifying the economic burden of unintended pregnancies due to drug–drug interactions with hormonal contraceptives from the United States payer perspective\n"
     ]
    },
    {
     "name": "stderr",
     "output_type": "stream",
     "text": [
      "/usr/local/lib/python3.10/dist-packages/bs4/builder/__init__.py:545: XMLParsedAsHTMLWarning: It looks like you're parsing an XML document using an HTML parser. If this really is an HTML document (maybe it's XHTML?), you can ignore or filter this warning. If it's XML, you should know that using an XML parser will be more reliable. To parse this document as XML, make sure you have the lxml package installed, and pass the keyword argument `features=\"xml\"` into the BeautifulSoup constructor.\n",
      "  warnings.warn(\n"
     ]
    },
    {
     "name": "stdout",
     "output_type": "stream",
     "text": [
      "Post-trial follow-up after a randomized clinical trial of COVID-19 convalescent plasma\n"
     ]
    },
    {
     "name": "stderr",
     "output_type": "stream",
     "text": [
      "/usr/local/lib/python3.10/dist-packages/bs4/builder/__init__.py:545: XMLParsedAsHTMLWarning: It looks like you're parsing an XML document using an HTML parser. If this really is an HTML document (maybe it's XHTML?), you can ignore or filter this warning. If it's XML, you should know that using an XML parser will be more reliable. To parse this document as XML, make sure you have the lxml package installed, and pass the keyword argument `features=\"xml\"` into the BeautifulSoup constructor.\n",
      "  warnings.warn(\n"
     ]
    },
    {
     "name": "stdout",
     "output_type": "stream",
     "text": [
      "Evaluating the impact of integrated development: are we asking the right questions? A systematic review\n",
      "                                                Title  \\\n",
      "0   Relationships between variance in electroencep...   \n",
      "1   Introducing a drift and diffusion framework fo...   \n",
      "2   Cost per insertion and couple year of protecti...   \n",
      "3   AIDS-defining causes of death from autopsy fin...   \n",
      "4   Evaluation of a multi-level intervention to im...   \n",
      "5   Evaluating user-centered interventions in opti...   \n",
      "6   Abortion knowledge and experiences among young...   \n",
      "7   Access to family planning for youth: perspecti...   \n",
      "8   Assessment of a neuro-developmental screening ...   \n",
      "9   The status of Ghanaian community health worker...   \n",
      "10  Comparing QuantiFERON-TB Gold Plus with Quanti...   \n",
      "11  A hybrid effectiveness-implementation study pr...   \n",
      "12  Quantifying the economic burden of unintended ...   \n",
      "13  Post-trial follow-up after a randomized clinic...   \n",
      "14  Evaluating the impact of integrated developmen...   \n",
      "\n",
      "                              DOI  \\\n",
      "0   10.12688/gatesopenres.12868.2   \n",
      "1   10.12688/gatesopenres.13123.2   \n",
      "2   10.12688/gatesopenres.12858.4   \n",
      "3   10.12688/gatesopenres.13041.1   \n",
      "4   10.12688/gatesopenres.12854.3   \n",
      "5   10.12688/gatesopenres.13432.1   \n",
      "6   10.12688/gatesopenres.12961.2   \n",
      "7   10.12688/gatesopenres.13045.2   \n",
      "8   10.12688/gatesopenres.13037.2   \n",
      "9   10.12688/gatesopenres.12979.3   \n",
      "10  10.12688/gatesopenres.13191.3   \n",
      "11  10.12688/gatesopenres.14287.1   \n",
      "12  10.12688/gatesopenres.13430.1   \n",
      "13  10.12688/gatesopenres.13725.1   \n",
      "14  10.12688/gatesopenres.12755.2   \n",
      "\n",
      "                                              Authors  \\\n",
      "0   [{Andrew, Hooyman}, {Kayekjian, David}, {Ran, ...   \n",
      "1   [{Lewis, Fraser I}, {Godfrey, Guga}, {Mdoe, Pa...   \n",
      "2   [{Kristin M., Wall}, {Rosine, Ingabire}, {Alle...   \n",
      "3   [{Peer, Nazia}, {Isaac I., Bogoch}, {Bassat, Q...   \n",
      "4   [{Rosine, Ingabire}, {Nyombayire, Julien}, {Ho...   \n",
      "5   [{Jane, Mutegi}, {Mugambi, Mary}, {Daniel, Wer...   \n",
      "6   [{Sarah T., Reiger}, {Dako-Gyeke, Phyllis}, {N...   \n",
      "7   [{Alice F., Cartwright}, {Jane, Otai}, {Maytan...   \n",
      "8   [{Brian, Wong}, {Grundy, Sara}, {Tshering, Lha...   \n",
      "9   [{Dan, Schwarz}, {June-Ho, Kim}, {Hannah L., R...   \n",
      "10  [{Ntshiqa, Thobani}, {Violet, Chihota}, {Raoul...   \n",
      "11  [{Richard, Kajubi}, {Ainsworth, Jennifer}, {Ke...   \n",
      "12  [{Srinivasan, Meenakshi}, {Annesha, White}, {L...   \n",
      "13  [{Ignacio, Esteban}, {Panighetti, María Teresa...   \n",
      "14  [{Ahner-McHaffie, Tessa W}, {Greg, Guest}, {Tr...   \n",
      "\n",
      "                                        Full_Text_URL  \\\n",
      "0   https://gatesopenresearch.org/extapi/article/x...   \n",
      "1   https://gatesopenresearch.org/extapi/article/x...   \n",
      "2   https://gatesopenresearch.org/extapi/article/x...   \n",
      "3   https://gatesopenresearch.org/extapi/article/x...   \n",
      "4   https://gatesopenresearch.org/extapi/article/x...   \n",
      "5   https://gatesopenresearch.org/extapi/article/x...   \n",
      "6   https://gatesopenresearch.org/extapi/article/x...   \n",
      "7   https://gatesopenresearch.org/extapi/article/x...   \n",
      "8   https://gatesopenresearch.org/extapi/article/x...   \n",
      "9   https://gatesopenresearch.org/extapi/article/x...   \n",
      "10  https://gatesopenresearch.org/extapi/article/x...   \n",
      "11  https://gatesopenresearch.org/extapi/article/x...   \n",
      "12  https://gatesopenresearch.org/extapi/article/x...   \n",
      "13  https://gatesopenresearch.org/extapi/article/x...   \n",
      "14  https://gatesopenresearch.org/extapi/article/x...   \n",
      "\n",
      "                                    Full_Text_Content  \n",
      "0   \\n\\nIntroduction\\nEarly detection of atypical ...  \n",
      "1   \\n\\nIntroduction\\nAssessing and analysing grow...  \n",
      "2   \\n\\nIntroduction\\nVoluntary family planning (F...  \n",
      "3   \\n\\nIntroduction\\nThe last decade has seen tre...  \n",
      "4   \\n\\nIntroduction\\nThe World Health Organizatio...  \n",
      "5   \\n\\nBackground and study rationale\\nGlobally, ...  \n",
      "6   \\n\\nIntroduction\\nGlobally, one in ten pregnan...  \n",
      "7   \\n\\nIntroduction\\nAcross Africa, Asia, Latin A...  \n",
      "8   \\n\\nIntroduction\\nNeurodevelopmental delay is ...  \n",
      "9   \\n\\nIntroduction\\nAs the world strives to achi...  \n",
      "10  \\n\\nIntroduction\\nLatent tuberculosis infectio...  \n",
      "11  \\n\\nIntroduction\\nSeasonal malaria chemopreven...  \n",
      "12  \\n\\nKey points for policy makers\\n\\n\\nContrace...  \n",
      "13  \\n\\nIntroduction\\nCOVID-19 convalescent plasma...  \n",
      "14  \\n\\nIntroduction\\n\\nRationale\\nTwenty-first ce...  \n",
      "data_df after calling solr_api with gatesopen:                                                 Title  \\\n",
      "0   Relationships between variance in electroencep...   \n",
      "1   Introducing a drift and diffusion framework fo...   \n",
      "2   Cost per insertion and couple year of protecti...   \n",
      "3   AIDS-defining causes of death from autopsy fin...   \n",
      "4   Evaluation of a multi-level intervention to im...   \n",
      "5   Evaluating user-centered interventions in opti...   \n",
      "6   Abortion knowledge and experiences among young...   \n",
      "7   Access to family planning for youth: perspecti...   \n",
      "8   Assessment of a neuro-developmental screening ...   \n",
      "9   The status of Ghanaian community health worker...   \n",
      "10  Comparing QuantiFERON-TB Gold Plus with Quanti...   \n",
      "11  A hybrid effectiveness-implementation study pr...   \n",
      "12  Quantifying the economic burden of unintended ...   \n",
      "13  Post-trial follow-up after a randomized clinic...   \n",
      "14  Evaluating the impact of integrated developmen...   \n",
      "\n",
      "                              DOI  \\\n",
      "0   10.12688/gatesopenres.12868.2   \n",
      "1   10.12688/gatesopenres.13123.2   \n",
      "2   10.12688/gatesopenres.12858.4   \n",
      "3   10.12688/gatesopenres.13041.1   \n",
      "4   10.12688/gatesopenres.12854.3   \n",
      "5   10.12688/gatesopenres.13432.1   \n",
      "6   10.12688/gatesopenres.12961.2   \n",
      "7   10.12688/gatesopenres.13045.2   \n",
      "8   10.12688/gatesopenres.13037.2   \n",
      "9   10.12688/gatesopenres.12979.3   \n",
      "10  10.12688/gatesopenres.13191.3   \n",
      "11  10.12688/gatesopenres.14287.1   \n",
      "12  10.12688/gatesopenres.13430.1   \n",
      "13  10.12688/gatesopenres.13725.1   \n",
      "14  10.12688/gatesopenres.12755.2   \n",
      "\n",
      "                                              Authors  \\\n",
      "0   [{Andrew, Hooyman}, {Kayekjian, David}, {Ran, ...   \n",
      "1   [{Lewis, Fraser I}, {Godfrey, Guga}, {Mdoe, Pa...   \n",
      "2   [{Kristin M., Wall}, {Rosine, Ingabire}, {Alle...   \n",
      "3   [{Peer, Nazia}, {Isaac I., Bogoch}, {Bassat, Q...   \n",
      "4   [{Rosine, Ingabire}, {Nyombayire, Julien}, {Ho...   \n",
      "5   [{Jane, Mutegi}, {Mugambi, Mary}, {Daniel, Wer...   \n",
      "6   [{Sarah T., Reiger}, {Dako-Gyeke, Phyllis}, {N...   \n",
      "7   [{Alice F., Cartwright}, {Jane, Otai}, {Maytan...   \n",
      "8   [{Brian, Wong}, {Grundy, Sara}, {Tshering, Lha...   \n",
      "9   [{Dan, Schwarz}, {June-Ho, Kim}, {Hannah L., R...   \n",
      "10  [{Ntshiqa, Thobani}, {Violet, Chihota}, {Raoul...   \n",
      "11  [{Richard, Kajubi}, {Ainsworth, Jennifer}, {Ke...   \n",
      "12  [{Srinivasan, Meenakshi}, {Annesha, White}, {L...   \n",
      "13  [{Ignacio, Esteban}, {Panighetti, María Teresa...   \n",
      "14  [{Ahner-McHaffie, Tessa W}, {Greg, Guest}, {Tr...   \n",
      "\n",
      "                                        Full_Text_URL  \\\n",
      "0   https://gatesopenresearch.org/extapi/article/x...   \n",
      "1   https://gatesopenresearch.org/extapi/article/x...   \n",
      "2   https://gatesopenresearch.org/extapi/article/x...   \n",
      "3   https://gatesopenresearch.org/extapi/article/x...   \n",
      "4   https://gatesopenresearch.org/extapi/article/x...   \n",
      "5   https://gatesopenresearch.org/extapi/article/x...   \n",
      "6   https://gatesopenresearch.org/extapi/article/x...   \n",
      "7   https://gatesopenresearch.org/extapi/article/x...   \n",
      "8   https://gatesopenresearch.org/extapi/article/x...   \n",
      "9   https://gatesopenresearch.org/extapi/article/x...   \n",
      "10  https://gatesopenresearch.org/extapi/article/x...   \n",
      "11  https://gatesopenresearch.org/extapi/article/x...   \n",
      "12  https://gatesopenresearch.org/extapi/article/x...   \n",
      "13  https://gatesopenresearch.org/extapi/article/x...   \n",
      "14  https://gatesopenresearch.org/extapi/article/x...   \n",
      "\n",
      "                                    Full_Text_Content  \n",
      "0   \\n\\nIntroduction\\nEarly detection of atypical ...  \n",
      "1   \\n\\nIntroduction\\nAssessing and analysing grow...  \n",
      "2   \\n\\nIntroduction\\nVoluntary family planning (F...  \n",
      "3   \\n\\nIntroduction\\nThe last decade has seen tre...  \n",
      "4   \\n\\nIntroduction\\nThe World Health Organizatio...  \n",
      "5   \\n\\nBackground and study rationale\\nGlobally, ...  \n",
      "6   \\n\\nIntroduction\\nGlobally, one in ten pregnan...  \n",
      "7   \\n\\nIntroduction\\nAcross Africa, Asia, Latin A...  \n",
      "8   \\n\\nIntroduction\\nNeurodevelopmental delay is ...  \n",
      "9   \\n\\nIntroduction\\nAs the world strives to achi...  \n",
      "10  \\n\\nIntroduction\\nLatent tuberculosis infectio...  \n",
      "11  \\n\\nIntroduction\\nSeasonal malaria chemopreven...  \n",
      "12  \\n\\nKey points for policy makers\\n\\n\\nContrace...  \n",
      "13  \\n\\nIntroduction\\nCOVID-19 convalescent plasma...  \n",
      "14  \\n\\nIntroduction\\n\\nRationale\\nTwenty-first ce...  \n",
      "Current count: 8\n",
      "Filename output: Fossil+fuels_f1000_20230717.xlsx\n",
      "\n",
      "data: <?xml version=\"1.0\" encoding=\"UTF-8\" standalone=\"yes\"?><results numberOfResultsInPage=\"100\" totalNumberOfPages=\"2\"><doi>10.12688/f1000research.2-77.v2</doi><doi>10.12688/f1000research.2-126.v2</doi><doi>10.12688/f1000research.2-218.v2</doi><doi>10.12688/f1000research.2-252.v2</doi><doi>10.12688/f1000research.3751.2</doi><doi>10.12688/f1000research.4660.1</doi><doi>10.12688/f1000research.4709.1</doi><doi>10.12688/f1000research.5672.1</doi><doi>10.12688/f1000research.5813.1</doi><doi>10.12688/f1000research.5530.2</doi><doi>10.12688/f1000research.5666.2</doi><doi>10.12688/f1000research.5573.3</doi><doi>10.12688/f1000research.6210.1</doi><doi>10.12688/f1000research.5378.2</doi><doi>10.12688/f1000research.6392.1</doi><doi>10.12688/f1000research.6535.1</doi><doi>10.12688/f1000research.6536.1</doi><doi>10.12688/f1000research.3894.2</doi><doi>10.12688/f1000research.6822.1</doi><doi>10.12688/f1000research.5921.2</doi><doi>10.12688/f1000research.7143.1</doi><doi>10.12688/f1000research.6080.3</doi><doi>10.12688/f1000research.7835.1</doi><doi>10.12688/f1000research.7931.1</doi><doi>10.12688/f1000research.7507.2</doi><doi>10.12688/f1000research.7842.2</doi><doi>10.12688/f1000research.8572.1</doi><doi>10.12688/f1000research.9606.1</doi><doi>10.12688/f1000research.9778.1</doi><doi>10.12688/f1000research.9918.1</doi><doi>10.12688/f1000research.10009.1</doi><doi>10.12688/f1000research.10597.1</doi><doi>10.12688/f1000research.8937.2</doi><doi>10.12688/f1000research.12717.1</doi><doi>10.12688/f1000research.12994.2</doi><doi>10.12688/f1000research.12337.4</doi><doi>10.12688/f1000research.13035.2</doi><doi>10.12688/f1000research.11395.4</doi><doi>10.12688/f1000research.13930.1</doi><doi>10.12688/f1000research.12418.2</doi><doi>10.12688/f1000research.5977.3</doi><doi>10.12688/f1000research.13062.2</doi><doi>10.12688/f1000research.14566.2</doi><doi>10.12688/f1000research.13396.2</doi><doi>10.12688/f1000research.15826.1</doi><doi>10.12688/f1000research.12713.3</doi><doi>10.12688/f1000research.15955.1</doi><doi>10.12688/f1000research.15386.2</doi><doi>10.12688/f1000research.13196.2</doi><doi>10.12688/f1000research.15447.2</doi><doi>10.12688/f1000research.16819.1</doi><doi>10.12688/f1000research.14770.3</doi><doi>10.12688/f1000research.17447.1</doi><doi>10.12688/f1000research.14960.2</doi><doi>10.12688/f1000research.18671.2</doi><doi>10.12688/f1000research.18575.2</doi><doi>10.12688/f1000research.18800.2</doi><doi>10.12688/f1000research.15361.3</doi><doi>10.12688/f1000research.20534.2</doi><doi>10.12688/f1000research.18445.2</doi><doi>10.12688/f1000research.19803.2</doi><doi>10.12688/f1000research.21178.2</doi><doi>10.12688/f1000research.19901.2</doi><doi>10.12688/f1000research.24911.1</doi><doi>10.12688/f1000research.6348.2</doi><doi>10.12688/f1000research.19598.5</doi><doi>10.12688/f1000research.16926.3</doi><doi>10.12688/f1000research.26429.2</doi><doi>10.12688/f1000research.38156.1</doi><doi>10.12688/f1000research.24854.2</doi><doi>10.12688/f1000research.27373.2</doi><doi>10.12688/f1000research.28608.2</doi><doi>10.12688/f1000research.52494.1</doi><doi>10.12688/f1000research.52878.1</doi><doi>10.12688/f1000research.25148.2</doi><doi>10.12688/f1000research.53962.1</doi><doi>10.12688/f1000research.54305.1</doi><doi>10.12688/f1000research.26873.3</doi><doi>10.12688/f1000research.54501.1</doi><doi>10.12688/f1000research.55007.1</doi><doi>10.12688/f1000research.52392.2</doi><doi>10.12688/f1000research.74727.1</doi><doi>10.12688/f1000research.54533.2</doi><doi>10.12688/f1000research.75870.1</doi><doi>10.12688/f1000research.51061.3</doi><doi>10.12688/f1000research.110608.1</doi><doi>10.12688/f1000research.110971.1</doi><doi>10.12688/f1000research.53135.2</doi><doi>10.12688/f1000research.121980.1</doi><doi>10.12688/f1000research.122453.1</doi><doi>10.12688/f1000research.26073.2</doi><doi>10.12688/f1000research.123411.1</doi><doi>10.12688/f1000research.123041.2</doi><doi>10.12688/f1000research.54887.5</doi><doi>10.12688/f1000research.122437.2</doi><doi>10.12688/f1000research.53095.2</doi><doi>10.12688/f1000research.129929.2</doi><doi>10.12688/f1000research.135221.1</doi><doi>10.12688/f1000research.132214.2</doi><doi>10.12688/f1000research.132106.2</doi></results>\n",
      "Total number of pages: 2\n",
      "Empty DataFrame\n",
      "Columns: [Title, DOI, Authors, Full_Text_URL, Full_Text_Content]\n",
      "Index: []\n",
      "data_df after calling solr_api with f1000: Empty DataFrame\n",
      "Columns: [Title, DOI, Authors, Full_Text_URL, Full_Text_Content]\n",
      "Index: []\n",
      "Filename output: Fossil+fuels_wellcome_20230717.xlsx\n",
      "\n",
      "data: <?xml version=\"1.0\" encoding=\"UTF-8\" standalone=\"yes\"?><results numberOfResultsInPage=\"53\" totalNumberOfPages=\"1\"><doi>10.12688/wellcomeopenres.16834.1</doi><doi>10.12688/wellcomeopenres.14735.2</doi><doi>10.12688/wellcomeopenres.13387.2</doi><doi>10.12688/wellcomeopenres.16584.2</doi><doi>10.12688/wellcomeopenres.15974.2</doi><doi>10.12688/wellcomeopenres.10383.1</doi><doi>10.12688/wellcomeopenres.17261.2</doi><doi>10.12688/wellcomeopenres.16405.1</doi><doi>10.12688/wellcomeopenres.10036.2</doi><doi>10.12688/wellcomeopenres.15061.2</doi><doi>10.12688/wellcomeopenres.18868.1</doi><doi>10.12688/wellcomeopenres.14904.2</doi><doi>10.12688/wellcomeopenres.17206.2</doi><doi>10.12688/wellcomeopenres.15587.2</doi><doi>10.12688/wellcomeopenres.15893.2</doi><doi>10.12688/wellcomeopenres.15013.2</doi><doi>10.12688/wellcomeopenres.15223.1</doi><doi>10.12688/wellcomeopenres.15675.2</doi><doi>10.12688/wellcomeopenres.17090.1</doi><doi>10.12688/wellcomeopenres.12394.1</doi><doi>10.12688/wellcomeopenres.10308.1</doi><doi>10.12688/wellcomeopenres.17736.2</doi><doi>10.12688/wellcomeopenres.16064.1</doi><doi>10.12688/wellcomeopenres.14765.2</doi><doi>10.12688/wellcomeopenres.17660.2</doi><doi>10.12688/wellcomeopenres.18248.2</doi><doi>10.12688/wellcomeopenres.16635.2</doi><doi>10.12688/wellcomeopenres.11300.3</doi><doi>10.12688/wellcomeopenres.16063.2</doi><doi>10.12688/wellcomeopenres.15403.2</doi><doi>10.12688/wellcomeopenres.15451.1</doi><doi>10.12688/wellcomeopenres.15748.2</doi><doi>10.12688/wellcomeopenres.15729.2</doi><doi>10.12688/wellcomeopenres.16409.1</doi><doi>10.12688/wellcomeopenres.15201.3</doi><doi>10.12688/wellcomeopenres.14898.2</doi><doi>10.12688/wellcomeopenres.18681.1</doi><doi>10.12688/wellcomeopenres.16572.1</doi><doi>10.12688/wellcomeopenres.16299.2</doi><doi>10.12688/wellcomeopenres.16168.2</doi><doi>10.12688/wellcomeopenres.18251.1</doi><doi>10.12688/wellcomeopenres.15770.1</doi><doi>10.12688/wellcomeopenres.17893.1</doi><doi>10.12688/wellcomeopenres.18742.1</doi><doi>10.12688/wellcomeopenres.16031.2</doi><doi>10.12688/wellcomeopenres.16131.2</doi><doi>10.12688/wellcomeopenres.10011.1</doi><doi>10.12688/wellcomeopenres.17885.1</doi><doi>10.12688/wellcomeopenres.12237.2</doi><doi>10.12688/wellcomeopenres.10535.3</doi><doi>10.12688/wellcomeopenres.15108.1</doi><doi>10.12688/wellcomeopenres.14932.2</doi><doi>10.12688/wellcomeopenres.11005.1</doi></results>\n",
      "Total number of pages: 1\n",
      "Empty DataFrame\n",
      "Columns: [Title, DOI, Authors, Full_Text_URL, Full_Text_Content]\n",
      "Index: []\n",
      "data_df after calling solr_api with wellcome: Empty DataFrame\n",
      "Columns: [Title, DOI, Authors, Full_Text_URL, Full_Text_Content]\n",
      "Index: []\n",
      "Filename output: Fossil+fuels_gatesopen_20230717.xlsx\n",
      "\n",
      "data: <?xml version=\"1.0\" encoding=\"UTF-8\" standalone=\"yes\"?><results numberOfResultsInPage=\"8\" totalNumberOfPages=\"1\"><doi>10.12688/gatesopenres.12758.2</doi><doi>10.12688/gatesopenres.13635.2</doi><doi>10.12688/gatesopenres.13534.2</doi><doi>10.12688/gatesopenres.12856.2</doi><doi>10.12688/gatesopenres.13039.2</doi><doi>10.12688/gatesopenres.14041.1</doi><doi>10.12688/gatesopenres.12866.2</doi><doi>10.12688/gatesopenres.12879.1</doi></results>\n",
      "Total number of pages: 1\n",
      "Empty DataFrame\n",
      "Columns: [Title, DOI, Authors, Full_Text_URL, Full_Text_Content]\n",
      "Index: []\n",
      "data_df after calling solr_api with gatesopen: Empty DataFrame\n",
      "Columns: [Title, DOI, Authors, Full_Text_URL, Full_Text_Content]\n",
      "Index: []\n",
      "Current count: 9\n",
      "Filename output: Deforestation_f1000_20230717.xlsx\n",
      "\n",
      "data: <?xml version=\"1.0\" encoding=\"UTF-8\" standalone=\"yes\"?><results numberOfResultsInPage=\"100\" totalNumberOfPages=\"5\"><doi>10.12688/f1000research.2-77.v2</doi><doi>10.12688/f1000research.2-279.v1</doi><doi>10.12688/f1000research.3-61.v1</doi><doi>10.12688/f1000research.3-28.v2</doi><doi>10.12688/f1000research.4030.1</doi><doi>10.12688/f1000research.4448.1</doi><doi>10.12688/f1000research.4867.1</doi><doi>10.12688/f1000research.5166.1</doi><doi>10.12688/f1000research.4563.2</doi><doi>10.12688/f1000research.5530.2</doi><doi>10.12688/f1000research.6392.1</doi><doi>10.12688/f1000research.5941.2</doi><doi>10.12688/f1000research.6735.1</doi><doi>10.12688/f1000research.5921.2</doi><doi>10.12688/f1000research.6838.1</doi><doi>10.12688/f1000research.6683.2</doi><doi>10.12688/f1000research.7201.1</doi><doi>10.12688/f1000research.7571.1</doi><doi>10.12688/f1000research.7142.2</doi><doi>10.12688/f1000research.7931.1</doi><doi>10.12688/f1000research.7507.2</doi><doi>10.12688/f1000research.8007.2</doi><doi>10.12688/f1000research.5145.3</doi><doi>10.12688/f1000research.8213.2</doi><doi>10.12688/f1000research.8834.2</doi><doi>10.12688/f1000research.11091.1</doi><doi>10.12688/f1000research.11354.1</doi><doi>10.12688/f1000research.11517.1</doi><doi>10.12688/f1000research.11968.1</doi><doi>10.12688/f1000research.9416.3</doi><doi>10.12688/f1000research.12734.1</doi><doi>10.12688/f1000research.12337.4</doi><doi>10.12688/f1000research.12360.2</doi><doi>10.12688/f1000research.14969.1</doi><doi>10.12688/f1000research.15036.1</doi><doi>10.12688/f1000research.10411.2</doi><doi>10.12688/f1000research.14298.2</doi><doi>10.12688/f1000research.14566.2</doi><doi>10.12688/f1000research.15484.1</doi><doi>10.12688/f1000research.15579.1</doi><doi>10.12688/f1000research.14198.2</doi><doi>10.12688/f1000research.16044.1</doi><doi>10.12688/f1000research.16026.2</doi><doi>10.12688/f1000research.14770.3</doi><doi>10.12688/f1000research.17802.1</doi><doi>10.12688/f1000research.18476.1</doi><doi>10.12688/f1000research.16454.2</doi><doi>10.12688/f1000research.19675.1</doi><doi>10.12688/f1000research.20233.1</doi><doi>10.12688/f1000research.18575.2</doi><doi>10.12688/f1000research.16032.3</doi><doi>10.12688/f1000research.18963.2</doi><doi>10.12688/f1000research.20633.2</doi><doi>10.12688/f1000research.21586.1</doi><doi>10.12688/f1000research.16688.2</doi><doi>10.12688/f1000research.20534.2</doi><doi>10.12688/f1000research.17319.3</doi><doi>10.12688/f1000research.20844.2</doi><doi>10.12688/f1000research.25235.1</doi><doi>10.12688/f1000research.25613.1</doi><doi>10.12688/f1000research.15824.3</doi><doi>10.12688/f1000research.19598.5</doi><doi>10.12688/f1000research.16926.3</doi><doi>10.12688/f1000research.28078.1</doi><doi>10.12688/f1000research.24854.2</doi><doi>10.12688/f1000research.25019.2</doi><doi>10.12688/f1000research.26008.3</doi><doi>10.12688/f1000research.52494.1</doi><doi>10.12688/f1000research.28073.2</doi><doi>10.12688/f1000research.53962.1</doi><doi>10.12688/f1000research.52350.2</doi><doi>10.12688/f1000research.54305.1</doi><doi>10.12688/f1000research.54501.1</doi><doi>10.12688/f1000research.73498.1</doi><doi>10.12688/f1000research.54533.2</doi><doi>10.12688/f1000research.52026.2</doi><doi>10.12688/f1000research.52197.3</doi><doi>10.12688/f1000research.74041.2</doi><doi>10.12688/f1000research.111241.1</doi><doi>10.12688/f1000research.26756.2</doi><doi>10.12688/f1000research.51018.2</doi><doi>10.12688/f1000research.18553.2</doi><doi>10.12688/f1000research.109895.4</doi><doi>10.12688/f1000research.123984.1</doi><doi>10.12688/f1000research.73272.4</doi><doi>10.12688/f1000research.125133.2</doi><doi>10.12688/f1000research.54887.5</doi><doi>10.12688/f1000research.121901.3</doi><doi>10.12688/f1000research.122437.2</doi><doi>10.12688/f1000research.54195.2</doi><doi>10.12688/f1000research.108648.2</doi><doi>10.12688/f1000research.53095.2</doi><doi>10.12688/f1000research.122987.2</doi><doi>10.12688/f1000research.133426.1</doi><doi>10.12688/f1000research.134062.1</doi><doi>10.12688/f1000research.126487.2</doi><doi>10.12688/f1000research.135221.1</doi><doi>10.12688/f1000research.104368.3</doi><doi>10.12688/f1000research.25247.4</doi><doi>10.12688/f1000research.125861.2</doi></results>\n",
      "Total number of pages: 5\n",
      "doi downloaded\n",
      "doi downloaded\n",
      "doi downloaded\n",
      "doi downloaded\n",
      "doi downloaded\n",
      "doi downloaded\n",
      "doi downloaded\n",
      "doi downloaded\n"
     ]
    },
    {
     "name": "stderr",
     "output_type": "stream",
     "text": [
      "/usr/local/lib/python3.10/dist-packages/bs4/builder/__init__.py:545: XMLParsedAsHTMLWarning: It looks like you're parsing an XML document using an HTML parser. If this really is an HTML document (maybe it's XHTML?), you can ignore or filter this warning. If it's XML, you should know that using an XML parser will be more reliable. To parse this document as XML, make sure you have the lxml package installed, and pass the keyword argument `features=\"xml\"` into the BeautifulSoup constructor.\n",
      "  warnings.warn(\n"
     ]
    },
    {
     "name": "stdout",
     "output_type": "stream",
     "text": [
      "Multiple statistical tests: Lessons from a d20\n",
      "Physiological and biological characterization of smokers with and without COPD\n"
     ]
    },
    {
     "name": "stderr",
     "output_type": "stream",
     "text": [
      "/usr/local/lib/python3.10/dist-packages/bs4/builder/__init__.py:545: XMLParsedAsHTMLWarning: It looks like you're parsing an XML document using an HTML parser. If this really is an HTML document (maybe it's XHTML?), you can ignore or filter this warning. If it's XML, you should know that using an XML parser will be more reliable. To parse this document as XML, make sure you have the lxml package installed, and pass the keyword argument `features=\"xml\"` into the BeautifulSoup constructor.\n",
      "  warnings.warn(\n"
     ]
    },
    {
     "name": "stdout",
     "output_type": "stream",
     "text": [
      "Health related quality of life in COVID-19 survivors discharged from acute hospitals:\n",
      "                     results of a short-form 36-item survey\n"
     ]
    },
    {
     "name": "stderr",
     "output_type": "stream",
     "text": [
      "/usr/local/lib/python3.10/dist-packages/bs4/builder/__init__.py:545: XMLParsedAsHTMLWarning: It looks like you're parsing an XML document using an HTML parser. If this really is an HTML document (maybe it's XHTML?), you can ignore or filter this warning. If it's XML, you should know that using an XML parser will be more reliable. To parse this document as XML, make sure you have the lxml package installed, and pass the keyword argument `features=\"xml\"` into the BeautifulSoup constructor.\n",
      "  warnings.warn(\n"
     ]
    },
    {
     "name": "stdout",
     "output_type": "stream",
     "text": [
      "Disulfiram repurposing combined with nutritional copper supplement as add-on to chemotherapy in recurrent glioblastoma (DIRECT): Study protocol for a randomized controlled trial\n"
     ]
    },
    {
     "name": "stderr",
     "output_type": "stream",
     "text": [
      "/usr/local/lib/python3.10/dist-packages/bs4/builder/__init__.py:545: XMLParsedAsHTMLWarning: It looks like you're parsing an XML document using an HTML parser. If this really is an HTML document (maybe it's XHTML?), you can ignore or filter this warning. If it's XML, you should know that using an XML parser will be more reliable. To parse this document as XML, make sure you have the lxml package installed, and pass the keyword argument `features=\"xml\"` into the BeautifulSoup constructor.\n",
      "  warnings.warn(\n"
     ]
    },
    {
     "name": "stdout",
     "output_type": "stream",
     "text": [
      "Development, validation and reliability of a questionnaire for assessment of physician's knowledge, attitude and practices (KAPs) regarding foodborne diseases in the Kingdom of Saudi Arabia\n"
     ]
    },
    {
     "name": "stderr",
     "output_type": "stream",
     "text": [
      "/usr/local/lib/python3.10/dist-packages/bs4/builder/__init__.py:545: XMLParsedAsHTMLWarning: It looks like you're parsing an XML document using an HTML parser. If this really is an HTML document (maybe it's XHTML?), you can ignore or filter this warning. If it's XML, you should know that using an XML parser will be more reliable. To parse this document as XML, make sure you have the lxml package installed, and pass the keyword argument `features=\"xml\"` into the BeautifulSoup constructor.\n",
      "  warnings.warn(\n"
     ]
    },
    {
     "name": "stdout",
     "output_type": "stream",
     "text": [
      "Inequality and migration in Kenya: Investigating the subnational associations using census data\n"
     ]
    },
    {
     "name": "stderr",
     "output_type": "stream",
     "text": [
      "/usr/local/lib/python3.10/dist-packages/bs4/builder/__init__.py:545: XMLParsedAsHTMLWarning: It looks like you're parsing an XML document using an HTML parser. If this really is an HTML document (maybe it's XHTML?), you can ignore or filter this warning. If it's XML, you should know that using an XML parser will be more reliable. To parse this document as XML, make sure you have the lxml package installed, and pass the keyword argument `features=\"xml\"` into the BeautifulSoup constructor.\n",
      "  warnings.warn(\n"
     ]
    },
    {
     "name": "stdout",
     "output_type": "stream",
     "text": [
      "Impact of antiretroviral therapy regimens adherence on perceived health and wellbeing status among adults living with HIV in Ghana\n"
     ]
    },
    {
     "name": "stderr",
     "output_type": "stream",
     "text": [
      "/usr/local/lib/python3.10/dist-packages/bs4/builder/__init__.py:545: XMLParsedAsHTMLWarning: It looks like you're parsing an XML document using an HTML parser. If this really is an HTML document (maybe it's XHTML?), you can ignore or filter this warning. If it's XML, you should know that using an XML parser will be more reliable. To parse this document as XML, make sure you have the lxml package installed, and pass the keyword argument `features=\"xml\"` into the BeautifulSoup constructor.\n",
      "  warnings.warn(\n"
     ]
    },
    {
     "name": "stdout",
     "output_type": "stream",
     "text": [
      "Neuraxial opioids as analgesia in labour, caesarean section and hysterectomy: A questionnaire survey in Sweden\n",
      "                                               Title  \\\n",
      "0     Multiple statistical tests: Lessons from a d20   \n",
      "1  Physiological and biological characterization ...   \n",
      "2  Health related quality of life in COVID-19 sur...   \n",
      "3  Disulfiram repurposing combined with nutrition...   \n",
      "4  Development, validation and reliability of a q...   \n",
      "5  Inequality and migration in Kenya: Investigati...   \n",
      "6  Impact of antiretroviral therapy regimens adhe...   \n",
      "7  Neuraxial opioids as analgesia in labour, caes...   \n",
      "\n",
      "                              DOI  \\\n",
      "0   10.12688/f1000research.8834.2   \n",
      "1  10.12688/f1000research.11698.2   \n",
      "2  10.12688/f1000research.50781.1   \n",
      "3  10.12688/f1000research.16786.1   \n",
      "4  10.12688/f1000research.52997.2   \n",
      "5  10.12688/f1000research.74058.1   \n",
      "6  10.12688/f1000research.75374.1   \n",
      "7  10.12688/f1000research.10705.2   \n",
      "\n",
      "                                             Authors  \\\n",
      "0                          [{Madan, Christopher R.}]   \n",
      "1  [{Nveed, Chaudhary}, {Luettich, Karsta}, {Mich...   \n",
      "2  [{Saverino, Alessia}, {Eva, Zsirai}, {Sonabend...   \n",
      "3  [{Jakola, Asgeir Store}, {Werlenius, Katja}, {...   \n",
      "4                         [{Mohammed, AL-Mohaithef}]   \n",
      "5  [{Muyonga, Mary}, {Alfred, Otieno}, {George, O...   \n",
      "6  [{AWOLU, ADAM}, {FUSHEINI, ADAM}, {FAITH A, AG...   \n",
      "7  [{Anette, Hein}, {Caroline, Gillis-Haegerstran...   \n",
      "\n",
      "                                       Full_Text_URL  \\\n",
      "0  https://f1000research.com/extapi/article/xml?d...   \n",
      "1  https://f1000research.com/extapi/article/xml?d...   \n",
      "2  https://f1000research.com/extapi/article/xml?d...   \n",
      "3  https://f1000research.com/extapi/article/xml?d...   \n",
      "4  https://f1000research.com/extapi/article/xml?d...   \n",
      "5  https://f1000research.com/extapi/article/xml?d...   \n",
      "6  https://f1000research.com/extapi/article/xml?d...   \n",
      "7  https://f1000research.com/extapi/article/xml?d...   \n",
      "\n",
      "                                   Full_Text_Content  \n",
      "0  \\n\\nIntroduction\\nIn scientific research, it i...  \n",
      "1  \\n\\nIntroduction\\nChronic obstructive pulmonar...  \n",
      "2  \\n\\nIntroduction\\nMore than 100 million cases ...  \n",
      "3  \\n\\nIntroduction\\nGlioblastoma is a highly mal...  \n",
      "4  \\n\\nIntroduction\\nFoodborne illness is a major...  \n",
      "5  \\n\\nIntroduction\\nOne of the emerging research...  \n",
      "6  \\n\\nIntroduction\\nHIV remains a major global p...  \n",
      "7  \\n\\nIntroduction\\nIntrathecal and epidural mor...  \n",
      "data_df after calling solr_api with f1000:                                                Title  \\\n",
      "0     Multiple statistical tests: Lessons from a d20   \n",
      "1  Physiological and biological characterization ...   \n",
      "2  Health related quality of life in COVID-19 sur...   \n",
      "3  Disulfiram repurposing combined with nutrition...   \n",
      "4  Development, validation and reliability of a q...   \n",
      "5  Inequality and migration in Kenya: Investigati...   \n",
      "6  Impact of antiretroviral therapy regimens adhe...   \n",
      "7  Neuraxial opioids as analgesia in labour, caes...   \n",
      "\n",
      "                              DOI  \\\n",
      "0   10.12688/f1000research.8834.2   \n",
      "1  10.12688/f1000research.11698.2   \n",
      "2  10.12688/f1000research.50781.1   \n",
      "3  10.12688/f1000research.16786.1   \n",
      "4  10.12688/f1000research.52997.2   \n",
      "5  10.12688/f1000research.74058.1   \n",
      "6  10.12688/f1000research.75374.1   \n",
      "7  10.12688/f1000research.10705.2   \n",
      "\n",
      "                                             Authors  \\\n",
      "0                          [{Madan, Christopher R.}]   \n",
      "1  [{Nveed, Chaudhary}, {Luettich, Karsta}, {Mich...   \n",
      "2  [{Saverino, Alessia}, {Eva, Zsirai}, {Sonabend...   \n",
      "3  [{Jakola, Asgeir Store}, {Werlenius, Katja}, {...   \n",
      "4                         [{Mohammed, AL-Mohaithef}]   \n",
      "5  [{Muyonga, Mary}, {Alfred, Otieno}, {George, O...   \n",
      "6  [{AWOLU, ADAM}, {FUSHEINI, ADAM}, {FAITH A, AG...   \n",
      "7  [{Anette, Hein}, {Caroline, Gillis-Haegerstran...   \n",
      "\n",
      "                                       Full_Text_URL  \\\n",
      "0  https://f1000research.com/extapi/article/xml?d...   \n",
      "1  https://f1000research.com/extapi/article/xml?d...   \n",
      "2  https://f1000research.com/extapi/article/xml?d...   \n",
      "3  https://f1000research.com/extapi/article/xml?d...   \n",
      "4  https://f1000research.com/extapi/article/xml?d...   \n",
      "5  https://f1000research.com/extapi/article/xml?d...   \n",
      "6  https://f1000research.com/extapi/article/xml?d...   \n",
      "7  https://f1000research.com/extapi/article/xml?d...   \n",
      "\n",
      "                                   Full_Text_Content  \n",
      "0  \\n\\nIntroduction\\nIn scientific research, it i...  \n",
      "1  \\n\\nIntroduction\\nChronic obstructive pulmonar...  \n",
      "2  \\n\\nIntroduction\\nMore than 100 million cases ...  \n",
      "3  \\n\\nIntroduction\\nGlioblastoma is a highly mal...  \n",
      "4  \\n\\nIntroduction\\nFoodborne illness is a major...  \n",
      "5  \\n\\nIntroduction\\nOne of the emerging research...  \n",
      "6  \\n\\nIntroduction\\nHIV remains a major global p...  \n",
      "7  \\n\\nIntroduction\\nIntrathecal and epidural mor...  \n",
      "Filename output: Deforestation_wellcome_20230717.xlsx\n",
      "\n",
      "data: <?xml version=\"1.0\" encoding=\"UTF-8\" standalone=\"yes\"?><results numberOfResultsInPage=\"100\" totalNumberOfPages=\"2\"><doi>10.12688/wellcomeopenres.16834.1</doi><doi>10.12688/wellcomeopenres.14735.2</doi><doi>10.12688/wellcomeopenres.16628.1</doi><doi>10.12688/wellcomeopenres.11715.1</doi><doi>10.12688/wellcomeopenres.11741.2</doi><doi>10.12688/wellcomeopenres.17972.1</doi><doi>10.12688/wellcomeopenres.16584.2</doi><doi>10.12688/wellcomeopenres.18034.1</doi><doi>10.12688/wellcomeopenres.15974.2</doi><doi>10.12688/wellcomeopenres.18569.1</doi><doi>10.12688/wellcomeopenres.17261.2</doi><doi>10.12688/wellcomeopenres.16405.1</doi><doi>10.12688/wellcomeopenres.10036.2</doi><doi>10.12688/wellcomeopenres.15061.2</doi><doi>10.12688/wellcomeopenres.11864.1</doi><doi>10.12688/wellcomeopenres.16517.2</doi><doi>10.12688/wellcomeopenres.16039.2</doi><doi>10.12688/wellcomeopenres.10985.2</doi><doi>10.12688/wellcomeopenres.15059.1</doi><doi>10.12688/wellcomeopenres.15919.2</doi><doi>10.12688/wellcomeopenres.15232.2</doi><doi>10.12688/wellcomeopenres.16748.3</doi><doi>10.12688/wellcomeopenres.14907.2</doi><doi>10.12688/wellcomeopenres.15587.2</doi><doi>10.12688/wellcomeopenres.17258.2</doi><doi>10.12688/wellcomeopenres.15126.2</doi><doi>10.12688/wellcomeopenres.15997.1</doi><doi>10.12688/wellcomeopenres.15893.2</doi><doi>10.12688/wellcomeopenres.14709.3</doi><doi>10.12688/wellcomeopenres.16734.4</doi><doi>10.12688/wellcomeopenres.14818.1</doi><doi>10.12688/wellcomeopenres.16394.2</doi><doi>10.12688/wellcomeopenres.9896.1</doi><doi>10.12688/wellcomeopenres.11253.2</doi><doi>10.12688/wellcomeopenres.15675.2</doi><doi>10.12688/wellcomeopenres.14721.1</doi><doi>10.12688/wellcomeopenres.16344.3</doi><doi>10.12688/wellcomeopenres.17090.1</doi><doi>10.12688/wellcomeopenres.15044.1</doi><doi>10.12688/wellcomeopenres.12394.1</doi><doi>10.12688/wellcomeopenres.10308.1</doi><doi>10.12688/wellcomeopenres.17716.1</doi><doi>10.12688/wellcomeopenres.12871.1</doi><doi>10.12688/wellcomeopenres.13199.3</doi><doi>10.12688/wellcomeopenres.17736.2</doi><doi>10.12688/wellcomeopenres.16064.1</doi><doi>10.12688/wellcomeopenres.14867.2</doi><doi>10.12688/wellcomeopenres.17660.2</doi><doi>10.12688/wellcomeopenres.18248.2</doi><doi>10.12688/wellcomeopenres.15941.2</doi><doi>10.12688/wellcomeopenres.18937.2</doi><doi>10.12688/wellcomeopenres.12458.1</doi><doi>10.12688/wellcomeopenres.16320.2</doi><doi>10.12688/wellcomeopenres.16635.2</doi><doi>10.12688/wellcomeopenres.11300.3</doi><doi>10.12688/wellcomeopenres.14493.2</doi><doi>10.12688/wellcomeopenres.14645.4</doi><doi>10.12688/wellcomeopenres.16063.2</doi><doi>10.12688/wellcomeopenres.15142.2</doi><doi>10.12688/wellcomeopenres.16349.1</doi><doi>10.12688/wellcomeopenres.15403.2</doi><doi>10.12688/wellcomeopenres.15451.1</doi><doi>10.12688/wellcomeopenres.17214.1</doi><doi>10.12688/wellcomeopenres.15748.2</doi><doi>10.12688/wellcomeopenres.15729.2</doi><doi>10.12688/wellcomeopenres.16409.1</doi><doi>10.12688/wellcomeopenres.14898.2</doi><doi>10.12688/wellcomeopenres.15633.2</doi><doi>10.12688/wellcomeopenres.16661.2</doi><doi>10.12688/wellcomeopenres.18681.1</doi><doi>10.12688/wellcomeopenres.16572.1</doi><doi>10.12688/wellcomeopenres.16168.2</doi><doi>10.12688/wellcomeopenres.17029.1</doi><doi>10.12688/wellcomeopenres.18251.1</doi><doi>10.12688/wellcomeopenres.13905.1</doi><doi>10.12688/wellcomeopenres.15770.1</doi><doi>10.12688/wellcomeopenres.17893.1</doi><doi>10.12688/wellcomeopenres.19041.2</doi><doi>10.12688/wellcomeopenres.18742.1</doi><doi>10.12688/wellcomeopenres.16031.2</doi><doi>10.12688/wellcomeopenres.16131.2</doi><doi>10.12688/wellcomeopenres.16894.2</doi><doi>10.12688/wellcomeopenres.16363.2</doi><doi>10.12688/wellcomeopenres.10011.1</doi><doi>10.12688/wellcomeopenres.16600.2</doi><doi>10.12688/wellcomeopenres.17885.1</doi><doi>10.12688/wellcomeopenres.16369.2</doi><doi>10.12688/wellcomeopenres.15250.1</doi><doi>10.12688/wellcomeopenres.16107.1</doi><doi>10.12688/wellcomeopenres.10535.3</doi><doi>10.12688/wellcomeopenres.14861.2</doi><doi>10.12688/wellcomeopenres.15108.1</doi><doi>10.12688/wellcomeopenres.16901.2</doi><doi>10.12688/wellcomeopenres.15055.1</doi><doi>10.12688/wellcomeopenres.16592.1</doi><doi>10.12688/wellcomeopenres.17001.1</doi><doi>10.12688/wellcomeopenres.18049.2</doi><doi>10.12688/wellcomeopenres.11005.1</doi><doi>10.12688/wellcomeopenres.16665.1</doi><doi>10.12688/wellcomeopenres.12176.2</doi></results>\n",
      "Total number of pages: 2\n",
      "doi downloaded\n",
      "doi downloaded\n"
     ]
    },
    {
     "name": "stderr",
     "output_type": "stream",
     "text": [
      "/usr/local/lib/python3.10/dist-packages/bs4/builder/__init__.py:545: XMLParsedAsHTMLWarning: It looks like you're parsing an XML document using an HTML parser. If this really is an HTML document (maybe it's XHTML?), you can ignore or filter this warning. If it's XML, you should know that using an XML parser will be more reliable. To parse this document as XML, make sure you have the lxml package installed, and pass the keyword argument `features=\"xml\"` into the BeautifulSoup constructor.\n",
      "  warnings.warn(\n"
     ]
    },
    {
     "name": "stdout",
     "output_type": "stream",
     "text": [
      "A cross-sectional analysis identifies a low prevalence of \n",
      "                    Plasmodium ovale\n",
      "curtisi infections in symptomatic and asymptomatic individuals in Kilifi county, Kenya.\n",
      "Impact of the first COVID-19 pandemic wave on the Scottish Multiple Sclerosis Register population\n",
      "                                               Title  \\\n",
      "0  A cross-sectional analysis identifies a low pr...   \n",
      "1  Impact of the first COVID-19 pandemic wave on ...   \n",
      "\n",
      "                                DOI  \\\n",
      "0  10.12688/wellcomeopenres.17972.1   \n",
      "1  10.12688/wellcomeopenres.16349.1   \n",
      "\n",
      "                                             Authors  \\\n",
      "0  [{Akinyi, Mercy Yvonne}, {Chifwete, Margaret},...   \n",
      "1  [{Fernandes, Peter M.}, {Martin, O'Neill}, {Ke...   \n",
      "\n",
      "                                       Full_Text_URL  \\\n",
      "0  https://wellcomeopenresearch.org/extapi/articl...   \n",
      "1  https://wellcomeopenresearch.org/extapi/articl...   \n",
      "\n",
      "                                   Full_Text_Content  \n",
      "0  \\n\\nIntroduction\\nMalaria is one of the leadin...  \n",
      "1  \\n\\nIntroduction\\nCoronavirus disease 2019 (CO...  \n",
      "data_df after calling solr_api with wellcome:                                                Title  \\\n",
      "0  A cross-sectional analysis identifies a low pr...   \n",
      "1  Impact of the first COVID-19 pandemic wave on ...   \n",
      "\n",
      "                                DOI  \\\n",
      "0  10.12688/wellcomeopenres.17972.1   \n",
      "1  10.12688/wellcomeopenres.16349.1   \n",
      "\n",
      "                                             Authors  \\\n",
      "0  [{Akinyi, Mercy Yvonne}, {Chifwete, Margaret},...   \n",
      "1  [{Fernandes, Peter M.}, {Martin, O'Neill}, {Ke...   \n",
      "\n",
      "                                       Full_Text_URL  \\\n",
      "0  https://wellcomeopenresearch.org/extapi/articl...   \n",
      "1  https://wellcomeopenresearch.org/extapi/articl...   \n",
      "\n",
      "                                   Full_Text_Content  \n",
      "0  \\n\\nIntroduction\\nMalaria is one of the leadin...  \n",
      "1  \\n\\nIntroduction\\nCoronavirus disease 2019 (CO...  \n",
      "Filename output: Deforestation_gatesopen_20230717.xlsx\n",
      "\n",
      "data: <?xml version=\"1.0\" encoding=\"UTF-8\" standalone=\"yes\"?><results numberOfResultsInPage=\"11\" totalNumberOfPages=\"1\"><doi>10.12688/gatesopenres.13635.2</doi><doi>10.12688/gatesopenres.13318.1</doi><doi>10.12688/gatesopenres.13534.2</doi><doi>10.12688/gatesopenres.13347.2</doi><doi>10.12688/gatesopenres.12856.2</doi><doi>10.12688/gatesopenres.13039.2</doi><doi>10.12688/gatesopenres.12931.2</doi><doi>10.12688/gatesopenres.14041.1</doi><doi>10.12688/gatesopenres.12817.3</doi><doi>10.12688/gatesopenres.13188.2</doi><doi>10.12688/gatesopenres.12833.1</doi></results>\n",
      "Total number of pages: 1\n",
      "Empty DataFrame\n",
      "Columns: [Title, DOI, Authors, Full_Text_URL, Full_Text_Content]\n",
      "Index: []\n",
      "data_df after calling solr_api with gatesopen: Empty DataFrame\n",
      "Columns: [Title, DOI, Authors, Full_Text_URL, Full_Text_Content]\n",
      "Index: []\n",
      "Total data_ingression function calls: 9\n"
     ]
    }
   ],
   "source": [
    "import datetime\n",
    "\n",
    "\n",
    "# List of keywords\n",
    "keywords_list = ['Sustainable+energy', 'Clean+energy', 'Green+energy', 'Pollution+regulations', 'Pollution+mitigation', 'Pollutants', 'Paris+Agreement', 'Fossil+fuels', 'Deforestation']\n",
    "\n",
    "# API providers\n",
    "api_providers = ['f1000', 'wellcome', 'gatesopen']  # Choose the desired API providers\n",
    "\n",
    "# Get the current date\n",
    "current_date = datetime.datetime.now().strftime('%Y%m%d')\n",
    "\n",
    "# Initialize the counter variable and set the maximum number of iterations\n",
    "count = 0\n",
    "max_iterations = len(keywords_list)\n",
    "\n",
    "# Loop until the maximum number of iterations is reached or all keyword combinations have been processed\n",
    "while count < max_iterations:\n",
    "    keyword = keywords_list[count]\n",
    "    print(\"Current count:\", count + 1)\n",
    "\n",
    "    # Iterate through each API provider\n",
    "    for api_provider in api_providers:\n",
    "        # Generate the filename_output\n",
    "        filename_output = keyword + '_' + api_provider + '_' + current_date + '.xlsx'\n",
    "        print(\"Filename output:\", filename_output + \"\\n\")\n",
    "\n",
    "\n",
    "        # Call the data_ingression function\n",
    "        data_ingression(keyword, api_provider, filename_output)\n",
    "\n",
    "    # Increment the counter\n",
    "    count += 1\n",
    "\n",
    "# Print the total number of times data_ingression function was called\n",
    "print(\"Total data_ingression function calls:\", count)\n"
   ]
  },
  {
   "cell_type": "code",
   "execution_count": 4,
   "metadata": {
    "colab": {
     "base_uri": "https://localhost:8080/"
    },
    "id": "DcPoanLgjK-e",
    "outputId": "a81906f5-5f61-40f2-a341-581437dcbf21"
   },
   "outputs": [
    {
     "name": "stdout",
     "output_type": "stream",
     "text": [
      ".config\n",
      "downloaded_dois.txt\n",
      "sample_data\n"
     ]
    }
   ],
   "source": [
    "import os\n",
    "\n",
    "# Get the list of files and directories in the current directory\n",
    "file_list = os.listdir('/content')\n",
    "\n",
    "# Print the list of files and directories\n",
    "for file in file_list:\n",
    "    print(file)"
   ]
  },
  {
   "cell_type": "code",
   "execution_count": 5,
   "metadata": {
    "id": "Yl-q4Mx6jLrQ"
   },
   "outputs": [],
   "source": [
    "import shutil\n",
    "import os\n",
    "\n",
    "#clear the content of the /content directory in google colab\n",
    "folder_path = '/content'\n",
    "for filename in os.listdir(folder_path):\n",
    "    file_path = os.path.join(folder_path, filename)\n",
    "    if os.path.isfile(file_path):\n",
    "        os.remove(file_path)\n",
    "    elif os.path.isdir(file_path):\n",
    "        shutil.rmtree(file_path)"
   ]
  },
  {
   "cell_type": "code",
   "execution_count": 7,
   "metadata": {
    "id": "MUzT6Oigjgkd"
   },
   "outputs": [],
   "source": [
    "import os\n",
    "\n",
    "# Get the list of files and directories in the current directory\n",
    "file_list = os.listdir('/content')\n",
    "\n",
    "# Print the list of files and directories\n",
    "for file in file_list:\n",
    "    print(file)"
   ]
  },
  {
   "cell_type": "code",
   "execution_count": null,
   "metadata": {
    "id": "JHrrEyxdjhJf"
   },
   "outputs": [],
   "source": []
  }
 ],
 "metadata": {
  "colab": {
   "provenance": []
  },
  "kernelspec": {
   "display_name": "Python 3 (ipykernel)",
   "language": "python",
   "name": "python3"
  },
  "language_info": {
   "codemirror_mode": {
    "name": "ipython",
    "version": 3
   },
   "file_extension": ".py",
   "mimetype": "text/x-python",
   "name": "python",
   "nbconvert_exporter": "python",
   "pygments_lexer": "ipython3",
   "version": "3.8.8"
  }
 },
 "nbformat": 4,
 "nbformat_minor": 1
}
